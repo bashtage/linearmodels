{
 "cells": [
  {
   "cell_type": "markdown",
   "metadata": {},
   "source": [
    "# Examples\n",
    "System regression simultaneously estimates multiple models.  This has three distinct advantages:\n",
    "\n",
    "* Joint inference across models\n",
    "* Linear restrictions can be imposed on the parameters across different models\n",
    "* Improved precision of parameter estimates (depending on the model specification and data)\n",
    "\n",
    "There are $K$ models and each model can be expressed in vector notation as \n",
    "\n",
    "$$ Y_i = X_i\\beta_i + \\epsilon_i$$\n",
    "\n",
    "so that the set of models can be expressed as \n",
    "\n",
    "$$ Y = X\\beta + \\epsilon$$\n",
    "\n",
    "where $Y$ is a column vector that stacks the vectors $Y_i$ for $i=1,2,\\ldots,K$, $X$ is a block-diagonal matrix where the i-th block is $X_i$, $\\beta$ is a stacked vector of the $K$ $\\beta_i$s and $\\epsilon$ is similarly comprised of the stacked columns of $\\epsilon_i$.\n",
    "\n",
    "The model can be estimated using OLS with the usual estimator\n",
    "\n",
    "$$\\hat{\\beta}_{OLS} = \\left(X^\\prime X\\right)^{-1}X^\\prime Y.$$\n",
    "\n",
    "Since there are multiple series, a GLS estimator that accounts for the cross-sectional heteroskedasticity as well as the correlation of residuals can be estimated \n",
    "\n",
    "$$\\hat{\\beta}_{GLS} = \\left(X^\\prime \\Omega^{-1} X\\right)^{-1}X^\\prime  \\Omega^{-1} Y$$\n",
    "\n",
    "where $\\Omega^{-1} = \\Sigma^{-1} \\otimes I_{T}$, $\\Sigma_{ij}$ is the covariance between $\\epsilon_i$ and $\\epsilon_j$ and $T$ is the number of observations. The GLS estimator is only beleficial when the regressors in different models differ  and when residuals are correlated. There GLS estimates are identical to the multivariate OLS estimates when all regressors are common."
   ]
  },
  {
   "cell_type": "code",
   "execution_count": null,
   "metadata": {},
   "outputs": [],
   "source": [
    "# Common libraries\n",
    "%matplotlib inline\n",
    "import numpy as np\n",
    "import pandas as pd\n",
    "import statsmodels.api as sm"
   ]
  },
  {
   "cell_type": "markdown",
   "metadata": {},
   "source": [
    "## Data\n",
    "Two data sets will be used.  The first is from Munnell which looks at the effect of capital on state GDP.  This example follows the example in Chapter 10 in recent editions of Greene's _Econometric Analysis_.\n",
    "\n",
    "The data is state-level but the model is estimated in region.  The first step is to aggregate the data by region.  All capital measures are summed and the unemployment rate is averaged using weights porportional to the total employment in each state."
   ]
  },
  {
   "cell_type": "code",
   "execution_count": null,
   "metadata": {
    "collapsed": true
   },
   "outputs": [],
   "source": [
    "from linearmodels.datasets import munnell\n",
    "data = munnell.load()\n",
    "\n",
    "regions = {\n",
    "    'GF':['AL', 'FL', 'LA', 'MS'],\n",
    "    'MW':['IL', 'IN', 'KY', 'MI', 'MN', 'OH', 'WI'],\n",
    "    'MA':['DE', 'MD', 'NJ', 'NY', 'PA', 'VA'],\n",
    "    'MT' :['CO', 'ID', 'MT', 'ND', 'SD', 'WY'],\n",
    "    'NE' :['CT', 'ME', 'MA', 'NH', 'RI', 'VT'],\n",
    "    'SO' :['GA', 'NC', 'SC', 'TN', 'WV', 'AR'],\n",
    "    'SW' : ['AZ', 'NV', 'NM', 'TX', 'UT'],\n",
    "    'CN': ['AK', 'IA','KS', 'MO','NE','OK'],\n",
    "    'WC': ['CA','OR','WA']\n",
    "}\n",
    "\n",
    "def map_region(state):\n",
    "    for key in regions:\n",
    "        if state in regions[key]:\n",
    "            return key\n",
    "\n",
    "\n",
    "data['REGION'] = data.ST_ABB.map(map_region)\n",
    "data['TOTAL_EMP'] = data.groupby(['REGION','YR'])['EMP'].transform('sum')\n",
    "data['EMP_SHARE'] = data.EMP / data.TOTAL_EMP\n",
    "data['WEIGHED_UNEMP'] = data.EMP_SHARE * data.UNEMP"
   ]
  },
  {
   "cell_type": "markdown",
   "metadata": {},
   "source": [
    "A `groupby` transformation is used to aggregate the data, and finally all values except the unemployment rate are logged."
   ]
  },
  {
   "cell_type": "code",
   "execution_count": null,
   "metadata": {},
   "outputs": [],
   "source": [
    "grouped = data.groupby(['REGION','YR'])\n",
    "agg_data = grouped[['GSP','PC','HWY','WATER','UTIL','EMP','WEIGHED_UNEMP']].sum()\n",
    "for col in ['GSP','PC','HWY','WATER','UTIL','EMP']:\n",
    "    agg_data['ln'+col] = np.log(agg_data[col])\n",
    "agg_data['UNEMP'] = agg_data.WEIGHED_UNEMP\n",
    "agg_data['Intercept'] = 1.0"
   ]
  },
  {
   "cell_type": "markdown",
   "metadata": {},
   "source": [
    "## Basic Usage\n",
    "\n",
    "Seemingly Unrelated Models are fairly complex and each equation could have a different number of regressors.  As a result, it isn't possibly to use standard `pandas` or `numpy` data structures, and so dictionaries (or technically dictionary-like objects) are used.  In practice, it is strongly recommended to use a `OrderedDictionary` from the `collections` module.  This ensures that equation order will be preserved. In addition, the dictionary must have the following structure:\n",
    "\n",
    "* `keys` **must be strings** and will be used as equation labels\n",
    "* The value associated with each key must be either a dictionary or a tuple.\n",
    "\n",
    "  * When a dictionary is used, it must have two keys, `dependent` and `exog`.  It can optionaly have a third key `weights` which provides weights to use in the regression.\n",
    "  * When a tuple is used, it must have two elements and takes the form `(dependent, exog)`.  It can optionally contains weights in which case it takes the form `(dependent, exog, weights)`.\n",
    "\n",
    "This example uses the dictionary syntax to contain the data for each region and uses the region identified as the equation label."
   ]
  },
  {
   "cell_type": "code",
   "execution_count": null,
   "metadata": {},
   "outputs": [],
   "source": [
    "from collections import OrderedDict\n",
    "mod_data = OrderedDict()\n",
    "for region in ['GF','SW','WC','MT','NE','MA','SO','MW','CN']:\n",
    "    region_data = agg_data.loc[region]\n",
    "    dependent = region_data.lnGSP\n",
    "    exog = region_data[['Intercept', 'lnPC', 'lnHWY', 'lnWATER', 'lnUTIL', 'lnEMP', 'UNEMP']]\n",
    "    mod_data[region] = {'dependent': dependent, 'exog': exog}"
   ]
  },
  {
   "cell_type": "markdown",
   "metadata": {},
   "source": [
    "Fitting the model is virtually identical to  fitting any other model with the exception of the special data structure required. \n",
    "\n",
    "The fitting options here ensure that the homoskedastic covariance estimator are used (`cov_type='unadjusted'`) and that a small sample adjustment is applied. By default, GLS is used (this can be overridden using `method='ols'`."
   ]
  },
  {
   "cell_type": "code",
   "execution_count": null,
   "metadata": {},
   "outputs": [],
   "source": [
    "import pandas as pd\n",
    "from linearmodels.system import SUR\n",
    "mod = SUR(mod_data)\n",
    "res = mod.fit(cov_type='unadjusted', debiased=True)"
   ]
  },
  {
   "cell_type": "markdown",
   "metadata": {},
   "source": [
    "One of the requirements for there to be an efficiency gain in a SUR is that the residuals are correlated. A heatmap is used to inspect this correlation, which is substantial and varies by region."
   ]
  },
  {
   "cell_type": "code",
   "execution_count": null,
   "metadata": {},
   "outputs": [],
   "source": [
    "cov = res.sigma\n",
    "std = np.sqrt(np.diag(res.sigma)[:,None])\n",
    "regions =  [k for k in mod_data.keys()]\n",
    "corr = pd.DataFrame(cov / (std @ std.T), columns=regions, index=regions)\n",
    "\n",
    "import seaborn as sns\n",
    "import matplotlib.pyplot as plt\n",
    "sns.heatmap(corr, vmax=.8, square=True)\n",
    "plt.show()\n",
    "\n",
    "corr.style.format('{:0.3f}')"
   ]
  },
  {
   "cell_type": "markdown",
   "metadata": {},
   "source": [
    "These values can be seen to be identical to the reported results in the existing example from Greene."
   ]
  },
  {
   "cell_type": "code",
   "execution_count": 35,
   "metadata": {},
   "outputs": [
    {
     "data": {
      "image/png": "[encoded data removed]"
     },
     "metadata": {},
     "output_type": "display_data"
    }
   ],
   "source": [
    "from IPython.display import Image, display_png\n",
    "display_png(Image('correct-greene-table-10-2.png'))"
   ]
  },
  {
   "cell_type": "markdown",
   "metadata": {},
   "source": [
    "The full result is fairly long and so here I only pring the first 33 lines which show results for two regions.  By default it reports all estimates along with the usual measures of precision."
   ]
  },
  {
   "cell_type": "code",
   "execution_count": 39,
   "metadata": {},
   "outputs": [
    {
     "name": "stdout",
     "output_type": "stream",
     "text": [
      "                        System GLS Estimation Summary                         \n",
      "==============================================================================\n",
      "Estimator:                        GLS   Overall R-squared:              0.9988\n",
      "No. Equations.:                     9   Cov. Estimator:             unadjusted\n",
      "No. Observations:                  17   Num. Constraints:                 None\n",
      "Date:                Wed, Jun 14 2017                                         \n",
      "Time:                        14:36:22                                         \n",
      "                                                                              \n",
      "                                                                              \n",
      "                   Equation: GF, Dependent Variable: lnGSP                    \n",
      "==============================================================================\n",
      "            Parameter  Std. Err.     T-stat    P-value    Lower CI    Upper CI\n",
      "------------------------------------------------------------------------------\n",
      "Intercept      12.310     2.1216     5.8023     0.0002      7.5829      17.037\n",
      "lnPC          -0.2010     0.1321    -1.5219     0.1590     -0.4952      0.0933\n",
      "lnHWY         -1.8856     0.4747    -3.9721     0.0026     -2.9434     -0.8279\n",
      "lnWATER        0.1785     0.0580     3.0768     0.0117      0.0492      0.3077\n",
      "lnUTIL         1.1898     0.3275     3.6323     0.0046      0.4599      1.9196\n",
      "lnEMP          0.9533     0.0830     11.484     0.0000      0.7683      1.1382\n",
      "UNEMP         -0.0031     0.0022    -1.3812     0.1973     -0.0081      0.0019\n",
      "                                                                              \n",
      "                   Equation: SW, Dependent Variable: lnGSP                    \n",
      "==============================================================================\n",
      "            Parameter  Std. Err.     T-stat    P-value    Lower CI    Upper CI\n",
      "------------------------------------------------------------------------------\n",
      "Intercept      4.0831     1.1459     3.5633     0.0052      1.5299      6.6362\n",
      "lnPC           0.0766     0.0965     0.7941     0.4456     -0.1384      0.2917\n",
      "lnHWY         -0.1312     0.1479    -0.8871     0.3958     -0.4608      0.1983\n",
      "lnWATER       -0.1360     0.0758    -1.7938     0.1031     -0.3049      0.0329\n",
      "lnUTIL         0.5216     0.1193     4.3732     0.0014      0.2558      0.7873\n",
      "lnEMP          0.5387     0.0917     5.8712     0.0002      0.3342      0.7431\n",
      "UNEMP         -0.0156     0.0027    -5.7698     0.0002     -0.0216     -0.0096\n",
      "                                                                              \n"
     ]
    }
   ],
   "source": [
    "print('\\n'.join(res.summary.as_text().split('\\n')[:33]))"
   ]
  },
  {
   "cell_type": "markdown",
   "metadata": {},
   "source": [
    "Individual results are contained in a dictionary located at the attribute `equations` and can be acccessed using equation labels (availablea at the attribute `equation_labels`).  Additional information about the model is presented in this view. The West Coast results are show.  "
   ]
  },
  {
   "cell_type": "code",
   "execution_count": 41,
   "metadata": {},
   "outputs": [
    {
     "name": "stdout",
     "output_type": "stream",
     "text": [
      "                            GLS Estimation Summary                            \n",
      "==============================================================================\n",
      "Eq. Label:                         WC   R-squared:                      0.9920\n",
      "Dep. Variable:                  lnGSP   Adj. R-squared:                 0.9872\n",
      "Estimator:                        GLS   Cov. Estimator:             unadjusted\n",
      "No. Observations:                  17   F-statistic:                    272.49\n",
      "Date:                Wed, Jun 14 2017   P-value (F-stat)                0.0000\n",
      "Time:                        14:36:22   Distribution:                  F(6,10)\n",
      "                                                                              \n",
      "                             Parameter Estimates                              \n",
      "==============================================================================\n",
      "            Parameter  Std. Err.     T-stat    P-value    Lower CI    Upper CI\n",
      "------------------------------------------------------------------------------\n",
      "Intercept      1.9602     3.3365     0.5875     0.5699     -5.4741      9.3944\n",
      "lnPC           0.1699     0.0813     2.0913     0.0630     -0.0111      0.3510\n",
      "lnHWY          0.1317     0.1221     1.0782     0.3063     -0.1404      0.4037\n",
      "lnWATER       -0.3470     0.1592    -2.1802     0.0542     -0.7016      0.0076\n",
      "lnUTIL         0.0895     0.4353     0.2056     0.8412     -0.8805      1.0595\n",
      "lnEMP          1.0696     0.1612     6.6362     0.0001      0.7105      1.4287\n",
      "UNEMP         -0.0060     0.0041    -1.4511     0.1774     -0.0152      0.0032\n",
      "                                                                              \n",
      "==============================================================================\n"
     ]
    }
   ],
   "source": [
    "print(res.equations['WC'])"
   ]
  },
  {
   "cell_type": "markdown",
   "metadata": {},
   "source": [
    "The current version of the model doesn't faciliate cross equaiton comparrisons and so this is manually implemented here. "
   ]
  },
  {
   "cell_type": "code",
   "execution_count": 44,
   "metadata": {},
   "outputs": [
    {
     "data": {
      "text/html": [
       "<style  type=\"text/css\" >\n",
       "</style>  \n",
       "<table id=\"T_f696d1d2_5108_11e7_b4cd_185e0f3a4674\" > \n",
       "<thead>    <tr> \n",
       "        <th class=\"blank level0\" ></th> \n",
       "        <th class=\"col_heading level0 col0\" >Intercept</th> \n",
       "        <th class=\"col_heading level0 col1\" >lnPC</th> \n",
       "        <th class=\"col_heading level0 col2\" >lnHWY</th> \n",
       "        <th class=\"col_heading level0 col3\" >lnWATER</th> \n",
       "        <th class=\"col_heading level0 col4\" >lnUTIL</th> \n",
       "        <th class=\"col_heading level0 col5\" >lnEMP</th> \n",
       "        <th class=\"col_heading level0 col6\" >UNEMP</th> \n",
       "    </tr></thead> \n",
       "<tbody>    <tr> \n",
       "        <th id=\"T_f696d1d2_5108_11e7_b4cd_185e0f3a4674\" class=\"row_heading level0 row0\" >GF</th> \n",
       "        <td id=\"T_f696d1d2_5108_11e7_b4cd_185e0f3a4674row0_col0\" class=\"data row0 col0\" >12.310</td> \n",
       "        <td id=\"T_f696d1d2_5108_11e7_b4cd_185e0f3a4674row0_col1\" class=\"data row0 col1\" >-0.201</td> \n",
       "        <td id=\"T_f696d1d2_5108_11e7_b4cd_185e0f3a4674row0_col2\" class=\"data row0 col2\" >-1.886</td> \n",
       "        <td id=\"T_f696d1d2_5108_11e7_b4cd_185e0f3a4674row0_col3\" class=\"data row0 col3\" >0.178</td> \n",
       "        <td id=\"T_f696d1d2_5108_11e7_b4cd_185e0f3a4674row0_col4\" class=\"data row0 col4\" >1.190</td> \n",
       "        <td id=\"T_f696d1d2_5108_11e7_b4cd_185e0f3a4674row0_col5\" class=\"data row0 col5\" >0.953</td> \n",
       "        <td id=\"T_f696d1d2_5108_11e7_b4cd_185e0f3a4674row0_col6\" class=\"data row0 col6\" >-0.003</td> \n",
       "    </tr>    <tr> \n",
       "        <th id=\"T_f696d1d2_5108_11e7_b4cd_185e0f3a4674\" class=\"row_heading level0 row1\" >SW</th> \n",
       "        <td id=\"T_f696d1d2_5108_11e7_b4cd_185e0f3a4674row1_col0\" class=\"data row1 col0\" >4.083</td> \n",
       "        <td id=\"T_f696d1d2_5108_11e7_b4cd_185e0f3a4674row1_col1\" class=\"data row1 col1\" >0.077</td> \n",
       "        <td id=\"T_f696d1d2_5108_11e7_b4cd_185e0f3a4674row1_col2\" class=\"data row1 col2\" >-0.131</td> \n",
       "        <td id=\"T_f696d1d2_5108_11e7_b4cd_185e0f3a4674row1_col3\" class=\"data row1 col3\" >-0.136</td> \n",
       "        <td id=\"T_f696d1d2_5108_11e7_b4cd_185e0f3a4674row1_col4\" class=\"data row1 col4\" >0.522</td> \n",
       "        <td id=\"T_f696d1d2_5108_11e7_b4cd_185e0f3a4674row1_col5\" class=\"data row1 col5\" >0.539</td> \n",
       "        <td id=\"T_f696d1d2_5108_11e7_b4cd_185e0f3a4674row1_col6\" class=\"data row1 col6\" >-0.016</td> \n",
       "    </tr>    <tr> \n",
       "        <th id=\"T_f696d1d2_5108_11e7_b4cd_185e0f3a4674\" class=\"row_heading level0 row2\" >WC</th> \n",
       "        <td id=\"T_f696d1d2_5108_11e7_b4cd_185e0f3a4674row2_col0\" class=\"data row2 col0\" >1.960</td> \n",
       "        <td id=\"T_f696d1d2_5108_11e7_b4cd_185e0f3a4674row2_col1\" class=\"data row2 col1\" >0.170</td> \n",
       "        <td id=\"T_f696d1d2_5108_11e7_b4cd_185e0f3a4674row2_col2\" class=\"data row2 col2\" >0.132</td> \n",
       "        <td id=\"T_f696d1d2_5108_11e7_b4cd_185e0f3a4674row2_col3\" class=\"data row2 col3\" >-0.347</td> \n",
       "        <td id=\"T_f696d1d2_5108_11e7_b4cd_185e0f3a4674row2_col4\" class=\"data row2 col4\" >0.090</td> \n",
       "        <td id=\"T_f696d1d2_5108_11e7_b4cd_185e0f3a4674row2_col5\" class=\"data row2 col5\" >1.070</td> \n",
       "        <td id=\"T_f696d1d2_5108_11e7_b4cd_185e0f3a4674row2_col6\" class=\"data row2 col6\" >-0.006</td> \n",
       "    </tr>    <tr> \n",
       "        <th id=\"T_f696d1d2_5108_11e7_b4cd_185e0f3a4674\" class=\"row_heading level0 row3\" >MT</th> \n",
       "        <td id=\"T_f696d1d2_5108_11e7_b4cd_185e0f3a4674row3_col0\" class=\"data row3 col0\" >3.463</td> \n",
       "        <td id=\"T_f696d1d2_5108_11e7_b4cd_185e0f3a4674row3_col1\" class=\"data row3 col1\" >-0.115</td> \n",
       "        <td id=\"T_f696d1d2_5108_11e7_b4cd_185e0f3a4674row3_col2\" class=\"data row3 col2\" >0.180</td> \n",
       "        <td id=\"T_f696d1d2_5108_11e7_b4cd_185e0f3a4674row3_col3\" class=\"data row3 col3\" >0.262</td> \n",
       "        <td id=\"T_f696d1d2_5108_11e7_b4cd_185e0f3a4674row3_col4\" class=\"data row3 col4\" >-0.330</td> \n",
       "        <td id=\"T_f696d1d2_5108_11e7_b4cd_185e0f3a4674row3_col5\" class=\"data row3 col5\" >1.079</td> \n",
       "        <td id=\"T_f696d1d2_5108_11e7_b4cd_185e0f3a4674row3_col6\" class=\"data row3 col6\" >-0.001</td> \n",
       "    </tr>    <tr> \n",
       "        <th id=\"T_f696d1d2_5108_11e7_b4cd_185e0f3a4674\" class=\"row_heading level0 row4\" >NE</th> \n",
       "        <td id=\"T_f696d1d2_5108_11e7_b4cd_185e0f3a4674row4_col0\" class=\"data row4 col0\" >-12.294</td> \n",
       "        <td id=\"T_f696d1d2_5108_11e7_b4cd_185e0f3a4674row4_col1\" class=\"data row4 col1\" >0.118</td> \n",
       "        <td id=\"T_f696d1d2_5108_11e7_b4cd_185e0f3a4674row4_col2\" class=\"data row4 col2\" >0.934</td> \n",
       "        <td id=\"T_f696d1d2_5108_11e7_b4cd_185e0f3a4674row4_col3\" class=\"data row4 col3\" >-0.557</td> \n",
       "        <td id=\"T_f696d1d2_5108_11e7_b4cd_185e0f3a4674row4_col4\" class=\"data row4 col4\" >-0.290</td> \n",
       "        <td id=\"T_f696d1d2_5108_11e7_b4cd_185e0f3a4674row4_col5\" class=\"data row4 col5\" >2.494</td> \n",
       "        <td id=\"T_f696d1d2_5108_11e7_b4cd_185e0f3a4674row4_col6\" class=\"data row4 col6\" >0.020</td> \n",
       "    </tr>    <tr> \n",
       "        <th id=\"T_f696d1d2_5108_11e7_b4cd_185e0f3a4674\" class=\"row_heading level0 row5\" >MA</th> \n",
       "        <td id=\"T_f696d1d2_5108_11e7_b4cd_185e0f3a4674row5_col0\" class=\"data row5 col0\" >-18.616</td> \n",
       "        <td id=\"T_f696d1d2_5108_11e7_b4cd_185e0f3a4674row5_col1\" class=\"data row5 col1\" >-0.311</td> \n",
       "        <td id=\"T_f696d1d2_5108_11e7_b4cd_185e0f3a4674row5_col2\" class=\"data row5 col2\" >3.060</td> \n",
       "        <td id=\"T_f696d1d2_5108_11e7_b4cd_185e0f3a4674row5_col3\" class=\"data row5 col3\" >-0.109</td> \n",
       "        <td id=\"T_f696d1d2_5108_11e7_b4cd_185e0f3a4674row5_col4\" class=\"data row5 col4\" >-1.659</td> \n",
       "        <td id=\"T_f696d1d2_5108_11e7_b4cd_185e0f3a4674row5_col5\" class=\"data row5 col5\" >2.186</td> \n",
       "        <td id=\"T_f696d1d2_5108_11e7_b4cd_185e0f3a4674row5_col6\" class=\"data row5 col6\" >0.018</td> \n",
       "    </tr>    <tr> \n",
       "        <th id=\"T_f696d1d2_5108_11e7_b4cd_185e0f3a4674\" class=\"row_heading level0 row6\" >SO</th> \n",
       "        <td id=\"T_f696d1d2_5108_11e7_b4cd_185e0f3a4674row6_col0\" class=\"data row6 col0\" >3.162</td> \n",
       "        <td id=\"T_f696d1d2_5108_11e7_b4cd_185e0f3a4674row6_col1\" class=\"data row6 col1\" >-0.063</td> \n",
       "        <td id=\"T_f696d1d2_5108_11e7_b4cd_185e0f3a4674row6_col2\" class=\"data row6 col2\" >-0.641</td> \n",
       "        <td id=\"T_f696d1d2_5108_11e7_b4cd_185e0f3a4674row6_col3\" class=\"data row6 col3\" >-0.081</td> \n",
       "        <td id=\"T_f696d1d2_5108_11e7_b4cd_185e0f3a4674row6_col4\" class=\"data row6 col4\" >0.281</td> \n",
       "        <td id=\"T_f696d1d2_5108_11e7_b4cd_185e0f3a4674row6_col5\" class=\"data row6 col5\" >1.620</td> \n",
       "        <td id=\"T_f696d1d2_5108_11e7_b4cd_185e0f3a4674row6_col6\" class=\"data row6 col6\" >0.008</td> \n",
       "    </tr>    <tr> \n",
       "        <th id=\"T_f696d1d2_5108_11e7_b4cd_185e0f3a4674\" class=\"row_heading level0 row7\" >MW</th> \n",
       "        <td id=\"T_f696d1d2_5108_11e7_b4cd_185e0f3a4674row7_col0\" class=\"data row7 col0\" >-9.258</td> \n",
       "        <td id=\"T_f696d1d2_5108_11e7_b4cd_185e0f3a4674row7_col1\" class=\"data row7 col1\" >0.096</td> \n",
       "        <td id=\"T_f696d1d2_5108_11e7_b4cd_185e0f3a4674row7_col2\" class=\"data row7 col2\" >1.612</td> \n",
       "        <td id=\"T_f696d1d2_5108_11e7_b4cd_185e0f3a4674row7_col3\" class=\"data row7 col3\" >0.694</td> \n",
       "        <td id=\"T_f696d1d2_5108_11e7_b4cd_185e0f3a4674row7_col4\" class=\"data row7 col4\" >-0.340</td> \n",
       "        <td id=\"T_f696d1d2_5108_11e7_b4cd_185e0f3a4674row7_col5\" class=\"data row7 col5\" >-0.062</td> \n",
       "        <td id=\"T_f696d1d2_5108_11e7_b4cd_185e0f3a4674row7_col6\" class=\"data row7 col6\" >-0.031</td> \n",
       "    </tr>    <tr> \n",
       "        <th id=\"T_f696d1d2_5108_11e7_b4cd_185e0f3a4674\" class=\"row_heading level0 row8\" >CN</th> \n",
       "        <td id=\"T_f696d1d2_5108_11e7_b4cd_185e0f3a4674row8_col0\" class=\"data row8 col0\" >-3.405</td> \n",
       "        <td id=\"T_f696d1d2_5108_11e7_b4cd_185e0f3a4674row8_col1\" class=\"data row8 col1\" >0.295</td> \n",
       "        <td id=\"T_f696d1d2_5108_11e7_b4cd_185e0f3a4674row8_col2\" class=\"data row8 col2\" >0.934</td> \n",
       "        <td id=\"T_f696d1d2_5108_11e7_b4cd_185e0f3a4674row8_col3\" class=\"data row8 col3\" >0.539</td> \n",
       "        <td id=\"T_f696d1d2_5108_11e7_b4cd_185e0f3a4674row8_col4\" class=\"data row8 col4\" >0.003</td> \n",
       "        <td id=\"T_f696d1d2_5108_11e7_b4cd_185e0f3a4674row8_col5\" class=\"data row8 col5\" >-0.321</td> \n",
       "        <td id=\"T_f696d1d2_5108_11e7_b4cd_185e0f3a4674row8_col6\" class=\"data row8 col6\" >-0.029</td> \n",
       "    </tr></tbody> \n",
       "</table> "
      ],
      "text/plain": [
       "<pandas.io.formats.style.Styler at 0x171931d0518>"
      ]
     },
     "execution_count": 44,
     "metadata": {},
     "output_type": "execute_result"
    }
   ],
   "source": [
    "# TODO: Implement method to compare across equations\n",
    "params = []\n",
    "for label in res.equation_labels:\n",
    "    params.append(res.equations[label].params)\n",
    "params = pd.concat(params,1)\n",
    "params.columns = res.equation_labels\n",
    "params.T.style.format('{:0.3f}')"
   ]
  },
  {
   "cell_type": "markdown",
   "metadata": {},
   "source": [
    "These results can be compared to the results in Greene -- they are unsurprisingly identical."
   ]
  },
  {
   "cell_type": "code",
   "execution_count": 45,
   "metadata": {},
   "outputs": [
    {
     "data": {
      "image/png": "[encoded data removed]"
     },
     "metadata": {},
     "output_type": "display_data"
    }
   ],
   "source": [
    "display_png(Image('correct-greene-table-10-1.png'))"
   ]
  },
  {
   "cell_type": "markdown",
   "metadata": {},
   "source": [
    "The GLS estimation method requires stronger assumptions for parameter estiamtes to be consistent.  If these are violated then it might be the case that OLS is still consistent (in some sense) and so OLS can be used by passing `method='ols'` when calling `fit`. \n",
    "\n",
    "These results can be compared simiarly to Greene's table -- they are identical excep tthe final value which seems to have a small typo."
   ]
  },
  {
   "cell_type": "code",
   "execution_count": 48,
   "metadata": {},
   "outputs": [
    {
     "data": {
      "text/html": [
       "<style  type=\"text/css\" >\n",
       "</style>  \n",
       "<table id=\"T_73492954_5109_11e7_82b5_185e0f3a4674\" > \n",
       "<thead>    <tr> \n",
       "        <th class=\"blank level0\" ></th> \n",
       "        <th class=\"col_heading level0 col0\" >Intercept</th> \n",
       "        <th class=\"col_heading level0 col1\" >lnPC</th> \n",
       "        <th class=\"col_heading level0 col2\" >lnHWY</th> \n",
       "        <th class=\"col_heading level0 col3\" >lnWATER</th> \n",
       "        <th class=\"col_heading level0 col4\" >lnUTIL</th> \n",
       "        <th class=\"col_heading level0 col5\" >lnEMP</th> \n",
       "        <th class=\"col_heading level0 col6\" >UNEMP</th> \n",
       "        <th class=\"col_heading level0 col7\" >R2</th> \n",
       "    </tr></thead> \n",
       "<tbody>    <tr> \n",
       "        <th id=\"T_73492954_5109_11e7_82b5_185e0f3a4674\" class=\"row_heading level0 row0\" >GF</th> \n",
       "        <td id=\"T_73492954_5109_11e7_82b5_185e0f3a4674row0_col0\" class=\"data row0 col0\" >11.567</td> \n",
       "        <td id=\"T_73492954_5109_11e7_82b5_185e0f3a4674row0_col1\" class=\"data row0 col1\" >0.002</td> \n",
       "        <td id=\"T_73492954_5109_11e7_82b5_185e0f3a4674row0_col2\" class=\"data row0 col2\" >-2.029</td> \n",
       "        <td id=\"T_73492954_5109_11e7_82b5_185e0f3a4674row0_col3\" class=\"data row0 col3\" >0.101</td> \n",
       "        <td id=\"T_73492954_5109_11e7_82b5_185e0f3a4674row0_col4\" class=\"data row0 col4\" >1.358</td> \n",
       "        <td id=\"T_73492954_5109_11e7_82b5_185e0f3a4674row0_col5\" class=\"data row0 col5\" >0.805</td> \n",
       "        <td id=\"T_73492954_5109_11e7_82b5_185e0f3a4674row0_col6\" class=\"data row0 col6\" >-0.007</td> \n",
       "        <td id=\"T_73492954_5109_11e7_82b5_185e0f3a4674row0_col7\" class=\"data row0 col7\" >0.997</td> \n",
       "    </tr>    <tr> \n",
       "        <th id=\"T_73492954_5109_11e7_82b5_185e0f3a4674\" class=\"row_heading level0 row1\" >SW</th> \n",
       "        <td id=\"T_73492954_5109_11e7_82b5_185e0f3a4674row1_col0\" class=\"data row1 col0\" >3.028</td> \n",
       "        <td id=\"T_73492954_5109_11e7_82b5_185e0f3a4674row1_col1\" class=\"data row1 col1\" >0.164</td> \n",
       "        <td id=\"T_73492954_5109_11e7_82b5_185e0f3a4674row1_col2\" class=\"data row1 col2\" >-0.075</td> \n",
       "        <td id=\"T_73492954_5109_11e7_82b5_185e0f3a4674row1_col3\" class=\"data row1 col3\" >-0.169</td> \n",
       "        <td id=\"T_73492954_5109_11e7_82b5_185e0f3a4674row1_col4\" class=\"data row1 col4\" >0.637</td> \n",
       "        <td id=\"T_73492954_5109_11e7_82b5_185e0f3a4674row1_col5\" class=\"data row1 col5\" >0.362</td> \n",
       "        <td id=\"T_73492954_5109_11e7_82b5_185e0f3a4674row1_col6\" class=\"data row1 col6\" >-0.017</td> \n",
       "        <td id=\"T_73492954_5109_11e7_82b5_185e0f3a4674row1_col7\" class=\"data row1 col7\" >0.998</td> \n",
       "    </tr>    <tr> \n",
       "        <th id=\"T_73492954_5109_11e7_82b5_185e0f3a4674\" class=\"row_heading level0 row2\" >WC</th> \n",
       "        <td id=\"T_73492954_5109_11e7_82b5_185e0f3a4674row2_col0\" class=\"data row2 col0\" >3.590</td> \n",
       "        <td id=\"T_73492954_5109_11e7_82b5_185e0f3a4674row2_col1\" class=\"data row2 col1\" >0.295</td> \n",
       "        <td id=\"T_73492954_5109_11e7_82b5_185e0f3a4674row2_col2\" class=\"data row2 col2\" >0.174</td> \n",
       "        <td id=\"T_73492954_5109_11e7_82b5_185e0f3a4674row2_col3\" class=\"data row2 col3\" >-0.226</td> \n",
       "        <td id=\"T_73492954_5109_11e7_82b5_185e0f3a4674row2_col4\" class=\"data row2 col4\" >-0.214</td> \n",
       "        <td id=\"T_73492954_5109_11e7_82b5_185e0f3a4674row2_col5\" class=\"data row2 col5\" >0.917</td> \n",
       "        <td id=\"T_73492954_5109_11e7_82b5_185e0f3a4674row2_col6\" class=\"data row2 col6\" >-0.008</td> \n",
       "        <td id=\"T_73492954_5109_11e7_82b5_185e0f3a4674row2_col7\" class=\"data row2 col7\" >0.994</td> \n",
       "    </tr>    <tr> \n",
       "        <th id=\"T_73492954_5109_11e7_82b5_185e0f3a4674\" class=\"row_heading level0 row3\" >MT</th> \n",
       "        <td id=\"T_73492954_5109_11e7_82b5_185e0f3a4674row3_col0\" class=\"data row3 col0\" >6.378</td> \n",
       "        <td id=\"T_73492954_5109_11e7_82b5_185e0f3a4674row3_col1\" class=\"data row3 col1\" >-0.153</td> \n",
       "        <td id=\"T_73492954_5109_11e7_82b5_185e0f3a4674row3_col2\" class=\"data row3 col2\" >-0.123</td> \n",
       "        <td id=\"T_73492954_5109_11e7_82b5_185e0f3a4674row3_col3\" class=\"data row3 col3\" >0.306</td> \n",
       "        <td id=\"T_73492954_5109_11e7_82b5_185e0f3a4674row3_col4\" class=\"data row3 col4\" >-0.533</td> \n",
       "        <td id=\"T_73492954_5109_11e7_82b5_185e0f3a4674row3_col5\" class=\"data row3 col5\" >1.344</td> \n",
       "        <td id=\"T_73492954_5109_11e7_82b5_185e0f3a4674row3_col6\" class=\"data row3 col6\" >0.005</td> \n",
       "        <td id=\"T_73492954_5109_11e7_82b5_185e0f3a4674row3_col7\" class=\"data row3 col7\" >0.999</td> \n",
       "    </tr>    <tr> \n",
       "        <th id=\"T_73492954_5109_11e7_82b5_185e0f3a4674\" class=\"row_heading level0 row4\" >NE</th> \n",
       "        <td id=\"T_73492954_5109_11e7_82b5_185e0f3a4674row4_col0\" class=\"data row4 col0\" >-13.730</td> \n",
       "        <td id=\"T_73492954_5109_11e7_82b5_185e0f3a4674row4_col1\" class=\"data row4 col1\" >-0.020</td> \n",
       "        <td id=\"T_73492954_5109_11e7_82b5_185e0f3a4674row4_col2\" class=\"data row4 col2\" >0.662</td> \n",
       "        <td id=\"T_73492954_5109_11e7_82b5_185e0f3a4674row4_col3\" class=\"data row4 col3\" >-0.969</td> \n",
       "        <td id=\"T_73492954_5109_11e7_82b5_185e0f3a4674row4_col4\" class=\"data row4 col4\" >-0.107</td> \n",
       "        <td id=\"T_73492954_5109_11e7_82b5_185e0f3a4674row4_col5\" class=\"data row4 col5\" >3.380</td> \n",
       "        <td id=\"T_73492954_5109_11e7_82b5_185e0f3a4674row4_col6\" class=\"data row4 col6\" >0.034</td> \n",
       "        <td id=\"T_73492954_5109_11e7_82b5_185e0f3a4674row4_col7\" class=\"data row4 col7\" >0.985</td> \n",
       "    </tr>    <tr> \n",
       "        <th id=\"T_73492954_5109_11e7_82b5_185e0f3a4674\" class=\"row_heading level0 row5\" >MA</th> \n",
       "        <td id=\"T_73492954_5109_11e7_82b5_185e0f3a4674row5_col0\" class=\"data row5 col0\" >-22.855</td> \n",
       "        <td id=\"T_73492954_5109_11e7_82b5_185e0f3a4674row5_col1\" class=\"data row5 col1\" >-0.378</td> \n",
       "        <td id=\"T_73492954_5109_11e7_82b5_185e0f3a4674row5_col2\" class=\"data row5 col2\" >3.348</td> \n",
       "        <td id=\"T_73492954_5109_11e7_82b5_185e0f3a4674row5_col3\" class=\"data row5 col3\" >-0.264</td> \n",
       "        <td id=\"T_73492954_5109_11e7_82b5_185e0f3a4674row5_col4\" class=\"data row5 col4\" >-1.778</td> \n",
       "        <td id=\"T_73492954_5109_11e7_82b5_185e0f3a4674row5_col5\" class=\"data row5 col5\" >2.673</td> \n",
       "        <td id=\"T_73492954_5109_11e7_82b5_185e0f3a4674row5_col6\" class=\"data row5 col6\" >0.026</td> \n",
       "        <td id=\"T_73492954_5109_11e7_82b5_185e0f3a4674row5_col7\" class=\"data row5 col7\" >0.986</td> \n",
       "    </tr>    <tr> \n",
       "        <th id=\"T_73492954_5109_11e7_82b5_185e0f3a4674\" class=\"row_heading level0 row6\" >SO</th> \n",
       "        <td id=\"T_73492954_5109_11e7_82b5_185e0f3a4674row6_col0\" class=\"data row6 col0\" >3.927</td> \n",
       "        <td id=\"T_73492954_5109_11e7_82b5_185e0f3a4674row6_col1\" class=\"data row6 col1\" >0.043</td> \n",
       "        <td id=\"T_73492954_5109_11e7_82b5_185e0f3a4674row6_col2\" class=\"data row6 col2\" >-0.773</td> \n",
       "        <td id=\"T_73492954_5109_11e7_82b5_185e0f3a4674row6_col3\" class=\"data row6 col3\" >-0.035</td> \n",
       "        <td id=\"T_73492954_5109_11e7_82b5_185e0f3a4674row6_col4\" class=\"data row6 col4\" >0.140</td> \n",
       "        <td id=\"T_73492954_5109_11e7_82b5_185e0f3a4674row6_col5\" class=\"data row6 col5\" >1.665</td> \n",
       "        <td id=\"T_73492954_5109_11e7_82b5_185e0f3a4674row6_col6\" class=\"data row6 col6\" >0.008</td> \n",
       "        <td id=\"T_73492954_5109_11e7_82b5_185e0f3a4674row6_col7\" class=\"data row6 col7\" >0.994</td> \n",
       "    </tr>    <tr> \n",
       "        <th id=\"T_73492954_5109_11e7_82b5_185e0f3a4674\" class=\"row_heading level0 row7\" >MW</th> \n",
       "        <td id=\"T_73492954_5109_11e7_82b5_185e0f3a4674row7_col0\" class=\"data row7 col0\" >-9.111</td> \n",
       "        <td id=\"T_73492954_5109_11e7_82b5_185e0f3a4674row7_col1\" class=\"data row7 col1\" >0.233</td> \n",
       "        <td id=\"T_73492954_5109_11e7_82b5_185e0f3a4674row7_col2\" class=\"data row7 col2\" >1.604</td> \n",
       "        <td id=\"T_73492954_5109_11e7_82b5_185e0f3a4674row7_col3\" class=\"data row7 col3\" >0.717</td> \n",
       "        <td id=\"T_73492954_5109_11e7_82b5_185e0f3a4674row7_col4\" class=\"data row7 col4\" >-0.356</td> \n",
       "        <td id=\"T_73492954_5109_11e7_82b5_185e0f3a4674row7_col5\" class=\"data row7 col5\" >-0.259</td> \n",
       "        <td id=\"T_73492954_5109_11e7_82b5_185e0f3a4674row7_col6\" class=\"data row7 col6\" >-0.034</td> \n",
       "        <td id=\"T_73492954_5109_11e7_82b5_185e0f3a4674row7_col7\" class=\"data row7 col7\" >0.989</td> \n",
       "    </tr>    <tr> \n",
       "        <th id=\"T_73492954_5109_11e7_82b5_185e0f3a4674\" class=\"row_heading level0 row8\" >CN</th> \n",
       "        <td id=\"T_73492954_5109_11e7_82b5_185e0f3a4674row8_col0\" class=\"data row8 col0\" >-5.621</td> \n",
       "        <td id=\"T_73492954_5109_11e7_82b5_185e0f3a4674row8_col1\" class=\"data row8 col1\" >0.386</td> \n",
       "        <td id=\"T_73492954_5109_11e7_82b5_185e0f3a4674row8_col2\" class=\"data row8 col2\" >1.267</td> \n",
       "        <td id=\"T_73492954_5109_11e7_82b5_185e0f3a4674row8_col3\" class=\"data row8 col3\" >0.546</td> \n",
       "        <td id=\"T_73492954_5109_11e7_82b5_185e0f3a4674row8_col4\" class=\"data row8 col4\" >-0.108</td> \n",
       "        <td id=\"T_73492954_5109_11e7_82b5_185e0f3a4674row8_col5\" class=\"data row8 col5\" >-0.475</td> \n",
       "        <td id=\"T_73492954_5109_11e7_82b5_185e0f3a4674row8_col6\" class=\"data row8 col6\" >-0.031</td> \n",
       "        <td id=\"T_73492954_5109_11e7_82b5_185e0f3a4674row8_col7\" class=\"data row8 col7\" >0.995</td> \n",
       "    </tr></tbody> \n",
       "</table> "
      ],
      "text/plain": [
       "<pandas.io.formats.style.Styler at 0x171931d4470>"
      ]
     },
     "execution_count": 48,
     "metadata": {},
     "output_type": "execute_result"
    }
   ],
   "source": [
    "res_ols = mod.fit(method='ols', debiased=True, cov_type='unadjusted')\n",
    "params = []\n",
    "r2 = []\n",
    "for label in res.equation_labels:\n",
    "    params.append(res_ols.equations[label].params)\n",
    "    r2.append(res_ols.equations[label].rsquared)\n",
    "params = pd.concat(params,1)\n",
    "params.columns = res.equation_labels\n",
    "params = params.T\n",
    "params['R2'] = r2\n",
    "params.style.format('{:0.3f}')"
   ]
  },
  {
   "cell_type": "markdown",
   "metadata": {},
   "source": [
    "The parameter estiamtes for one coefficient -- unemployment -- can be compared across the two estimation methods.  \n",
    "\n",
    "**Note**: the standard errors for the GLS estimator differ somewhat from Greene.  This is expected since a slightly different formula for the covariance has been used which is consistent.  In particular, the common estimator takes the form \n",
    "\n",
    "$$ (X^\\prime \\Omega^{-1} X)^{-1} $$\n",
    "\n",
    "where $\\Omega$ is estimated from the first-step regression.  The form used in this package is \n",
    "\n",
    "$$ (X^\\prime \\Omega^{-1} X)^{-1} (X^\\prime S X) (X^\\prime \\Omega^{-1} X)^{-1} $$\n",
    "\n",
    "where $S$ is an estimator of the covariance of the residuals using the GLS parameter estimates. Obviously in the usual form $S=\\Omega$."
   ]
  },
  {
   "cell_type": "code",
   "execution_count": 49,
   "metadata": {},
   "outputs": [
    {
     "data": {
      "text/html": [
       "<div>\n",
       "<style>\n",
       "    .dataframe thead tr:only-child th {\n",
       "        text-align: right;\n",
       "    }\n",
       "\n",
       "    .dataframe thead th {\n",
       "        text-align: left;\n",
       "    }\n",
       "\n",
       "    .dataframe tbody tr th {\n",
       "        vertical-align: top;\n",
       "    }\n",
       "</style>\n",
       "<table border=\"1\" class=\"dataframe\">\n",
       "  <thead>\n",
       "    <tr style=\"text-align: right;\">\n",
       "      <th></th>\n",
       "      <th>OLS</th>\n",
       "      <th>OLS se</th>\n",
       "      <th>GLS</th>\n",
       "      <th>GLS se</th>\n",
       "    </tr>\n",
       "  </thead>\n",
       "  <tbody>\n",
       "    <tr>\n",
       "      <th>GF</th>\n",
       "      <td>0.002124</td>\n",
       "      <td>0.301235</td>\n",
       "      <td>-0.200966</td>\n",
       "      <td>0.132051</td>\n",
       "    </tr>\n",
       "    <tr>\n",
       "      <th>SW</th>\n",
       "      <td>0.163546</td>\n",
       "      <td>0.165995</td>\n",
       "      <td>0.076637</td>\n",
       "      <td>0.096507</td>\n",
       "    </tr>\n",
       "    <tr>\n",
       "      <th>WC</th>\n",
       "      <td>0.294855</td>\n",
       "      <td>0.205417</td>\n",
       "      <td>0.169950</td>\n",
       "      <td>0.081267</td>\n",
       "    </tr>\n",
       "    <tr>\n",
       "      <th>MT</th>\n",
       "      <td>-0.152601</td>\n",
       "      <td>0.084031</td>\n",
       "      <td>-0.114834</td>\n",
       "      <td>0.059394</td>\n",
       "    </tr>\n",
       "    <tr>\n",
       "      <th>NE</th>\n",
       "      <td>-0.020407</td>\n",
       "      <td>0.285621</td>\n",
       "      <td>0.118316</td>\n",
       "      <td>0.127421</td>\n",
       "    </tr>\n",
       "    <tr>\n",
       "      <th>MA</th>\n",
       "      <td>-0.377570</td>\n",
       "      <td>0.167307</td>\n",
       "      <td>-0.310861</td>\n",
       "      <td>0.083619</td>\n",
       "    </tr>\n",
       "    <tr>\n",
       "      <th>SO</th>\n",
       "      <td>0.042818</td>\n",
       "      <td>0.279472</td>\n",
       "      <td>-0.063212</td>\n",
       "      <td>0.077437</td>\n",
       "    </tr>\n",
       "    <tr>\n",
       "      <th>MW</th>\n",
       "      <td>0.233403</td>\n",
       "      <td>0.206248</td>\n",
       "      <td>0.095886</td>\n",
       "      <td>0.099665</td>\n",
       "    </tr>\n",
       "    <tr>\n",
       "      <th>CN</th>\n",
       "      <td>0.385885</td>\n",
       "      <td>0.211083</td>\n",
       "      <td>0.294570</td>\n",
       "      <td>0.079944</td>\n",
       "    </tr>\n",
       "  </tbody>\n",
       "</table>\n",
       "</div>"
      ],
      "text/plain": [
       "         OLS    OLS se       GLS    GLS se\n",
       "GF  0.002124  0.301235 -0.200966  0.132051\n",
       "SW  0.163546  0.165995  0.076637  0.096507\n",
       "WC  0.294855  0.205417  0.169950  0.081267\n",
       "MT -0.152601  0.084031 -0.114834  0.059394\n",
       "NE -0.020407  0.285621  0.118316  0.127421\n",
       "MA -0.377570  0.167307 -0.310861  0.083619\n",
       "SO  0.042818  0.279472 -0.063212  0.077437\n",
       "MW  0.233403  0.206248  0.095886  0.099665\n",
       "CN  0.385885  0.211083  0.294570  0.079944"
      ]
     },
     "execution_count": 49,
     "metadata": {},
     "output_type": "execute_result"
    }
   ],
   "source": [
    "# TODO: I think this is wrong.  It needs to be checked to ensure that the correct residuals are used!!\n",
    "params = pd.concat([res_ols.params.iloc[1::7], res_ols.std_errors.iloc[1::7], \n",
    " res.params.iloc[1::7], res.std_errors.iloc[1::7]],1)\n",
    "params.columns=['OLS', 'OLS se', 'GLS', 'GLS se']\n",
    "params.index = regions\n",
    "params"
   ]
  },
  {
   "cell_type": "code",
   "execution_count": null,
   "metadata": {},
   "outputs": [],
   "source": [
    "display_png(Image('correct-greene-table-10-3.png'))"
   ]
  },
  {
   "cell_type": "code",
   "execution_count": null,
   "metadata": {},
   "outputs": [],
   "source": [
    "res_het = mod.fit(cov_type='robust', debiased=True)\n",
    "print(res_het)"
   ]
  },
  {
   "cell_type": "markdown",
   "metadata": {},
   "source": [
    "## Estimation Options"
   ]
  },
  {
   "cell_type": "markdown",
   "metadata": {},
   "source": [
    "### Restricted Residual Covariance"
   ]
  },
  {
   "cell_type": "markdown",
   "metadata": {},
   "source": [
    "### Iterative GLS"
   ]
  },
  {
   "cell_type": "code",
   "execution_count": null,
   "metadata": {},
   "outputs": [],
   "source": [
    "from linearmodels.datasets import fringe\n",
    "fdata = fringe.load()\n",
    "fdata.describe()\n",
    "exog = sm.add_constant(fdata[['educ','exper','expersq','tenure','tenuresq','union','south','nrtheast','nrthcen','married','white','male']])\n",
    "fmod_data = OrderedDict()\n",
    "fmod_data['hrearn'] = {'dependent': fdata.hrearn, 'exog': exog}\n",
    "fmod_data['hrbens'] = {'dependent': fdata.hrbens, 'exog': exog}\n",
    "fmod = SUR(fmod_data)\n",
    "print(fmod.fit(cov_type='unadjusted', debiased=True))"
   ]
  },
  {
   "cell_type": "code",
   "execution_count": null,
   "metadata": {},
   "outputs": [],
   "source": [
    "exog_earn = sm.add_constant(fdata[['educ','exper','expersq','union','nrtheast','white']])\n",
    "exog_bens = sm.add_constant(fdata[['educ','exper','expersq','tenure','tenuresq','union','male']])\n",
    "fmod_data['hrearn'] = {'dependent': fdata.hrearn, 'exog': exog_earn}\n",
    "fmod_data['hrbens'] = {'dependent': fdata.hrbens, 'exog': exog_bens}\n",
    "fmod = SUR(fmod_data)\n",
    "print(fmod.fit(cov_type='unadjusted', debiased=True))"
   ]
  },
  {
   "cell_type": "code",
   "execution_count": null,
   "metadata": {},
   "outputs": [],
   "source": [
    "fmod_res = fmod.fit(cov_type='unadjusted', debiased=True, iterate=True)\n",
    "print(fmod_res)"
   ]
  },
  {
   "cell_type": "code",
   "execution_count": null,
   "metadata": {},
   "outputs": [],
   "source": [
    "fmod_res.iterations"
   ]
  },
  {
   "cell_type": "markdown",
   "metadata": {},
   "source": [
    "### Alternative Covariance Estimators"
   ]
  },
  {
   "cell_type": "code",
   "execution_count": null,
   "metadata": {},
   "outputs": [],
   "source": [
    "mod.fit(cov_type='robust',debiased=True)\n",
    "mod.fit(cov_type='robust',)"
   ]
  },
  {
   "cell_type": "markdown",
   "metadata": {},
   "source": [
    "## Pre-specified Residual Covariance Estimators"
   ]
  },
  {
   "cell_type": "code",
   "execution_count": null,
   "metadata": {},
   "outputs": [],
   "source": [
    "avg_corr = (corr - np.eye(9)).mean().mean() * (81/72)\n",
    "rho = np.ones((9,9)) * avg_corr  + (1-avg_corr) * np.eye(9)\n",
    "sigma_pre = rho * (std @ std.T)\n",
    "mod_pre_sigma = SUR(mod_data, sigma=sigma_pre)\n",
    "res_pre = mod_pre_sigma.fit(cov_type='unadjusted', debiased=True)\n",
    "print(res_pre.equations['GF'])"
   ]
  },
  {
   "cell_type": "markdown",
   "metadata": {},
   "source": [
    "## Cross-Equation Restrictions"
   ]
  },
  {
   "cell_type": "code",
   "execution_count": null,
   "metadata": {},
   "outputs": [],
   "source": [
    "mod.param_names[:14]"
   ]
  },
  {
   "cell_type": "code",
   "execution_count": null,
   "metadata": {},
   "outputs": [],
   "source": [
    "r = pd.DataFrame(columns=mod.param_names, index=['rest{0}'.format(i) for i in range(1,9)], dtype=np.float64)\n",
    "r.loc[:,:] = 0.0\n",
    "r.iloc[:,6] = -1.0\n",
    "r.iloc[:,13::7] = np.eye(8)\n",
    "print(r.iloc[:,6::7])\n"
   ]
  },
  {
   "cell_type": "code",
   "execution_count": null,
   "metadata": {},
   "outputs": [],
   "source": [
    "r2 = np.zeros((8*6, r.shape[1]))\n",
    "loc = 0\n",
    "for i in range(6):\n",
    "    for j in range(8):\n",
    "        r2[loc,i+1] = -1\n",
    "        r2[loc,7*(j+1) + i+1] = 1\n",
    "        loc += 1\n",
    "r2=pd.DataFrame(r2, columns=mod.param_names)\n",
    "mod.reset_constraints()\n",
    "mod.add_constraints(r2)\n",
    "mod.fit()"
   ]
  },
  {
   "cell_type": "code",
   "execution_count": null,
   "metadata": {},
   "outputs": [],
   "source": [
    "mod.add_constraints(r)\n",
    "rest_res = mod.fit(cov_type='unadjusted', debiased=True)\n",
    "print(rest_res.params.iloc[6::7])"
   ]
  },
  {
   "cell_type": "markdown",
   "metadata": {},
   "source": [
    "## Multivariate OLS"
   ]
  },
  {
   "cell_type": "code",
   "execution_count": null,
   "metadata": {},
   "outputs": [],
   "source": [
    "import statsmodels.api as sm\n",
    "from linearmodels.datasets import french\n",
    "data = french.load()\n",
    "factors = sm.add_constant(data[['MktRF']])\n",
    "mv_ols = SUR.multivariate_ls(data[['S1V1','S1V3','S1V5','S5V1','S5V3','S5V5']], factors)\n",
    "mv_ols_res = mv_ols.fit(cov_type='unadjusted')\n",
    "print(mv_ols_res)"
   ]
  },
  {
   "cell_type": "markdown",
   "metadata": {},
   "source": [
    "## Using GLS with common regressors"
   ]
  },
  {
   "cell_type": "code",
   "execution_count": null,
   "metadata": {},
   "outputs": [],
   "source": [
    "print(mv_ols.fit(cov_type='unadjusted', method='gls'))"
   ]
  }
 ],
 "metadata": {
  "kernelspec": {
   "display_name": "Python [default]",
   "language": "python",
   "name": "python3"
  },
  "language_info": {
   "codemirror_mode": {
    "name": "ipython",
    "version": 3
   },
   "file_extension": ".py",
   "mimetype": "text/x-python",
   "name": "python",
   "nbconvert_exporter": "python",
   "pygments_lexer": "ipython3",
   "version": "3.5.3"
  }
 },
 "nbformat": 4,
 "nbformat_minor": 2
}

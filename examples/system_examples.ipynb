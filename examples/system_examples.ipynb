{
 "cells": [
  {
   "cell_type": "markdown",
   "metadata": {},
   "source": [
    "# Examples"
   ]
  },
  {
   "cell_type": "markdown",
   "metadata": {},
   "source": [
    "## Data"
   ]
  },
  {
   "cell_type": "code",
   "execution_count": null,
   "metadata": {
    "collapsed": true
   },
   "outputs": [],
   "source": [
    "%matplotlib inline\n",
    "import numpy as np\n",
    "import statsmodels.api as sm\n",
    "import pandas as pd"
   ]
  },
  {
   "cell_type": "code",
   "execution_count": null,
   "metadata": {
    "collapsed": true
   },
   "outputs": [],
   "source": [
    "\n",
    "from linearmodels.datasets import munnell\n",
    "data = munnell.load()\n",
    "\n",
    "regions = {\n",
    "    'GF':['AL', 'FL', 'LA', 'MS'],\n",
    "    'MW':['IL', 'IN', 'KY', 'MI', 'MN', 'OH', 'WI'],\n",
    "    'MA':['DE', 'MD', 'NJ', 'NY', 'PA', 'VA'],\n",
    "    'MT' :['CO', 'ID', 'MT', 'ND', 'SD', 'WY'],\n",
    "    'NE' :['CT', 'ME', 'MA', 'NH', 'RI', 'VT'],\n",
    "    'SO' :['GA', 'NC', 'SC', 'TN', 'WV', 'AR'],\n",
    "    'SW' : ['AZ', 'NV', 'NM', 'TX', 'UT'],\n",
    "    'CN': ['AK', 'IA','KS', 'MO','NE','OK'],\n",
    "    'WC': ['CA','OR','WA']\n",
    "}\n",
    "\n",
    "def map_region(state):\n",
    "    for key in regions:\n",
    "        if state in regions[key]:\n",
    "            return key\n",
    "\n",
    "\n",
    "data['REGION'] = data.ST_ABB.map(map_region)\n",
    "data['TOTAL_EMP'] = data.groupby(['REGION','YR'])['EMP'].transform('sum')\n",
    "data['EMP_SHARE'] = data.EMP / data.TOTAL_EMP\n",
    "data['WEIGHED_UNEMP'] = data.EMP_SHARE * data.UNEMP"
   ]
  },
  {
   "cell_type": "code",
   "execution_count": null,
   "metadata": {
    "collapsed": true
   },
   "outputs": [],
   "source": [
    "grouped = data.groupby(['REGION','YR'])\n",
    "agg_data = grouped[['GSP','PC','HWY','WATER','UTIL','EMP','WEIGHED_UNEMP']].sum()\n",
    "for col in ['GSP','PC','HWY','WATER','UTIL','EMP']:\n",
    "    agg_data['ln'+col] = np.log(agg_data[col])\n",
    "agg_data['UNEMP'] = agg_data.WEIGHED_UNEMP\n",
    "agg_data['Intercept'] = 1.0"
   ]
  },
  {
   "cell_type": "markdown",
   "metadata": {},
   "source": [
    "## Basic Usage"
   ]
  },
  {
   "cell_type": "code",
   "execution_count": null,
   "metadata": {
    "collapsed": true
   },
   "outputs": [],
   "source": [
    "from collections import OrderedDict\n",
    "mod_data = OrderedDict()\n",
    "for region in ['GF','SW','WC','MT','NE','MA','SO','MW','CN']:\n",
    "    region_data = agg_data.loc[region]\n",
    "    dependent = region_data.lnGSP\n",
    "    exog = region_data[['Intercept', 'lnPC', 'lnHWY', 'lnWATER', 'lnUTIL', 'lnEMP', 'UNEMP']]\n",
    "    mod_data[region] = {'dependent': dependent, 'exog': exog}"
   ]
  },
  {
   "cell_type": "code",
   "execution_count": null,
   "metadata": {},
   "outputs": [],
   "source": [
    "import pandas as pd\n",
    "from linearmodels.system import SUR\n",
    "mod = SUR(mod_data)\n",
    "res = mod.fit(cov_type='unadjusted', method='gls', debiased=True, iter_limit=10)\n",
    "cov = res.sigma\n",
    "std = np.sqrt(np.diag(res.sigma)[:,None])\n",
    "regions =  [k for k in mod_data.keys()]\n",
    "corr = pd.DataFrame(cov / (std @ std.T), columns=regions, index=regions)\n",
    "\n",
    "import seaborn as sns\n",
    "import matplotlib.pyplot as plt\n",
    "sns.heatmap(corr, vmax=.8, square=True)\n",
    "plt.show()\n",
    "\n",
    "corr.style.format('{:0.3f}')"
   ]
  },
  {
   "cell_type": "code",
   "execution_count": null,
   "metadata": {},
   "outputs": [],
   "source": [
    "from IPython.display import Image, display_png\n",
    "display_png(Image('correct-greene-table-10-2.png'))"
   ]
  },
  {
   "cell_type": "code",
   "execution_count": null,
   "metadata": {},
   "outputs": [],
   "source": [
    "print(res)"
   ]
  },
  {
   "cell_type": "code",
   "execution_count": null,
   "metadata": {},
   "outputs": [],
   "source": [
    "print(res.equations['GF'])"
   ]
  },
  {
   "cell_type": "code",
   "execution_count": null,
   "metadata": {},
   "outputs": [],
   "source": [
    "params = []\n",
    "for label in res.equation_labels:\n",
    "    params.append(res.equations[label].params)\n",
    "params = pd.concat(params,1)\n",
    "params.columns = res.equation_labels\n",
    "params.T.style.format('{:0.3f}')"
   ]
  },
  {
   "cell_type": "code",
   "execution_count": null,
   "metadata": {},
   "outputs": [],
   "source": [
    "display_png(Image('correct-greene-table-10-1.png'))"
   ]
  },
  {
   "cell_type": "code",
   "execution_count": null,
   "metadata": {},
   "outputs": [],
   "source": [
    "res_ols = mod.fit(method='ols', debiased=True, cov_type='unadjusted')\n",
    "params = []\n",
    "r2 = []\n",
    "for label in res.equation_labels:\n",
    "    params.append(res_ols.equations[label].params)\n",
    "    r2.append(res_ols.equations[label].rsquared)\n",
    "params = pd.concat(params,1)\n",
    "params.columns = res.equation_labels\n",
    "params = params.T\n",
    "params['R2'] = r2\n",
    "params.style.format('{:0.3f}')"
   ]
  },
  {
   "cell_type": "code",
   "execution_count": null,
   "metadata": {},
   "outputs": [],
   "source": [
    "params = pd.concat([res_ols.params.iloc[1::7], res_ols.std_errors.iloc[1::7], \n",
    " res.params.iloc[1::7], res.std_errors.iloc[1::7]],1)\n",
    "params.columns=['OLS', 'OLS se', 'GLS', 'GLS se']\n",
    "params.index = regions\n",
    "params"
   ]
  },
  {
   "cell_type": "code",
   "execution_count": null,
   "metadata": {},
   "outputs": [],
   "source": [
    "display_png(Image('correct-greene-table-10-3.png'))"
   ]
  },
  {
   "cell_type": "code",
   "execution_count": null,
   "metadata": {},
   "outputs": [],
   "source": [
    "res_het = mod.fit(cov_type='robust', debiased=True)\n",
    "print(res_het)"
   ]
  },
  {
   "cell_type": "markdown",
   "metadata": {},
   "source": [
    "## Estimation Options"
   ]
  },
  {
   "cell_type": "markdown",
   "metadata": {},
   "source": [
    "### Restricted Residual Covariance"
   ]
  },
  {
   "cell_type": "markdown",
   "metadata": {},
   "source": [
    "### Iterative GLS"
   ]
  },
  {
   "cell_type": "code",
   "execution_count": null,
   "metadata": {},
   "outputs": [],
   "source": [
    "from linearmodels.datasets import fringe\n",
    "fdata = fringe.load()\n",
    "fdata.describe()\n",
    "exog = sm.add_constant(fdata[['educ','exper','expersq','tenure','tenuresq','union','south','nrtheast','nrthcen','married','white','male']])\n",
    "fmod_data = OrderedDict()\n",
    "fmod_data['hrearn'] = {'dependent': fdata.hrearn, 'exog': exog}\n",
    "fmod_data['hrbens'] = {'dependent': fdata.hrbens, 'exog': exog}\n",
    "fmod = SUR(fmod_data)\n",
    "print(fmod.fit(cov_type='unadjusted', debiased=True))"
   ]
  },
  {
   "cell_type": "code",
   "execution_count": null,
   "metadata": {},
   "outputs": [],
   "source": [
    "exog_earn = sm.add_constant(fdata[['educ','exper','expersq','union','nrtheast','white']])\n",
    "exog_bens = sm.add_constant(fdata[['educ','exper','expersq','tenure','tenuresq','union','male']])\n",
    "fmod_data['hrearn'] = {'dependent': fdata.hrearn, 'exog': exog_earn}\n",
    "fmod_data['hrbens'] = {'dependent': fdata.hrbens, 'exog': exog_bens}\n",
    "fmod = SUR(fmod_data)\n",
    "print(fmod.fit(cov_type='unadjusted', debiased=True))"
   ]
  },
  {
   "cell_type": "code",
   "execution_count": null,
   "metadata": {},
   "outputs": [],
   "source": [
    "fmod_res = fmod.fit(cov_type='unadjusted', debiased=True, iterate=True)\n",
    "print(fmod_res)"
   ]
  },
  {
   "cell_type": "code",
   "execution_count": null,
   "metadata": {},
   "outputs": [],
   "source": [
    "fmod_res.iterations"
   ]
  },
  {
   "cell_type": "markdown",
   "metadata": {},
   "source": [
    "### Alternative Covariance Estimators"
   ]
  },
  {
   "cell_type": "code",
   "execution_count": null,
   "metadata": {
    "collapsed": true
   },
   "outputs": [],
   "source": [
    "mod.fit(cov_type='robust',debiased=True)\n",
    "mod.fit(cov_type='robust',)"
   ]
  },
  {
   "cell_type": "markdown",
   "metadata": {},
   "source": [
    "## Pre-specified Residual Covariance Estimators"
   ]
  },
  {
   "cell_type": "code",
   "execution_count": null,
   "metadata": {
    "collapsed": true
   },
   "outputs": [],
   "source": [
    "avg_corr = (corr - np.eye(9)).mean().mean() * (81/72)\n",
    "rho = np.ones((9,9)) * avg_corr  + (1-avg_corr) * np.eye(9)\n",
    "sigma_pre = rho * (std @ std.T)\n",
    "mod_pre_sigma = SUR(mod_data, sigma=sigma_pre)\n",
    "res_pre = mod_pre_sigma.fit(cov_type='unadjusted', debiased=True)\n",
    "print(res_pre.equations['GF'])"
   ]
  },
  {
   "cell_type": "markdown",
   "metadata": {},
   "source": [
    "## Cross-Equation Restrictions"
   ]
  },
  {
   "cell_type": "code",
   "execution_count": null,
   "metadata": {
    "collapsed": true
   },
   "outputs": [],
   "source": [
    "mod.param_names[:14]"
   ]
  },
  {
   "cell_type": "code",
   "execution_count": null,
   "metadata": {
    "collapsed": true
   },
   "outputs": [],
   "source": [
    "r = pd.DataFrame(columns=mod.param_names, index=['rest{0}'.format(i) for i in range(1,9)], dtype=np.float64)\n",
    "r.loc[:,:] = 0.0\n",
    "r.iloc[:,6] = -1.0\n",
    "r.iloc[:,13::7] = np.eye(8)\n",
    "print(r.iloc[:,6::7])\n"
   ]
  },
  {
   "cell_type": "code",
   "execution_count": null,
   "metadata": {
    "collapsed": true
   },
   "outputs": [],
   "source": [
    "r2 = np.zeros((8*6, r.shape[1]))\n",
    "loc = 0\n",
    "for i in range(6):\n",
    "    for j in range(8):\n",
    "        r2[loc,i+1] = -1\n",
    "        r2[loc,7*(j+1) + i+1] = 1\n",
    "        loc += 1\n",
    "r2=pd.DataFrame(r2, columns=mod.param_names)\n",
    "mod.reset_constraints()\n",
    "mod.add_constraints(r2)\n",
    "mod.fit()"
   ]
  },
  {
   "cell_type": "code",
   "execution_count": null,
   "metadata": {
    "collapsed": true
   },
   "outputs": [],
   "source": [
    "mod.add_constraints(r)\n",
    "rest_res = mod.fit(cov_type='unadjusted', debiased=True)\n",
    "print(rest_res.params.iloc[6::7])"
   ]
  },
  {
   "cell_type": "markdown",
   "metadata": {},
   "source": [
    "## Multivariate OLS"
   ]
  },
  {
   "cell_type": "code",
   "execution_count": null,
   "metadata": {
    "collapsed": true
   },
   "outputs": [],
   "source": [
    "import statsmodels.api as sm\n",
    "from linearmodels.datasets import french\n",
    "data = french.load()\n",
    "factors = sm.add_constant(data[['MktRF']])\n",
    "mv_ols = SUR.multivariate_ls(data[['S1V1','S1V3','S1V5','S5V1','S5V3','S5V5']], factors)\n",
    "mv_ols_res = mv_ols.fit(cov_type='unadjusted')\n",
    "print(mv_ols_res)"
   ]
  },
  {
   "cell_type": "markdown",
   "metadata": {},
   "source": [
    "## Using GLS with common regressors"
   ]
  },
  {
   "cell_type": "code",
   "execution_count": null,
   "metadata": {
    "collapsed": true
   },
   "outputs": [],
   "source": [
    "print(mv_ols.fit(cov_type='unadjusted', method='gls'))"
   ]
  }
 ],
 "metadata": {
  "kernelspec": {
   "display_name": "Python [default]",
   "language": "python",
   "name": "python3"
  },
  "language_info": {
   "codemirror_mode": {
    "name": "ipython",
    "version": 3
   },
   "file_extension": ".py",
   "mimetype": "text/x-python",
   "name": "python",
   "nbconvert_exporter": "python",
   "pygments_lexer": "ipython3",
   "version": "3.5.3"
  }
 },
 "nbformat": 4,
 "nbformat_minor": 2
}

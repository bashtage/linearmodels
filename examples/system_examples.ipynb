{
 "cells": [
  {
   "cell_type": "markdown",
   "metadata": {},
   "source": [
    "# Examples"
   ]
  },
  {
   "cell_type": "markdown",
   "metadata": {},
   "source": [
    "## Data"
   ]
  },
  {
   "cell_type": "code",
   "execution_count": null,
   "metadata": {
    "collapsed": true
   },
   "outputs": [],
   "source": [
    "%matplotlib inline\n",
    "import numpy as np\n",
    "from linearmodels.datasets import munnell\n",
    "data = munnell.load()\n",
    "\n",
    "regions = {\n",
    "    'GF':['AL', 'FL', 'LA', 'MS'],\n",
    "    'MW':['IL', 'IN', 'KY', 'MI', 'MN', 'OH', 'WI'],\n",
    "    'MA':['DE', 'MD', 'NJ', 'NY', 'PA', 'VA'],\n",
    "    'MT' :['CO', 'ID', 'MT', 'ND', 'SD', 'WY'],\n",
    "    'NE' :['CT', 'ME', 'MA', 'NH', 'RI', 'VT'],\n",
    "    'SO' :['GA', 'NC', 'SC', 'TN', 'WV', 'AR'],\n",
    "    'SW' : ['AZ', 'NV', 'NM', 'TX', 'UT'],\n",
    "    'CN': ['AK', 'IA','KS', 'MO','NE','OK'],\n",
    "    'WC': ['CA','OR','WA']\n",
    "}\n",
    "\n",
    "def map_region(state):\n",
    "    for key in regions:\n",
    "        if state in regions[key]:\n",
    "            return key\n",
    "\n",
    "\n",
    "data['REGION'] = data.ST_ABB.map(map_region)\n",
    "data['TOTAL_EMP'] = data.groupby(['REGION','YR'])['EMP'].transform('sum')\n",
    "data['EMP_SHARE'] = data.EMP / data.TOTAL_EMP\n",
    "data['WEIGHED_UNEMP'] = data.EMP_SHARE * data.UNEMP"
   ]
  },
  {
   "cell_type": "code",
   "execution_count": null,
   "metadata": {},
   "outputs": [],
   "source": [
    "grouped = data.groupby(['REGION','YR'])\n",
    "agg_data = grouped[['GSP','PC','HWY','WATER','UTIL','EMP','WEIGHED_UNEMP']].sum()\n",
    "for col in ['GSP','PC','HWY','WATER','UTIL','EMP']:\n",
    "    agg_data['ln'+col] = np.log(agg_data[col])\n",
    "agg_data['UNEMP'] = agg_data.WEIGHED_UNEMP\n",
    "agg_data['Intercept'] = 1.0"
   ]
  },
  {
   "cell_type": "markdown",
   "metadata": {},
   "source": [
    "## Basic Usage"
   ]
  },
  {
   "cell_type": "code",
   "execution_count": null,
   "metadata": {
    "collapsed": true
   },
   "outputs": [],
   "source": [
    "from collections import OrderedDict\n",
    "mod_data = OrderedDict()\n",
    "for region in ['GF','SW','WC','MT','NE','MA','SO','MW','CN']:\n",
    "    region_data = agg_data.loc[region]\n",
    "    dependent = region_data.lnGSP\n",
    "    exog = region_data[['Intercept', 'lnPC', 'lnHWY', 'lnWATER', 'lnUTIL', 'lnEMP', 'UNEMP']]\n",
    "    mod_data[region] = {'dependent': dependent, 'exog': exog}"
   ]
  },
  {
   "cell_type": "code",
   "execution_count": null,
   "metadata": {},
   "outputs": [],
   "source": [
    "import pandas as pd\n",
    "from linearmodels.system import SUR\n",
    "mod = SUR(mod_data)\n",
    "res = mod.fit(cov_type='unadjusted', method='gls', debiased=True, iter_limit=10)\n",
    "cov = res.sigma\n",
    "std = np.sqrt(np.diag(res.sigma)[:,None])\n",
    "regions =  [k for k in mod_data.keys()]\n",
    "corr = pd.DataFrame(cov / (std @ std.T), columns=regions, index=regions)\n",
    "\n",
    "import seaborn as sns\n",
    "import matplotlib.pyplot as plt\n",
    "sns.heatmap(corr, vmax=.8, square=True)\n",
    "plt.show()\n",
    "\n",
    "corr.style.format('{:0.3f}')"
   ]
  },
  {
   "cell_type": "code",
   "execution_count": null,
   "metadata": {},
   "outputs": [],
   "source": [
    "from IPython.display import Image, display_png\n",
    "display_png(Image('correct-greene-table-10-2.png'))"
   ]
  },
  {
   "cell_type": "code",
   "execution_count": null,
   "metadata": {},
   "outputs": [],
   "source": [
    "from linearmodels.iv import IV2SLS\n",
    "ols_res = IV2SLS(mod_data['WC']['dependent'], mod_data['WC']['exog'], None,None).fit(cov_type='unadjusted',debiased=True)\n",
    "print(ols_res)\n",
    "res.equations['WC'].tstats - ols_res.tstats"
   ]
  },
  {
   "cell_type": "code",
   "execution_count": null,
   "metadata": {
    "collapsed": true
   },
   "outputs": [],
   "source": [
    "from linearmodels.panel import PooledOLS\n",
    "pooled_mod = PooledOLS(agg_data.lnGSP, agg_data[['Intercept','lnPC','lnHWY','lnWATER','lnUTIL','lnEMP','UNEMP']])\n",
    "print(pooled_mod.fit())"
   ]
  },
  {
   "cell_type": "code",
   "execution_count": null,
   "metadata": {},
   "outputs": [],
   "source": [
    "res.equations['GF'].params"
   ]
  },
  {
   "cell_type": "code",
   "execution_count": null,
   "metadata": {},
   "outputs": [],
   "source": [
    "display_png(Image('correct-greene-table-10-1.png'))"
   ]
  },
  {
   "cell_type": "markdown",
   "metadata": {},
   "source": [
    "## Estimation Options"
   ]
  },
  {
   "cell_type": "markdown",
   "metadata": {},
   "source": [
    "### Restricted Residual Covariance"
   ]
  },
  {
   "cell_type": "markdown",
   "metadata": {},
   "source": [
    "### Iterative GLS"
   ]
  },
  {
   "cell_type": "markdown",
   "metadata": {},
   "source": [
    "### Alternative Covariance Estimators"
   ]
  },
  {
   "cell_type": "markdown",
   "metadata": {},
   "source": [
    "## Pre-specified Residual Covariance Estimators"
   ]
  },
  {
   "cell_type": "markdown",
   "metadata": {},
   "source": [
    "## Multivariate OLS"
   ]
  },
  {
   "cell_type": "markdown",
   "metadata": {},
   "source": [
    "## Cross-Equation Restrictions"
   ]
  }
 ],
 "metadata": {
  "kernelspec": {
   "display_name": "Python 3",
   "language": "python",
   "name": "python3"
  },
  "language_info": {
   "codemirror_mode": {
    "name": "ipython",
    "version": 3
   },
   "file_extension": ".py",
   "mimetype": "text/x-python",
   "name": "python",
   "nbconvert_exporter": "python",
   "pygments_lexer": "ipython3",
   "version": "3.5.3"
  }
 },
 "nbformat": 4,
 "nbformat_minor": 2
}

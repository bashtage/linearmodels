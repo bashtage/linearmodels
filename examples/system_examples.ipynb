{
 "cells": [
  {
   "cell_type": "markdown",
   "metadata": {},
   "source": [
    "# Examples"
   ]
  },
  {
   "cell_type": "markdown",
   "metadata": {},
   "source": [
    "## Data"
   ]
  },
  {
   "cell_type": "code",
   "execution_count": 1,
   "metadata": {
    "collapsed": true
   },
   "outputs": [],
   "source": [
    "%matplotlib inline\n",
    "import numpy as np\n",
    "from linearmodels.datasets import munnell\n",
    "data = munnell.load()\n",
    "\n",
    "regions = {\n",
    "    'GF':['AL', 'FL', 'LA', 'MS'],\n",
    "    'MW':['IL', 'IN', 'KY', 'MI', 'MN', 'OH', 'WI'],\n",
    "    'MA':['DE', 'MD', 'NJ', 'NY', 'PA', 'VA'],\n",
    "    'MT' :['CO', 'ID', 'MT', 'ND', 'SD', 'WY'],\n",
    "    'NE' :['CT', 'ME', 'MA', 'NH', 'RI', 'VT'],\n",
    "    'SO' :['GA', 'NC', 'SC', 'TN', 'WV', 'AR'],\n",
    "    'SW' : ['AZ', 'NV', 'NM', 'TX', 'UT'],\n",
    "    'CN': ['AK', 'IA','KS', 'MO','NE','OK'],\n",
    "    'WC': ['CA','OR','WA']\n",
    "}\n",
    "\n",
    "def map_region(state):\n",
    "    for key in regions:\n",
    "        if state in regions[key]:\n",
    "            return key\n",
    "\n",
    "\n",
    "data['REGION'] = data.ST_ABB.map(map_region)\n",
    "data['TOTAL_EMP'] = data.groupby(['REGION','YR'])['EMP'].transform('sum')\n",
    "data['EMP_SHARE'] = data.EMP / data.TOTAL_EMP\n",
    "data['WEIGHED_UNEMP'] = data.EMP_SHARE * data.UNEMP"
   ]
  },
  {
   "cell_type": "code",
   "execution_count": 2,
   "metadata": {},
   "outputs": [
    {
     "data": {
      "text/plain": [
       "Index(['GSP', 'PC', 'HWY', 'WATER', 'UTIL', 'EMP', 'WEIGHED_UNEMP', 'lnGSP',\n",
       "       'lnPC', 'lnHWY', 'lnWATER', 'lnUTIL', 'lnEMP', 'UNEMP', 'Intercept'],\n",
       "      dtype='object')"
      ]
     },
     "execution_count": 2,
     "metadata": {},
     "output_type": "execute_result"
    }
   ],
   "source": [
    "grouped = data.groupby(['REGION','YR'])\n",
    "agg_data = grouped[['GSP','PC','HWY','WATER','UTIL','EMP','WEIGHED_UNEMP']].sum()\n",
    "for col in ['GSP','PC','HWY','WATER','UTIL','EMP']:\n",
    "    agg_data['ln'+col] = np.log(agg_data[col])\n",
    "agg_data['UNEMP'] = agg_data.WEIGHED_UNEMP\n",
    "agg_data['Intercept'] = 1.0\n",
    "agg_data.columns"
   ]
  },
  {
   "cell_type": "markdown",
   "metadata": {},
   "source": [
    "## Basic Usage"
   ]
  },
  {
   "cell_type": "code",
   "execution_count": 3,
   "metadata": {
    "collapsed": true
   },
   "outputs": [],
   "source": [
    "from collections import OrderedDict\n",
    "mod_data = OrderedDict()\n",
    "for region in ['GF','MW','MA','MT','NE','SO','SW','CN','WC']:\n",
    "    region_data = agg_data.loc[region]\n",
    "    dependent = region_data.lnGSP\n",
    "    exog = region_data[['Intercept', 'lnPC', 'lnHWY', 'lnWATER', 'lnUTIL', 'lnEMP', 'UNEMP']]\n",
    "    mod_data[region] = {'dependent': dependent, 'exog': exog}"
   ]
  },
  {
   "cell_type": "code",
   "execution_count": 4,
   "metadata": {},
   "outputs": [
    {
     "data": {
      "text/html": [
       "<div>\n",
       "<style>\n",
       "    .dataframe thead tr:only-child th {\n",
       "        text-align: right;\n",
       "    }\n",
       "\n",
       "    .dataframe thead th {\n",
       "        text-align: left;\n",
       "    }\n",
       "\n",
       "    .dataframe tbody tr th {\n",
       "        vertical-align: top;\n",
       "    }\n",
       "</style>\n",
       "<table border=\"1\" class=\"dataframe\">\n",
       "  <thead>\n",
       "    <tr style=\"text-align: right;\">\n",
       "      <th></th>\n",
       "      <th>GF</th>\n",
       "      <th>MW</th>\n",
       "      <th>MA</th>\n",
       "      <th>MT</th>\n",
       "      <th>NE</th>\n",
       "      <th>SO</th>\n",
       "      <th>SW</th>\n",
       "      <th>CN</th>\n",
       "      <th>WC</th>\n",
       "    </tr>\n",
       "  </thead>\n",
       "  <tbody>\n",
       "    <tr>\n",
       "      <th>GF</th>\n",
       "      <td>1.000000</td>\n",
       "      <td>0.167175</td>\n",
       "      <td>0.424707</td>\n",
       "      <td>-0.547266</td>\n",
       "      <td>0.525276</td>\n",
       "      <td>0.763197</td>\n",
       "      <td>0.173408</td>\n",
       "      <td>0.325016</td>\n",
       "      <td>0.446673</td>\n",
       "    </tr>\n",
       "    <tr>\n",
       "      <th>MW</th>\n",
       "      <td>0.167175</td>\n",
       "      <td>1.000000</td>\n",
       "      <td>-0.037455</td>\n",
       "      <td>-0.057634</td>\n",
       "      <td>0.269258</td>\n",
       "      <td>0.365541</td>\n",
       "      <td>0.565416</td>\n",
       "      <td>0.297851</td>\n",
       "      <td>0.573607</td>\n",
       "    </tr>\n",
       "    <tr>\n",
       "      <th>MA</th>\n",
       "      <td>0.424707</td>\n",
       "      <td>-0.037455</td>\n",
       "      <td>1.000000</td>\n",
       "      <td>-0.321977</td>\n",
       "      <td>0.259414</td>\n",
       "      <td>0.388023</td>\n",
       "      <td>0.131960</td>\n",
       "      <td>0.713496</td>\n",
       "      <td>0.130061</td>\n",
       "    </tr>\n",
       "    <tr>\n",
       "      <th>MT</th>\n",
       "      <td>-0.547266</td>\n",
       "      <td>-0.057634</td>\n",
       "      <td>-0.321977</td>\n",
       "      <td>1.000000</td>\n",
       "      <td>-0.241106</td>\n",
       "      <td>-0.350729</td>\n",
       "      <td>-0.289564</td>\n",
       "      <td>0.090926</td>\n",
       "      <td>-0.537221</td>\n",
       "    </tr>\n",
       "    <tr>\n",
       "      <th>NE</th>\n",
       "      <td>0.525276</td>\n",
       "      <td>0.269258</td>\n",
       "      <td>0.259414</td>\n",
       "      <td>-0.241106</td>\n",
       "      <td>1.000000</td>\n",
       "      <td>0.783185</td>\n",
       "      <td>0.489327</td>\n",
       "      <td>0.199785</td>\n",
       "      <td>0.343352</td>\n",
       "    </tr>\n",
       "    <tr>\n",
       "      <th>SO</th>\n",
       "      <td>0.763197</td>\n",
       "      <td>0.365541</td>\n",
       "      <td>0.388023</td>\n",
       "      <td>-0.350729</td>\n",
       "      <td>0.783185</td>\n",
       "      <td>1.000000</td>\n",
       "      <td>0.313953</td>\n",
       "      <td>0.350271</td>\n",
       "      <td>0.504966</td>\n",
       "    </tr>\n",
       "    <tr>\n",
       "      <th>SW</th>\n",
       "      <td>0.173408</td>\n",
       "      <td>0.565416</td>\n",
       "      <td>0.131960</td>\n",
       "      <td>-0.289564</td>\n",
       "      <td>0.489327</td>\n",
       "      <td>0.313953</td>\n",
       "      <td>1.000000</td>\n",
       "      <td>0.119107</td>\n",
       "      <td>0.696947</td>\n",
       "    </tr>\n",
       "    <tr>\n",
       "      <th>CN</th>\n",
       "      <td>0.325016</td>\n",
       "      <td>0.297851</td>\n",
       "      <td>0.713496</td>\n",
       "      <td>0.090926</td>\n",
       "      <td>0.199785</td>\n",
       "      <td>0.350271</td>\n",
       "      <td>0.119107</td>\n",
       "      <td>1.000000</td>\n",
       "      <td>0.036768</td>\n",
       "    </tr>\n",
       "    <tr>\n",
       "      <th>WC</th>\n",
       "      <td>0.446673</td>\n",
       "      <td>0.573607</td>\n",
       "      <td>0.130061</td>\n",
       "      <td>-0.537221</td>\n",
       "      <td>0.343352</td>\n",
       "      <td>0.504966</td>\n",
       "      <td>0.696947</td>\n",
       "      <td>0.036768</td>\n",
       "      <td>1.000000</td>\n",
       "    </tr>\n",
       "  </tbody>\n",
       "</table>\n",
       "</div>"
      ],
      "text/plain": [
       "          GF        MW        MA        MT        NE        SO        SW  \\\n",
       "GF  1.000000  0.167175  0.424707 -0.547266  0.525276  0.763197  0.173408   \n",
       "MW  0.167175  1.000000 -0.037455 -0.057634  0.269258  0.365541  0.565416   \n",
       "MA  0.424707 -0.037455  1.000000 -0.321977  0.259414  0.388023  0.131960   \n",
       "MT -0.547266 -0.057634 -0.321977  1.000000 -0.241106 -0.350729 -0.289564   \n",
       "NE  0.525276  0.269258  0.259414 -0.241106  1.000000  0.783185  0.489327   \n",
       "SO  0.763197  0.365541  0.388023 -0.350729  0.783185  1.000000  0.313953   \n",
       "SW  0.173408  0.565416  0.131960 -0.289564  0.489327  0.313953  1.000000   \n",
       "CN  0.325016  0.297851  0.713496  0.090926  0.199785  0.350271  0.119107   \n",
       "WC  0.446673  0.573607  0.130061 -0.537221  0.343352  0.504966  0.696947   \n",
       "\n",
       "          CN        WC  \n",
       "GF  0.325016  0.446673  \n",
       "MW  0.297851  0.573607  \n",
       "MA  0.713496  0.130061  \n",
       "MT  0.090926 -0.537221  \n",
       "NE  0.199785  0.343352  \n",
       "SO  0.350271  0.504966  \n",
       "SW  0.119107  0.696947  \n",
       "CN  1.000000  0.036768  \n",
       "WC  0.036768  1.000000  "
      ]
     },
     "execution_count": 4,
     "metadata": {},
     "output_type": "execute_result"
    },
    {
     "data": {
      "image/png": "[encoded data removed]",
      "text/plain": [
       "<matplotlib.figure.Figure at 0x19bae8a80f0>"
      ]
     },
     "metadata": {},
     "output_type": "display_data"
    }
   ],
   "source": [
    "import pandas as pd\n",
    "from linearmodels.system import SUR\n",
    "mod = SUR(mod_data)\n",
    "res = mod.fit(method='gls', debiased=True)\n",
    "cov = res.sigma\n",
    "std = np.sqrt(np.diag(res.sigma)[:,None])\n",
    "regions =  [k for k in mod_data.keys()]\n",
    "corr = pd.DataFrame(cov / (std @ std.T), columns=regions, index=regions)\n",
    "\n",
    "import seaborn as sns\n",
    "sns.heatmap(corr, vmax=.8, square=True)\n",
    "corr"
   ]
  },
  {
   "cell_type": "code",
   "execution_count": 5,
   "metadata": {},
   "outputs": [
    {
     "name": "stdout",
     "output_type": "stream",
     "text": [
      "                            OLS Estimation Summary                            \n",
      "==============================================================================\n",
      "Dep. Variable:                  lnGSP   R-squared:                      0.9940\n",
      "Estimator:                        OLS   Adj. R-squared:                 0.9905\n",
      "No. Observations:                  17   F-statistic:                    717.72\n",
      "Date:                Sun, Jun 11 2017   P-value (F-stat)                0.0000\n",
      "Time:                        22:20:27   Distribution:                  F(6,10)\n",
      "Cov. Estimator:                robust                                         \n",
      "                                                                              \n",
      "                             Parameter Estimates                              \n",
      "==============================================================================\n",
      "            Parameter  Std. Err.     T-stat    P-value    Lower CI    Upper CI\n",
      "------------------------------------------------------------------------------\n",
      "Intercept      3.5902     4.5168     0.7949     0.4451     -6.4739      13.654\n",
      "lnPC           0.2949     0.1619     1.8208     0.0986     -0.0660      0.6557\n",
      "lnHWY          0.1740     0.1693     1.0275     0.3284     -0.2033      0.5513\n",
      "lnWATER       -0.2257     0.4734    -0.4766     0.6439     -1.2805      0.8292\n",
      "lnUTIL        -0.2144     0.7955    -0.2695     0.7930     -1.9868      1.5580\n",
      "lnEMP          0.9166     0.3432     2.6705     0.0235      0.1518      1.6814\n",
      "UNEMP         -0.0081     0.0066    -1.2354     0.2449     -0.0228      0.0065\n",
      "==============================================================================\n"
     ]
    },
    {
     "data": {
      "text/plain": [
       "Intercept    0.003052\n",
       "lnPC         0.009774\n",
       "lnHWY        0.006736\n",
       "lnWATER     -0.009880\n",
       "lnUTIL       0.000987\n",
       "lnEMP        0.034579\n",
       "UNEMP       -0.008631\n",
       "Name: tstat, dtype: float64"
      ]
     },
     "execution_count": 5,
     "metadata": {},
     "output_type": "execute_result"
    }
   ],
   "source": [
    "from linearmodels.iv import IV2SLS\n",
    "ols_res = IV2SLS(mod_data['WC']['dependent'], mod_data['WC']['exog'], None,None).fit(debiased=True)\n",
    "print(ols_res)\n",
    "res.equations['WC'].params\n",
    "res.equations['WC'].tstats\n"
   ]
  },
  {
   "cell_type": "code",
   "execution_count": 6,
   "metadata": {},
   "outputs": [
    {
     "name": "stdout",
     "output_type": "stream",
     "text": [
      "                          PooledOLS Estimation Summary                          \n",
      "================================================================================\n",
      "Dep. Variable:                  lnGSP   R-squared:                        0.9961\n",
      "Estimator:                  PooledOLS   R-squared (Between):              0.9986\n",
      "No. Observations:                 153   R-squared (Within):               0.9517\n",
      "Date:                Sun, Jun 11 2017   R-squared (Overall):              0.9961\n",
      "Time:                        22:20:27   Log-likelihood                    276.72\n",
      "Cov. Estimator:            Unadjusted                                           \n",
      "                                        F-statistic:                      6269.7\n",
      "Entities:                           9   P-value                           0.0000\n",
      "Avg Obs:                       17.000   Distribution:                   F(6,146)\n",
      "Min Obs:                       17.000                                           \n",
      "Max Obs:                       17.000   F-statistic (robust):             6269.7\n",
      "                                        P-value                           0.0000\n",
      "Time periods:                      17   Distribution:                   F(6,146)\n",
      "Avg Obs:                       9.0000                                           \n",
      "Min Obs:                       9.0000                                           \n",
      "Max Obs:                       9.0000                                           \n",
      "                                                                                \n",
      "                             Parameter Estimates                              \n",
      "==============================================================================\n",
      "            Parameter  Std. Err.     T-stat    P-value    Lower CI    Upper CI\n",
      "------------------------------------------------------------------------------\n",
      "Intercept      2.6301     0.1167     22.544     0.0000      2.3995      2.8607\n",
      "lnPC           0.2599     0.0172     15.106     0.0000      0.2259      0.2939\n",
      "lnHWY         -0.1658     0.0276    -6.0141     0.0000     -0.2202     -0.1113\n",
      "lnWATER        0.3340     0.0327     10.222     0.0000      0.2694      0.3986\n",
      "lnUTIL         0.2201     0.0315     6.9862     0.0000      0.1579      0.2824\n",
      "lnEMP          0.3295     0.0295     11.169     0.0000      0.2712      0.3879\n",
      "UNEMP         -0.0188     0.0022    -8.5105     0.0000     -0.0231     -0.0144\n",
      "==============================================================================\n"
     ]
    }
   ],
   "source": [
    "from linearmodels.panel import PooledOLS\n",
    "pooled_mod = PooledOLS(agg_data.lnGSP, agg_data[['Intercept','lnPC','lnHWY','lnWATER','lnUTIL','lnEMP','UNEMP']])\n",
    "print(pooled_mod.fit())"
   ]
  },
  {
   "cell_type": "markdown",
   "metadata": {},
   "source": [
    "## Estimation Options"
   ]
  },
  {
   "cell_type": "markdown",
   "metadata": {},
   "source": [
    "### Restricted Residual Covariance"
   ]
  },
  {
   "cell_type": "markdown",
   "metadata": {},
   "source": [
    "### Iterative GLS"
   ]
  },
  {
   "cell_type": "markdown",
   "metadata": {},
   "source": [
    "### Alternative Covariance Estimators"
   ]
  },
  {
   "cell_type": "markdown",
   "metadata": {},
   "source": [
    "## Pre-specified Residual Covariance Estimators"
   ]
  },
  {
   "cell_type": "markdown",
   "metadata": {},
   "source": [
    "## Multivariate OLS"
   ]
  },
  {
   "cell_type": "markdown",
   "metadata": {},
   "source": [
    "## Cross-Equation Restrictions"
   ]
  }
 ],
 "metadata": {
  "kernelspec": {
   "display_name": "Python [default]",
   "language": "python",
   "name": "python3"
  },
  "language_info": {
   "codemirror_mode": {
    "name": "ipython",
    "version": 3
   },
   "file_extension": ".py",
   "mimetype": "text/x-python",
   "name": "python",
   "nbconvert_exporter": "python",
   "pygments_lexer": "ipython3",
   "version": "3.5.3"
  }
 },
 "nbformat": 4,
 "nbformat_minor": 2
}

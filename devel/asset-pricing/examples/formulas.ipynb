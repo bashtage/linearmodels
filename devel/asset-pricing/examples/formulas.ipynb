{
 "cells": [
  {
   "cell_type": "markdown",
   "metadata": {
    "pycharm": {
     "name": "#%% md\n"
    }
   },
   "source": [
    "# Using Formulas\n",
    "\n",
    "The asset pricing model estimators all all formulas.  Since the models have multiple dependent variables (test portfolios) as well as multiple independent variables (factors), the standard [formulaic](https://github.com/matthewwardrop/formulaic/) syntax needs to be modified. There are two methods to use formulas.  The first specified both the test portfolio and the factors.  The second specifies only the factors and the test portfolios are passed using an optional keyword argument. The second syntax exists since in many models the number of test portfolios might be large and interest is usually in modifying the factors.\n",
    "\n",
    "## Available Syntax \n",
    "\n",
    "### Test Portfolios and Factors\n",
    "\n",
    "The first syntax can be expressed as\n",
    "\n",
    "```\n",
    "\"port1 + port2 + port3 + port4 + ... + portN ~ factor1 + ... + factorK\"\n",
    "```\n",
    "\n",
    "so that both the test portfolios and the factors are separated using `+`.  The two sets are separated using the usual separator between left-hand side and right-hand side variables, `~`.\n",
    "\n",
    "### Factors Only\n",
    "\n",
    "The second syntax specifies only factors and uses the keyword argument `portfolios` to pass the matrix of portfolio returns.\n",
    "\n",
    "```\n",
    "formula = \"factor1 + ... + factorK\"\n",
    "LinearFactorModel.from_formula(formula, portfolios=portfolios)\n",
    "```"
   ]
  },
  {
   "cell_type": "markdown",
   "metadata": {
    "pycharm": {
     "name": "#%% md\n"
    }
   },
   "source": [
    "## Import data and transform to be excess returns\n",
    "\n",
    "The data used comes from Ken French\"s [website](http://mba.tuck.dartmouth.edu/pages/faculty/ken.french/data_library.html) and includes 4 factor returns, the excess market, the size factor, the value factor and the momentum factor.  The available test portfolios include the 12 industry portfolios, a subset of the size-value two way sort, and a subset of the size-momentum two way sort. "
   ]
  },
  {
   "cell_type": "code",
   "execution_count": 1,
   "metadata": {
    "execution": {
     "iopub.execute_input": "2023-04-12T09:49:20.527783Z",
     "iopub.status.busy": "2023-04-12T09:49:20.526255Z",
     "iopub.status.idle": "2023-04-12T09:49:21.445030Z",
     "shell.execute_reply": "2023-04-12T09:49:21.444416Z"
    },
    "pycharm": {
     "name": "#%%\n"
    }
   },
   "outputs": [
    {
     "name": "stdout",
     "output_type": "stream",
     "text": [
      "\n",
      "Data from Ken French's data library\n",
      "http://mba.tuck.dartmouth.edu/pages/faculty/ken.french/data_library.html\n",
      "\n",
      "dates    Year and Month of Return\n",
      "MktRF    Market Factor\n",
      "SMB      Size Factor\n",
      "HML      Value Factor\n",
      "Mom      Momentum Factor\n",
      "RF       Risk-free rate\n",
      "NoDur    Industry: Non-durables\n",
      "Durbl    Industry: Durables\n",
      "Manuf    Industry: Manufacturing\n",
      "Enrgy    Industry: Energy\n",
      "Chems    Industry: Chemicals\n",
      "BusEq    Industry: Business Equipment\n",
      "Telcm    Industry: Telecoms\n",
      "Utils    Industry: Utilities\n",
      "Shops    Industry: Retail\n",
      "Hlth     Industry: Health care\n",
      "Money    Industry: Finance\n",
      "Other    Industry: Other\n",
      "S1V1     Small firms, low value\n",
      "S1V3     Small firms, medium value\n",
      "S1V5     Small firms, high value\n",
      "S3V1     Size 3, value 1\n",
      "S3V3     Size 3, value 3\n",
      "S3V5     Size 3, value 5\n",
      "S5V1     Large firms, Low value\n",
      "S5V3     Large firms, medium value\n",
      "S5V5     Large Firms, High value\n",
      "S1M1     Small firms, losers\n",
      "S1M3     Small firms, neutral\n",
      "S1M5     Small firms, winners\n",
      "S3M1     Size 3, momentum 1\n",
      "S3M3     Size 3, momentum 3\n",
      "S3M5     Size 3, momentum 5\n",
      "S5M1     Large firms, losers\n",
      "S5M3     Large firms, neutral\n",
      "S5M5     Large firms, winners\n",
      "\n"
     ]
    }
   ],
   "source": [
    "from linearmodels.datasets import french\n",
    "\n",
    "data = french.load()\n",
    "print(french.DESCR)\n",
    "data.iloc[:, 6:] = data.iloc[:, 6:].values - data[[\"RF\"]].values"
   ]
  },
  {
   "cell_type": "markdown",
   "metadata": {
    "pycharm": {
     "name": "#%% md\n"
    }
   },
   "source": [
    "## First Syntax\n",
    "\n",
    "This example shows the first syntax.  The test portfolios are a combination of the industry, size-value, and size-momentum sorted portfolios.  The factors are the market, value and momentum factors.  This model is not adequate to price the assets."
   ]
  },
  {
   "cell_type": "code",
   "execution_count": 2,
   "metadata": {
    "execution": {
     "iopub.execute_input": "2023-04-12T09:49:21.449658Z",
     "iopub.status.busy": "2023-04-12T09:49:21.448514Z",
     "iopub.status.idle": "2023-04-12T09:49:21.472883Z",
     "shell.execute_reply": "2023-04-12T09:49:21.472303Z"
    },
    "pycharm": {
     "name": "#%%\n"
    }
   },
   "outputs": [
    {
     "name": "stdout",
     "output_type": "stream",
     "text": [
      "                      LinearFactorModel Estimation Summary                      \n",
      "================================================================================\n",
      "No. Test Portfolios:                  6   R-squared:                      0.7229\n",
      "No. Factors:                          3   J-statistic:                    9.9450\n",
      "No. Observations:                   819   P-value                         0.0190\n",
      "Date:                  Wed, Apr 12 2023   Distribution:                  chi2(3)\n",
      "Time:                          09:49:21                                         \n",
      "Cov. Estimator:                  kernel                                         \n",
      "                                                                                \n",
      "                            Risk Premia Estimates                             \n",
      "==============================================================================\n",
      "            Parameter  Std. Err.     T-stat    P-value    Lower CI    Upper CI\n",
      "------------------------------------------------------------------------------\n",
      "HML            0.0044     0.0016     2.6929     0.0071      0.0012      0.0075\n",
      "MktRF          0.0056     0.0016     3.4051     0.0007      0.0024      0.0088\n",
      "Mom            0.0081     0.0021     3.7457     0.0002      0.0038      0.0123\n",
      "==============================================================================\n",
      "\n",
      "Covariance estimator:\n",
      "KernelCovariance, Kernel: parzen, Bandwidth: 20.0\n",
      "See full_summary for complete results\n"
     ]
    }
   ],
   "source": [
    "from linearmodels.asset_pricing import LinearFactorModel, TradedFactorModel\n",
    "\n",
    "formula = \"NoDur + Chems + S1V1 + S5V5 + S1M1 + S5M5 ~ MktRF + HML + Mom\"\n",
    "mod = LinearFactorModel.from_formula(formula, data)\n",
    "res = mod.fit(cov_type=\"kernel\", kernel=\"parzen\", bandwidth=20)\n",
    "print(res)"
   ]
  },
  {
   "cell_type": "markdown",
   "metadata": {
    "pycharm": {
     "name": "#%% md\n"
    }
   },
   "source": [
    "## Second Syntax\n",
    "\n",
    "The second syntax contains *only* the factors and omits the test portfolios.  The test portfolios are passed as an array or `DataFrame` using a keyword input. This syntax simplifies experimenting with alternative factors when there are many test portfolios.  This model also appears to be inadequate, even allowing the risk-free rate to be a free parameter."
   ]
  },
  {
   "cell_type": "code",
   "execution_count": 3,
   "metadata": {
    "execution": {
     "iopub.execute_input": "2023-04-12T09:49:21.478038Z",
     "iopub.status.busy": "2023-04-12T09:49:21.476487Z",
     "iopub.status.idle": "2023-04-12T09:49:21.507003Z",
     "shell.execute_reply": "2023-04-12T09:49:21.506431Z"
    },
    "pycharm": {
     "name": "#%%\n"
    }
   },
   "outputs": [
    {
     "name": "stdout",
     "output_type": "stream",
     "text": [
      "                      LinearFactorModel Estimation Summary                      \n",
      "================================================================================\n",
      "No. Test Portfolios:                 18   R-squared:                      0.7723\n",
      "No. Factors:                          3   J-statistic:                    86.346\n",
      "No. Observations:                   819   P-value                         0.0000\n",
      "Date:                  Wed, Apr 12 2023   Distribution:                 chi2(14)\n",
      "Time:                          09:49:21                                         \n",
      "Cov. Estimator:                  robust                                         \n",
      "                                                                                \n",
      "                            Risk Premia Estimates                             \n",
      "==============================================================================\n",
      "            Parameter  Std. Err.     T-stat    P-value    Lower CI    Upper CI\n",
      "------------------------------------------------------------------------------\n",
      "risk_free      0.0024     0.0040     0.5940     0.5525     -0.0055      0.0103\n",
      "HML            0.0042     0.0010     4.0918     0.0000      0.0022      0.0063\n",
      "MktRF          0.0050     0.0044     1.1337     0.2569     -0.0036      0.0136\n",
      "Mom            0.0081     0.0014     5.7058     0.0000      0.0053      0.0109\n",
      "==============================================================================\n",
      "\n",
      "Covariance estimator:\n",
      "HeteroskedasticCovariance\n",
      "See full_summary for complete results\n"
     ]
    }
   ],
   "source": [
    "ports = [\"S{0}V{1}\".format(i, j) for i in (1, 3, 5) for j in (1, 3, 5)]\n",
    "ports += [\"S{0}M{1}\".format(i, j) for i in (1, 3, 5) for j in (1, 3, 5)]\n",
    "portfolios = data[ports]\n",
    "formula = \"MktRF + HML + Mom\"\n",
    "mod = LinearFactorModel.from_formula(\n",
    "    formula, data, portfolios=portfolios, risk_free=True\n",
    ")\n",
    "res = mod.fit()\n",
    "print(res)"
   ]
  },
  {
   "cell_type": "markdown",
   "metadata": {
    "pycharm": {
     "name": "#%% md\n"
    }
   },
   "source": [
    "## Comparing results\n",
    "\n",
    "To verify the results, the model is estimated using the standard interface.  The J-statistic and $R^2$ are identical. "
   ]
  },
  {
   "cell_type": "code",
   "execution_count": 4,
   "metadata": {
    "execution": {
     "iopub.execute_input": "2023-04-12T09:49:21.511317Z",
     "iopub.status.busy": "2023-04-12T09:49:21.510189Z",
     "iopub.status.idle": "2023-04-12T09:49:21.567822Z",
     "shell.execute_reply": "2023-04-12T09:49:21.567130Z"
    },
    "pycharm": {
     "name": "#%%\n"
    }
   },
   "outputs": [
    {
     "name": "stdout",
     "output_type": "stream",
     "text": [
      "                      LinearFactorModel Estimation Summary                      \n",
      "================================================================================\n",
      "No. Test Portfolios:                 18   R-squared:                      0.7723\n",
      "No. Factors:                          3   J-statistic:                    86.403\n",
      "No. Observations:                   819   P-value                         0.0000\n",
      "Date:                  Wed, Apr 12 2023   Distribution:                 chi2(14)\n",
      "Time:                          09:49:21                                         \n",
      "Cov. Estimator:                  robust                                         \n",
      "                                                                                \n",
      "                            Risk Premia Estimates                             \n",
      "==============================================================================\n",
      "            Parameter  Std. Err.     T-stat    P-value    Lower CI    Upper CI\n",
      "------------------------------------------------------------------------------\n",
      "risk_free      0.0024     0.0040     0.5940     0.5525     -0.0055      0.0103\n",
      "MktRF          0.0050     0.0044     1.1337     0.2569     -0.0036      0.0136\n",
      "HML            0.0042     0.0010     4.0918     0.0000      0.0022      0.0063\n",
      "Mom            0.0081     0.0014     5.7058     0.0000      0.0053      0.0109\n",
      "==============================================================================\n",
      "\n",
      "Covariance estimator:\n",
      "HeteroskedasticCovariance\n",
      "See full_summary for complete results\n"
     ]
    }
   ],
   "source": [
    "portfolios = data[ports]\n",
    "factors = data[[\"MktRF\", \"HML\", \"Mom\"]]\n",
    "mod = LinearFactorModel(portfolios, factors, risk_free=True)\n",
    "print(mod.fit())"
   ]
  }
 ],
 "metadata": {
  "kernelspec": {
   "display_name": "Python 3 (ipykernel)",
   "language": "python",
   "name": "python3"
  },
  "language_info": {
   "codemirror_mode": {
    "name": "ipython",
    "version": 3
   },
   "file_extension": ".py",
   "mimetype": "text/x-python",
   "name": "python",
   "nbconvert_exporter": "python",
   "pygments_lexer": "ipython3",
   "version": "3.8.16"
  },
  "pycharm": {
   "stem_cell": {
    "cell_type": "raw",
    "metadata": {
     "collapsed": false
    },
    "source": []
   }
  }
 },
 "nbformat": 4,
 "nbformat_minor": 4
}

{
 "cells": [
  {
   "cell_type": "markdown",
   "metadata": {
    "pycharm": {
     "name": "#%% md\n"
    }
   },
   "source": [
    "# Using formulas to specify models"
   ]
  },
  {
   "cell_type": "markdown",
   "metadata": {
    "pycharm": {
     "name": "#%% md\n"
    }
   },
   "source": [
    "## Basic Usage\n",
    "\n",
    "Formulas provide an alternative method to specify a model.  The formulas used here utilize [formulaic](https://github.com/matthewwardrop/formulaic/) ([documentation](https://matthewwardrop.github.io/formulaic/)) are similar to those in [statsmodels](http://www.statsmodels.org), although they use an enhanced syntax to allow identification of endogenous regressors.  The basis formula syntax for a single variable regression would be\n",
    "\n",
    "```\n",
    "y ~ 1 + x\n",
    "```\n",
    "\n",
    "where the `1` indicates that a constant should be included and `x` is the regressor.  In the context of an instrumental variables model, it is necessary to mark variables as endogenous and to provide a list of instruments that are included only in the model for the endogenous variables.  In a basic single regressor model, this would be specified using `[]` to surround an inner model.\n",
    "\n",
    "```\n",
    "y ~ 1 + [x ~ z]\n",
    "```\n",
    "\n",
    "In this expression, `x` is now marked as endogenous and `z` is an instrument.  Any exogenous variable will automatically be used when instrumenting `x` so there is no need to repeat these here (in this example, the \"first stage\" would include a constant and z).\n",
    "\n",
    "## Multiple Endogenous Variables\n",
    "Multiple endogenous variables are specified in a similar manner.  The basic concept is that any model can be expressed as \n",
    "```\n",
    "dep ~ exog + [ endog ~ instruments]\n",
    "```\n",
    "\n",
    "and it must be the case that \n",
    "\n",
    "```\n",
    "dep ~ exog + endog\n",
    "```\n",
    "and\n",
    "```\n",
    "dep ~ exog + instruments\n",
    "```\n",
    "\n",
    "are valid formulaic formulas. This means that multiple endogenous regressors or instruments should be joined with `+`, but that the first endogenous or first instrument should not have a leading `+`.  A simple example with 2 endogenous variables and 3 instruments would be\n",
    "\n",
    "```\n",
    "y ~ 1 + x1 + x2 + x3  + [ x4 + x5 ~ z1 + z2 + z3]\n",
    "```\n",
    "\n",
    "In this example, the \"submodels\" `y ~ 1 + x1 + x2 +x3 + x4 + x5` and `y ~ 1 + x1 + x2 + x3 + z1 + z2 +z3` are both valid formulaic expressions.\n",
    "\n",
    "## Standard formulaic\n",
    "Aside from this change, the standard rules of formulaic apply, and so it is possible to use mathematical expression or other formulaic-specific features. See the [formulaic quickstart](https://matthewwardrop.github.io/formulaic/guides/quickstart/) for some examples of what is possible."
   ]
  },
  {
   "cell_type": "markdown",
   "metadata": {
    "pycharm": {
     "name": "#%% md\n"
    }
   },
   "source": [
    "## MEPS data\n",
    "\n",
    "This example shows the use of formulas to estimate both IV and OLS models using the [medical expenditure panel survey](https://meps.ahrq.gov). The model measures the effect of various characteristics on the log of drug expenditure and instruments the variable that measures where a subject was insured through a union with their social security to income ratio.\n",
    "\n",
    "This first block imports the data and numpy."
   ]
  },
  {
   "cell_type": "code",
   "execution_count": 1,
   "metadata": {
    "collapsed": true,
    "execution": {
     "iopub.execute_input": "2022-10-16T22:14:36.134245Z",
     "iopub.status.busy": "2022-10-16T22:14:36.133831Z",
     "iopub.status.idle": "2022-10-16T22:14:36.832237Z",
     "shell.execute_reply": "2022-10-16T22:14:36.831038Z"
    },
    "jupyter": {
     "outputs_hidden": true
    },
    "pycharm": {
     "name": "#%%\n"
    }
   },
   "outputs": [
    {
     "name": "stdout",
     "output_type": "stream",
     "text": [
      "\n",
      "age               Age\n",
      "age2              Age-squared\n",
      "black             Black\n",
      "blhisp            Black or Hispanic\n",
      "drugexp           Presc-drugs expense\n",
      "educyr            Years of education\n",
      "fair              Fair health\n",
      "female            Female\n",
      "firmsz            Firm size\n",
      "fph               fair or poor health\n",
      "good              Good health\n",
      "hi_empunion       Insured thro emp/union\n",
      "hisp              Hiapanic\n",
      "income            Income\n",
      "ldrugexp          log(drugexp)\n",
      "linc              log(income)\n",
      "lowincome         Low income\n",
      "marry             Married\n",
      "midincome         Middle income\n",
      "msa               Metropolitan stat area\n",
      "multlc            Multiple locations\n",
      "poor              Poor health\n",
      "poverty           Poor\n",
      "priolist          Priority list cond\n",
      "private           Private insurance\n",
      "ssiratio          SSI/Income ratio\n",
      "totchr            Total chronic cond\n",
      "vegood            V-good health\n",
      "vgh               vg or good health\n",
      "\n"
     ]
    }
   ],
   "source": [
    "import numpy as np\n",
    "from linearmodels.datasets import meps\n",
    "from linearmodels.iv import IV2SLS\n",
    "\n",
    "data = meps.load()\n",
    "data = data.dropna()\n",
    "print(meps.DESCR)"
   ]
  },
  {
   "cell_type": "markdown",
   "metadata": {
    "pycharm": {
     "name": "#%% md\n"
    }
   },
   "source": [
    "### Estimating a model with a formula\n",
    "\n",
    "This model uses a formula which is input using the `from_formula` interface. Unlike direct initialization, this interface takes the formula and a DataFrame containing the data necessary to evaluate the formula."
   ]
  },
  {
   "cell_type": "code",
   "execution_count": 2,
   "metadata": {
    "collapsed": true,
    "execution": {
     "iopub.execute_input": "2022-10-16T22:14:36.836333Z",
     "iopub.status.busy": "2022-10-16T22:14:36.835816Z",
     "iopub.status.idle": "2022-10-16T22:14:36.861428Z",
     "shell.execute_reply": "2022-10-16T22:14:36.860823Z"
    },
    "jupyter": {
     "outputs_hidden": true
    },
    "pycharm": {
     "name": "#%%\n"
    }
   },
   "outputs": [],
   "source": [
    "formula = (\n",
    "    \"ldrugexp ~ 1 + totchr + female + age + linc + blhisp + [hi_empunion ~ ssiratio]\"\n",
    ")\n",
    "mod = IV2SLS.from_formula(formula, data)"
   ]
  },
  {
   "cell_type": "code",
   "execution_count": 3,
   "metadata": {
    "collapsed": true,
    "execution": {
     "iopub.execute_input": "2022-10-16T22:14:36.864164Z",
     "iopub.status.busy": "2022-10-16T22:14:36.863944Z",
     "iopub.status.idle": "2022-10-16T22:14:36.887556Z",
     "shell.execute_reply": "2022-10-16T22:14:36.886914Z"
    },
    "jupyter": {
     "outputs_hidden": true
    },
    "pycharm": {
     "name": "#%%\n"
    }
   },
   "outputs": [
    {
     "name": "stdout",
     "output_type": "stream",
     "text": [
      "                          IV-2SLS Estimation Summary                          \n",
      "==============================================================================\n",
      "Dep. Variable:               ldrugexp   R-squared:                      0.0640\n",
      "Estimator:                    IV-2SLS   Adj. R-squared:                 0.0634\n",
      "No. Observations:               10089   F-statistic:                    2000.9\n",
      "Date:                Sun, Oct 16 2022   P-value (F-stat)                0.0000\n",
      "Time:                        22:14:36   Distribution:                  chi2(6)\n",
      "Cov. Estimator:                robust                                         \n",
      "                                                                              \n",
      "                              Parameter Estimates                              \n",
      "===============================================================================\n",
      "             Parameter  Std. Err.     T-stat    P-value    Lower CI    Upper CI\n",
      "-------------------------------------------------------------------------------\n",
      "Intercept       6.7872     0.2688     25.246     0.0000      6.2602      7.3141\n",
      "age            -0.0132     0.0030    -4.4092     0.0000     -0.0191     -0.0073\n",
      "blhisp         -0.2174     0.0395    -5.5052     0.0000     -0.2948     -0.1400\n",
      "female         -0.0204     0.0326    -0.6257     0.5315     -0.0843      0.0435\n",
      "linc            0.0870     0.0226     3.8436     0.0001      0.0426      0.1314\n",
      "totchr          0.4503     0.0102     44.157     0.0000      0.4303      0.4703\n",
      "hi_empunion    -0.8976     0.2211    -4.0592     0.0000     -1.3310     -0.4642\n",
      "===============================================================================\n",
      "\n",
      "Endogenous: hi_empunion\n",
      "Instruments: ssiratio\n",
      "Robust Covariance (Heteroskedastic)\n",
      "Debiased: False\n"
     ]
    }
   ],
   "source": [
    "iv_res = mod.fit(cov_type=\"robust\")\n",
    "print(iv_res)"
   ]
  },
  {
   "cell_type": "markdown",
   "metadata": {
    "pycharm": {
     "name": "#%% md\n"
    }
   },
   "source": [
    "### Mathematical expression in formulas\n",
    "\n",
    "Standard formulaic syntax, such as using mathematical expressions, can be readily used."
   ]
  },
  {
   "cell_type": "code",
   "execution_count": 4,
   "metadata": {
    "collapsed": true,
    "execution": {
     "iopub.execute_input": "2022-10-16T22:14:36.891055Z",
     "iopub.status.busy": "2022-10-16T22:14:36.890718Z",
     "iopub.status.idle": "2022-10-16T22:14:36.927133Z",
     "shell.execute_reply": "2022-10-16T22:14:36.926529Z"
    },
    "jupyter": {
     "outputs_hidden": true
    },
    "pycharm": {
     "name": "#%%\n"
    }
   },
   "outputs": [],
   "source": [
    "formula = (\n",
    "    \"np.log(drugexp) ~ 1 + totchr + age + linc + blhisp + [hi_empunion ~ ssiratio]\"\n",
    ")\n",
    "mod = IV2SLS.from_formula(formula, data)\n",
    "iv_res2 = mod.fit(cov_type=\"robust\")"
   ]
  },
  {
   "cell_type": "markdown",
   "metadata": {
    "pycharm": {
     "name": "#%% md\n"
    }
   },
   "source": [
    "### OLS\n",
    "\n",
    "Omitting the block that marks a variable as endogenous will produce OLS -- just like using `None` for both `endog` and `instruments`."
   ]
  },
  {
   "cell_type": "code",
   "execution_count": 5,
   "metadata": {
    "collapsed": true,
    "execution": {
     "iopub.execute_input": "2022-10-16T22:14:36.931205Z",
     "iopub.status.busy": "2022-10-16T22:14:36.930850Z",
     "iopub.status.idle": "2022-10-16T22:14:36.979002Z",
     "shell.execute_reply": "2022-10-16T22:14:36.978467Z"
    },
    "jupyter": {
     "outputs_hidden": true
    },
    "pycharm": {
     "name": "#%%\n"
    }
   },
   "outputs": [
    {
     "name": "stdout",
     "output_type": "stream",
     "text": [
      "                            OLS Estimation Summary                            \n",
      "==============================================================================\n",
      "Dep. Variable:               ldrugexp   R-squared:                      0.1770\n",
      "Estimator:                        OLS   Adj. R-squared:                 0.1765\n",
      "No. Observations:               10089   F-statistic:                    2262.6\n",
      "Date:                Sun, Oct 16 2022   P-value (F-stat)                0.0000\n",
      "Time:                        22:14:36   Distribution:                  chi2(6)\n",
      "Cov. Estimator:                robust                                         \n",
      "                                                                              \n",
      "                              Parameter Estimates                              \n",
      "===============================================================================\n",
      "             Parameter  Std. Err.     T-stat    P-value    Lower CI    Upper CI\n",
      "-------------------------------------------------------------------------------\n",
      "Intercept       5.8611     0.1570     37.320     0.0000      5.5533      6.1689\n",
      "age            -0.0035     0.0019    -1.8228     0.0683     -0.0073      0.0003\n",
      "blhisp         -0.1513     0.0341    -4.4353     0.0000     -0.2182     -0.0844\n",
      "female          0.0578     0.0254     2.2797     0.0226      0.0081      0.1075\n",
      "hi_empunion     0.0739     0.0260     2.8441     0.0045      0.0230      0.1248\n",
      "linc            0.0105     0.0137     0.7646     0.4445     -0.0164      0.0373\n",
      "totchr          0.4404     0.0094     47.049     0.0000      0.4220      0.4587\n",
      "===============================================================================\n"
     ]
    }
   ],
   "source": [
    "formula = \"ldrugexp ~ 1 + totchr + female + age + linc + blhisp + hi_empunion\"\n",
    "ols = IV2SLS.from_formula(formula, data)\n",
    "ols_res = ols.fit(cov_type=\"robust\")\n",
    "print(ols_res)"
   ]
  },
  {
   "cell_type": "markdown",
   "metadata": {
    "pycharm": {
     "name": "#%% md\n"
    }
   },
   "source": [
    "### Comparing results\n",
    "\n",
    "The function `compare` can be used to compare the result of multiple models.  Here dropping `female` from the IV regression improves the $R^2$."
   ]
  },
  {
   "cell_type": "code",
   "execution_count": 6,
   "metadata": {
    "collapsed": true,
    "execution": {
     "iopub.execute_input": "2022-10-16T22:14:36.983060Z",
     "iopub.status.busy": "2022-10-16T22:14:36.981740Z",
     "iopub.status.idle": "2022-10-16T22:14:37.002276Z",
     "shell.execute_reply": "2022-10-16T22:14:37.001717Z"
    },
    "jupyter": {
     "outputs_hidden": true
    },
    "pycharm": {
     "name": "#%%\n"
    }
   },
   "outputs": [
    {
     "name": "stdout",
     "output_type": "stream",
     "text": [
      "                          Model Comparison                          \n",
      "====================================================================\n",
      "                                IV           OLS          IV-formula\n",
      "--------------------------------------------------------------------\n",
      "Dep. Variable             ldrugexp      ldrugexp     np.log(drugexp)\n",
      "Estimator                  IV-2SLS           OLS             IV-2SLS\n",
      "No. Observations             10089         10089               10089\n",
      "Cov. Est.                   robust        robust              robust\n",
      "R-squared                   0.0640        0.1770              0.0659\n",
      "Adj. R-squared              0.0634        0.1765              0.0654\n",
      "F-statistic                 2000.9        2262.6              2004.3\n",
      "P-value (F-stat)            0.0000        0.0000              0.0000\n",
      "==================     ===========   ===========   =================\n",
      "Intercept                   6.7872        5.8611              6.7709\n",
      "                          (25.246)      (37.320)            (26.353)\n",
      "age                        -0.0132       -0.0035             -0.0132\n",
      "                         (-4.4092)     (-1.8228)           (-4.4237)\n",
      "blhisp                     -0.2174       -0.1513             -0.2168\n",
      "                         (-5.5052)     (-4.4353)           (-5.5252)\n",
      "female                     -0.0204        0.0578                    \n",
      "                         (-0.6257)      (2.2797)                    \n",
      "linc                        0.0870        0.0105              0.0873\n",
      "                          (3.8436)      (0.7646)            (3.8348)\n",
      "totchr                      0.4503        0.4404              0.4498\n",
      "                          (44.157)      (47.049)            (44.453)\n",
      "hi_empunion                -0.8976        0.0739             -0.8892\n",
      "                         (-4.0592)      (2.8441)           (-4.1653)\n",
      "==================== ============= ============= ===================\n",
      "Instruments               ssiratio                          ssiratio\n",
      "--------------------------------------------------------------------\n",
      "\n",
      "T-stats reported in parentheses\n"
     ]
    }
   ],
   "source": [
    "from linearmodels.iv import compare\n",
    "\n",
    "print(compare({\"IV\": iv_res, \"OLS\": ols_res, \"IV-formula\": iv_res2}))"
   ]
  }
 ],
 "metadata": {
  "kernelspec": {
   "display_name": "Python 3 (ipykernel)",
   "language": "python",
   "name": "python3"
  },
  "language_info": {
   "codemirror_mode": {
    "name": "ipython",
    "version": 3
   },
   "file_extension": ".py",
   "mimetype": "text/x-python",
   "name": "python",
   "nbconvert_exporter": "python",
   "pygments_lexer": "ipython3",
   "version": "3.8.14"
  },
  "pycharm": {
   "stem_cell": {
    "cell_type": "raw",
    "metadata": {
     "collapsed": false
    },
    "source": []
   }
  }
 },
 "nbformat": 4,
 "nbformat_minor": 4
}

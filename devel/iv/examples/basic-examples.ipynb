{
 "cells": [
  {
   "cell_type": "markdown",
   "metadata": {
    "pycharm": {
     "name": "#%% md\n"
    }
   },
   "source": [
    "# Basic Examples"
   ]
  },
  {
   "cell_type": "markdown",
   "metadata": {
    "pycharm": {
     "name": "#%% md\n"
    }
   },
   "source": [
    "These examples are based on **Chapter 15** of _Introduction to Econometrics_ by Jeffrey Wooldridge and demonstrate the basic use of the IV estimators (primarily IV2SLS -- the two-stage least squares estimator)"
   ]
  },
  {
   "cell_type": "markdown",
   "metadata": {
    "pycharm": {
     "name": "#%% md\n"
    }
   },
   "source": [
    "### Wages of Married Women\n",
    "\n",
    "This first example examines the effect of education on the wages of women.  Education is a classic endogenous variable since it has signaling value beyond the actual direct effect (among other reasons).\n",
    "\n",
    "This first block imports the data and uses the `DESCR` attribute to describe the dataset.  `add_constant` from statsmodels is used to add a variable named `const` to the DataFrame.  Observations with missing values are dropped."
   ]
  },
  {
   "cell_type": "code",
   "execution_count": 1,
   "metadata": {
    "execution": {
     "iopub.execute_input": "2022-10-16T21:37:34.129008Z",
     "iopub.status.busy": "2022-10-16T21:37:34.128418Z",
     "iopub.status.idle": "2022-10-16T21:37:35.064931Z",
     "shell.execute_reply": "2022-10-16T21:37:35.063146Z"
    },
    "pycharm": {
     "name": "#%%\n"
    }
   },
   "outputs": [
    {
     "name": "stdout",
     "output_type": "stream",
     "text": [
      "\n",
      "T.A. Mroz (1987), \"The Sensitivity of an Empirical Model of Married Women's\n",
      "Hours of Work to Economic and Statistical Assumptions,\" Econometrica 55,\n",
      "765-799.\n",
      "\n",
      "nlf        1 if in labor force, 1975\n",
      "hours      hours worked, 1975\n",
      "kidslt6    # kids < 6 years\n",
      "kidsge6    # kids 6-18\n",
      "age        woman's age in yrs\n",
      "educ       years of schooling\n",
      "wage       estimated wage from earns., hours\n",
      "repwage    reported wage at interview in 1976\n",
      "hushrs     hours worked by husband, 1975\n",
      "husage     husband's age\n",
      "huseduc    husband's years of schooling\n",
      "huswage    husband's hourly wage, 1975\n",
      "faminc     family income, 1975\n",
      "mtr        fed. marginal tax rate facing woman\n",
      "motheduc   mother's years of schooling\n",
      "fatheduc   father's years of schooling\n",
      "unem       unem. rate in county of resid.\n",
      "city       =1 if live in SMSA\n",
      "exper      actual labor mkt exper\n",
      "nwifeinc   (faminc - wage*hours)/1000\n",
      "lwage      log(wage)\n",
      "expersq    exper^2\n",
      "\n"
     ]
    }
   ],
   "source": [
    "import numpy as np\n",
    "from linearmodels.datasets import mroz\n",
    "from statsmodels.api import add_constant\n",
    "\n",
    "print(mroz.DESCR)\n",
    "data = mroz.load()\n",
    "data = data.dropna()\n",
    "data = add_constant(data, has_constant=\"add\")"
   ]
  },
  {
   "cell_type": "markdown",
   "metadata": {
    "pycharm": {
     "name": "#%% md\n"
    }
   },
   "source": [
    "Since OLS is a special case of 2SLS, IV2SLS can be used to estimate a model using OLS by setting `endog` and `instruments` variables to `None`.\n",
    "\n",
    "This first regression uses OLS to estimate the effect of education on the log of wage. It indicates that 1 year of education increases wage by 10%.  "
   ]
  },
  {
   "cell_type": "code",
   "execution_count": 2,
   "metadata": {
    "execution": {
     "iopub.execute_input": "2022-10-16T21:37:35.068997Z",
     "iopub.status.busy": "2022-10-16T21:37:35.068742Z",
     "iopub.status.idle": "2022-10-16T21:37:35.090190Z",
     "shell.execute_reply": "2022-10-16T21:37:35.089368Z"
    },
    "pycharm": {
     "name": "#%%\n"
    },
    "scrolled": true
   },
   "outputs": [
    {
     "name": "stdout",
     "output_type": "stream",
     "text": [
      "                            OLS Estimation Summary                            \n",
      "==============================================================================\n",
      "Dep. Variable:                   wage   R-squared:                      0.1179\n",
      "Estimator:                        OLS   Adj. R-squared:                 0.1158\n",
      "No. Observations:                 428   F-statistic:                    57.196\n",
      "Date:                Sun, Oct 16 2022   P-value (F-stat)                0.0000\n",
      "Time:                        21:37:35   Distribution:                  chi2(1)\n",
      "Cov. Estimator:            unadjusted                                         \n",
      "                                                                              \n",
      "                             Parameter Estimates                              \n",
      "==============================================================================\n",
      "            Parameter  Std. Err.     T-stat    P-value    Lower CI    Upper CI\n",
      "------------------------------------------------------------------------------\n",
      "const         -0.1852     0.1848    -1.0022     0.3163     -0.5474      0.1770\n",
      "educ           0.1086     0.0144     7.5628     0.0000      0.0805      0.1368\n",
      "==============================================================================\n"
     ]
    }
   ],
   "source": [
    "from linearmodels.iv import IV2SLS\n",
    "\n",
    "res_ols = IV2SLS(np.log(data.wage), data[[\"const\", \"educ\"]], None, None).fit(\n",
    "    cov_type=\"unadjusted\"\n",
    ")\n",
    "print(res_ols)"
   ]
  },
  {
   "cell_type": "markdown",
   "metadata": {
    "pycharm": {
     "name": "#%% md\n"
    }
   },
   "source": [
    "Two-stage least squares is estimated \"as-if\" two regressions are run.  Here the first stage regression where OLS is used to fit the value on the instrument (in this case the education of the subject\"s father). The fitted value is saved for use later.\n",
    "\n",
    "This first stage regression indicates that there is a strong relationship and the first stage easily passes the rule of thumb test where the F-statistic is at least 10."
   ]
  },
  {
   "cell_type": "code",
   "execution_count": 3,
   "metadata": {
    "execution": {
     "iopub.execute_input": "2022-10-16T21:37:35.093993Z",
     "iopub.status.busy": "2022-10-16T21:37:35.093730Z",
     "iopub.status.idle": "2022-10-16T21:37:35.122532Z",
     "shell.execute_reply": "2022-10-16T21:37:35.121693Z"
    },
    "pycharm": {
     "name": "#%%\n"
    }
   },
   "outputs": [
    {
     "name": "stdout",
     "output_type": "stream",
     "text": [
      "                            OLS Estimation Summary                            \n",
      "==============================================================================\n",
      "Dep. Variable:                   educ   R-squared:                      0.1726\n",
      "Estimator:                        OLS   Adj. R-squared:                 0.1706\n",
      "No. Observations:                 428   F-statistic:                    89.258\n",
      "Date:                Sun, Oct 16 2022   P-value (F-stat)                0.0000\n",
      "Time:                        21:37:35   Distribution:                  chi2(1)\n",
      "Cov. Estimator:            unadjusted                                         \n",
      "                                                                              \n",
      "                             Parameter Estimates                              \n",
      "==============================================================================\n",
      "            Parameter  Std. Err.     T-stat    P-value    Lower CI    Upper CI\n",
      "------------------------------------------------------------------------------\n",
      "const          10.237     0.2753     37.186     0.0000      9.6975      10.777\n",
      "fatheduc       0.2694     0.0285     9.4476     0.0000      0.2135      0.3253\n",
      "==============================================================================\n"
     ]
    }
   ],
   "source": [
    "res_first = IV2SLS(data.educ, data[[\"const\", \"fatheduc\"]], None, None).fit(\n",
    "    cov_type=\"unadjusted\"\n",
    ")\n",
    "print(res_first)\n",
    "data[\"educ_hat\"] = data.educ - res_first.resids"
   ]
  },
  {
   "cell_type": "markdown",
   "metadata": {
    "pycharm": {
     "name": "#%% md\n"
    }
   },
   "source": [
    "The second stage uses the instrument to fit the model.  This model indicates a much lower effect of education. "
   ]
  },
  {
   "cell_type": "code",
   "execution_count": 4,
   "metadata": {
    "execution": {
     "iopub.execute_input": "2022-10-16T21:37:35.128029Z",
     "iopub.status.busy": "2022-10-16T21:37:35.126398Z",
     "iopub.status.idle": "2022-10-16T21:37:35.148449Z",
     "shell.execute_reply": "2022-10-16T21:37:35.147776Z"
    },
    "pycharm": {
     "name": "#%%\n"
    }
   },
   "outputs": [
    {
     "name": "stdout",
     "output_type": "stream",
     "text": [
      "                          IV-2SLS Estimation Summary                          \n",
      "==============================================================================\n",
      "Dep. Variable:                   wage   R-squared:                      0.0934\n",
      "Estimator:                    IV-2SLS   Adj. R-squared:                 0.0913\n",
      "No. Observations:                 428   F-statistic:                    2.8487\n",
      "Date:                Sun, Oct 16 2022   P-value (F-stat)                0.0914\n",
      "Time:                        21:37:35   Distribution:                  chi2(1)\n",
      "Cov. Estimator:            unadjusted                                         \n",
      "                                                                              \n",
      "                             Parameter Estimates                              \n",
      "==============================================================================\n",
      "            Parameter  Std. Err.     T-stat    P-value    Lower CI    Upper CI\n",
      "------------------------------------------------------------------------------\n",
      "const          0.4411     0.4451     0.9911     0.3216     -0.4312      1.3134\n",
      "educ           0.0592     0.0351     1.6878     0.0914     -0.0095      0.1279\n",
      "==============================================================================\n",
      "\n",
      "Endogenous: educ\n",
      "Instruments: fatheduc\n",
      "Unadjusted Covariance (Homoskedastic)\n",
      "Debiased: False\n"
     ]
    }
   ],
   "source": [
    "res_second = IV2SLS(np.log(data.wage), data[[\"const\"]], data.educ, data.fatheduc).fit(\n",
    "    cov_type=\"unadjusted\"\n",
    ")\n",
    "print(res_second)"
   ]
  },
  {
   "cell_type": "markdown",
   "metadata": {
    "pycharm": {
     "name": "#%% md\n"
    }
   },
   "source": [
    "The fitted value can be used with OLS to estimate the same parameters.  Note that the other values reported such as t-statistics or $R^2$ are not correct.\n",
    "\n",
    "The `compare` function is used to compare the different models. The 2SLS coefficient on education and the direct coefficient on educ_hat are identical."
   ]
  },
  {
   "cell_type": "code",
   "execution_count": 5,
   "metadata": {
    "execution": {
     "iopub.execute_input": "2022-10-16T21:37:35.153580Z",
     "iopub.status.busy": "2022-10-16T21:37:35.152076Z",
     "iopub.status.idle": "2022-10-16T21:37:35.185362Z",
     "shell.execute_reply": "2022-10-16T21:37:35.184677Z"
    },
    "pycharm": {
     "name": "#%%\n"
    }
   },
   "outputs": [
    {
     "name": "stdout",
     "output_type": "stream",
     "text": [
      "                         Model Comparison                        \n",
      "=================================================================\n",
      "                                OLS           2SLS         Direct\n",
      "-----------------------------------------------------------------\n",
      "Dep. Variable                  wage           wage           wage\n",
      "Estimator                       OLS        IV-2SLS            OLS\n",
      "No. Observations                428            428            428\n",
      "Cov. Est.                unadjusted     unadjusted     unadjusted\n",
      "R-squared                    0.1179         0.0934         0.0060\n",
      "Adj. R-squared               0.1158         0.0913         0.0037\n",
      "F-statistic                  57.196         2.8487         2.5982\n",
      "P-value (F-stat)          3.941e-14         0.0914         0.1070\n",
      "==================     ============   ============   ============\n",
      "const                       -0.1852         0.4411         0.4411\n",
      "                          (-1.0022)       (0.9911)       (0.9465)\n",
      "educ                         0.1086         0.0592               \n",
      "                           (7.5628)       (1.6878)               \n",
      "educ_hat                                                   0.0592\n",
      "                                                         (1.6119)\n",
      "==================== ============== ============== ==============\n",
      "Instruments                               fatheduc               \n",
      "-----------------------------------------------------------------\n",
      "\n",
      "T-stats reported in parentheses\n"
     ]
    }
   ],
   "source": [
    "from linearmodels.iv import compare\n",
    "\n",
    "res_direct = IV2SLS(np.log(data.wage), data[[\"const\", \"educ_hat\"]], None, None).fit(\n",
    "    cov_type=\"unadjusted\"\n",
    ")\n",
    "print(compare({\"OLS\": res_ols, \"2SLS\": res_second, \"Direct\": res_direct}))"
   ]
  },
  {
   "cell_type": "markdown",
   "metadata": {
    "pycharm": {
     "name": "#%% md\n"
    }
   },
   "source": [
    "### Wages of Men\n",
    "This next example examines the returns to education for men and uses the number of siblings as an instrument."
   ]
  },
  {
   "cell_type": "code",
   "execution_count": 6,
   "metadata": {
    "execution": {
     "iopub.execute_input": "2022-10-16T21:37:35.190119Z",
     "iopub.status.busy": "2022-10-16T21:37:35.189681Z",
     "iopub.status.idle": "2022-10-16T21:37:35.206116Z",
     "shell.execute_reply": "2022-10-16T21:37:35.205438Z"
    },
    "pycharm": {
     "name": "#%%\n"
    }
   },
   "outputs": [
    {
     "name": "stdout",
     "output_type": "stream",
     "text": [
      "\n",
      "M. Blackburn and D. Neumark (1992), \"Unobserved Ability, Efficiency Wages, and\n",
      "Interindustry Wage Differentials,\" Quarterly Journal of Economics 107, 1421-1436.\n",
      "\n",
      "wage                     monthly earnings\n",
      "hours                    average weekly hours\n",
      "IQ                       IQ score\n",
      "KWW                      knowledge of world work score\n",
      "educ                     years of education\n",
      "exper                    years of work experience\n",
      "tenure                   years with current employer\n",
      "age                      age in years\n",
      "married                  =1 if married\n",
      "black                    =1 if black\n",
      "south                    =1 if live in south\n",
      "urban                    =1 if live in SMSA\n",
      "sibs                     number of siblings\n",
      "brthord                  birth order\n",
      "meduc                    mother's education\n",
      "feduc                    father's education\n",
      "lwage                    natural log of wage\n",
      "\n"
     ]
    }
   ],
   "source": [
    "from linearmodels.datasets import wage\n",
    "\n",
    "men = wage.load()\n",
    "print(wage.DESCR)\n",
    "men = men[[\"educ\", \"wage\", \"sibs\", \"exper\"]]\n",
    "men = add_constant(men)\n",
    "men = men.dropna()"
   ]
  },
  {
   "cell_type": "markdown",
   "metadata": {
    "pycharm": {
     "name": "#%% md\n"
    }
   },
   "source": [
    "OLS estimates indicate a small effect of education for men in this sample."
   ]
  },
  {
   "cell_type": "code",
   "execution_count": 7,
   "metadata": {
    "execution": {
     "iopub.execute_input": "2022-10-16T21:37:35.210006Z",
     "iopub.status.busy": "2022-10-16T21:37:35.209644Z",
     "iopub.status.idle": "2022-10-16T21:37:35.232157Z",
     "shell.execute_reply": "2022-10-16T21:37:35.231443Z"
    },
    "pycharm": {
     "name": "#%%\n"
    }
   },
   "outputs": [
    {
     "name": "stdout",
     "output_type": "stream",
     "text": [
      "                            OLS Estimation Summary                            \n",
      "==============================================================================\n",
      "Dep. Variable:                   wage   R-squared:                      0.0973\n",
      "Estimator:                        OLS   Adj. R-squared:                 0.0964\n",
      "No. Observations:                 934   F-statistic:                    100.71\n",
      "Date:                Sun, Oct 16 2022   P-value (F-stat)                0.0000\n",
      "Time:                        21:37:35   Distribution:                  chi2(1)\n",
      "Cov. Estimator:            unadjusted                                         \n",
      "                                                                              \n",
      "                             Parameter Estimates                              \n",
      "==============================================================================\n",
      "            Parameter  Std. Err.     T-stat    P-value    Lower CI    Upper CI\n",
      "------------------------------------------------------------------------------\n",
      "const          5.9733     0.0814     73.419     0.0000      5.8139      6.1328\n",
      "educ           0.0598     0.0060     10.035     0.0000      0.0481      0.0715\n",
      "==============================================================================\n"
     ]
    }
   ],
   "source": [
    "res_ols = IV2SLS(np.log(men.wage), men[[\"const\", \"educ\"]], None, None).fit(\n",
    "    cov_type=\"unadjusted\"\n",
    ")\n",
    "print(res_ols)"
   ]
  },
  {
   "cell_type": "markdown",
   "metadata": {
    "pycharm": {
     "name": "#%% md\n"
    }
   },
   "source": [
    "The first stage regressed the endogenous variable on the instrument.  There is a strong, negative relationship here."
   ]
  },
  {
   "cell_type": "code",
   "execution_count": 8,
   "metadata": {
    "execution": {
     "iopub.execute_input": "2022-10-16T21:37:35.236429Z",
     "iopub.status.busy": "2022-10-16T21:37:35.235924Z",
     "iopub.status.idle": "2022-10-16T21:37:35.257391Z",
     "shell.execute_reply": "2022-10-16T21:37:35.256628Z"
    },
    "pycharm": {
     "name": "#%%\n"
    }
   },
   "outputs": [
    {
     "name": "stdout",
     "output_type": "stream",
     "text": [
      "                            OLS Estimation Summary                            \n",
      "==============================================================================\n",
      "Dep. Variable:                   educ   R-squared:                      0.0576\n",
      "Estimator:                        OLS   Adj. R-squared:                 0.0566\n",
      "No. Observations:                 934   F-statistic:                    57.107\n",
      "Date:                Sun, Oct 16 2022   P-value (F-stat)                0.0000\n",
      "Time:                        21:37:35   Distribution:                  chi2(1)\n",
      "Cov. Estimator:            unadjusted                                         \n",
      "                                                                              \n",
      "                             Parameter Estimates                              \n",
      "==============================================================================\n",
      "            Parameter  Std. Err.     T-stat    P-value    Lower CI    Upper CI\n",
      "------------------------------------------------------------------------------\n",
      "const          14.143     0.1131     125.02     0.0000      13.921      14.365\n",
      "sibs          -0.2287     0.0303    -7.5569     0.0000     -0.2880     -0.1694\n",
      "==============================================================================\n"
     ]
    }
   ],
   "source": [
    "res_first = IV2SLS(men.educ, men[[\"const\", \"sibs\"]], None, None).fit(\n",
    "    cov_type=\"unadjusted\"\n",
    ")\n",
    "print(res_first.summary)"
   ]
  },
  {
   "cell_type": "markdown",
   "metadata": {
    "pycharm": {
     "name": "#%% md\n"
    }
   },
   "source": [
    "The second stage indicates a much strong relationship than the OLS estimate."
   ]
  },
  {
   "cell_type": "code",
   "execution_count": 9,
   "metadata": {
    "execution": {
     "iopub.execute_input": "2022-10-16T21:37:35.262741Z",
     "iopub.status.busy": "2022-10-16T21:37:35.261126Z",
     "iopub.status.idle": "2022-10-16T21:37:35.283502Z",
     "shell.execute_reply": "2022-10-16T21:37:35.282728Z"
    },
    "pycharm": {
     "name": "#%%\n"
    }
   },
   "outputs": [
    {
     "name": "stdout",
     "output_type": "stream",
     "text": [
      "                          IV-2SLS Estimation Summary                          \n",
      "==============================================================================\n",
      "Dep. Variable:                   wage   R-squared:                     -0.0090\n",
      "Estimator:                    IV-2SLS   Adj. R-squared:                -0.0101\n",
      "No. Observations:                 934   F-statistic:                    21.715\n",
      "Date:                Sun, Oct 16 2022   P-value (F-stat)                0.0000\n",
      "Time:                        21:37:35   Distribution:                  chi2(1)\n",
      "Cov. Estimator:            unadjusted                                         \n",
      "                                                                              \n",
      "                             Parameter Estimates                              \n",
      "==============================================================================\n",
      "            Parameter  Std. Err.     T-stat    P-value    Lower CI    Upper CI\n",
      "------------------------------------------------------------------------------\n",
      "const          5.1310     0.3539     14.497     0.0000      4.4373      5.8248\n",
      "educ           0.1224     0.0263     4.6599     0.0000      0.0709      0.1738\n",
      "==============================================================================\n",
      "\n",
      "Endogenous: educ\n",
      "Instruments: sibs\n",
      "Unadjusted Covariance (Homoskedastic)\n",
      "Debiased: False\n"
     ]
    }
   ],
   "source": [
    "res = IV2SLS(np.log(men.wage), men.const, men.educ, men.sibs).fit(cov_type=\"unadjusted\")\n",
    "print(res.summary)"
   ]
  },
  {
   "cell_type": "markdown",
   "metadata": {
    "pycharm": {
     "name": "#%% md\n"
    }
   },
   "source": [
    "### Weighted IV\n",
    "\n",
    "All IV estimator support weighted which extends the concept of WLS in an OLS model to IV estimation.  The weights are applied to the dependent variables, the matrix of regressors (endogenous and exogenous) and the matrix of instrument (exogenous and instruments) which allows for GLS-type estimation.  In particular, if the variance of model residuals was $\\sigma^2_i$, then setting $w_i = 1 / \\sigma^2_i$ would produce GLS estimates. \n",
    "\n",
    "This example shows how a feasible GLS-type of estimator could be used. "
   ]
  },
  {
   "cell_type": "code",
   "execution_count": 10,
   "metadata": {
    "execution": {
     "iopub.execute_input": "2022-10-16T21:37:35.287762Z",
     "iopub.status.busy": "2022-10-16T21:37:35.287273Z",
     "iopub.status.idle": "2022-10-16T21:37:35.311334Z",
     "shell.execute_reply": "2022-10-16T21:37:35.310635Z"
    },
    "pycharm": {
     "name": "#%%\n"
    }
   },
   "outputs": [
    {
     "name": "stdout",
     "output_type": "stream",
     "text": [
      "                            OLS Estimation Summary                            \n",
      "==============================================================================\n",
      "Dep. Variable:               residual   R-squared:                      0.0045\n",
      "Estimator:                        OLS   Adj. R-squared:                 0.0024\n",
      "No. Observations:                 934   F-statistic:                    3.9903\n",
      "Date:                Sun, Oct 16 2022   P-value (F-stat)                0.1360\n",
      "Time:                        21:37:35   Distribution:                  chi2(2)\n",
      "Cov. Estimator:                robust                                         \n",
      "                                                                              \n",
      "                             Parameter Estimates                              \n",
      "==============================================================================\n",
      "            Parameter  Std. Err.     T-stat    P-value    Lower CI    Upper CI\n",
      "------------------------------------------------------------------------------\n",
      "const         -2.9315     0.2224    -13.179     0.0000     -3.3675     -2.4956\n",
      "sibs          -0.0651     0.0335    -1.9452     0.0518     -0.1307      0.0005\n",
      "exper          0.0084     0.0158     0.5311     0.5953     -0.0226      0.0394\n",
      "==============================================================================\n"
     ]
    }
   ],
   "source": [
    "res2 = res.resids**2\n",
    "fgls_mod = IV2SLS(np.log(res2), men[[\"const\", \"sibs\", \"exper\"]], None, None)\n",
    "fgls_res = fgls_mod.fit()\n",
    "sigma2_hat = np.exp(np.log(res2) - fgls_res.resids)\n",
    "print(fgls_res)"
   ]
  },
  {
   "cell_type": "markdown",
   "metadata": {
    "pycharm": {
     "name": "#%% md\n"
    }
   },
   "source": [
    "The variance of the squared residuals is not particularly well explained by the data, and so the GLS-type estimates and the usual IV estimates don\"t differ by much."
   ]
  },
  {
   "cell_type": "code",
   "execution_count": 11,
   "metadata": {
    "execution": {
     "iopub.execute_input": "2022-10-16T21:37:35.315832Z",
     "iopub.status.busy": "2022-10-16T21:37:35.315459Z",
     "iopub.status.idle": "2022-10-16T21:37:35.337617Z",
     "shell.execute_reply": "2022-10-16T21:37:35.336891Z"
    },
    "pycharm": {
     "name": "#%%\n"
    }
   },
   "outputs": [
    {
     "name": "stdout",
     "output_type": "stream",
     "text": [
      "                          IV-2SLS Estimation Summary                          \n",
      "==============================================================================\n",
      "Dep. Variable:                   wage   R-squared:                      0.0090\n",
      "Estimator:                    IV-2SLS   Adj. R-squared:                 0.0080\n",
      "No. Observations:                 934   F-statistic:                    23.520\n",
      "Date:                Sun, Oct 16 2022   P-value (F-stat)                0.0000\n",
      "Time:                        21:37:35   Distribution:                  chi2(1)\n",
      "Cov. Estimator:            unadjusted                                         \n",
      "                                                                              \n",
      "                             Parameter Estimates                              \n",
      "==============================================================================\n",
      "            Parameter  Std. Err.     T-stat    P-value    Lower CI    Upper CI\n",
      "------------------------------------------------------------------------------\n",
      "const          5.2031     0.3231     16.105     0.0000      4.5699      5.8363\n",
      "educ           0.1166     0.0241     4.8497     0.0000      0.0695      0.1638\n",
      "==============================================================================\n",
      "\n",
      "Endogenous: educ\n",
      "Instruments: sibs\n",
      "Unadjusted Covariance (Homoskedastic)\n",
      "Debiased: False\n"
     ]
    }
   ],
   "source": [
    "res_gls = IV2SLS(\n",
    "    np.log(men.wage), men.const, men.educ, men.sibs, weights=1 / sigma2_hat\n",
    ").fit(cov_type=\"unadjusted\")\n",
    "print(res_gls)"
   ]
  },
  {
   "cell_type": "markdown",
   "metadata": {
    "pycharm": {
     "name": "#%% md\n"
    }
   },
   "source": [
    "### Smoking and birth weight\n",
    "This example examines the effect of smoking on the birth weight of babies."
   ]
  },
  {
   "cell_type": "code",
   "execution_count": 12,
   "metadata": {
    "execution": {
     "iopub.execute_input": "2022-10-16T21:37:35.343169Z",
     "iopub.status.busy": "2022-10-16T21:37:35.341693Z",
     "iopub.status.idle": "2022-10-16T21:37:35.362153Z",
     "shell.execute_reply": "2022-10-16T21:37:35.361414Z"
    },
    "pycharm": {
     "name": "#%%\n"
    }
   },
   "outputs": [
    {
     "name": "stdout",
     "output_type": "stream",
     "text": [
      "\n",
      "J. Mullahy (1997), \"Instrumental-Variable Estimation of Count Data Models:\n",
      "Applications to Models of Cigarette Smoking Behavior,\" Review of Economics\n",
      "and Statistics 79, 596-593.\n",
      "\n",
      "faminc                   1988 family income, $1000s\n",
      "cigtax                   cig. tax in home state, 1988\n",
      "cigprice                 cig. price in home state, 1988\n",
      "bwght                    birth weight, ounces\n",
      "fatheduc                 father's yrs of educ\n",
      "motheduc                 mother's yrs of educ\n",
      "parity                   birth order of child\n",
      "male                     =1 if male child\n",
      "white                    =1 if white\n",
      "cigs                     cigs smked per day while preg\n",
      "lbwght                   log of bwght\n",
      "bwghtlbs                 birth weight, pounds\n",
      "packs                    packs smked per day while preg\n",
      "faminc                   log(faminc)\n",
      "\n"
     ]
    }
   ],
   "source": [
    "from linearmodels.datasets import birthweight\n",
    "\n",
    "data = birthweight.load()\n",
    "print(birthweight.DESCR)\n",
    "data = add_constant(data)"
   ]
  },
  {
   "cell_type": "markdown",
   "metadata": {
    "pycharm": {
     "name": "#%% md\n"
    }
   },
   "source": [
    "The first stage regresses the number of packs smoked on the cigarette price.  There is a very weak relationship -- so weak that this is an example of a _weak instrument."
   ]
  },
  {
   "cell_type": "code",
   "execution_count": 13,
   "metadata": {
    "execution": {
     "iopub.execute_input": "2022-10-16T21:37:35.366516Z",
     "iopub.status.busy": "2022-10-16T21:37:35.366107Z",
     "iopub.status.idle": "2022-10-16T21:37:35.390252Z",
     "shell.execute_reply": "2022-10-16T21:37:35.389497Z"
    },
    "pycharm": {
     "name": "#%%\n"
    }
   },
   "outputs": [
    {
     "name": "stdout",
     "output_type": "stream",
     "text": [
      "                            OLS Estimation Summary                            \n",
      "==============================================================================\n",
      "Dep. Variable:                  packs   R-squared:                      0.0015\n",
      "Estimator:                        OLS   Adj. R-squared:                 0.0008\n",
      "No. Observations:                1388   F-statistic:                    2.0731\n",
      "Date:                Sun, Oct 16 2022   P-value (F-stat)                0.1499\n",
      "Time:                        21:37:35   Distribution:                  chi2(1)\n",
      "Cov. Estimator:            unadjusted                                         \n",
      "                                                                              \n",
      "                             Parameter Estimates                              \n",
      "==============================================================================\n",
      "            Parameter  Std. Err.     T-stat    P-value    Lower CI    Upper CI\n",
      "------------------------------------------------------------------------------\n",
      "const         -2.9746     3.2361    -0.9192     0.3580     -9.3172      3.3681\n",
      "cigprice       0.0356     0.0247     1.4398     0.1499     -0.0129      0.0840\n",
      "==============================================================================\n"
     ]
    }
   ],
   "source": [
    "res = IV2SLS(data.packs, data[[\"const\", \"cigprice\"]], None, None).fit(\n",
    "    cov_type=\"unadjusted\"\n",
    ")\n",
    "print(res)"
   ]
  },
  {
   "cell_type": "markdown",
   "metadata": {
    "pycharm": {
     "name": "#%% md\n"
    }
   },
   "source": [
    "Despite the weak relationship between the price and the number of pack smoked, the 2SLS can be estimated, although substantial caution is warranted to interpret the results. Note the very negative $R^2$ (-150%)."
   ]
  },
  {
   "cell_type": "code",
   "execution_count": 14,
   "metadata": {
    "execution": {
     "iopub.execute_input": "2022-10-16T21:37:35.395661Z",
     "iopub.status.busy": "2022-10-16T21:37:35.395222Z",
     "iopub.status.idle": "2022-10-16T21:37:35.419974Z",
     "shell.execute_reply": "2022-10-16T21:37:35.419165Z"
    },
    "pycharm": {
     "name": "#%%\n"
    }
   },
   "outputs": [
    {
     "name": "stdout",
     "output_type": "stream",
     "text": [
      "                          IV-2SLS Estimation Summary                          \n",
      "==============================================================================\n",
      "Dep. Variable:                  bwght   R-squared:                     -1.5224\n",
      "Estimator:                    IV-2SLS   Adj. R-squared:                -1.5242\n",
      "No. Observations:                1388   F-statistic:                    1.1356\n",
      "Date:                Sun, Oct 16 2022   P-value (F-stat)                0.2866\n",
      "Time:                        21:37:35   Distribution:                  chi2(1)\n",
      "Cov. Estimator:            unadjusted                                         \n",
      "                                                                              \n",
      "                             Parameter Estimates                              \n",
      "==============================================================================\n",
      "            Parameter  Std. Err.     T-stat    P-value    Lower CI    Upper CI\n",
      "------------------------------------------------------------------------------\n",
      "const          4.7203     0.0381     123.80     0.0000      4.6456      4.7951\n",
      "packs          0.0238     0.0223     1.0656     0.2866     -0.0199      0.0675\n",
      "==============================================================================\n",
      "\n",
      "Endogenous: packs\n",
      "Instruments: cigprice\n",
      "Unadjusted Covariance (Homoskedastic)\n",
      "Debiased: False\n"
     ]
    }
   ],
   "source": [
    "res = IV2SLS(np.log(data.bwght), data.const, data.packs, data.cigprice).fit(\n",
    "    cov_type=\"unadjusted\"\n",
    ")\n",
    "print(res)"
   ]
  },
  {
   "cell_type": "markdown",
   "metadata": {
    "pycharm": {
     "name": "#%% md\n"
    }
   },
   "source": [
    "### Proximity and education\n",
    "\n",
    "This next example uses a well-known dataset that uses proximity to a 4 year college as an instrument for education."
   ]
  },
  {
   "cell_type": "code",
   "execution_count": 15,
   "metadata": {
    "execution": {
     "iopub.execute_input": "2022-10-16T21:37:35.424575Z",
     "iopub.status.busy": "2022-10-16T21:37:35.424160Z",
     "iopub.status.idle": "2022-10-16T21:37:35.464075Z",
     "shell.execute_reply": "2022-10-16T21:37:35.463381Z"
    },
    "pycharm": {
     "name": "#%%\n"
    }
   },
   "outputs": [
    {
     "name": "stdout",
     "output_type": "stream",
     "text": [
      "\n",
      "D. Card (1995), \"Using Geographic Variation in College Proximity to Estimate\n",
      "the Return to Schooling,\" in Aspects of Labour Market Behavior:  Essays in\n",
      "Honour of John Vanderkamp.  Ed. L.N. Christophides, E.K. Grant, and R.\n",
      "Swidinsky, 201-222.  Toronto: University of Toronto Press.\n",
      "\n",
      "id                       person identifier\n",
      "nearc2                   =1 if near 2 yr college, 1966\n",
      "nearc4                   =1 if near 4 yr college, 1966\n",
      "educ                     years of schooling, 1976\n",
      "age                      in years\n",
      "fatheduc                 father's schooling\n",
      "motheduc                 mother's schooling\n",
      "weight                   NLS sampling weight, 1976\n",
      "momdad14                 =1 if live with mom, dad at 14\n",
      "sinmom14                 =1 if with single mom at 14\n",
      "step14                   =1 if with step parent at 14\n",
      "reg661                   =1 for region 1, 1966\n",
      "reg662                   =1 for region 2, 1966\n",
      "reg663                   =1 for region 3, 1966\n",
      "reg664                   =1 for region 4, 1966\n",
      "reg665                   =1 for region 5, 1966\n",
      "reg666                   =1 for region 6, 1966\n",
      "reg667                   =1 for region 7, 1966\n",
      "reg668                   =1 for region 8, 1966\n",
      "reg669                   =1 for region 9, 1966\n",
      "south66                  =1 if in south in 1966\n",
      "black                    =1 if black\n",
      "smsa                     =1 in in SMSA, 1976\n",
      "south                    =1 if in south, 1976\n",
      "smsa66                   =1 if in SMSA, 1966\n",
      "wage                     hourly wage in cents, 1976\n",
      "enroll                   =1 if enrolled in school, 1976\n",
      "KWW                      knowledge world of work score\n",
      "IQ                       IQ score\n",
      "married                  =1 if married, 1976\n",
      "libcrd14                 =1 if lib. card in home at 14\n",
      "exper                    age - educ - 6\n",
      "lwage                    log(wage)\n",
      "xpersq                   exper**2\n",
      "\n"
     ]
    }
   ],
   "source": [
    "from linearmodels.datasets import card\n",
    "\n",
    "data = card.load()\n",
    "print(card.DESCR)\n",
    "data = add_constant(data)"
   ]
  },
  {
   "cell_type": "markdown",
   "metadata": {
    "pycharm": {
     "name": "#%% md\n"
    }
   },
   "source": [
    "Lists are used to hold the groups of variable in this large model and missing values are dropped."
   ]
  },
  {
   "cell_type": "code",
   "execution_count": 16,
   "metadata": {
    "execution": {
     "iopub.execute_input": "2022-10-16T21:37:35.468422Z",
     "iopub.status.busy": "2022-10-16T21:37:35.468051Z",
     "iopub.status.idle": "2022-10-16T21:37:35.476737Z",
     "shell.execute_reply": "2022-10-16T21:37:35.475861Z"
    },
    "pycharm": {
     "name": "#%%\n"
    }
   },
   "outputs": [],
   "source": [
    "dep = [\"wage\"]\n",
    "endog = [\"educ\"]\n",
    "exog = [\n",
    "    \"const\",\n",
    "    \"exper\",\n",
    "    \"expersq\",\n",
    "    \"black\",\n",
    "    \"smsa\",\n",
    "    \"south\",\n",
    "    \"smsa66\",\n",
    "    \"reg662\",\n",
    "    \"reg663\",\n",
    "    \"reg664\",\n",
    "    \"reg665\",\n",
    "    \"reg666\",\n",
    "    \"reg667\",\n",
    "    \"reg668\",\n",
    "    \"reg669\",\n",
    "]\n",
    "instr = [\"nearc4\"]\n",
    "data = data[dep + exog + endog + instr].dropna()"
   ]
  },
  {
   "cell_type": "markdown",
   "metadata": {
    "pycharm": {
     "name": "#%% md\n"
    }
   },
   "source": [
    "The first stage estimate shows a very large F-statistic.  Note that when there are many exogenous variables the results cannot be directly interpreted.  It is better to use the `first_stage` information from a 2SLS estimate."
   ]
  },
  {
   "cell_type": "code",
   "execution_count": 17,
   "metadata": {
    "execution": {
     "iopub.execute_input": "2022-10-16T21:37:35.481067Z",
     "iopub.status.busy": "2022-10-16T21:37:35.480608Z",
     "iopub.status.idle": "2022-10-16T21:37:35.522465Z",
     "shell.execute_reply": "2022-10-16T21:37:35.521602Z"
    },
    "pycharm": {
     "name": "#%%\n"
    }
   },
   "outputs": [
    {
     "name": "stdout",
     "output_type": "stream",
     "text": [
      "                            OLS Estimation Summary                            \n",
      "==============================================================================\n",
      "Dep. Variable:                   educ   R-squared:                      0.4771\n",
      "Estimator:                        OLS   Adj. R-squared:                 0.4745\n",
      "No. Observations:                3010   F-statistic:                    3693.4\n",
      "Date:                Sun, Oct 16 2022   P-value (F-stat)                0.0000\n",
      "Time:                        21:37:35   Distribution:                 chi2(15)\n",
      "Cov. Estimator:                robust                                         \n",
      "                                                                              \n",
      "                             Parameter Estimates                              \n",
      "==============================================================================\n",
      "            Parameter  Std. Err.     T-stat    P-value    Lower CI    Upper CI\n",
      "------------------------------------------------------------------------------\n",
      "nearc4         0.3199     0.0848     3.7702     0.0002      0.1536      0.4862\n",
      "const          16.638     0.2148     77.456     0.0000      16.217      17.059\n",
      "exper         -0.4125     0.0320    -12.896     0.0000     -0.4752     -0.3498\n",
      "expersq        0.0009     0.0017     0.5100     0.6100     -0.0025      0.0042\n",
      "black         -0.9355     0.0923    -10.138     0.0000     -1.1164     -0.7547\n",
      "smsa           0.4022     0.1109     3.6255     0.0003      0.1848      0.6196\n",
      "south         -0.0516     0.1416    -0.3645     0.7155     -0.3291      0.2259\n",
      "smsa66         0.0255     0.1103     0.2309     0.8174     -0.1908      0.2417\n",
      "reg662        -0.0786     0.1854    -0.4242     0.6714     -0.4420      0.2847\n",
      "reg663        -0.0279     0.1789    -0.1562     0.8759     -0.3785      0.3226\n",
      "reg664         0.1172     0.2070     0.5660     0.5714     -0.2886      0.5230\n",
      "reg665        -0.2726     0.2237    -1.2186     0.2230     -0.7111      0.1659\n",
      "reg666        -0.3028     0.2361    -1.2826     0.1996     -0.7656      0.1599\n",
      "reg667        -0.2168     0.2389    -0.9077     0.3640     -0.6850      0.2513\n",
      "reg668         0.5239     0.2562     2.0449     0.0409      0.0218      1.0260\n",
      "reg669         0.2103     0.1988     1.0575     0.2903     -0.1794      0.6000\n",
      "==============================================================================\n"
     ]
    }
   ],
   "source": [
    "res = IV2SLS(data.educ, data[instr + exog], None, None).fit()\n",
    "print(res)"
   ]
  },
  {
   "cell_type": "markdown",
   "metadata": {
    "pycharm": {
     "name": "#%% md\n"
    }
   },
   "source": [
    "The OLS estimate indicates an increase of 7% for a year of education."
   ]
  },
  {
   "cell_type": "code",
   "execution_count": 18,
   "metadata": {
    "execution": {
     "iopub.execute_input": "2022-10-16T21:37:35.528671Z",
     "iopub.status.busy": "2022-10-16T21:37:35.526945Z",
     "iopub.status.idle": "2022-10-16T21:37:35.571445Z",
     "shell.execute_reply": "2022-10-16T21:37:35.570564Z"
    },
    "pycharm": {
     "name": "#%%\n"
    }
   },
   "outputs": [
    {
     "name": "stdout",
     "output_type": "stream",
     "text": [
      "                            OLS Estimation Summary                            \n",
      "==============================================================================\n",
      "Dep. Variable:                   wage   R-squared:                      0.2998\n",
      "Estimator:                        OLS   Adj. R-squared:                 0.2963\n",
      "No. Observations:                3010   F-statistic:                    1377.0\n",
      "Date:                Sun, Oct 16 2022   P-value (F-stat)                0.0000\n",
      "Time:                        21:37:35   Distribution:                 chi2(15)\n",
      "Cov. Estimator:                robust                                         \n",
      "                                                                              \n",
      "                             Parameter Estimates                              \n",
      "==============================================================================\n",
      "            Parameter  Std. Err.     T-stat    P-value    Lower CI    Upper CI\n",
      "------------------------------------------------------------------------------\n",
      "const          4.6208     0.0740     62.417     0.0000      4.4757      4.7659\n",
      "exper          0.0848     0.0067     12.592     0.0000      0.0716      0.0980\n",
      "expersq       -0.0023     0.0003    -7.1798     0.0000     -0.0029     -0.0017\n",
      "black         -0.1990     0.0181    -10.985     0.0000     -0.2345     -0.1635\n",
      "smsa           0.1364     0.0192     7.1159     0.0000      0.0988      0.1739\n",
      "south         -0.1480     0.0280    -5.2917     0.0000     -0.2028     -0.0932\n",
      "smsa66         0.0262     0.0185     1.4153     0.1570     -0.0101      0.0626\n",
      "reg662         0.0964     0.0350     2.7531     0.0059      0.0278      0.1650\n",
      "reg663         0.1445     0.0337     4.2850     0.0000      0.0784      0.2107\n",
      "reg664         0.0551     0.0411     1.3402     0.1802     -0.0255      0.1356\n",
      "reg665         0.1280     0.0428     2.9912     0.0028      0.0441      0.2119\n",
      "reg666         0.1405     0.0450     3.1223     0.0018      0.0523      0.2287\n",
      "reg667         0.1180     0.0455     2.5934     0.0095      0.0288      0.2071\n",
      "reg668        -0.0564     0.0505    -1.1183     0.2634     -0.1553      0.0425\n",
      "reg669         0.1186     0.0387     3.0658     0.0022      0.0428      0.1944\n",
      "educ           0.0747     0.0036     20.540     0.0000      0.0676      0.0818\n",
      "==============================================================================\n"
     ]
    }
   ],
   "source": [
    "res = IV2SLS(np.log(data.wage), data[exog + endog], None, None).fit()\n",
    "print(res)"
   ]
  },
  {
   "cell_type": "markdown",
   "metadata": {
    "pycharm": {
     "name": "#%% md\n"
    }
   },
   "source": [
    "The 2SLS estimate of the effect is nearly double.  However, there is some reason to be concerned about the strength of the instrument despite the F-statistic in the first stage regression."
   ]
  },
  {
   "cell_type": "code",
   "execution_count": 19,
   "metadata": {
    "execution": {
     "iopub.execute_input": "2022-10-16T21:37:35.575988Z",
     "iopub.status.busy": "2022-10-16T21:37:35.575718Z",
     "iopub.status.idle": "2022-10-16T21:37:35.617620Z",
     "shell.execute_reply": "2022-10-16T21:37:35.616563Z"
    },
    "pycharm": {
     "name": "#%%\n"
    }
   },
   "outputs": [
    {
     "name": "stdout",
     "output_type": "stream",
     "text": [
      "                          IV-2SLS Estimation Summary                          \n",
      "==============================================================================\n",
      "Dep. Variable:                   wage   R-squared:                      0.2382\n",
      "Estimator:                    IV-2SLS   Adj. R-squared:                 0.2343\n",
      "No. Observations:                3010   F-statistic:                    840.83\n",
      "Date:                Sun, Oct 16 2022   P-value (F-stat)                0.0000\n",
      "Time:                        21:37:35   Distribution:                 chi2(15)\n",
      "Cov. Estimator:                robust                                         \n",
      "                                                                              \n",
      "                             Parameter Estimates                              \n",
      "==============================================================================\n",
      "            Parameter  Std. Err.     T-stat    P-value    Lower CI    Upper CI\n",
      "------------------------------------------------------------------------------\n",
      "const          3.6662     0.9085     4.0352     0.0001      1.8855      5.4468\n",
      "exper          0.1083     0.0233     4.6376     0.0000      0.0625      0.1540\n",
      "expersq       -0.0023     0.0003    -6.7128     0.0000     -0.0030     -0.0017\n",
      "black         -0.1468     0.0524    -2.8031     0.0051     -0.2494     -0.0441\n",
      "smsa           0.1118     0.0311     3.5995     0.0003      0.0509      0.1727\n",
      "south         -0.1447     0.0291    -4.9775     0.0000     -0.2016     -0.0877\n",
      "smsa66         0.0185     0.0205     0.9035     0.3663     -0.0217      0.0587\n",
      "reg662         0.1008     0.0365     2.7644     0.0057      0.0293      0.1722\n",
      "reg663         0.1483     0.0355     4.1760     0.0000      0.0787      0.2178\n",
      "reg664         0.0499     0.0435     1.1471     0.2514     -0.0354      0.1352\n",
      "reg665         0.1463     0.0491     2.9794     0.0029      0.0500      0.2425\n",
      "reg666         0.1629     0.0516     3.1553     0.0016      0.0617      0.2641\n",
      "reg667         0.1346     0.0504     2.6689     0.0076      0.0357      0.2334\n",
      "reg668        -0.0831     0.0571    -1.4552     0.1456     -0.1950      0.0288\n",
      "reg669         0.1078     0.0410     2.6317     0.0085      0.0275      0.1881\n",
      "educ           0.1315     0.0540     2.4353     0.0149      0.0257      0.2373\n",
      "==============================================================================\n",
      "\n",
      "Endogenous: educ\n",
      "Instruments: nearc4\n",
      "Robust Covariance (Heteroskedastic)\n",
      "Debiased: False\n"
     ]
    }
   ],
   "source": [
    "res_2sls = IV2SLS(np.log(data.wage), data[exog], data[endog], data[instr]).fit()\n",
    "print(res_2sls)"
   ]
  },
  {
   "cell_type": "markdown",
   "metadata": {
    "pycharm": {
     "name": "#%% md\n"
    }
   },
   "source": [
    "The property `first_stage` can be used to show a large set of first stage diagnostics. These results show a much lower _partial_ $R^2$ that has measures the unique effect of the instrument on the endogenous controlling for the exogenous regressors.  This is much smaller than the naive first stage $R^2$ of 47%.  The partial F-statistic is also much smaller, although it technically over the rule-of-thumb of 10 for a single instrument.\n",
    "\n",
    "The instrument is a dummy variable and being close to a 4 year college is only worth 0.3 years of education on average."
   ]
  },
  {
   "cell_type": "code",
   "execution_count": 20,
   "metadata": {
    "execution": {
     "iopub.execute_input": "2022-10-16T21:37:35.623134Z",
     "iopub.status.busy": "2022-10-16T21:37:35.621859Z",
     "iopub.status.idle": "2022-10-16T21:37:35.738671Z",
     "shell.execute_reply": "2022-10-16T21:37:35.737633Z"
    },
    "pycharm": {
     "name": "#%%\n"
    }
   },
   "outputs": [
    {
     "name": "stdout",
     "output_type": "stream",
     "text": [
      "    First Stage Estimation Results    \n",
      "======================================\n",
      "                                  educ\n",
      "--------------------------------------\n",
      "R-squared                       0.4771\n",
      "Partial R-squared               0.0044\n",
      "Shea's R-squared                0.0044\n",
      "Partial F-statistic             14.214\n",
      "P-value (Partial F-stat)        0.0002\n",
      "Partial F-stat Distn           chi2(1)\n",
      "========================== ===========\n",
      "const                           16.638\n",
      "                              (77.456)\n",
      "exper                          -0.4125\n",
      "                             (-12.896)\n",
      "expersq                         0.0009\n",
      "                              (0.5100)\n",
      "black                          -0.9355\n",
      "                             (-10.138)\n",
      "smsa                            0.4022\n",
      "                              (3.6255)\n",
      "south                          -0.0516\n",
      "                             (-0.3645)\n",
      "smsa66                          0.0255\n",
      "                              (0.2309)\n",
      "reg662                         -0.0786\n",
      "                             (-0.4242)\n",
      "reg663                         -0.0279\n",
      "                             (-0.1562)\n",
      "reg664                          0.1172\n",
      "                              (0.5660)\n",
      "reg665                         -0.2726\n",
      "                             (-1.2186)\n",
      "reg666                         -0.3028\n",
      "                             (-1.2826)\n",
      "reg667                         -0.2168\n",
      "                             (-0.9077)\n",
      "reg668                          0.5239\n",
      "                              (2.0449)\n",
      "reg669                          0.2103\n",
      "                              (1.0575)\n",
      "nearc4                          0.3199\n",
      "                              (3.7702)\n",
      "--------------------------------------\n",
      "\n",
      "T-stats reported in parentheses\n",
      "T-stats use same covariance type as original model\n"
     ]
    }
   ],
   "source": [
    "print(res_2sls.first_stage)"
   ]
  },
  {
   "cell_type": "markdown",
   "metadata": {
    "pycharm": {
     "name": "#%% md\n"
    }
   },
   "source": [
    "### Formula interface\n",
    "\n",
    "This model was large and so it might be simpler to use a formula. While formulas are discussed in [detail in another notebook](using-formulas.ipynb), they use the formula language of [formulaic](https://matthewwardrop.github.io/formulaic/) with an augmentation to specify the endogenous and instrumental variables. The generic form is\n",
    "\n",
    "```\n",
    "dependent ~ exog + [endog ~ instr]\n",
    "```\n",
    "\n",
    "where each block can contain multiple variables.\n",
    "\n",
    "Here the model is compared to the direct parameterization using DataFrames by differencing the $R^2$."
   ]
  },
  {
   "cell_type": "code",
   "execution_count": 21,
   "metadata": {
    "execution": {
     "iopub.execute_input": "2022-10-16T21:37:35.744572Z",
     "iopub.status.busy": "2022-10-16T21:37:35.743191Z",
     "iopub.status.idle": "2022-10-16T21:37:35.786083Z",
     "shell.execute_reply": "2022-10-16T21:37:35.785282Z"
    },
    "pycharm": {
     "name": "#%%\n"
    }
   },
   "outputs": [
    {
     "name": "stdout",
     "output_type": "stream",
     "text": [
      "1.974531649295841e-12\n"
     ]
    }
   ],
   "source": [
    "import numpy as np\n",
    "\n",
    "formula = (\n",
    "    \"np.log(wage) ~ 1 + exper + expersq + black + smsa + south + smsa66 + reg662 + reg663 + reg664 + \"\n",
    "    \"reg665 + reg666 + reg667 + reg668 + reg669 + [educ ~ nearc4]\"\n",
    ")\n",
    "mod = IV2SLS.from_formula(formula, data)\n",
    "res_formula = mod.fit(cov_type=\"unadjusted\")\n",
    "print(res_formula.rsquared - res_2sls.rsquared)"
   ]
  },
  {
   "cell_type": "markdown",
   "metadata": {
    "pycharm": {
     "name": "#%% md\n"
    }
   },
   "source": [
    "### Categorical Variables\n",
    "pandas ``categorical``s are automatically treated as factors and expanded to dummies.  The first is always dropped. This next block constructs a categorical from the region dummies and then uses it instead of the individual dummies.  The model is identical."
   ]
  },
  {
   "cell_type": "code",
   "execution_count": 22,
   "metadata": {
    "execution": {
     "iopub.execute_input": "2022-10-16T21:37:35.792675Z",
     "iopub.status.busy": "2022-10-16T21:37:35.791319Z",
     "iopub.status.idle": "2022-10-16T21:37:35.885171Z",
     "shell.execute_reply": "2022-10-16T21:37:35.884442Z"
    },
    "pycharm": {
     "name": "#%%\n"
    }
   },
   "outputs": [
    {
     "name": "stdout",
     "output_type": "stream",
     "text": [
      "                          IV-2SLS Estimation Summary                          \n",
      "==============================================================================\n",
      "Dep. Variable:                   wage   R-squared:                      0.2382\n",
      "Estimator:                    IV-2SLS   Adj. R-squared:                 0.2343\n",
      "No. Observations:                3010   F-statistic:                    840.83\n",
      "Date:                Sun, Oct 16 2022   P-value (F-stat)                0.0000\n",
      "Time:                        21:37:35   Distribution:                 chi2(15)\n",
      "Cov. Estimator:                robust                                         \n",
      "                                                                              \n",
      "                             Parameter Estimates                              \n",
      "==============================================================================\n",
      "            Parameter  Std. Err.     T-stat    P-value    Lower CI    Upper CI\n",
      "------------------------------------------------------------------------------\n",
      "const          3.6662     0.9085     4.0352     0.0001      1.8855      5.4468\n",
      "exper          0.1083     0.0233     4.6376     0.0000      0.0625      0.1540\n",
      "expersq       -0.0023     0.0003    -6.7128     0.0000     -0.0030     -0.0017\n",
      "black         -0.1468     0.0524    -2.8031     0.0051     -0.2494     -0.0441\n",
      "smsa           0.1118     0.0311     3.5995     0.0003      0.0509      0.1727\n",
      "south         -0.1447     0.0291    -4.9775     0.0000     -0.2016     -0.0877\n",
      "smsa66         0.0185     0.0205     0.9035     0.3663     -0.0217      0.0587\n",
      "reg.662        0.1008     0.0365     2.7644     0.0057      0.0293      0.1722\n",
      "reg.663        0.1483     0.0355     4.1760     0.0000      0.0787      0.2178\n",
      "reg.664        0.0499     0.0435     1.1471     0.2514     -0.0354      0.1352\n",
      "reg.665        0.1463     0.0491     2.9794     0.0029      0.0500      0.2425\n",
      "reg.666        0.1629     0.0516     3.1553     0.0016      0.0617      0.2641\n",
      "reg.667        0.1346     0.0504     2.6689     0.0076      0.0357      0.2334\n",
      "reg.668       -0.0831     0.0571    -1.4552     0.1456     -0.1950      0.0288\n",
      "reg.669        0.1078     0.0410     2.6317     0.0085      0.0275      0.1881\n",
      "educ           0.1315     0.0540     2.4353     0.0149      0.0257      0.2373\n",
      "==============================================================================\n",
      "\n",
      "Endogenous: educ\n",
      "Instruments: nearc4\n",
      "Robust Covariance (Heteroskedastic)\n",
      "Debiased: False\n"
     ]
    }
   ],
   "source": [
    "data[\"reg\"] = \"661\"  # The default region, which was omitted\n",
    "for i in range(2, 10):\n",
    "    region = \"reg66\" + str(i)\n",
    "    data.loc[data[region] == 1, \"reg\"] = region[3:]\n",
    "data[\"reg\"] = data[\"reg\"].astype(\"category\")\n",
    "data.describe()\n",
    "res_cat = IV2SLS(\n",
    "    np.log(data.wage),\n",
    "    data[[\"const\", \"exper\", \"expersq\", \"black\", \"smsa\", \"south\", \"smsa66\", \"reg\"]],\n",
    "    data.educ,\n",
    "    data.nearc4,\n",
    ").fit()\n",
    "print(res_cat)"
   ]
  },
  {
   "cell_type": "markdown",
   "metadata": {
    "pycharm": {
     "name": "#%% md\n"
    }
   },
   "source": [
    "### Post-estimation diagnostics\n",
    "\n",
    "Common post-estimation diagnostics are to test the assumption of endogeneity and to examine if instruments are valid (when there are more instruments than endogenous variables)."
   ]
  },
  {
   "cell_type": "code",
   "execution_count": 23,
   "metadata": {
    "execution": {
     "iopub.execute_input": "2022-10-16T21:37:35.890410Z",
     "iopub.status.busy": "2022-10-16T21:37:35.889092Z",
     "iopub.status.idle": "2022-10-16T21:37:35.911615Z",
     "shell.execute_reply": "2022-10-16T21:37:35.910929Z"
    },
    "pycharm": {
     "name": "#%%\n"
    }
   },
   "outputs": [],
   "source": [
    "data = mroz.load()\n",
    "data = data.dropna()\n",
    "data = add_constant(data, has_constant=\"add\")\n",
    "data[\"lnwage\"] = np.log(data.wage)\n",
    "dep = \"lnwage\"\n",
    "exog = [\"const\", \"exper\", \"expersq\"]\n",
    "endog = [\"educ\"]\n",
    "instr = [\"fatheduc\", \"motheduc\"]"
   ]
  },
  {
   "cell_type": "markdown",
   "metadata": {
    "pycharm": {
     "name": "#%% md\n"
    }
   },
   "source": [
    "The first step is to fit the model using 2SLS."
   ]
  },
  {
   "cell_type": "code",
   "execution_count": 24,
   "metadata": {
    "execution": {
     "iopub.execute_input": "2022-10-16T21:37:35.916444Z",
     "iopub.status.busy": "2022-10-16T21:37:35.915274Z",
     "iopub.status.idle": "2022-10-16T21:37:35.940909Z",
     "shell.execute_reply": "2022-10-16T21:37:35.939902Z"
    },
    "pycharm": {
     "name": "#%%\n"
    }
   },
   "outputs": [
    {
     "name": "stdout",
     "output_type": "stream",
     "text": [
      "                          IV-2SLS Estimation Summary                          \n",
      "==============================================================================\n",
      "Dep. Variable:                 lnwage   R-squared:                      0.1357\n",
      "Estimator:                    IV-2SLS   Adj. R-squared:                 0.1296\n",
      "No. Observations:                 428   F-statistic:                    24.653\n",
      "Date:                Sun, Oct 16 2022   P-value (F-stat)                0.0000\n",
      "Time:                        21:37:35   Distribution:                  chi2(3)\n",
      "Cov. Estimator:            unadjusted                                         \n",
      "                                                                              \n",
      "                             Parameter Estimates                              \n",
      "==============================================================================\n",
      "            Parameter  Std. Err.     T-stat    P-value    Lower CI    Upper CI\n",
      "------------------------------------------------------------------------------\n",
      "const          0.0481     0.3985     0.1207     0.9039     -0.7329      0.8291\n",
      "exper          0.0442     0.0134     3.3038     0.0010      0.0180      0.0704\n",
      "expersq       -0.0009     0.0004    -2.2485     0.0245     -0.0017     -0.0001\n",
      "educ           0.0614     0.0313     1.9622     0.0497   7.043e-05      0.1227\n",
      "==============================================================================\n",
      "\n",
      "Endogenous: educ\n",
      "Instruments: fatheduc, motheduc\n",
      "Unadjusted Covariance (Homoskedastic)\n",
      "Debiased: False"
     ]
    },
    {
     "name": "stdout",
     "output_type": "stream",
     "text": [
      "\n"
     ]
    }
   ],
   "source": [
    "res = IV2SLS(data[dep], data[exog], data[endog], data[instr]).fit(cov_type=\"unadjusted\")\n",
    "print(res)"
   ]
  },
  {
   "cell_type": "markdown",
   "metadata": {
    "pycharm": {
     "name": "#%% md\n"
    }
   },
   "source": [
    "Wooldridge\"s regression test of exogeneity uses regression residual where the endogenous variables are regressed on the exogenous and the instrument to test for endogeneity. IF the endogenous variable is actually exogenous these residuals should not be correlated with the variable of interest. "
   ]
  },
  {
   "cell_type": "code",
   "execution_count": 25,
   "metadata": {
    "execution": {
     "iopub.execute_input": "2022-10-16T21:37:35.946132Z",
     "iopub.status.busy": "2022-10-16T21:37:35.944823Z",
     "iopub.status.idle": "2022-10-16T21:37:35.966609Z",
     "shell.execute_reply": "2022-10-16T21:37:35.965878Z"
    },
    "pycharm": {
     "name": "#%%\n"
    }
   },
   "outputs": [
    {
     "data": {
      "text/plain": [
       "Wooldridge's regression test of exogeneity\n",
       "H0: Endogenous variables are exogenous\n",
       "Statistic: 2.8256\n",
       "P-value: 0.0928\n",
       "Distributed: chi2(1)\n",
       "WaldTestStatistic, id: 0x7fb1ae2af490"
      ]
     },
     "execution_count": 25,
     "metadata": {},
     "output_type": "execute_result"
    }
   ],
   "source": [
    "res.wooldridge_regression"
   ]
  },
  {
   "cell_type": "markdown",
   "metadata": {
    "pycharm": {
     "name": "#%% md\n"
    }
   },
   "source": [
    "This test can be easily implemented using two regression.  The first one constructs the residuals and the second re-fits the model using 2SLS but including the residuals. \n",
    "\n",
    "Note that the p-value of the t-state on `residuals` is the same as the P-value of the previous test -- this is not an accident."
   ]
  },
  {
   "cell_type": "code",
   "execution_count": 26,
   "metadata": {
    "execution": {
     "iopub.execute_input": "2022-10-16T21:37:35.971690Z",
     "iopub.status.busy": "2022-10-16T21:37:35.970420Z",
     "iopub.status.idle": "2022-10-16T21:37:36.008037Z",
     "shell.execute_reply": "2022-10-16T21:37:36.007198Z"
    },
    "pycharm": {
     "name": "#%%\n"
    }
   },
   "outputs": [
    {
     "name": "stdout",
     "output_type": "stream",
     "text": [
      "                          IV-2SLS Estimation Summary                          \n",
      "==============================================================================\n",
      "Dep. Variable:                 lnwage   R-squared:                      0.1624\n",
      "Estimator:                    IV-2SLS   Adj. R-squared:                 0.1544\n",
      "No. Observations:                 428   F-statistic:                    82.954\n",
      "Date:                Sun, Oct 16 2022   P-value (F-stat)                0.0000\n",
      "Time:                        21:37:35   Distribution:                  chi2(4)\n",
      "Cov. Estimator:            unadjusted                                         \n",
      "                                                                              \n",
      "                             Parameter Estimates                              \n",
      "==============================================================================\n",
      "            Parameter  Std. Err.     T-stat    P-value    Lower CI    Upper CI\n",
      "------------------------------------------------------------------------------\n",
      "residual       0.0582     0.0346     1.6810     0.0928     -0.0097      0.1260\n",
      "const          0.0481     0.3923     0.1226     0.9024     -0.7207      0.8169\n",
      "exper          0.0442     0.0132     3.3559     0.0008      0.0184      0.0700\n",
      "expersq       -0.0009     0.0004    -2.2840     0.0224     -0.0017     -0.0001\n",
      "educ           0.0614     0.0308     1.9932     0.0462      0.0010      0.1218\n",
      "==============================================================================\n",
      "\n",
      "Endogenous: educ\n",
      "Instruments: fatheduc, motheduc\n",
      "Unadjusted Covariance (Homoskedastic)\n",
      "Debiased: False\n"
     ]
    },
    {
     "name": "stderr",
     "output_type": "stream",
     "text": [
      "/tmp/ipykernel_4266/309156546.py:5: FutureWarning: In a future version of pandas all arguments of concat except for the argument 'objs' will be keyword-only.\n",
      "  data[dep], pd.concat([v, data[exog]], 1), data[endog], data[instr]\n"
     ]
    }
   ],
   "source": [
    "v = IV2SLS(data[endog], data[exog + instr], None, None).fit().resids\n",
    "import pandas as pd\n",
    "\n",
    "res_direct = IV2SLS(\n",
    "    data[dep], pd.concat([v, data[exog]], 1), data[endog], data[instr]\n",
    ").fit(cov_type=\"unadjusted\")\n",
    "print(res_direct)"
   ]
  },
  {
   "cell_type": "markdown",
   "metadata": {
    "pycharm": {
     "name": "#%% md\n"
    }
   },
   "source": [
    "Since this regression has two instrument it is possible to test for overidentification.  Wooldridge\"s overidentification test uses a regression to test whether the 2SLS residuals are uncorrelated with the instruments, which should be the case if the model is correct and the instruments are not needed in the original model."
   ]
  },
  {
   "cell_type": "code",
   "execution_count": 27,
   "metadata": {
    "execution": {
     "iopub.execute_input": "2022-10-16T21:37:36.013323Z",
     "iopub.status.busy": "2022-10-16T21:37:36.012060Z",
     "iopub.status.idle": "2022-10-16T21:37:36.030606Z",
     "shell.execute_reply": "2022-10-16T21:37:36.029413Z"
    },
    "pycharm": {
     "name": "#%%\n"
    }
   },
   "outputs": [
    {
     "data": {
      "text/plain": [
       "Wooldridge's score test of overidentification\n",
       "H0: Model is not overidentified.\n",
       "Statistic: 0.4435\n",
       "P-value: 0.5055\n",
       "Distributed: chi2(1)\n",
       "WaldTestStatistic, id: 0x7fb1ae471a00"
      ]
     },
     "execution_count": 27,
     "metadata": {},
     "output_type": "execute_result"
    }
   ],
   "source": [
    "res.wooldridge_overid"
   ]
  },
  {
   "cell_type": "markdown",
   "metadata": {
    "pycharm": {
     "name": "#%% md\n"
    }
   },
   "source": [
    "A naive version of this test can be directly implemented. This direct implementation is different from the formal test but would be consistent if the model was overidentified."
   ]
  },
  {
   "cell_type": "code",
   "execution_count": 28,
   "metadata": {
    "execution": {
     "iopub.execute_input": "2022-10-16T21:37:36.037340Z",
     "iopub.status.busy": "2022-10-16T21:37:36.035916Z",
     "iopub.status.idle": "2022-10-16T21:37:36.053192Z",
     "shell.execute_reply": "2022-10-16T21:37:36.052387Z"
    },
    "pycharm": {
     "name": "#%%\n"
    }
   },
   "outputs": [],
   "source": [
    "u = res.resids\n",
    "res = IV2SLS(u, data[[\"exper\", \"expersq\"] + instr], None, None).fit()"
   ]
  },
  {
   "cell_type": "markdown",
   "metadata": {
    "pycharm": {
     "name": "#%% md\n"
    }
   },
   "source": [
    "The test is $n\\times R^2$, and has the same $\\chi^2_1$ distribution. The test statistic is slightly smaller but the conclusions are the same."
   ]
  },
  {
   "cell_type": "code",
   "execution_count": 29,
   "metadata": {
    "execution": {
     "iopub.execute_input": "2022-10-16T21:37:36.058760Z",
     "iopub.status.busy": "2022-10-16T21:37:36.057407Z",
     "iopub.status.idle": "2022-10-16T21:37:36.066498Z",
     "shell.execute_reply": "2022-10-16T21:37:36.065689Z"
    },
    "pycharm": {
     "name": "#%%\n"
    }
   },
   "outputs": [
    {
     "data": {
      "text/plain": [
       "0.3719811106150277"
      ]
     },
     "execution_count": 29,
     "metadata": {},
     "output_type": "execute_result"
    }
   ],
   "source": [
    "res.nobs * res.rsquared"
   ]
  },
  {
   "cell_type": "markdown",
   "metadata": {
    "pycharm": {
     "name": "#%% md\n"
    }
   },
   "source": [
    "Husband\"s education can be used as an additional instrument, and its validity tested."
   ]
  },
  {
   "cell_type": "code",
   "execution_count": 30,
   "metadata": {
    "execution": {
     "iopub.execute_input": "2022-10-16T21:37:36.072957Z",
     "iopub.status.busy": "2022-10-16T21:37:36.071568Z",
     "iopub.status.idle": "2022-10-16T21:37:36.090436Z",
     "shell.execute_reply": "2022-10-16T21:37:36.089653Z"
    },
    "pycharm": {
     "name": "#%%\n"
    }
   },
   "outputs": [],
   "source": [
    "instr = [\"fatheduc\", \"motheduc\", \"huseduc\"]\n",
    "res = IV2SLS(data[dep], data[exog], data[endog], data[instr]).fit(cov_type=\"unadjusted\")"
   ]
  },
  {
   "cell_type": "markdown",
   "metadata": {
    "pycharm": {
     "name": "#%% md\n"
    }
   },
   "source": [
    "Testing overidentification does not indicate any difference from the previous result."
   ]
  },
  {
   "cell_type": "code",
   "execution_count": 31,
   "metadata": {
    "execution": {
     "iopub.execute_input": "2022-10-16T21:37:36.096042Z",
     "iopub.status.busy": "2022-10-16T21:37:36.094764Z",
     "iopub.status.idle": "2022-10-16T21:37:36.114314Z",
     "shell.execute_reply": "2022-10-16T21:37:36.113526Z"
    },
    "pycharm": {
     "name": "#%%\n"
    }
   },
   "outputs": [
    {
     "data": {
      "text/plain": [
       "Wooldridge's score test of overidentification\n",
       "H0: Model is not overidentified.\n",
       "Statistic: 1.0421\n",
       "P-value: 0.5939\n",
       "Distributed: chi2(2)\n",
       "WaldTestStatistic, id: 0x7fb1ae547bb0"
      ]
     },
     "execution_count": 31,
     "metadata": {},
     "output_type": "execute_result"
    }
   ],
   "source": [
    "res.wooldridge_overid"
   ]
  },
  {
   "cell_type": "markdown",
   "metadata": {
    "pycharm": {
     "name": "#%% md\n"
    }
   },
   "source": [
    "Directly testing using two regression would reach the same conclusion."
   ]
  },
  {
   "cell_type": "code",
   "execution_count": 32,
   "metadata": {
    "execution": {
     "iopub.execute_input": "2022-10-16T21:37:36.120268Z",
     "iopub.status.busy": "2022-10-16T21:37:36.118951Z",
     "iopub.status.idle": "2022-10-16T21:37:36.139575Z",
     "shell.execute_reply": "2022-10-16T21:37:36.138853Z"
    },
    "pycharm": {
     "name": "#%%\n"
    }
   },
   "outputs": [
    {
     "data": {
      "text/plain": [
       "1.1126588681969989"
      ]
     },
     "execution_count": 32,
     "metadata": {},
     "output_type": "execute_result"
    }
   ],
   "source": [
    "u = res.resids\n",
    "res = IV2SLS(u, data[[\"exper\", \"expersq\"] + instr], None, None).fit()\n",
    "res.nobs * res.rsquared"
   ]
  },
  {
   "cell_type": "markdown",
   "metadata": {
    "pycharm": {
     "name": "#%% md\n"
    }
   },
   "source": [
    "### Panel IV \n",
    "Instrumental variable regression can also be used with panel data. This example makes use of first differences to eliminate a year-specific effect and then uses "
   ]
  },
  {
   "cell_type": "code",
   "execution_count": 33,
   "metadata": {
    "execution": {
     "iopub.execute_input": "2022-10-16T21:37:36.145955Z",
     "iopub.status.busy": "2022-10-16T21:37:36.144338Z",
     "iopub.status.idle": "2022-10-16T21:37:36.269303Z",
     "shell.execute_reply": "2022-10-16T21:37:36.268319Z"
    },
    "pycharm": {
     "name": "#%%\n"
    }
   },
   "outputs": [
    {
     "name": "stdout",
     "output_type": "stream",
     "text": [
      "\n",
      "H. Holzer, R. Block, M. Cheatham, and J. Knott (1993), \"Are Training Subsidies\n",
      "Effective? The Michigan Experience,\" Industrial and Labor Relations Review 46,\n",
      "625-636.\n",
      "\n",
      "year                     1987, 1988, or 1989\n",
      "fcode                    firm code number\n",
      "employ                   # employees at plant\n",
      "sales                    annual sales, $\n",
      "avgsal                   average employee salary\n",
      "scrap                    scrap rate (per 100 items)\n",
      "rework                   rework rate (per 100 items)\n",
      "tothrs                   total hours training\n",
      "union                    =1 if unionized\n",
      "grant                    =1 if received grant\n",
      "d89                      =1 if year = 1989\n",
      "d88                      =1 if year = 1988\n",
      "totrain                  total employees trained\n",
      "hrsemp                   tothrs/totrain\n",
      "lscrap                   log(scrap)\n",
      "lemploy                  log(employ)\n",
      "lsales                   log(sales)\n",
      "lrework                  log(rework)\n",
      "lhrsemp                  log(1 + hrsemp)\n",
      "lscrap_1                 lagged lscrap; missing 1987\n",
      "grant_1                  lagged grant; assumed 0 in 1987\n",
      "clscrap                  lscrap - lscrap_1; year > 1987\n",
      "cgrant                   grant - grant_1\n",
      "clemploy                 lemploy - lemploy[t-1]\n",
      "clsales                  lavgsal - lavgsal[t-1]\n",
      "lavgsal                  log(avgsal)\n",
      "clavgsal                 lavgsal - lavgsal[t-1]\n",
      "cgrant_1                 cgrant[t-1]\n",
      "chrsemp                  hrsemp - hrsemp[t-1]\n",
      "lhrsemp                 lhrsemp - lhrsemp[t-1]\n",
      "\n"
     ]
    },
    {
     "name": "stdout",
     "output_type": "stream",
     "text": [
      "              year          fcode      employ         sales        avgsal  \\\n",
      "count   314.000000     314.000000  290.000000  2.450000e+02    267.000000   \n",
      "mean   1987.500000  415708.885350   56.903448  5.679815e+06  18326.284644   \n",
      "std       0.500798    4025.063452   70.843101  6.977975e+06   6507.584305   \n",
      "min    1987.000000  410032.000000    4.000000  1.100000e+05   4237.000000   \n",
      "25%    1987.000000  410604.000000   15.000000  1.527000e+06  13664.000000   \n",
      "50%    1987.500000  418084.000000   27.500000  2.900000e+06  17160.000000   \n",
      "75%    1988.000000  419309.000000   70.000000  7.000000e+06  22000.000000   \n",
      "max    1988.000000  419486.000000  500.000000  4.700000e+07  40563.000000   \n",
      "\n",
      "            scrap     rework      tothrs       union       grant  ...  \\\n",
      "count  108.000000  82.000000  276.000000  314.000000  314.000000  ...   \n",
      "mean     4.199722   3.883537   25.648551    0.197452    0.114650  ...   \n",
      "std      6.188094   6.145294   45.694834    0.398712    0.319107  ...   \n",
      "min      0.010000   0.000000    0.000000    0.000000    0.000000  ...   \n",
      "25%      0.767500   0.332500    0.000000    0.000000    0.000000  ...   \n",
      "50%      1.555000   1.500000    8.000000    0.000000    0.000000  ...   \n",
      "75%      5.000000   4.267500   39.250000    0.000000    0.000000  ...   \n",
      "max     30.000000  40.000000  290.000000    1.000000    1.000000  ...   \n",
      "\n",
      "       grant_1    clscrap      cgrant    clemploy     clsales     lavgsal  \\\n",
      "count    314.0  54.000000  314.000000  144.000000  119.000000  267.000000   \n",
      "mean       0.0  -0.168993    0.114650    0.096876    0.128995    9.754753   \n",
      "std        0.0   0.589774    0.319107    0.251180    0.489422    0.353818   \n",
      "min        0.0  -2.502170    0.000000   -0.411099   -1.982874    8.351611   \n",
      "25%        0.0  -0.350983    0.000000   -0.031946    0.023286    9.522509   \n",
      "50%        0.0  -0.115118    0.000000    0.064538    0.116219    9.750337   \n",
      "75%        0.0   0.092537    0.000000    0.182321    0.215391    9.998797   \n",
      "max        0.0   2.397895    1.000000    1.673976    2.896701   10.610610   \n",
      "\n",
      "         clavgsal  cgrant_1     chrsemp    clhrsemp  \n",
      "count  131.000000     157.0  125.000000  125.000000  \n",
      "mean     0.058601       0.0    7.423050    0.642580  \n",
      "std      0.074255       0.0   19.301290    1.235229  \n",
      "min     -0.080411       0.0  -47.753490   -2.338574  \n",
      "25%      0.020135       0.0    0.000000    0.000000  \n",
      "50%      0.057159       0.0    0.272727    0.039375  \n",
      "75%      0.086255       0.0   10.000000    1.063067  \n",
      "max      0.568912       0.0  107.027800    4.394449  \n",
      "\n",
      "[8 rows x 30 columns]\n"
     ]
    }
   ],
   "source": [
    "from linearmodels.datasets import jobtraining\n",
    "\n",
    "data = jobtraining.load()\n",
    "print(jobtraining.DESCR)\n",
    "data.head()\n",
    "data = data.where(data.year.isin((1987, 1988)))\n",
    "data = data.dropna(how=\"all\", axis=0).sort_values([\"fcode\", \"year\"])\n",
    "print(data.describe())\n",
    "data = data.set_index(\"fcode\")\n",
    "data = data[[\"year\", \"hrsemp\", \"grant\", \"scrap\", \"lscrap\"]]"
   ]
  },
  {
   "cell_type": "code",
   "execution_count": 34,
   "metadata": {
    "execution": {
     "iopub.execute_input": "2022-10-16T21:37:36.273537Z",
     "iopub.status.busy": "2022-10-16T21:37:36.273229Z",
     "iopub.status.idle": "2022-10-16T21:37:36.302851Z",
     "shell.execute_reply": "2022-10-16T21:37:36.301929Z"
    },
    "pycharm": {
     "name": "#%%\n"
    }
   },
   "outputs": [
    {
     "name": "stdout",
     "output_type": "stream",
     "text": [
      "       const  year     hrsemp      grant      scrap     lscrap\n",
      "count   45.0  45.0  45.000000  45.000000  45.000000  45.000000\n",
      "mean     1.0   1.0  10.812321   0.377778  -0.817556  -0.185697\n",
      "std      0.0   0.0  20.523825   0.490310   2.496392   0.626858\n",
      "min      1.0   1.0 -19.850180   0.000000 -10.000000  -2.502169\n",
      "25%      1.0   1.0   0.000000   0.000000  -1.000000  -0.355820\n",
      "50%      1.0   1.0   1.846154   0.000000  -0.110000  -0.167054\n",
      "75%      1.0   1.0  15.333330   1.000000   0.090000   0.054067\n",
      "max      1.0   1.0  80.000000   1.000000   5.000000   2.397895\n"
     ]
    }
   ],
   "source": [
    "deltas = data.loc[data.year == 1988] - data.loc[data.year == 1987]\n",
    "deltas = add_constant(deltas, has_constant=\"add\")\n",
    "deltas = deltas.dropna()\n",
    "print(deltas.describe())"
   ]
  },
  {
   "cell_type": "markdown",
   "metadata": {
    "pycharm": {
     "name": "#%% md\n"
    }
   },
   "source": [
    "The first stage indicates a relatively strong relationship between grant and the number of hours employed.  Note that grant is a dummy and so the coefficient is just the difference in means. "
   ]
  },
  {
   "cell_type": "code",
   "execution_count": 35,
   "metadata": {
    "execution": {
     "iopub.execute_input": "2022-10-16T21:37:36.306813Z",
     "iopub.status.busy": "2022-10-16T21:37:36.306537Z",
     "iopub.status.idle": "2022-10-16T21:37:36.324671Z",
     "shell.execute_reply": "2022-10-16T21:37:36.323736Z"
    },
    "pycharm": {
     "name": "#%%\n"
    }
   },
   "outputs": [
    {
     "name": "stdout",
     "output_type": "stream",
     "text": [
      "                            OLS Estimation Summary                            \n",
      "==============================================================================\n",
      "Dep. Variable:                 hrsemp   R-squared:                      0.3408\n",
      "Estimator:                        OLS   Adj. R-squared:                 0.3255\n",
      "No. Observations:                  45   F-statistic:                    23.266\n",
      "Date:                Sun, Oct 16 2022   P-value (F-stat)                0.0000\n",
      "Time:                        21:37:36   Distribution:                  chi2(1)\n",
      "Cov. Estimator:            unadjusted                                         \n",
      "                                                                              \n",
      "                             Parameter Estimates                              \n",
      "==============================================================================\n",
      "            Parameter  Std. Err.     T-stat    P-value    Lower CI    Upper CI\n",
      "------------------------------------------------------------------------------\n",
      "const          1.5806     3.1139     0.5076     0.6117     -4.5225      7.6837\n",
      "grant          24.437     5.0662     4.8235     0.0000      14.507      34.367\n",
      "==============================================================================\n"
     ]
    }
   ],
   "source": [
    "mod = IV2SLS(deltas.hrsemp, deltas[[\"const\", \"grant\"]], None, None)\n",
    "print(mod.fit(cov_type=\"unadjusted\"))"
   ]
  },
  {
   "cell_type": "markdown",
   "metadata": {
    "pycharm": {
     "name": "#%% md\n"
    }
   },
   "source": [
    "Here a formula is used to specify the model since it is cleaner.  Note that the `[]` contains the endogenous variables and instruments."
   ]
  },
  {
   "cell_type": "code",
   "execution_count": 36,
   "metadata": {
    "execution": {
     "iopub.execute_input": "2022-10-16T21:37:36.328265Z",
     "iopub.status.busy": "2022-10-16T21:37:36.327999Z",
     "iopub.status.idle": "2022-10-16T21:37:36.351870Z",
     "shell.execute_reply": "2022-10-16T21:37:36.351000Z"
    },
    "pycharm": {
     "name": "#%%\n"
    }
   },
   "outputs": [
    {
     "name": "stdout",
     "output_type": "stream",
     "text": [
      "                          IV-2SLS Estimation Summary                          \n",
      "==============================================================================\n",
      "Dep. Variable:                 lscrap   R-squared:                      0.0159\n",
      "Estimator:                    IV-2SLS   Adj. R-squared:                -0.0070\n",
      "No. Observations:                  45   F-statistic:                    3.3464\n",
      "Date:                Sun, Oct 16 2022   P-value (F-stat)                0.0674\n",
      "Time:                        21:37:36   Distribution:                  chi2(1)\n",
      "Cov. Estimator:            unadjusted                                         \n",
      "                                                                              \n",
      "                             Parameter Estimates                              \n",
      "==============================================================================\n",
      "            Parameter  Std. Err.     T-stat    P-value    Lower CI    Upper CI\n",
      "------------------------------------------------------------------------------\n",
      "Intercept     -0.0327     0.1241    -0.2632     0.7924     -0.2759      0.2106\n",
      "hrsemp        -0.0142     0.0077    -1.8293     0.0674     -0.0293      0.0010\n",
      "==============================================================================\n",
      "\n",
      "Endogenous: hrsemp\n",
      "Instruments: grant\n",
      "Unadjusted Covariance (Homoskedastic)\n",
      "Debiased: False\n"
     ]
    }
   ],
   "source": [
    "mod = IV2SLS.from_formula(\"lscrap ~ 1 + [hrsemp ~ grant]\", deltas)\n",
    "res_iv = mod.fit(cov_type=\"unadjusted\")\n",
    "print(res_iv)"
   ]
  },
  {
   "cell_type": "markdown",
   "metadata": {
    "pycharm": {
     "name": "#%% md\n"
    }
   },
   "source": [
    "The 2SLS estimate is nearly twice as large as the OLS estimate and is slightly more significant."
   ]
  },
  {
   "cell_type": "code",
   "execution_count": 37,
   "metadata": {
    "execution": {
     "iopub.execute_input": "2022-10-16T21:37:36.355663Z",
     "iopub.status.busy": "2022-10-16T21:37:36.355376Z",
     "iopub.status.idle": "2022-10-16T21:37:36.390139Z",
     "shell.execute_reply": "2022-10-16T21:37:36.389270Z"
    },
    "pycharm": {
     "name": "#%%\n"
    }
   },
   "outputs": [
    {
     "name": "stdout",
     "output_type": "stream",
     "text": [
      "                 Model Comparison                 \n",
      "==================================================\n",
      "                          Panel OLS       Panel IV\n",
      "--------------------------------------------------\n",
      "Dep. Variable                lscrap         lscrap\n",
      "Estimator                       OLS        IV-2SLS\n",
      "No. Observations                 45             45\n",
      "Cov. Est.                unadjusted     unadjusted\n",
      "R-squared                    0.0619         0.0159\n",
      "Adj. R-squared               0.0401        -0.0070\n",
      "F-statistic                  2.9707         3.3464\n",
      "P-value (F-stat)             0.0848         0.0674\n",
      "==================     ============   ============\n",
      "Intercept                   -0.1035        -0.0327\n",
      "                          (-1.0208)      (-0.2632)\n",
      "hrsemp                      -0.0076        -0.0142\n",
      "                          (-1.7236)      (-1.8293)\n",
      "==================== ============== ==============\n",
      "Instruments                                  grant\n",
      "--------------------------------------------------\n",
      "\n",
      "T-stats reported in parentheses\n"
     ]
    }
   ],
   "source": [
    "res_ols = IV2SLS.from_formula(\"lscrap ~ 1 + hrsemp\", deltas).fit(cov_type=\"unadjusted\")\n",
    "print(compare({\"Panel OLS\": res_ols, \"Panel IV\": res_iv}))"
   ]
  },
  {
   "cell_type": "code",
   "execution_count": 38,
   "metadata": {
    "execution": {
     "iopub.execute_input": "2022-10-16T21:37:36.394299Z",
     "iopub.status.busy": "2022-10-16T21:37:36.393944Z",
     "iopub.status.idle": "2022-10-16T21:37:36.497712Z",
     "shell.execute_reply": "2022-10-16T21:37:36.496848Z"
    },
    "pycharm": {
     "name": "#%%\n"
    }
   },
   "outputs": [
    {
     "name": "stderr",
     "output_type": "stream",
     "text": [
      "/home/runner/work/linearmodels/linearmodels/linearmodels/iv/results.py:503: IndexWarning: The indices of exog and endog do not match.  Predictions created using the index of exog.\n",
      "  pred = self.model.predict(self.params, exog=exog, endog=endog, data=data)\n"
     ]
    },
    {
     "data": {
      "text/html": [
       "<div>\n",
       "<style scoped>\n",
       "    .dataframe tbody tr th:only-of-type {\n",
       "        vertical-align: middle;\n",
       "    }\n",
       "\n",
       "    .dataframe tbody tr th {\n",
       "        vertical-align: top;\n",
       "    }\n",
       "\n",
       "    .dataframe thead th {\n",
       "        text-align: right;\n",
       "    }\n",
       "</style>\n",
       "<table border=\"1\" class=\"dataframe\">\n",
       "  <thead>\n",
       "    <tr style=\"text-align: right;\">\n",
       "      <th></th>\n",
       "      <th>predictions</th>\n",
       "    </tr>\n",
       "  </thead>\n",
       "  <tbody>\n",
       "  </tbody>\n",
       "</table>\n",
       "</div>"
      ],
      "text/plain": [
       "Empty DataFrame\n",
       "Columns: [predictions]\n",
       "Index: []"
      ]
     },
     "execution_count": 38,
     "metadata": {},
     "output_type": "execute_result"
    }
   ],
   "source": [
    "mod = IV2SLS.from_formula(\"lscrap ~ 1 + [hrsemp ~ grant]\", deltas)\n",
    "res_iv = mod.fit(cov_type=\"unadjusted\")\n",
    "n = deltas.shape[0]\n",
    "res_iv.predict(exog=np.ones((n, 1)), endog=deltas[[\"hrsemp\"]])"
   ]
  }
 ],
 "metadata": {
  "kernelspec": {
   "display_name": "Python 3 (ipykernel)",
   "language": "python",
   "name": "python3"
  },
  "language_info": {
   "codemirror_mode": {
    "name": "ipython",
    "version": 3
   },
   "file_extension": ".py",
   "mimetype": "text/x-python",
   "name": "python",
   "nbconvert_exporter": "python",
   "pygments_lexer": "ipython3",
   "version": "3.8.14"
  },
  "pycharm": {
   "stem_cell": {
    "cell_type": "raw",
    "metadata": {
     "collapsed": false
    },
    "source": []
   }
  }
 },
 "nbformat": 4,
 "nbformat_minor": 4
}

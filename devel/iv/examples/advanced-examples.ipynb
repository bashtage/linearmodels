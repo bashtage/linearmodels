{
 "cells": [
  {
   "cell_type": "markdown",
   "metadata": {},
   "source": [
    "# Further Examples"
   ]
  },
  {
   "cell_type": "markdown",
   "metadata": {},
   "source": [
    "## Linear Instrumental-Variables Regression\n",
    "These examples follow those in **Chapter 6** of _Microeconometrics Using Stata_ by Cameron & Trivedi.\n",
    "\n",
    "The first step is to import the main estimator for linear IV models:\n",
    "\n",
    "* `IV2SLS` - standard two-stage least squares\n",
    "* `IVLIML` - Limited information maximum likelihood and k-class estimators\n",
    "* `IVGMM` - Generalized method of moment estimation\n",
    "* `IVGMMCUE` - Generalized method of moment estimation using continuously updating"
   ]
  },
  {
   "cell_type": "code",
   "execution_count": 1,
   "metadata": {
    "execution": {
     "iopub.execute_input": "2022-10-16T22:14:25.471698Z",
     "iopub.status.busy": "2022-10-16T22:14:25.471442Z",
     "iopub.status.idle": "2022-10-16T22:14:26.079075Z",
     "shell.execute_reply": "2022-10-16T22:14:26.078426Z"
    }
   },
   "outputs": [],
   "source": [
    "from linearmodels import IV2SLS, IVGMM, IVGMMCUE, IVLIML"
   ]
  },
  {
   "cell_type": "markdown",
   "metadata": {},
   "source": [
    "## Importing data\n",
    "The data uses comes from the Medical Expenditure Panel Survey (MEPS) and includes data on out-of-pocket drug expenditure (in logs), individual characteristics, whether an individual was insured through an employer or union (a likely endogenous variable), and some candidate instruments including the percentage of income from Social Security Income, the size of the individual\"s firm and whether the firm has multiple locations."
   ]
  },
  {
   "cell_type": "code",
   "execution_count": 2,
   "metadata": {
    "execution": {
     "iopub.execute_input": "2022-10-16T22:14:26.082694Z",
     "iopub.status.busy": "2022-10-16T22:14:26.082371Z",
     "iopub.status.idle": "2022-10-16T22:14:26.175412Z",
     "shell.execute_reply": "2022-10-16T22:14:26.174313Z"
    }
   },
   "outputs": [
    {
     "name": "stdout",
     "output_type": "stream",
     "text": [
      "\n",
      "age               Age\n",
      "age2              Age-squared\n",
      "black             Black\n",
      "blhisp            Black or Hispanic\n",
      "drugexp           Presc-drugs expense\n",
      "educyr            Years of education\n",
      "fair              Fair health\n",
      "female            Female\n",
      "firmsz            Firm size\n",
      "fph               fair or poor health\n",
      "good              Good health\n",
      "hi_empunion       Insured thro emp/union\n",
      "hisp              Hiapanic\n",
      "income            Income\n",
      "ldrugexp          log(drugexp)\n",
      "linc              log(income)\n",
      "lowincome         Low income\n",
      "marry             Married\n",
      "midincome         Middle income\n",
      "msa               Metropolitan stat area\n",
      "multlc            Multiple locations\n",
      "poor              Poor health\n",
      "poverty           Poor\n",
      "priolist          Priority list cond\n",
      "private           Private insurance\n",
      "ssiratio          SSI/Income ratio\n",
      "totchr            Total chronic cond\n",
      "vegood            V-good health\n",
      "vgh               vg or good health\n",
      "\n"
     ]
    }
   ],
   "source": [
    "from linearmodels.datasets import meps\n",
    "\n",
    "data = meps.load()\n",
    "data = data.dropna()\n",
    "print(meps.DESCR)"
   ]
  },
  {
   "cell_type": "markdown",
   "metadata": {},
   "source": [
    "Next the data -- dependent, endogenous and controls -- are summarized.  The controls are grouped into a list to simplify model building."
   ]
  },
  {
   "cell_type": "code",
   "execution_count": 3,
   "metadata": {
    "execution": {
     "iopub.execute_input": "2022-10-16T22:14:26.178573Z",
     "iopub.status.busy": "2022-10-16T22:14:26.178343Z",
     "iopub.status.idle": "2022-10-16T22:14:26.200602Z",
     "shell.execute_reply": "2022-10-16T22:14:26.199996Z"
    }
   },
   "outputs": [
    {
     "name": "stdout",
     "output_type": "stream",
     "text": [
      "           ldrugexp   hi_empunion        totchr        female           age  \\\n",
      "count  10089.000000  10089.000000  10089.000000  10089.000000  10089.000000   \n",
      "mean       6.481361      0.382198      1.860938      0.577064     75.051740   \n",
      "std        1.362052      0.485949      1.292858      0.494050      6.682109   \n",
      "min        0.000000      0.000000      0.000000      0.000000     65.000000   \n",
      "50%        6.678342      0.000000      2.000000      1.000000     74.000000   \n",
      "max       10.180172      1.000000      9.000000      1.000000     91.000000   \n",
      "\n",
      "               linc        blhisp  \n",
      "count  10089.000000  10089.000000  \n",
      "mean       2.743275      0.163544  \n",
      "std        0.913143      0.369880  \n",
      "min       -6.907755      0.000000  \n",
      "50%        2.743160      0.000000  \n",
      "max        5.744476      1.000000  \n"
     ]
    }
   ],
   "source": [
    "controls = [\"totchr\", \"female\", \"age\", \"linc\", \"blhisp\"]\n",
    "print(data[[\"ldrugexp\", \"hi_empunion\"] + controls].describe(percentiles=[]))"
   ]
  },
  {
   "cell_type": "markdown",
   "metadata": {},
   "source": [
    "It is also worth examining the instruments."
   ]
  },
  {
   "cell_type": "code",
   "execution_count": 4,
   "metadata": {
    "execution": {
     "iopub.execute_input": "2022-10-16T22:14:26.204470Z",
     "iopub.status.busy": "2022-10-16T22:14:26.204123Z",
     "iopub.status.idle": "2022-10-16T22:14:26.218928Z",
     "shell.execute_reply": "2022-10-16T22:14:26.218331Z"
    }
   },
   "outputs": [
    {
     "name": "stdout",
     "output_type": "stream",
     "text": [
      "           ssiratio     lowincome        multlc        firmsz\n",
      "count  10089.000000  10089.000000  10089.000000  10089.000000\n",
      "mean       0.536544      0.187432      0.062048      0.140529\n",
      "std        0.367818      0.390277      0.241254      2.170389\n",
      "min        0.000000      0.000000      0.000000      0.000000\n",
      "50%        0.504522      0.000000      0.000000      0.000000\n",
      "max        9.250620      1.000000      1.000000     50.000000\n"
     ]
    }
   ],
   "source": [
    "instruments = [\"ssiratio\", \"lowincome\", \"multlc\", \"firmsz\"]\n",
    "print(data[instruments].describe(percentiles=[]))"
   ]
  },
  {
   "cell_type": "markdown",
   "metadata": {},
   "source": [
    "And finally the simple correlation between the endogenous variable and the instruments.  Instruments must be correlated to be relevant (but also must be exogenous, which can\"t be examined using simple correlation).  The correlation of `firmsz` is especially low, which might lead to the weak instruments problem if used exclusively.  "
   ]
  },
  {
   "cell_type": "code",
   "execution_count": 5,
   "metadata": {
    "execution": {
     "iopub.execute_input": "2022-10-16T22:14:26.222314Z",
     "iopub.status.busy": "2022-10-16T22:14:26.221799Z",
     "iopub.status.idle": "2022-10-16T22:14:26.237818Z",
     "shell.execute_reply": "2022-10-16T22:14:26.237193Z"
    }
   },
   "outputs": [
    {
     "data": {
      "text/html": [
       "<div>\n",
       "<style scoped>\n",
       "    .dataframe tbody tr th:only-of-type {\n",
       "        vertical-align: middle;\n",
       "    }\n",
       "\n",
       "    .dataframe tbody tr th {\n",
       "        vertical-align: top;\n",
       "    }\n",
       "\n",
       "    .dataframe thead th {\n",
       "        text-align: right;\n",
       "    }\n",
       "</style>\n",
       "<table border=\"1\" class=\"dataframe\">\n",
       "  <thead>\n",
       "    <tr style=\"text-align: right;\">\n",
       "      <th></th>\n",
       "      <th>hi_empunion</th>\n",
       "      <th>ssiratio</th>\n",
       "      <th>lowincome</th>\n",
       "      <th>multlc</th>\n",
       "      <th>firmsz</th>\n",
       "    </tr>\n",
       "  </thead>\n",
       "  <tbody>\n",
       "    <tr>\n",
       "      <th>hi_empunion</th>\n",
       "      <td>1.000000</td>\n",
       "      <td>-0.212431</td>\n",
       "      <td>-0.116419</td>\n",
       "      <td>0.119849</td>\n",
       "      <td>0.037352</td>\n",
       "    </tr>\n",
       "    <tr>\n",
       "      <th>ssiratio</th>\n",
       "      <td>-0.212431</td>\n",
       "      <td>1.000000</td>\n",
       "      <td>0.253946</td>\n",
       "      <td>-0.190433</td>\n",
       "      <td>-0.044578</td>\n",
       "    </tr>\n",
       "    <tr>\n",
       "      <th>lowincome</th>\n",
       "      <td>-0.116419</td>\n",
       "      <td>0.253946</td>\n",
       "      <td>1.000000</td>\n",
       "      <td>-0.062465</td>\n",
       "      <td>-0.008232</td>\n",
       "    </tr>\n",
       "    <tr>\n",
       "      <th>multlc</th>\n",
       "      <td>0.119849</td>\n",
       "      <td>-0.190433</td>\n",
       "      <td>-0.062465</td>\n",
       "      <td>1.000000</td>\n",
       "      <td>0.187275</td>\n",
       "    </tr>\n",
       "    <tr>\n",
       "      <th>firmsz</th>\n",
       "      <td>0.037352</td>\n",
       "      <td>-0.044578</td>\n",
       "      <td>-0.008232</td>\n",
       "      <td>0.187275</td>\n",
       "      <td>1.000000</td>\n",
       "    </tr>\n",
       "  </tbody>\n",
       "</table>\n",
       "</div>"
      ],
      "text/plain": [
       "             hi_empunion  ssiratio  lowincome    multlc    firmsz\n",
       "hi_empunion     1.000000 -0.212431  -0.116419  0.119849  0.037352\n",
       "ssiratio       -0.212431  1.000000   0.253946 -0.190433 -0.044578\n",
       "lowincome      -0.116419  0.253946   1.000000 -0.062465 -0.008232\n",
       "multlc          0.119849 -0.190433  -0.062465  1.000000  0.187275\n",
       "firmsz          0.037352 -0.044578  -0.008232  0.187275  1.000000"
      ]
     },
     "execution_count": 5,
     "metadata": {},
     "output_type": "execute_result"
    }
   ],
   "source": [
    "data[[\"hi_empunion\"] + instruments].corr()"
   ]
  },
  {
   "cell_type": "markdown",
   "metadata": {},
   "source": [
    "``add_constant`` from ``statsmodels`` is used to simplify the process of adding a constant column to the data."
   ]
  },
  {
   "cell_type": "code",
   "execution_count": 6,
   "metadata": {
    "execution": {
     "iopub.execute_input": "2022-10-16T22:14:26.241140Z",
     "iopub.status.busy": "2022-10-16T22:14:26.240920Z",
     "iopub.status.idle": "2022-10-16T22:14:26.384767Z",
     "shell.execute_reply": "2022-10-16T22:14:26.384109Z"
    }
   },
   "outputs": [],
   "source": [
    "from statsmodels.api import OLS, add_constant\n",
    "\n",
    "data[\"const\"] = 1\n",
    "controls = [\"const\"] + controls"
   ]
  },
  {
   "cell_type": "markdown",
   "metadata": {},
   "source": [
    "## 2SLS as OLS\n",
    "Before examining the IV estimators, it is worth noting that 2SLS nests the OLS estimator, so that a call to ``IV2SLS`` using ``None`` for the endogenous and instruments will produce OLS estimates of parameters.\n",
    "\n",
    "The OLS estimates indicate that insurance through an employer or union leads to an **increase** in out-of-pocket drug expenditure."
   ]
  },
  {
   "cell_type": "code",
   "execution_count": 7,
   "metadata": {
    "execution": {
     "iopub.execute_input": "2022-10-16T22:14:26.388209Z",
     "iopub.status.busy": "2022-10-16T22:14:26.387978Z",
     "iopub.status.idle": "2022-10-16T22:14:26.435355Z",
     "shell.execute_reply": "2022-10-16T22:14:26.434728Z"
    }
   },
   "outputs": [
    {
     "name": "stdout",
     "output_type": "stream",
     "text": [
      "                            OLS Estimation Summary                            \n",
      "==============================================================================\n",
      "Dep. Variable:               ldrugexp   R-squared:                      0.1770\n",
      "Estimator:                        OLS   Adj. R-squared:                 0.1765\n",
      "No. Observations:               10089   F-statistic:                    2262.6\n",
      "Date:                Sun, Oct 16 2022   P-value (F-stat)                0.0000\n",
      "Time:                        22:14:26   Distribution:                  chi2(6)\n",
      "Cov. Estimator:                robust                                         \n",
      "                                                                              \n",
      "                              Parameter Estimates                              \n",
      "===============================================================================\n",
      "             Parameter  Std. Err.     T-stat    P-value    Lower CI    Upper CI\n",
      "-------------------------------------------------------------------------------\n",
      "hi_empunion     0.0739     0.0260     2.8441     0.0045      0.0230      0.1248\n",
      "const           5.8611     0.1570     37.320     0.0000      5.5533      6.1689\n",
      "totchr          0.4404     0.0094     47.049     0.0000      0.4220      0.4587\n",
      "female          0.0578     0.0254     2.2797     0.0226      0.0081      0.1075\n",
      "age            -0.0035     0.0019    -1.8228     0.0683     -0.0073      0.0003\n",
      "linc            0.0105     0.0137     0.7646     0.4445     -0.0164      0.0373\n",
      "blhisp         -0.1513     0.0341    -4.4353     0.0000     -0.2182     -0.0844\n",
      "===============================================================================\n"
     ]
    }
   ],
   "source": [
    "ivolsmod = IV2SLS(data.ldrugexp, data[[\"hi_empunion\"] + controls], None, None)\n",
    "res_ols = ivolsmod.fit()\n",
    "print(res_ols)"
   ]
  },
  {
   "cell_type": "markdown",
   "metadata": {},
   "source": [
    "## Just identified 2SLS\n",
    "\n",
    "The just identified two-stage LS estimator uses as many instruments as endogenous variables.  In this example there is one of each, using the SSI ratio as the instrument.  The with the instrument, the effect of insurance through employer or union has a strong negative effect on drug expenditure."
   ]
  },
  {
   "cell_type": "code",
   "execution_count": 8,
   "metadata": {
    "execution": {
     "iopub.execute_input": "2022-10-16T22:14:26.438692Z",
     "iopub.status.busy": "2022-10-16T22:14:26.438389Z",
     "iopub.status.idle": "2022-10-16T22:14:26.479412Z",
     "shell.execute_reply": "2022-10-16T22:14:26.478791Z"
    }
   },
   "outputs": [
    {
     "name": "stdout",
     "output_type": "stream",
     "text": [
      "                          IV-2SLS Estimation Summary                          \n",
      "==============================================================================\n",
      "Dep. Variable:               ldrugexp   R-squared:                      0.0640\n",
      "Estimator:                    IV-2SLS   Adj. R-squared:                 0.0634\n",
      "No. Observations:               10089   F-statistic:                    2000.9\n",
      "Date:                Sun, Oct 16 2022   P-value (F-stat)                0.0000\n",
      "Time:                        22:14:26   Distribution:                  chi2(6)\n",
      "Cov. Estimator:                robust                                         \n",
      "                                                                              \n",
      "                              Parameter Estimates                              \n",
      "===============================================================================\n",
      "             Parameter  Std. Err.     T-stat    P-value    Lower CI    Upper CI\n",
      "-------------------------------------------------------------------------------\n",
      "const           6.7872     0.2688     25.246     0.0000      6.2602      7.3141\n",
      "totchr          0.4503     0.0102     44.157     0.0000      0.4303      0.4703\n",
      "female         -0.0204     0.0326    -0.6257     0.5315     -0.0843      0.0435\n",
      "age            -0.0132     0.0030    -4.4092     0.0000     -0.0191     -0.0073\n",
      "linc            0.0870     0.0226     3.8436     0.0001      0.0426      0.1314\n",
      "blhisp         -0.2174     0.0395    -5.5052     0.0000     -0.2948     -0.1400\n",
      "hi_empunion    -0.8976     0.2211    -4.0592     0.0000     -1.3310     -0.4642\n",
      "===============================================================================\n",
      "\n",
      "Endogenous: hi_empunion\n",
      "Instruments: ssiratio\n",
      "Robust Covariance (Heteroskedastic)\n",
      "Debiased: False\n"
     ]
    }
   ],
   "source": [
    "ivmod = IV2SLS(data.ldrugexp, data[controls], data.hi_empunion, data.ssiratio)\n",
    "res_2sls = ivmod.fit()\n",
    "print(res_2sls.summary)"
   ]
  },
  {
   "cell_type": "markdown",
   "metadata": {},
   "source": [
    "## Multiple Instruments\n",
    "\n",
    "Using multiple instruments only requires expanding the data array in the instruments input."
   ]
  },
  {
   "cell_type": "code",
   "execution_count": 9,
   "metadata": {
    "execution": {
     "iopub.execute_input": "2022-10-16T22:14:26.482740Z",
     "iopub.status.busy": "2022-10-16T22:14:26.482518Z",
     "iopub.status.idle": "2022-10-16T22:14:26.520726Z",
     "shell.execute_reply": "2022-10-16T22:14:26.520122Z"
    }
   },
   "outputs": [],
   "source": [
    "ivmod = IV2SLS(\n",
    "    data.ldrugexp, data[controls], data.hi_empunion, data[[\"ssiratio\", \"multlc\"]]\n",
    ")\n",
    "res_2sls_robust = ivmod.fit()"
   ]
  },
  {
   "cell_type": "markdown",
   "metadata": {},
   "source": [
    "## Alternative covariance estimators\n",
    "\n",
    "All estimator allow for three types of parameter covariance estimator:\n",
    "\n",
    "* ``\"unadjusted\"`` is the classic homoskedastic estimator\n",
    "* ``\"robust\"``  is robust to heteroskedasticity\n",
    "* ``\"clustered\"`` allows one- or two-way clustering to account for additional sources of dependence between the model scores\n",
    "* ``\"kernel\"`` produces a heteroskedasticity-autocorrelation robust covariance estimator\n",
    "\n",
    "The default is ``\"robust\"``.\n",
    "\n",
    "These are all passed using the keyword input ``cov_type``.  Using clustered requires also passing the clustering variable(s).\n",
    "\n"
   ]
  },
  {
   "cell_type": "code",
   "execution_count": 10,
   "metadata": {
    "execution": {
     "iopub.execute_input": "2022-10-16T22:14:26.524058Z",
     "iopub.status.busy": "2022-10-16T22:14:26.523635Z",
     "iopub.status.idle": "2022-10-16T22:14:26.558789Z",
     "shell.execute_reply": "2022-10-16T22:14:26.558249Z"
    }
   },
   "outputs": [],
   "source": [
    "ivmod = IV2SLS(\n",
    "    data.ldrugexp, data[controls], data.hi_empunion, data[[\"ssiratio\", \"multlc\"]]\n",
    ")\n",
    "res_2sls_std = ivmod.fit(cov_type=\"unadjusted\")"
   ]
  },
  {
   "cell_type": "markdown",
   "metadata": {},
   "source": [
    "## GMM Estimation\n",
    "\n",
    "GMM estimation can be more efficient than 2SLS when there are more than one instrument.  By default, 2-step efficient GMM is used (assuming the weighting matrix is correctly specified).  It is possible to iterate until convergence using the optional keyword input ``iter_limit``, which is naturally 2 by default.  Generally, GMM-CUE would be preferred to using multiple iterations of standard GMM.\n",
    "\n",
    "The default weighting matrix is robust to heteroskedasticity (but not clustering)."
   ]
  },
  {
   "cell_type": "code",
   "execution_count": 11,
   "metadata": {
    "execution": {
     "iopub.execute_input": "2022-10-16T22:14:26.561835Z",
     "iopub.status.busy": "2022-10-16T22:14:26.561424Z",
     "iopub.status.idle": "2022-10-16T22:14:26.608560Z",
     "shell.execute_reply": "2022-10-16T22:14:26.607967Z"
    }
   },
   "outputs": [],
   "source": [
    "ivmod = IVGMM(\n",
    "    data.ldrugexp, data[controls], data.hi_empunion, data[[\"ssiratio\", \"multlc\"]]\n",
    ")\n",
    "res_gmm = ivmod.fit()"
   ]
  },
  {
   "cell_type": "markdown",
   "metadata": {},
   "source": [
    "## Changing the weighting matrix structure in GMM estimation\n",
    "The weighting matrix in the GMM objective function can be altered when creating the model.  This example uses clustered weight by age.  The covariance estimator should usually match the weighting matrix, and so clustering is also used here."
   ]
  },
  {
   "cell_type": "code",
   "execution_count": 12,
   "metadata": {
    "execution": {
     "iopub.execute_input": "2022-10-16T22:14:26.613628Z",
     "iopub.status.busy": "2022-10-16T22:14:26.612458Z",
     "iopub.status.idle": "2022-10-16T22:14:26.650498Z",
     "shell.execute_reply": "2022-10-16T22:14:26.649936Z"
    }
   },
   "outputs": [],
   "source": [
    "ivmod = IVGMM(\n",
    "    data.ldrugexp,\n",
    "    data[controls],\n",
    "    data.hi_empunion,\n",
    "    data[[\"ssiratio\", \"multlc\"]],\n",
    "    weight_type=\"clustered\",\n",
    "    clusters=data.age,\n",
    ")\n",
    "res_gmm_clustered = ivmod.fit(cov_type=\"clustered\", clusters=data.age)"
   ]
  },
  {
   "cell_type": "markdown",
   "metadata": {},
   "source": [
    "## Continuously updating GMM \n",
    "The continuously updating GMM estimator simultaneously optimizes the moment conditions and the weighting matrix.  It can be more efficient (in the second order sense) than standard 2-step GMM, although it can also be fragile.  Here the optional input ``display`` is used to produce the output of the non-linear optimizer used to estimate the parameters."
   ]
  },
  {
   "cell_type": "code",
   "execution_count": 13,
   "metadata": {
    "execution": {
     "iopub.execute_input": "2022-10-16T22:14:26.655147Z",
     "iopub.status.busy": "2022-10-16T22:14:26.654043Z",
     "iopub.status.idle": "2022-10-16T22:14:26.879388Z",
     "shell.execute_reply": "2022-10-16T22:14:26.878816Z"
    }
   },
   "outputs": [
    {
     "name": "stdout",
     "output_type": "stream",
     "text": [
      "Warning: Desired error not necessarily achieved due to precision loss.\n",
      "         Current function value: 1.045365\n",
      "         Iterations: 10\n",
      "         Function evaluations: 420\n",
      "         Gradient evaluations: 51\n"
     ]
    }
   ],
   "source": [
    "ivmod = IVGMMCUE(\n",
    "    data.ldrugexp, data[controls], data.hi_empunion, data[[\"ssiratio\", \"multlc\"]]\n",
    ")\n",
    "res_gmm_cue = ivmod.fit(cov_type=\"robust\", display=True)"
   ]
  },
  {
   "cell_type": "markdown",
   "metadata": {},
   "source": [
    "## Comparing results\n",
    "The function ``compare`` can be used to compare the results of multiple models, possibly with different variables, estimators and/or instruments. Usually a dictionary or ``OrderedDict`` is used to hold results since the keys are used as model names.  The advantage of an ``OrderedDict`` is that it will preserve the order of the models in the presentation.\n",
    "\n",
    "With the expectation of the OLS estimate, the parameter estimates are fairly consistent. Standard errors vary slightly although the conclusions reached are not sensitive to the choice of covariance estimator either. T-stats are reported in parentheses."
   ]
  },
  {
   "cell_type": "code",
   "execution_count": 14,
   "metadata": {
    "execution": {
     "iopub.execute_input": "2022-10-16T22:14:26.883965Z",
     "iopub.status.busy": "2022-10-16T22:14:26.882887Z",
     "iopub.status.idle": "2022-10-16T22:14:26.910249Z",
     "shell.execute_reply": "2022-10-16T22:14:26.909726Z"
    }
   },
   "outputs": [
    {
     "name": "stdout",
     "output_type": "stream",
     "text": [
      "                                                     Model Comparison                                                     \n",
      "==========================================================================================================================\n",
      "                               OLS          2SLS      2SLS-Homo   2SLS-Hetero           GMM GMM Cluster(Age)       GMM-CUE\n",
      "--------------------------------------------------------------------------------------------------------------------------\n",
      "Dep. Variable             ldrugexp      ldrugexp       ldrugexp      ldrugexp      ldrugexp         ldrugexp      ldrugexp\n",
      "Estimator                      OLS       IV-2SLS        IV-2SLS       IV-2SLS        IV-GMM           IV-GMM        IV-GMM\n",
      "No. Observations             10089         10089          10089         10089         10089            10089         10089\n",
      "Cov. Est.                   robust        robust     unadjusted        robust        robust        clustered        robust\n",
      "R-squared                   0.1770        0.0640         0.0414        0.0414        0.0406           0.0292        0.0388\n",
      "Adj. R-squared              0.1765        0.0634         0.0409        0.0409        0.0400           0.0286        0.0382\n",
      "F-statistic                 2262.6        2000.9         1882.3        1955.4        1952.6           1700.8        1949.2\n",
      "P-value (F-stat)            0.0000        0.0000         0.0000        0.0000        0.0000           0.0000        0.0000\n",
      "==================     ===========   ===========   ============   ===========   ===========      ===========   ===========\n",
      "hi_empunion                 0.0739       -0.8976        -0.9899       -0.9899       -0.9933          -1.0359       -1.0002\n",
      "                          (2.8441)     (-4.0592)      (-5.1501)     (-4.8386)     (-4.8530)        (-5.0683)     (-4.8810)\n",
      "const                       5.8611        6.7872         6.8752        6.8752        6.8778           6.7277        6.8847\n",
      "                          (37.320)      (25.246)       (28.030)      (26.660)      (26.658)         (13.299)      (26.657)\n",
      "totchr                      0.4404        0.4503         0.4512        0.4512        0.4510           0.4482        0.4510\n",
      "                          (47.049)      (44.157)       (42.942)      (43.769)      (43.738)         (33.833)      (43.701)\n",
      "female                      0.0578       -0.0204        -0.0278       -0.0278       -0.0282          -0.0245       -0.0288\n",
      "                          (2.2797)     (-0.6257)      (-0.8933)     (-0.8653)     (-0.8752)        (-0.8398)     (-0.8928)\n",
      "age                        -0.0035       -0.0132        -0.0141       -0.0141       -0.0142          -0.0119       -0.0142\n",
      "                         (-1.8228)     (-4.4092)      (-5.0834)     (-4.8753)     (-4.8773)        (-1.8928)     (-4.8969)\n",
      "linc                        0.0105        0.0870         0.0943        0.0943        0.0945           0.0957        0.0950\n",
      "                          (0.7646)      (3.8436)       (4.4400)      (4.3079)      (4.3142)         (6.4934)      (4.3333)\n",
      "blhisp                     -0.1513       -0.2174        -0.2237       -0.2237       -0.2231          -0.2091       -0.2236\n",
      "                         (-4.4353)     (-5.5052)      (-5.7805)     (-5.6514)     (-5.6344)        (-4.1662)     (-5.6421)\n",
      "==================== ============= ============= ============== ============= =============    ============= =============\n",
      "Instruments                             ssiratio       ssiratio      ssiratio      ssiratio         ssiratio      ssiratio\n",
      "                                                         multlc        multlc        multlc           multlc        multlc\n",
      "--------------------------------------------------------------------------------------------------------------------------\n",
      "\n",
      "T-stats reported in parentheses\n"
     ]
    }
   ],
   "source": [
    "from collections import OrderedDict\n",
    "\n",
    "from linearmodels.iv.results import compare\n",
    "\n",
    "res = OrderedDict()\n",
    "res[\"OLS\"] = res_ols\n",
    "res[\"2SLS\"] = res_2sls\n",
    "res[\"2SLS-Homo\"] = res_2sls_std\n",
    "res[\"2SLS-Hetero\"] = res_2sls_robust\n",
    "res[\"GMM\"] = res_gmm\n",
    "res[\"GMM Cluster(Age)\"] = res_gmm_clustered\n",
    "res[\"GMM-CUE\"] = res_gmm_cue\n",
    "print(compare(res))"
   ]
  },
  {
   "cell_type": "markdown",
   "metadata": {},
   "source": [
    "## Testing endogeneity\n",
    "\n",
    "The Durbin test is a classic of endogeneity which compares OLS estimates with 2SLS and exploits the fact that OLS estimates will be relatively efficient.  Durbin\"s test is not robust to heteroskedasticity."
   ]
  },
  {
   "cell_type": "code",
   "execution_count": 15,
   "metadata": {
    "execution": {
     "iopub.execute_input": "2022-10-16T22:14:26.914600Z",
     "iopub.status.busy": "2022-10-16T22:14:26.913473Z",
     "iopub.status.idle": "2022-10-16T22:14:26.961523Z",
     "shell.execute_reply": "2022-10-16T22:14:26.960945Z"
    }
   },
   "outputs": [
    {
     "data": {
      "text/plain": [
       "Durbin test of exogeneity\n",
       "H0: All endogenous variables are exogenous\n",
       "Statistic: 25.2819\n",
       "P-value: 0.0000\n",
       "Distributed: chi2(1)\n",
       "WaldTestStatistic, id: 0x7faad4be91f0"
      ]
     },
     "execution_count": 15,
     "metadata": {},
     "output_type": "execute_result"
    }
   ],
   "source": [
    "res_2sls.durbin()"
   ]
  },
  {
   "cell_type": "markdown",
   "metadata": {},
   "source": [
    "The Wu-Hausman test is a variant of the Durbin test that uses a slightly different form."
   ]
  },
  {
   "cell_type": "code",
   "execution_count": 16,
   "metadata": {
    "execution": {
     "iopub.execute_input": "2022-10-16T22:14:26.966243Z",
     "iopub.status.busy": "2022-10-16T22:14:26.965110Z",
     "iopub.status.idle": "2022-10-16T22:14:27.017968Z",
     "shell.execute_reply": "2022-10-16T22:14:27.017403Z"
    }
   },
   "outputs": [
    {
     "data": {
      "text/plain": [
       "Wu-Hausman test of exogeneity\n",
       "H0: All endogenous variables are exogenous\n",
       "Statistic: 25.3253\n",
       "P-value: 0.0000\n",
       "Distributed: F(1,10081)\n",
       "WaldTestStatistic, id: 0x7fab10bf05b0"
      ]
     },
     "execution_count": 16,
     "metadata": {},
     "output_type": "execute_result"
    }
   ],
   "source": [
    "res_2sls.wu_hausman()"
   ]
  },
  {
   "cell_type": "markdown",
   "metadata": {},
   "source": [
    "The test statistic can be directly replicated using the squared t-stat in a 2-stage approach where the first stage regresses the endogenous variable on the controls and instrument and the second stage regresses the dependent variable on the controls, the endogenous regressor and the residuals.  If the regressor was in fact exogenous, the residuals should not be correlated with the dependent variable."
   ]
  },
  {
   "cell_type": "code",
   "execution_count": 17,
   "metadata": {
    "execution": {
     "iopub.execute_input": "2022-10-16T22:14:27.022685Z",
     "iopub.status.busy": "2022-10-16T22:14:27.021551Z",
     "iopub.status.idle": "2022-10-16T22:14:27.115457Z",
     "shell.execute_reply": "2022-10-16T22:14:27.114896Z"
    }
   },
   "outputs": [
    {
     "name": "stdout",
     "output_type": "stream",
     "text": [
      "25.345410499747707\n"
     ]
    },
    {
     "name": "stderr",
     "output_type": "stream",
     "text": [
      "/tmp/ipykernel_3937/2400394995.py:5: FutureWarning: In a future version of pandas all arguments of concat except for the argument 'objs' will be keyword-only.\n",
      "  exog = pd.concat([data[[\"hi_empunion\"] + controls], resids], 1)\n"
     ]
    }
   ],
   "source": [
    "import pandas as pd\n",
    "\n",
    "step1 = IV2SLS(data.hi_empunion, data[[\"ssiratio\"] + controls], None, None).fit()\n",
    "resids = step1.resids\n",
    "exog = pd.concat([data[[\"hi_empunion\"] + controls], resids], 1)\n",
    "step2 = IV2SLS(data.ldrugexp, exog, None, None).fit(cov_type=\"unadjusted\")\n",
    "print(step2.tstats.residual**2)"
   ]
  },
  {
   "cell_type": "markdown",
   "metadata": {},
   "source": [
    "Wooldridge\"s regression-based test of exogeneity is robust to heteroskedasticity since it inherits the covariance estimator from the model. Here there is little difference."
   ]
  },
  {
   "cell_type": "code",
   "execution_count": 18,
   "metadata": {
    "execution": {
     "iopub.execute_input": "2022-10-16T22:14:27.134754Z",
     "iopub.status.busy": "2022-10-16T22:14:27.134473Z",
     "iopub.status.idle": "2022-10-16T22:14:27.200720Z",
     "shell.execute_reply": "2022-10-16T22:14:27.200112Z"
    }
   },
   "outputs": [
    {
     "data": {
      "text/plain": [
       "Wooldridge's regression test of exogeneity\n",
       "H0: Endogenous variables are exogenous\n",
       "Statistic: 26.4542\n",
       "P-value: 0.0000\n",
       "Distributed: chi2(1)\n",
       "WaldTestStatistic, id: 0x7faad403dac0"
      ]
     },
     "execution_count": 18,
     "metadata": {},
     "output_type": "execute_result"
    }
   ],
   "source": [
    "res_2sls.wooldridge_regression"
   ]
  },
  {
   "cell_type": "markdown",
   "metadata": {},
   "source": [
    "Wooldridge\"s score test is an alternative to the regression test, although it usually has slightly less power since it is an LM rather than a Wald type test."
   ]
  },
  {
   "cell_type": "code",
   "execution_count": 19,
   "metadata": {
    "execution": {
     "iopub.execute_input": "2022-10-16T22:14:27.205665Z",
     "iopub.status.busy": "2022-10-16T22:14:27.204451Z",
     "iopub.status.idle": "2022-10-16T22:14:27.242084Z",
     "shell.execute_reply": "2022-10-16T22:14:27.241515Z"
    }
   },
   "outputs": [
    {
     "data": {
      "text/plain": [
       "Wooldridge's score test of exogeneity\n",
       "H0: Endogenous variables are exogenous\n",
       "Statistic: 24.9350\n",
       "P-value: 0.0000\n",
       "Distributed: chi2(1)\n",
       "WaldTestStatistic, id: 0x7faad3f00100"
      ]
     },
     "execution_count": 19,
     "metadata": {},
     "output_type": "execute_result"
    }
   ],
   "source": [
    "res_2sls.wooldridge_score"
   ]
  },
  {
   "cell_type": "markdown",
   "metadata": {},
   "source": [
    "### Exogeneity Testing\n",
    "When there is more than one instrument (the model is overidentified), the J test can be used in GMM models to test whether the model is overidentified -- in other words, whether the instruments are actually exogenous (assuming they are relevant).  In the case with 2 instruments there is no evidence that against the null."
   ]
  },
  {
   "cell_type": "code",
   "execution_count": 20,
   "metadata": {
    "execution": {
     "iopub.execute_input": "2022-10-16T22:14:27.246823Z",
     "iopub.status.busy": "2022-10-16T22:14:27.245695Z",
     "iopub.status.idle": "2022-10-16T22:14:27.252378Z",
     "shell.execute_reply": "2022-10-16T22:14:27.251847Z"
    }
   },
   "outputs": [
    {
     "data": {
      "text/plain": [
       "H0: Expected moment conditions are equal to 0\n",
       "Statistic: 1.0475\n",
       "P-value: 0.3061\n",
       "Distributed: chi2(1)\n",
       "WaldTestStatistic, id: 0x7faad4868f70"
      ]
     },
     "execution_count": 20,
     "metadata": {},
     "output_type": "execute_result"
    }
   ],
   "source": [
    "res_gmm.j_stat"
   ]
  },
  {
   "cell_type": "markdown",
   "metadata": {},
   "source": [
    "When all instruments are included the story changes, and some of the additional instrument (`lowincome` or `firmsz`) appear to be endogenous."
   ]
  },
  {
   "cell_type": "code",
   "execution_count": 21,
   "metadata": {
    "execution": {
     "iopub.execute_input": "2022-10-16T22:14:27.256843Z",
     "iopub.status.busy": "2022-10-16T22:14:27.255724Z",
     "iopub.status.idle": "2022-10-16T22:14:27.293324Z",
     "shell.execute_reply": "2022-10-16T22:14:27.292785Z"
    }
   },
   "outputs": [
    {
     "data": {
      "text/plain": [
       "H0: Expected moment conditions are equal to 0\n",
       "Statistic: 11.5903\n",
       "P-value: 0.0089\n",
       "Distributed: chi2(3)\n",
       "WaldTestStatistic, id: 0x7faad3fbab80"
      ]
     },
     "execution_count": 21,
     "metadata": {},
     "output_type": "execute_result"
    }
   ],
   "source": [
    "ivmod = IVGMM(data.ldrugexp, data[controls], data.hi_empunion, data[instruments])\n",
    "res_gmm_all = ivmod.fit()\n",
    "res_gmm_all.j_stat"
   ]
  },
  {
   "cell_type": "markdown",
   "metadata": {},
   "source": [
    "## Single Instrument Regressions\n",
    "It can be useful to run the just identified regressions to see how the IV estimate varies by instrument. The OLS model is included for comparison. The coefficient when using ``lowincome`` is very similar to the OLS as is the $R^2$ which indicates this variable may be endogenous. The coefficient using ``firmsz`` is also very different, but this is probably due to the low correlation between ``firmsz`` and the endogenous regressor so that this is a weak instrument. "
   ]
  },
  {
   "cell_type": "code",
   "execution_count": 22,
   "metadata": {
    "execution": {
     "iopub.execute_input": "2022-10-16T22:14:27.297773Z",
     "iopub.status.busy": "2022-10-16T22:14:27.296644Z",
     "iopub.status.idle": "2022-10-16T22:14:27.449325Z",
     "shell.execute_reply": "2022-10-16T22:14:27.448726Z"
    }
   },
   "outputs": [
    {
     "name": "stdout",
     "output_type": "stream",
     "text": [
      "                                     Model Comparison                                     \n",
      "==========================================================================================\n",
      "                          ssiratio     lowincome        multlc        firmsz           OLS\n",
      "------------------------------------------------------------------------------------------\n",
      "Dep. Variable             ldrugexp      ldrugexp      ldrugexp      ldrugexp      ldrugexp\n",
      "Estimator                  IV-2SLS       IV-2SLS       IV-2SLS       IV-2SLS           OLS\n",
      "No. Observations             10089         10089         10089         10089         10089\n",
      "Cov. Est.                   robust        robust        robust        robust        robust\n",
      "R-squared                   0.0640        0.1768       -0.0644       -0.9053        0.1770\n",
      "Adj. R-squared              0.0634        0.1763       -0.0651       -0.9064        0.1765\n",
      "F-statistic                 2000.9        2250.6        1734.1        950.64        2262.6\n",
      "P-value (F-stat)            0.0000        0.0000        0.0000        0.0000        0.0000\n",
      "==================     ===========   ===========   ===========   ===========   ===========\n",
      "const                       6.7872        5.8201        7.2145        8.7267        5.8611\n",
      "                          (25.246)      (15.267)      (16.326)      (6.4196)      (37.320)\n",
      "totchr                      0.4503        0.4399        0.4548        0.4710        0.4404\n",
      "                          (44.157)      (43.834)      (39.193)      (23.163)      (47.049)\n",
      "female                     -0.0204        0.0613       -0.0565       -0.1842        0.0578\n",
      "                         (-0.6257)      (1.6066)     (-1.2596)     (-1.5312)      (2.2797)\n",
      "age                        -0.0132       -0.0031       -0.0177       -0.0335       -0.0035\n",
      "                         (-4.4092)     (-0.7521)     (-3.7086)     (-2.3433)     (-1.8228)\n",
      "linc                        0.0870        0.0071        0.1223        0.2473        0.0105\n",
      "                          (3.8436)      (0.2280)      (3.2965)      (2.1876)      (0.7646)\n",
      "blhisp                     -0.2174       -0.1484       -0.2479       -0.3559       -0.1513\n",
      "                         (-5.5052)     (-3.5639)     (-5.0727)     (-3.2425)     (-4.4353)\n",
      "hi_empunion                -0.8976        0.1170       -1.3459       -2.9323        0.0739\n",
      "                         (-4.0592)      (0.3254)     (-3.1760)     (-2.0908)      (2.8441)\n",
      "==================== ============= ============= ============= ============= =============\n",
      "Instruments               ssiratio     lowincome        multlc        firmsz              \n",
      "------------------------------------------------------------------------------------------\n",
      "\n",
      "T-stats reported in parentheses\n"
     ]
    }
   ],
   "source": [
    "od = OrderedDict()\n",
    "for col in instruments:\n",
    "    od[col] = IV2SLS(data.ldrugexp, data[controls], data.hi_empunion, data[col]).fit(\n",
    "        cov_type=\"robust\"\n",
    "    )\n",
    "od[\"OLS\"] = res_ols\n",
    "print(compare(od))"
   ]
  },
  {
   "cell_type": "markdown",
   "metadata": {},
   "source": [
    "### First Stage Diagnostics\n",
    "First stage diagnostics are available to assess whether the instruments appear to be credible for the endogenous regressor. The Partial F-statistic is the F-statistic for all instruments once controls have been partialed out.  In the case of a single instrument, it is just the squared t-stat."
   ]
  },
  {
   "cell_type": "code",
   "execution_count": 23,
   "metadata": {
    "execution": {
     "iopub.execute_input": "2022-10-16T22:14:27.454111Z",
     "iopub.status.busy": "2022-10-16T22:14:27.452972Z",
     "iopub.status.idle": "2022-10-16T22:14:27.629162Z",
     "shell.execute_reply": "2022-10-16T22:14:27.628581Z"
    }
   },
   "outputs": [
    {
     "name": "stdout",
     "output_type": "stream",
     "text": [
      "    First Stage Estimation Results    \n",
      "======================================\n",
      "                           hi_empunion\n",
      "--------------------------------------\n",
      "R-squared                       0.0761\n",
      "Partial R-squared               0.0179\n",
      "Shea's R-squared                0.0179\n",
      "Partial F-statistic             65.806\n",
      "P-value (Partial F-stat)     4.441e-16\n",
      "Partial F-stat Distn           chi2(1)\n",
      "========================== ===========\n",
      "const                           1.0290\n",
      "                              (17.705)\n",
      "totchr                          0.0128\n",
      "                              (3.4896)\n",
      "female                         -0.0734\n",
      "                             (-7.6226)\n",
      "age                            -0.0086\n",
      "                             (-12.184)\n",
      "linc                            0.0484\n",
      "                              (7.3266)\n",
      "blhisp                         -0.0627\n",
      "                             (-5.1084)\n",
      "ssiratio                       -0.1916\n",
      "                             (-8.1121)\n",
      "--------------------------------------\n",
      "\n",
      "T-stats reported in parentheses\n",
      "T-stats use same covariance type as original model\n"
     ]
    }
   ],
   "source": [
    "print(res_2sls.first_stage)"
   ]
  },
  {
   "cell_type": "markdown",
   "metadata": {},
   "source": [
    "The F-statistic actually has a $chi^2$ distribution since it is just a Wald test that all of the coefficients are 0.  This breaks the \"rule-of-thumb\" but it can be applied by dividing the F-stat by the number of instruments."
   ]
  },
  {
   "cell_type": "code",
   "execution_count": 24,
   "metadata": {
    "execution": {
     "iopub.execute_input": "2022-10-16T22:14:27.632461Z",
     "iopub.status.busy": "2022-10-16T22:14:27.632229Z",
     "iopub.status.idle": "2022-10-16T22:14:27.836576Z",
     "shell.execute_reply": "2022-10-16T22:14:27.835928Z"
    }
   },
   "outputs": [
    {
     "name": "stdout",
     "output_type": "stream",
     "text": [
      "    First Stage Estimation Results    \n",
      "======================================\n",
      "                           hi_empunion\n",
      "--------------------------------------\n",
      "R-squared                       0.0821\n",
      "Partial R-squared               0.0243\n",
      "Shea's R-squared                0.0243\n",
      "Partial F-statistic             179.47\n",
      "P-value (Partial F-stat)        0.0000\n",
      "Partial F-stat Distn           chi2(4)\n",
      "========================== ===========\n",
      "const                           0.9899\n",
      "                              (16.959)\n",
      "totchr                          0.0133\n",
      "                              (3.6494)\n",
      "female                         -0.0724\n",
      "                             (-7.5497)\n",
      "age                            -0.0080\n",
      "                             (-11.206)\n",
      "linc                            0.0410\n",
      "                              (6.3552)\n",
      "blhisp                         -0.0676\n",
      "                             (-5.5369)\n",
      "ssiratio                       -0.1690\n",
      "                             (-7.3289)\n",
      "lowincome                      -0.0637\n",
      "                             (-5.1947)\n",
      "multlc                          0.1151\n",
      "                              (5.4799)\n",
      "firmsz                          0.0037\n",
      "                              (1.9286)\n",
      "--------------------------------------\n",
      "\n",
      "T-stats reported in parentheses\n",
      "T-stats use same covariance type as original model\n"
     ]
    }
   ],
   "source": [
    "ivmod = IV2SLS(data.ldrugexp, data[controls], data.hi_empunion, data[instruments])\n",
    "res_2sls_all = ivmod.fit()\n",
    "print(res_2sls_all.first_stage)"
   ]
  },
  {
   "cell_type": "markdown",
   "metadata": {},
   "source": [
    "## LIML\n",
    "The LIML estimator and related k-class estimators can be used through ``IVLIML``.  LIML can have better finite sample properties if the model is not strongly identified. By default the $\\kappa$ parameter is estimated. In this dataset it is very close to 1 and to the results for LIML are similar to 2SLS (they would be exact if $\\kappa=1$)."
   ]
  },
  {
   "cell_type": "code",
   "execution_count": 25,
   "metadata": {
    "execution": {
     "iopub.execute_input": "2022-10-16T22:14:27.839734Z",
     "iopub.status.busy": "2022-10-16T22:14:27.839508Z",
     "iopub.status.idle": "2022-10-16T22:14:27.885719Z",
     "shell.execute_reply": "2022-10-16T22:14:27.884970Z"
    }
   },
   "outputs": [
    {
     "name": "stdout",
     "output_type": "stream",
     "text": [
      "                       Model Comparison                       \n",
      "==============================================================\n",
      "                              2SLS          LIML           GMM\n",
      "--------------------------------------------------------------\n",
      "Dep. Variable             ldrugexp      ldrugexp      ldrugexp\n",
      "Estimator                  IV-2SLS       IV-LIML        IV-GMM\n",
      "No. Observations             10089         10089         10089\n",
      "Cov. Est.                   robust        robust        robust\n",
      "R-squared                   0.0414        0.0400        0.0406\n",
      "Adj. R-squared              0.0409        0.0394        0.0400\n",
      "F-statistic                 1955.4        1952.3        1952.6\n",
      "P-value (F-stat)            0.0000        0.0000        0.0000\n",
      "==================     ===========   ===========   ===========\n",
      "const                       6.8752        6.8807        6.8778\n",
      "                          (26.660)      (26.577)      (26.658)\n",
      "totchr                      0.4512        0.4513        0.4510\n",
      "                          (43.769)      (43.730)      (43.738)\n",
      "female                     -0.0278       -0.0283       -0.0282\n",
      "                         (-0.8653)     (-0.8776)     (-0.8752)\n",
      "age                        -0.0141       -0.0142       -0.0142\n",
      "                         (-4.8753)     (-4.8781)     (-4.8773)\n",
      "linc                        0.0943        0.0947        0.0945\n",
      "                          (4.3079)      (4.3114)      (4.3142)\n",
      "blhisp                     -0.2237       -0.2241       -0.2231\n",
      "                         (-5.6514)     (-5.6531)     (-5.6344)\n",
      "hi_empunion                -0.9899       -0.9957       -0.9933\n",
      "                         (-4.8386)     (-4.8361)     (-4.8530)\n",
      "==================== ============= ============= =============\n",
      "Instruments               ssiratio      ssiratio      ssiratio\n",
      "                            multlc        multlc        multlc\n",
      "--------------------------------------------------------------\n",
      "\n",
      "T-stats reported in parentheses\n"
     ]
    }
   ],
   "source": [
    "ivmod = IVLIML(\n",
    "    data.ldrugexp, data[controls], data.hi_empunion, data[[\"ssiratio\", \"multlc\"]]\n",
    ")\n",
    "res_liml = ivmod.fit(cov_type=\"robust\")\n",
    "print(compare({\"2SLS\": res_2sls_robust, \"LIML\": res_liml, \"GMM\": res_gmm}))"
   ]
  },
  {
   "cell_type": "markdown",
   "metadata": {},
   "source": [
    "The estimated value of $\\kappa$."
   ]
  },
  {
   "cell_type": "code",
   "execution_count": 26,
   "metadata": {
    "execution": {
     "iopub.execute_input": "2022-10-16T22:14:27.888618Z",
     "iopub.status.busy": "2022-10-16T22:14:27.888399Z",
     "iopub.status.idle": "2022-10-16T22:14:27.892891Z",
     "shell.execute_reply": "2022-10-16T22:14:27.892243Z"
    }
   },
   "outputs": [
    {
     "name": "stdout",
     "output_type": "stream",
     "text": [
      "1.0001153166806431\n"
     ]
    }
   ],
   "source": [
    "print(res_liml.kappa)"
   ]
  },
  {
   "cell_type": "markdown",
   "metadata": {},
   "source": [
    "### IV2SLS as OLS\n",
    "\n",
    "As one final check, the \"OLS\" version of ``IV2SLS`` is compared to ``statsmodels`` ``OLS`` command. The parameters are identical."
   ]
  },
  {
   "cell_type": "code",
   "execution_count": 27,
   "metadata": {
    "execution": {
     "iopub.execute_input": "2022-10-16T22:14:27.895753Z",
     "iopub.status.busy": "2022-10-16T22:14:27.895538Z",
     "iopub.status.idle": "2022-10-16T22:14:27.934670Z",
     "shell.execute_reply": "2022-10-16T22:14:27.934166Z"
    }
   },
   "outputs": [
    {
     "name": "stdout",
     "output_type": "stream",
     "text": [
      "             parameter        sm\n",
      "hi_empunion   0.073879  0.073879\n",
      "const         5.861131  5.861131\n",
      "totchr        0.440381  0.440381\n",
      "female        0.057806  0.057806\n",
      "age          -0.003529 -0.003529\n",
      "linc          0.010482  0.010482\n",
      "blhisp       -0.151307 -0.151307\n"
     ]
    },
    {
     "name": "stderr",
     "output_type": "stream",
     "text": [
      "/tmp/ipykernel_3937/2281671701.py:7: FutureWarning: In a future version of pandas all arguments of concat except for the argument 'objs' will be keyword-only.\n",
      "  print(pd.concat([res_ivols.params, sm_ols], 1))\n"
     ]
    }
   ],
   "source": [
    "import pandas as pd\n",
    "\n",
    "ivolsmod = IV2SLS(data.ldrugexp, data[[\"hi_empunion\"] + controls], None, None)\n",
    "res_ivols = ivolsmod.fit()\n",
    "sm_ols = res_ols.params\n",
    "sm_ols.name = \"sm\"\n",
    "print(pd.concat([res_ivols.params, sm_ols], 1))"
   ]
  }
 ],
 "metadata": {
  "kernelspec": {
   "display_name": "Python 3 (ipykernel)",
   "language": "python",
   "name": "python3"
  },
  "language_info": {
   "codemirror_mode": {
    "name": "ipython",
    "version": 3
   },
   "file_extension": ".py",
   "mimetype": "text/x-python",
   "name": "python",
   "nbconvert_exporter": "python",
   "pygments_lexer": "ipython3",
   "version": "3.8.14"
  },
  "nbsphinx": {
   "allow_errors": true
  },
  "pycharm": {
   "stem_cell": {
    "cell_type": "raw",
    "metadata": {
     "collapsed": false
    },
    "source": []
   }
  }
 },
 "nbformat": 4,
 "nbformat_minor": 4
}

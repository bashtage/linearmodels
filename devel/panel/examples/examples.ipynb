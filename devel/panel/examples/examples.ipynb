{
 "cells": [
  {
   "cell_type": "markdown",
   "metadata": {},
   "source": [
    "# Examples\n",
    "These examples cover the models available for estimating panel models.  The initial examples all ignore covariance options and so use the default classic covariance which is appropriate for homoskedastic data. The alternative covariance options are described at the end of this document."
   ]
  },
  {
   "cell_type": "markdown",
   "metadata": {},
   "source": [
    "## Loading data\n",
    "These examples all make use of the wage panel from \n",
    "\n",
    "F. Vella and M. Verbeek (1998), \"Whose Wages Do Unions Raise? A Dynamic Model of Unionism and Wage Rate Determination for Young Men,\" _Journal of Applied Econometrics_ 13, 163-183.\n",
    "\n",
    "The data set consists of wages and characteristics for men during the 1980s.  The entity identifier is ``nr`` and the time identified is ``year``.  This data is used extensively in Chapter 14 of _Introduction to Econometrics_ by Jeffrey Wooldridge.\n",
    "\n",
    "Here a ``MultiIndex`` ``DataFrame`` is used to hold the data in a format that can be understood as a panel. Before setting the index, a year ``Categorical`` is created which facilitated making dummies."
   ]
  },
  {
   "cell_type": "code",
   "execution_count": 1,
   "metadata": {
    "execution": {
     "iopub.execute_input": "2025-07-23T15:12:35.832728Z",
     "iopub.status.busy": "2025-07-23T15:12:35.832462Z",
     "iopub.status.idle": "2025-07-23T15:12:37.580494Z",
     "shell.execute_reply": "2025-07-23T15:12:37.579832Z"
    }
   },
   "outputs": [
    {
     "name": "stdout",
     "output_type": "stream",
     "text": [
      "\n",
      "F. Vella and M. Verbeek (1998), \"Whose Wages Do Unions Raise? A Dynamic Model\n",
      "of Unionism and Wage Rate Determination for Young Men,\" Journal of Applied\n",
      "Econometrics 13, 163-183.\n",
      "\n",
      "nr                       person identifier\n",
      "year                     1980 to 1987\n",
      "black                    =1 if black\n",
      "exper                    labor market experience\n",
      "hisp                     =1 if Hispanic\n",
      "hours                    annual hours worked\n",
      "married                  =1 if married\n",
      "educ                     years of schooling\n",
      "union                    =1 if in union\n",
      "lwage                    log(wage)\n",
      "expersq                  exper^2\n",
      "occupation               Occupation code\n",
      "\n",
      "         black  exper  hisp  hours  married  educ  union     lwage  expersq  \\\n",
      "nr year                                                                       \n",
      "13 1980      0      1     0   2672        0    14      0  1.197540        1   \n",
      "   1981      0      2     0   2320        0    14      1  1.853060        4   \n",
      "   1982      0      3     0   2940        0    14      0  1.344462        9   \n",
      "   1983      0      4     0   2960        0    14      0  1.433213       16   \n",
      "   1984      0      5     0   3071        0    14      0  1.568125       25   \n",
      "\n",
      "         occupation  year  \n",
      "nr year                    \n",
      "13 1980           9  1980  \n",
      "   1981           9  1981  \n",
      "   1982           9  1982  \n",
      "   1983           9  1983  \n",
      "   1984           5  1984  \n"
     ]
    }
   ],
   "source": [
    "import pandas as pd\n",
    "\n",
    "from linearmodels.datasets import wage_panel\n",
    "\n",
    "data = wage_panel.load()\n",
    "year = pd.Categorical(data.year)\n",
    "data = data.set_index([\"nr\", \"year\"])\n",
    "data[\"year\"] = year\n",
    "print(wage_panel.DESCR)\n",
    "print(data.head())"
   ]
  },
  {
   "cell_type": "markdown",
   "metadata": {},
   "source": [
    "## Basic regression on panel data\n",
    "``PooledOLS`` is just plain OLS that understands that various panel data structures. It is useful as a base model. Here the log wage is modeled using all of the variables and time dummies."
   ]
  },
  {
   "cell_type": "code",
   "execution_count": 2,
   "metadata": {
    "execution": {
     "iopub.execute_input": "2025-07-23T15:12:37.583500Z",
     "iopub.status.busy": "2025-07-23T15:12:37.583205Z",
     "iopub.status.idle": "2025-07-23T15:12:38.217212Z",
     "shell.execute_reply": "2025-07-23T15:12:38.216501Z"
    }
   },
   "outputs": [
    {
     "name": "stdout",
     "output_type": "stream",
     "text": [
      "                          PooledOLS Estimation Summary                          \n",
      "================================================================================\n",
      "Dep. Variable:                  lwage   R-squared:                        0.1893\n",
      "Estimator:                  PooledOLS   R-squared (Between):              0.2066\n",
      "No. Observations:                4360   R-squared (Within):               0.1692\n",
      "Date:                Wed, Jul 23 2025   R-squared (Overall):              0.1893\n",
      "Time:                        15:12:38   Log-likelihood                   -2982.0\n",
      "Cov. Estimator:            Unadjusted                                           \n",
      "                                        F-statistic:                      72.459\n",
      "Entities:                         545   P-value                           0.0000\n",
      "Avg Obs:                       8.0000   Distribution:                 F(14,4345)\n",
      "Min Obs:                       8.0000                                           \n",
      "Max Obs:                       8.0000   F-statistic (robust):             72.459\n",
      "                                        P-value                           0.0000\n",
      "Time periods:                       8   Distribution:                 F(14,4345)\n",
      "Avg Obs:                       545.00                                           \n",
      "Min Obs:                       545.00                                           \n",
      "Max Obs:                       545.00                                           \n",
      "                                                                                \n",
      "                             Parameter Estimates                              \n",
      "==============================================================================\n",
      "            Parameter  Std. Err.     T-stat    P-value    Lower CI    Upper CI\n",
      "------------------------------------------------------------------------------\n",
      "const          0.0921     0.0783     1.1761     0.2396     -0.0614      0.2455\n",
      "black         -0.1392     0.0236    -5.9049     0.0000     -0.1855     -0.0930\n",
      "hisp           0.0160     0.0208     0.7703     0.4412     -0.0248      0.0568\n",
      "exper          0.0672     0.0137     4.9095     0.0000      0.0404      0.0941\n",
      "expersq       -0.0024     0.0008    -2.9413     0.0033     -0.0040     -0.0008\n",
      "married        0.1083     0.0157     6.8997     0.0000      0.0775      0.1390\n",
      "educ           0.0913     0.0052     17.442     0.0000      0.0811      0.1016\n",
      "union          0.1825     0.0172     10.635     0.0000      0.1488      0.2161\n",
      "year.1981      0.0583     0.0304     1.9214     0.0548     -0.0012      0.1178\n",
      "year.1982      0.0628     0.0332     1.8900     0.0588     -0.0023      0.1279\n",
      "year.1983      0.0620     0.0367     1.6915     0.0908     -0.0099      0.1339\n",
      "year.1984      0.0905     0.0401     2.2566     0.0241      0.0119      0.1691\n",
      "year.1985      0.1092     0.0434     2.5200     0.0118      0.0243      0.1942\n",
      "year.1986      0.1420     0.0464     3.0580     0.0022      0.0509      0.2330\n",
      "year.1987      0.1738     0.0494     3.5165     0.0004      0.0769      0.2707\n",
      "==============================================================================\n"
     ]
    }
   ],
   "source": [
    "import statsmodels.api as sm\n",
    "\n",
    "from linearmodels.panel import PooledOLS\n",
    "\n",
    "exog_vars = [\"black\", \"hisp\", \"exper\", \"expersq\", \"married\", \"educ\", \"union\", \"year\"]\n",
    "exog = sm.add_constant(data[exog_vars])\n",
    "mod = PooledOLS(data.lwage, exog)\n",
    "pooled_res = mod.fit()\n",
    "print(pooled_res)"
   ]
  },
  {
   "cell_type": "markdown",
   "metadata": {},
   "source": [
    "## Estimating parameters with uncorrelated effects\n",
    "When modeling panel data it is common to consider models beyond what OLS will efficiently estimate.  The most common are error component models which add an additional term to the standard OLS model,\n",
    "\n",
    "$$ y_{it} = x_{it}\\beta + \\alpha_{i} + \\epsilon_{it} $$\n",
    "\n",
    "where $\\alpha_i$ affects all values of entity i. When the $\\alpha_i$ are uncorrelated with the regressors in $x_{it}$, a random effects model can be used to efficiently estimate parameters of this model."
   ]
  },
  {
   "cell_type": "markdown",
   "metadata": {},
   "source": [
    "### Random effects\n",
    "The random effects model is virtually identical to the pooled OLS model except that is accounts for the structure of the model and so is more efficient. Random effects uses a quasi-demeaning strategy which subtracts the time average of the within entity values to account for the common shock."
   ]
  },
  {
   "cell_type": "code",
   "execution_count": 3,
   "metadata": {
    "execution": {
     "iopub.execute_input": "2025-07-23T15:12:38.220398Z",
     "iopub.status.busy": "2025-07-23T15:12:38.219730Z",
     "iopub.status.idle": "2025-07-23T15:12:38.427542Z",
     "shell.execute_reply": "2025-07-23T15:12:38.426828Z"
    }
   },
   "outputs": [
    {
     "name": "stdout",
     "output_type": "stream",
     "text": [
      "                        RandomEffects Estimation Summary                        \n",
      "================================================================================\n",
      "Dep. Variable:                  lwage   R-squared:                        0.1806\n",
      "Estimator:              RandomEffects   R-squared (Between):              0.1853\n",
      "No. Observations:                4360   R-squared (Within):               0.1799\n",
      "Date:                Wed, Jul 23 2025   R-squared (Overall):              0.1828\n",
      "Time:                        15:12:38   Log-likelihood                   -1622.5\n",
      "Cov. Estimator:            Unadjusted                                           \n",
      "                                        F-statistic:                      68.409\n",
      "Entities:                         545   P-value                           0.0000\n",
      "Avg Obs:                       8.0000   Distribution:                 F(14,4345)\n",
      "Min Obs:                       8.0000                                           \n",
      "Max Obs:                       8.0000   F-statistic (robust):             68.409\n",
      "                                        P-value                           0.0000\n",
      "Time periods:                       8   Distribution:                 F(14,4345)\n",
      "Avg Obs:                       545.00                                           \n",
      "Min Obs:                       545.00                                           \n",
      "Max Obs:                       545.00                                           \n",
      "                                                                                \n",
      "                             Parameter Estimates                              \n",
      "==============================================================================\n",
      "            Parameter  Std. Err.     T-stat    P-value    Lower CI    Upper CI\n",
      "------------------------------------------------------------------------------\n",
      "const          0.0234     0.1514     0.1546     0.8771     -0.2735      0.3203\n",
      "black         -0.1394     0.0480    -2.9054     0.0037     -0.2334     -0.0453\n",
      "hisp           0.0217     0.0428     0.5078     0.6116     -0.0622      0.1057\n",
      "exper          0.1058     0.0154     6.8706     0.0000      0.0756      0.1361\n",
      "expersq       -0.0047     0.0007    -6.8623     0.0000     -0.0061     -0.0034\n",
      "married        0.0638     0.0168     3.8035     0.0001      0.0309      0.0967\n",
      "educ           0.0919     0.0107     8.5744     0.0000      0.0709      0.1129\n",
      "union          0.1059     0.0179     5.9289     0.0000      0.0709      0.1409\n",
      "year.1981      0.0404     0.0247     1.6362     0.1019     -0.0080      0.0889\n",
      "year.1982      0.0309     0.0324     0.9519     0.3412     -0.0327      0.0944\n",
      "year.1983      0.0202     0.0417     0.4840     0.6284     -0.0616      0.1020\n",
      "year.1984      0.0430     0.0515     0.8350     0.4037     -0.0580      0.1440\n",
      "year.1985      0.0577     0.0615     0.9383     0.3482     -0.0629      0.1782\n",
      "year.1986      0.0918     0.0716     1.2834     0.1994     -0.0485      0.2321\n",
      "year.1987      0.1348     0.0817     1.6504     0.0989     -0.0253      0.2950\n",
      "==============================================================================\n"
     ]
    }
   ],
   "source": [
    "from linearmodels.panel import RandomEffects\n",
    "\n",
    "mod = RandomEffects(data.lwage, exog)\n",
    "re_res = mod.fit()\n",
    "print(re_res)"
   ]
  },
  {
   "cell_type": "markdown",
   "metadata": {},
   "source": [
    "The model fit is fairly similar, although the return to experience has changed substantially, as has its significance.  This is partially explainable by the inclusion of the year dummies which will fit the trend in experience and so only the cross-sectional differences matter.  The quasi-differencing in the random effects estimator depends on a quantity that depends on the relative variance of the idiosyncratic shock and the common shock.  This can be accessed using ``variance_decomposition``."
   ]
  },
  {
   "cell_type": "code",
   "execution_count": 4,
   "metadata": {
    "execution": {
     "iopub.execute_input": "2025-07-23T15:12:38.430935Z",
     "iopub.status.busy": "2025-07-23T15:12:38.430594Z",
     "iopub.status.idle": "2025-07-23T15:12:38.454674Z",
     "shell.execute_reply": "2025-07-23T15:12:38.453834Z"
    }
   },
   "outputs": [
    {
     "data": {
      "text/plain": [
       "Effects                   0.106946\n",
       "Residual                  0.123324\n",
       "Percent due to Effects    0.464438\n",
       "Name: Variance Decomposition, dtype: float64"
      ]
     },
     "execution_count": 4,
     "metadata": {},
     "output_type": "execute_result"
    }
   ],
   "source": [
    "re_res.variance_decomposition"
   ]
  },
  {
   "cell_type": "markdown",
   "metadata": {},
   "source": [
    "The coefficient $\\theta_i$ determines how much demeaning takes place.  When this value is 1, the RE model reduces to the pooled model since this occurs when there is no variance in the effects.  When panels are unbalanced it will vary across entities, but in this balanced panel all values are the same."
   ]
  },
  {
   "cell_type": "code",
   "execution_count": 5,
   "metadata": {
    "execution": {
     "iopub.execute_input": "2025-07-23T15:12:38.457534Z",
     "iopub.status.busy": "2025-07-23T15:12:38.457271Z",
     "iopub.status.idle": "2025-07-23T15:12:38.473583Z",
     "shell.execute_reply": "2025-07-23T15:12:38.472814Z"
    }
   },
   "outputs": [
    {
     "data": {
      "text/html": [
       "<div>\n",
       "<style scoped>\n",
       "    .dataframe tbody tr th:only-of-type {\n",
       "        vertical-align: middle;\n",
       "    }\n",
       "\n",
       "    .dataframe tbody tr th {\n",
       "        vertical-align: top;\n",
       "    }\n",
       "\n",
       "    .dataframe thead th {\n",
       "        text-align: right;\n",
       "    }\n",
       "</style>\n",
       "<table border=\"1\" class=\"dataframe\">\n",
       "  <thead>\n",
       "    <tr style=\"text-align: right;\">\n",
       "      <th></th>\n",
       "      <th>theta</th>\n",
       "    </tr>\n",
       "    <tr>\n",
       "      <th>nr</th>\n",
       "      <th></th>\n",
       "    </tr>\n",
       "  </thead>\n",
       "  <tbody>\n",
       "    <tr>\n",
       "      <th>13</th>\n",
       "      <td>0.645059</td>\n",
       "    </tr>\n",
       "    <tr>\n",
       "      <th>17</th>\n",
       "      <td>0.645059</td>\n",
       "    </tr>\n",
       "    <tr>\n",
       "      <th>18</th>\n",
       "      <td>0.645059</td>\n",
       "    </tr>\n",
       "    <tr>\n",
       "      <th>45</th>\n",
       "      <td>0.645059</td>\n",
       "    </tr>\n",
       "    <tr>\n",
       "      <th>110</th>\n",
       "      <td>0.645059</td>\n",
       "    </tr>\n",
       "  </tbody>\n",
       "</table>\n",
       "</div>"
      ],
      "text/plain": [
       "        theta\n",
       "nr           \n",
       "13   0.645059\n",
       "17   0.645059\n",
       "18   0.645059\n",
       "45   0.645059\n",
       "110  0.645059"
      ]
     },
     "execution_count": 5,
     "metadata": {},
     "output_type": "execute_result"
    }
   ],
   "source": [
    "re_res.theta.head()"
   ]
  },
  {
   "cell_type": "markdown",
   "metadata": {},
   "source": [
    "### The between estimator\n",
    "The between estimator is an alternative, usually less efficient estimator, can can be used to estimate model parameters.  It is particular simple since it first computes the time averages of $y$ and $x$ and then runs a simple regression using these averages.\n",
    "\n",
    "The year dummies are dropped since the averaging removes differences due to the year.  ``expersq`` was also dropped since it is fairly co-linear with ``exper``. These results are broadly similar to the previous models."
   ]
  },
  {
   "cell_type": "code",
   "execution_count": 6,
   "metadata": {
    "execution": {
     "iopub.execute_input": "2025-07-23T15:12:38.476707Z",
     "iopub.status.busy": "2025-07-23T15:12:38.476206Z",
     "iopub.status.idle": "2025-07-23T15:12:38.610032Z",
     "shell.execute_reply": "2025-07-23T15:12:38.606695Z"
    }
   },
   "outputs": [
    {
     "name": "stdout",
     "output_type": "stream",
     "text": [
      "                         BetweenOLS Estimation Summary                          \n",
      "================================================================================\n",
      "Dep. Variable:                  lwage   R-squared:                        0.2155\n",
      "Estimator:                 BetweenOLS   R-squared (Between):              0.2155\n",
      "No. Observations:                 545   R-squared (Within):               0.1141\n",
      "Date:                Wed, Jul 23 2025   R-squared (Overall):              0.1686\n",
      "Time:                        15:12:38   Log-likelihood                   -194.54\n",
      "Cov. Estimator:            Unadjusted                                           \n",
      "                                        F-statistic:                      24.633\n",
      "Entities:                         545   P-value                           0.0000\n",
      "Avg Obs:                       8.0000   Distribution:                   F(6,538)\n",
      "Min Obs:                       8.0000                                           \n",
      "Max Obs:                       8.0000   F-statistic (robust):             24.633\n",
      "                                        P-value                           0.0000\n",
      "Time periods:                       8   Distribution:                   F(6,538)\n",
      "Avg Obs:                       545.00                                           \n",
      "Min Obs:                       545.00                                           \n",
      "Max Obs:                       545.00                                           \n",
      "                                                                                \n",
      "                             Parameter Estimates                              \n",
      "==============================================================================\n",
      "            Parameter  Std. Err.     T-stat    P-value    Lower CI    Upper CI\n",
      "------------------------------------------------------------------------------\n",
      "const          0.2836     0.1784     1.5897     0.1125     -0.0668      0.6340\n",
      "black         -0.1414     0.0489    -2.8915     0.0040     -0.2375     -0.0453\n",
      "hisp           0.0100     0.0426     0.2355     0.8139     -0.0737      0.0938\n",
      "exper          0.0278     0.0113     2.4538     0.0144      0.0055      0.0501\n",
      "married        0.1416     0.0412     3.4346     0.0006      0.0606      0.2226\n",
      "educ           0.0913     0.0107     8.5159     0.0000      0.0702      0.1123\n",
      "union          0.2587     0.0460     5.6214     0.0000      0.1683      0.3491\n",
      "==============================================================================\n"
     ]
    }
   ],
   "source": [
    "from linearmodels.panel import BetweenOLS\n",
    "\n",
    "exog_vars = [\"black\", \"hisp\", \"exper\", \"married\", \"educ\", \"union\"]\n",
    "exog = sm.add_constant(data[exog_vars])\n",
    "mod = BetweenOLS(data.lwage, exog)\n",
    "be_res = mod.fit()\n",
    "print(be_res)"
   ]
  },
  {
   "cell_type": "markdown",
   "metadata": {},
   "source": [
    "#### Other options\n",
    "The ``fit`` method of ``BetweenOLS`` takes an optional input ``reweight`` which uses GLS-like weighting when panels are unbalanced.  In this dataset the panel is balanced and so using this option would have no effect. By default this is ``False`` and so the averages are directly used in OLS even when there are difference numbers of observations across entities."
   ]
  },
  {
   "cell_type": "markdown",
   "metadata": {},
   "source": [
    "## Handling correlated effects\n",
    "\n",
    "When effects are correlated with the regressors the RE and BE estimators are not consistent. The usual solution is to use Fixed Effects which are available in ``PanelOLS``.  Fixed effects are called ``entity_effects`` when applied to entities and ``time_effects`` when applied to the time dimension:"
   ]
  },
  {
   "cell_type": "markdown",
   "metadata": {},
   "source": [
    "### Including fixed effects\n",
    "Entity effects are included by setting ``entity_effects=True``.  This is equivalent to including dummies for each entity.  In this panel, this would add 545 dummy variables and estimation of the model would be considerably slower.  ``PanelOLS`` does not actually use dummy variables and instead uses group-wise demeaning to achieve the same effect. \n",
    "\n",
    "#### Time-invariant Variables\n",
    "Time-invariant variables cannot be included when using entity effects since, once demeaned, these will all be 0.  Here ``exper`` is also excluded since once entity effects and time dummies are incorporated, ``exper`` is perfectly co-linear."
   ]
  },
  {
   "cell_type": "code",
   "execution_count": 7,
   "metadata": {
    "execution": {
     "iopub.execute_input": "2025-07-23T15:12:38.612906Z",
     "iopub.status.busy": "2025-07-23T15:12:38.612597Z",
     "iopub.status.idle": "2025-07-23T15:12:38.761714Z",
     "shell.execute_reply": "2025-07-23T15:12:38.760827Z"
    }
   },
   "outputs": [
    {
     "name": "stdout",
     "output_type": "stream",
     "text": [
      "                          PanelOLS Estimation Summary                           \n",
      "================================================================================\n",
      "Dep. Variable:                  lwage   R-squared:                        0.1806\n",
      "Estimator:                   PanelOLS   R-squared (Between):             -0.0052\n",
      "No. Observations:                4360   R-squared (Within):               0.1806\n",
      "Date:                Wed, Jul 23 2025   R-squared (Overall):              0.0807\n",
      "Time:                        15:12:38   Log-likelihood                   -1324.8\n",
      "Cov. Estimator:            Unadjusted                                           \n",
      "                                        F-statistic:                      83.851\n",
      "Entities:                         545   P-value                           0.0000\n",
      "Avg Obs:                       8.0000   Distribution:                 F(10,3805)\n",
      "Min Obs:                       8.0000                                           \n",
      "Max Obs:                       8.0000   F-statistic (robust):             83.851\n",
      "                                        P-value                           0.0000\n",
      "Time periods:                       8   Distribution:                 F(10,3805)\n",
      "Avg Obs:                       545.00                                           \n",
      "Min Obs:                       545.00                                           \n",
      "Max Obs:                       545.00                                           \n",
      "                                                                                \n",
      "                             Parameter Estimates                              \n",
      "==============================================================================\n",
      "            Parameter  Std. Err.     T-stat    P-value    Lower CI    Upper CI\n",
      "------------------------------------------------------------------------------\n",
      "const          1.4260     0.0183     77.748     0.0000      1.3901      1.4620\n",
      "expersq       -0.0052     0.0007    -7.3612     0.0000     -0.0066     -0.0038\n",
      "union          0.0800     0.0193     4.1430     0.0000      0.0421      0.1179\n",
      "married        0.0467     0.0183     2.5494     0.0108      0.0108      0.0826\n",
      "year.1981      0.1512     0.0219     6.8883     0.0000      0.1082      0.1942\n",
      "year.1982      0.2530     0.0244     10.360     0.0000      0.2051      0.3008\n",
      "year.1983      0.3544     0.0292     12.121     0.0000      0.2971      0.4118\n",
      "year.1984      0.4901     0.0362     13.529     0.0000      0.4191      0.5611\n",
      "year.1985      0.6175     0.0452     13.648     0.0000      0.5288      0.7062\n",
      "year.1986      0.7655     0.0561     13.638     0.0000      0.6555      0.8755\n",
      "year.1987      0.9250     0.0688     13.450     0.0000      0.7902      1.0599\n",
      "==============================================================================\n",
      "\n",
      "F-test for Poolability: 9.1568\n",
      "P-value: 0.0000\n",
      "Distribution: F(544,3805)\n",
      "\n",
      "Included effects: Entity\n"
     ]
    }
   ],
   "source": [
    "from linearmodels.panel import PanelOLS\n",
    "\n",
    "exog_vars = [\"expersq\", \"union\", \"married\", \"year\"]\n",
    "exog = sm.add_constant(data[exog_vars])\n",
    "mod = PanelOLS(data.lwage, exog, entity_effects=True)\n",
    "fe_res = mod.fit()\n",
    "print(fe_res)"
   ]
  },
  {
   "cell_type": "markdown",
   "metadata": {},
   "source": [
    "### Time Effects\n",
    "Time effect can be added using ``time_effects=True``.  Here the time dummies are removed. Note that the core coefficients are identical. The only change is in the test statistic for poolability since not the \"effects\" include both entity and time, whereas before only entity were included.\n",
    "\n",
    "#### Effects vs Dummies\n",
    "For variable which can be consistently estimated, such as time effects in the usual large N, fixed T panel, it is not necessary to include these as effects.  They can instead be implemented as dummy variables.  "
   ]
  },
  {
   "cell_type": "code",
   "execution_count": 8,
   "metadata": {
    "execution": {
     "iopub.execute_input": "2025-07-23T15:12:38.766741Z",
     "iopub.status.busy": "2025-07-23T15:12:38.766409Z",
     "iopub.status.idle": "2025-07-23T15:12:38.886568Z",
     "shell.execute_reply": "2025-07-23T15:12:38.885823Z"
    }
   },
   "outputs": [
    {
     "name": "stdout",
     "output_type": "stream",
     "text": [
      "                          PanelOLS Estimation Summary                           \n",
      "================================================================================\n",
      "Dep. Variable:                  lwage   R-squared:                        0.0216\n",
      "Estimator:                   PanelOLS   R-squared (Between):             -0.0052\n",
      "No. Observations:                4360   R-squared (Within):              -0.4809\n",
      "Date:                Wed, Jul 23 2025   R-squared (Overall):             -0.2253\n",
      "Time:                        15:12:38   Log-likelihood                   -1324.8\n",
      "Cov. Estimator:            Unadjusted                                           \n",
      "                                        F-statistic:                      27.959\n",
      "Entities:                         545   P-value                           0.0000\n",
      "Avg Obs:                       8.0000   Distribution:                  F(3,3805)\n",
      "Min Obs:                       8.0000                                           \n",
      "Max Obs:                       8.0000   F-statistic (robust):             27.959\n",
      "                                        P-value                           0.0000\n",
      "Time periods:                       8   Distribution:                  F(3,3805)\n",
      "Avg Obs:                       545.00                                           \n",
      "Min Obs:                       545.00                                           \n",
      "Max Obs:                       545.00                                           \n",
      "                                                                                \n",
      "                             Parameter Estimates                              \n",
      "==============================================================================\n",
      "            Parameter  Std. Err.     T-stat    P-value    Lower CI    Upper CI\n",
      "------------------------------------------------------------------------------\n",
      "const          1.8706     0.0378     49.430     0.0000      1.7964      1.9448\n",
      "expersq       -0.0052     0.0007    -7.3612     0.0000     -0.0066     -0.0038\n",
      "union          0.0800     0.0193     4.1430     0.0000      0.0421      0.1179\n",
      "married        0.0467     0.0183     2.5494     0.0108      0.0108      0.0826\n",
      "==============================================================================\n",
      "\n",
      "F-test for Poolability: 10.067\n",
      "P-value: 0.0000\n",
      "Distribution: F(551,3805)\n",
      "\n",
      "Included effects: Entity, Time\n"
     ]
    }
   ],
   "source": [
    "exog_vars = [\"expersq\", \"union\", \"married\"]\n",
    "exog = sm.add_constant(data[exog_vars])\n",
    "mod = PanelOLS(data.lwage, exog, entity_effects=True, time_effects=True)\n",
    "fe_te_res = mod.fit()\n",
    "print(fe_te_res)"
   ]
  },
  {
   "cell_type": "markdown",
   "metadata": {},
   "source": [
    "#### Other Options\n",
    "Some additional options are available when using ``PanelOLS`` and effects.  The ``use_lsdv`` can be used to force the model to be estimated using dummy variables.  This is not necessary and will be slower in most circumstances.  This options is primarily included for testing.  ``auto_df`` instructs ``PanelOLS`` to determine the degree of freedom adjustment to make.  Unlike most other estimators, the treatment of effects depends on the covariance estimator.  For example, when using a classic covariance estimator, effects count as lost degrees of freedom.  When using entity effects and clustering by entity, they do not.  Setting ``auto_df=False`` will allow the entities to be counted or not, depending on the value of ``count_effects``."
   ]
  },
  {
   "cell_type": "markdown",
   "metadata": {},
   "source": [
    "### Other Effects\n",
    "\n",
    "`PanelOLS` can be used to estimated models with up to 2-effects fixed effects. These can include any combination of\n",
    "\n",
    "* Entity effects\n",
    "* Time effects\n",
    "* Other effects\n",
    "\n",
    "Other effects are specified using the `other_effects` input of `PanelOLS`. The input should have the same number of observations as the `engog` and can have 1 or two columns.  Below we reproduce the model fitted with time effects only using `other_effects` to set the effect."
   ]
  },
  {
   "cell_type": "code",
   "execution_count": 9,
   "metadata": {
    "execution": {
     "iopub.execute_input": "2025-07-23T15:12:38.890450Z",
     "iopub.status.busy": "2025-07-23T15:12:38.889468Z",
     "iopub.status.idle": "2025-07-23T15:12:38.988344Z",
     "shell.execute_reply": "2025-07-23T15:12:38.987582Z"
    }
   },
   "outputs": [
    {
     "name": "stdout",
     "output_type": "stream",
     "text": [
      "                          PanelOLS Estimation Summary                           \n",
      "================================================================================\n",
      "Dep. Variable:                  lwage   R-squared:                        0.0216\n",
      "Estimator:                   PanelOLS   R-squared (Between):             -0.0052\n",
      "No. Observations:                4360   R-squared (Within):              -0.4809\n",
      "Date:                Wed, Jul 23 2025   R-squared (Overall):             -0.2253\n",
      "Time:                        15:12:38   Log-likelihood                   -1324.8\n",
      "Cov. Estimator:            Unadjusted                                           \n",
      "                                        F-statistic:                      27.959\n",
      "Entities:                         545   P-value                           0.0000\n",
      "Avg Obs:                       8.0000   Distribution:                  F(3,3805)\n",
      "Min Obs:                       8.0000                                           \n",
      "Max Obs:                       8.0000   F-statistic (robust):             27.959\n",
      "                                        P-value                           0.0000\n",
      "Time periods:                       8   Distribution:                  F(3,3805)\n",
      "Avg Obs:                       545.00                                           \n",
      "Min Obs:                       545.00                                           \n",
      "Max Obs:                       545.00                                           \n",
      "                                                                                \n",
      "                             Parameter Estimates                              \n",
      "==============================================================================\n",
      "            Parameter  Std. Err.     T-stat    P-value    Lower CI    Upper CI\n",
      "------------------------------------------------------------------------------\n",
      "const          1.8706     0.0378     49.430     0.0000      1.7964      1.9448\n",
      "expersq       -0.0052     0.0007    -7.3612     0.0000     -0.0066     -0.0038\n",
      "union          0.0800     0.0193     4.1430     0.0000      0.0421      0.1179\n",
      "married        0.0467     0.0183     2.5494     0.0108      0.0108      0.0826\n",
      "==============================================================================\n",
      "\n",
      "F-test for Poolability: 10.067\n",
      "P-value: 0.0000\n",
      "Distribution: F(551,3805)\n",
      "\n",
      "Included effects: Entity, Other Effect (Other Effect)\n",
      "Model includes 1 other effect\n",
      "Other Effect Observations per group (Other Effect):\n",
      "Avg Obs: 545.00, Min Obs: 545.00, Max Obs: 545.00, Groups: 8\n"
     ]
    }
   ],
   "source": [
    "from linearmodels.panel.data import PanelData\n",
    "\n",
    "exog_vars = [\"expersq\", \"union\", \"married\"]\n",
    "exog = sm.add_constant(data[exog_vars])\n",
    "# Use the `PanelData` structure to simplify constructing the time IDs\n",
    "time_ids = pd.DataFrame(\n",
    "    PanelData(data.lwage).time_ids, index=data.index, columns=[\"Other Effect\"]\n",
    ")\n",
    "\n",
    "mod = PanelOLS(data.lwage, exog, entity_effects=True, other_effects=time_ids)\n",
    "fe_oe_res = mod.fit()\n",
    "print(fe_oe_res)"
   ]
  },
  {
   "cell_type": "markdown",
   "metadata": {},
   "source": [
    "### Using first differences\n",
    "First differencing is an alternative to using fixed effects when there might be correlation.  When using first differences, time-invariant variables must be excluded.  Additionally, only one linear time-trending variable can be included since this will look like a constant.  This variable will soak up all time-trends in the data, and so interpretations of these variable can be challenging."
   ]
  },
  {
   "cell_type": "code",
   "execution_count": 10,
   "metadata": {
    "execution": {
     "iopub.execute_input": "2025-07-23T15:12:38.991224Z",
     "iopub.status.busy": "2025-07-23T15:12:38.990959Z",
     "iopub.status.idle": "2025-07-23T15:12:39.050816Z",
     "shell.execute_reply": "2025-07-23T15:12:39.050114Z"
    }
   },
   "outputs": [
    {
     "name": "stdout",
     "output_type": "stream",
     "text": [
      "                     FirstDifferenceOLS Estimation Summary                      \n",
      "================================================================================\n",
      "Dep. Variable:                  lwage   R-squared:                        0.0268\n",
      "Estimator:         FirstDifferenceOLS   R-squared (Between):              0.5491\n",
      "No. Observations:                3815   R-squared (Within):               0.1763\n",
      "Date:                Wed, Jul 23 2025   R-squared (Overall):              0.5328\n",
      "Time:                        15:12:39   Log-likelihood                   -2305.5\n",
      "Cov. Estimator:            Unadjusted                                           \n",
      "                                        F-statistic:                      26.208\n",
      "Entities:                         545   P-value                           0.0000\n",
      "Avg Obs:                       8.0000   Distribution:                  F(4,3811)\n",
      "Min Obs:                       8.0000                                           \n",
      "Max Obs:                       8.0000   F-statistic (robust):             26.208\n",
      "                                        P-value                           0.0000\n",
      "Time periods:                       8   Distribution:                  F(4,3811)\n",
      "Avg Obs:                       545.00                                           \n",
      "Min Obs:                       545.00                                           \n",
      "Max Obs:                       545.00                                           \n",
      "                                                                                \n",
      "                             Parameter Estimates                              \n",
      "==============================================================================\n",
      "            Parameter  Std. Err.     T-stat    P-value    Lower CI    Upper CI\n",
      "------------------------------------------------------------------------------\n",
      "exper          0.1158     0.0196     5.9096     0.0000      0.0773      0.1542\n",
      "expersq       -0.0039     0.0014    -2.8005     0.0051     -0.0066     -0.0012\n",
      "union          0.0428     0.0197     2.1767     0.0296      0.0042      0.0813\n",
      "married        0.0381     0.0229     1.6633     0.0963     -0.0068      0.0831\n",
      "==============================================================================\n"
     ]
    }
   ],
   "source": [
    "from linearmodels.panel import FirstDifferenceOLS\n",
    "\n",
    "exog_vars = [\"exper\", \"expersq\", \"union\", \"married\"]\n",
    "exog = data[exog_vars]\n",
    "mod = FirstDifferenceOLS(data.lwage, exog)\n",
    "fd_res = mod.fit()\n",
    "print(fd_res)"
   ]
  },
  {
   "cell_type": "markdown",
   "metadata": {},
   "source": [
    "## Comparing models\n",
    "Model results can be compared using ``compare``.  ``compare`` accepts lists of results, a dictionary of results where the key is interpreted as the model name. "
   ]
  },
  {
   "cell_type": "code",
   "execution_count": 11,
   "metadata": {
    "execution": {
     "iopub.execute_input": "2025-07-23T15:12:39.053762Z",
     "iopub.status.busy": "2025-07-23T15:12:39.053489Z",
     "iopub.status.idle": "2025-07-23T15:12:39.081141Z",
     "shell.execute_reply": "2025-07-23T15:12:39.080426Z"
    }
   },
   "outputs": [
    {
     "name": "stdout",
     "output_type": "stream",
     "text": [
      "                        Model Comparison                       \n",
      "===============================================================\n",
      "                                BE              RE       Pooled\n",
      "---------------------------------------------------------------\n",
      "Dep. Variable                lwage           lwage        lwage\n",
      "Estimator               BetweenOLS   RandomEffects    PooledOLS\n",
      "No. Observations               545            4360         4360\n",
      "Cov. Est.               Unadjusted      Unadjusted   Unadjusted\n",
      "R-squared                   0.2155          0.1806       0.1893\n",
      "R-Squared (Within)          0.1141          0.1799       0.1692\n",
      "R-Squared (Between)         0.2155          0.1853       0.2066\n",
      "R-Squared (Overall)         0.1686          0.1828       0.1893\n",
      "F-statistic                 24.633          68.409       72.459\n",
      "P-value (F-stat)            0.0000          0.0000       0.0000\n",
      "===================== ============ =============== ============\n",
      "const                       0.2836          0.0234       0.0921\n",
      "                          (1.5897)        (0.1546)     (1.1761)\n",
      "black                      -0.1414         -0.1394      -0.1392\n",
      "                         (-2.8915)       (-2.9054)    (-5.9049)\n",
      "hisp                        0.0100          0.0217       0.0160\n",
      "                          (0.2355)        (0.5078)     (0.7703)\n",
      "exper                       0.0278          0.1058       0.0672\n",
      "                          (2.4538)        (6.8706)     (4.9095)\n",
      "married                     0.1416          0.0638       0.1083\n",
      "                          (3.4346)        (3.8035)     (6.8997)\n",
      "educ                        0.0913          0.0919       0.0913\n",
      "                          (8.5159)        (8.5744)     (17.442)\n",
      "union                       0.2587          0.1059       0.1825\n",
      "                          (5.6214)        (5.9289)     (10.635)\n",
      "expersq                                    -0.0047      -0.0024\n",
      "                                         (-6.8623)    (-2.9413)\n",
      "year.1981                                   0.0404       0.0583\n",
      "                                          (1.6362)     (1.9214)\n",
      "year.1982                                   0.0309       0.0628\n",
      "                                          (0.9519)     (1.8900)\n",
      "year.1983                                   0.0202       0.0620\n",
      "                                          (0.4840)     (1.6915)\n",
      "year.1984                                   0.0430       0.0905\n",
      "                                          (0.8350)     (2.2566)\n",
      "year.1985                                   0.0577       0.1092\n",
      "                                          (0.9383)     (2.5200)\n",
      "year.1986                                   0.0918       0.1420\n",
      "                                          (1.2834)     (3.0580)\n",
      "year.1987                                   0.1348       0.1738\n",
      "                                          (1.6504)     (3.5165)\n",
      "---------------------------------------------------------------\n",
      "\n",
      "T-stats reported in parentheses\n"
     ]
    }
   ],
   "source": [
    "from linearmodels.panel import compare\n",
    "\n",
    "print(compare({\"BE\": be_res, \"RE\": re_res, \"Pooled\": pooled_res}))"
   ]
  },
  {
   "cell_type": "markdown",
   "metadata": {},
   "source": [
    "## Covariance options"
   ]
  },
  {
   "cell_type": "markdown",
   "metadata": {},
   "source": [
    "### Heteroskedasticity Robust Covariance\n",
    "White\"s robust covariance can be used by setting ``cov_type=\"robust``. This estimator adds some robustness against certain types of specification issues but should not be used when using fixed effects (entity effects) since it is no longer robust.  Instead a clustered covariance is required."
   ]
  },
  {
   "cell_type": "code",
   "execution_count": 12,
   "metadata": {
    "execution": {
     "iopub.execute_input": "2025-07-23T15:12:39.084338Z",
     "iopub.status.busy": "2025-07-23T15:12:39.083859Z",
     "iopub.status.idle": "2025-07-23T15:12:39.123608Z",
     "shell.execute_reply": "2025-07-23T15:12:39.122833Z"
    }
   },
   "outputs": [],
   "source": [
    "exog_vars = [\"black\", \"hisp\", \"exper\", \"expersq\", \"married\", \"educ\", \"union\"]\n",
    "exog = sm.add_constant(data[exog_vars])\n",
    "mod = PooledOLS(data.lwage, exog)\n",
    "robust = mod.fit(cov_type=\"robust\")"
   ]
  },
  {
   "cell_type": "markdown",
   "metadata": {},
   "source": [
    "### Clustered by Entity\n",
    "The usual variable to cluster are are entity or entity and time.  The can be implemented using ``cov_type=\"clustered\"`` and the additional keyword arguments ``cluster_entity=True`` and/or ``cluster_time=True``. "
   ]
  },
  {
   "cell_type": "code",
   "execution_count": 13,
   "metadata": {
    "execution": {
     "iopub.execute_input": "2025-07-23T15:12:39.126333Z",
     "iopub.status.busy": "2025-07-23T15:12:39.126081Z",
     "iopub.status.idle": "2025-07-23T15:12:39.190128Z",
     "shell.execute_reply": "2025-07-23T15:12:39.189412Z"
    }
   },
   "outputs": [],
   "source": [
    "clust_entity = mod.fit(cov_type=\"clustered\", cluster_entity=True)"
   ]
  },
  {
   "cell_type": "markdown",
   "metadata": {},
   "source": [
    "This next example clusters by both."
   ]
  },
  {
   "cell_type": "code",
   "execution_count": 14,
   "metadata": {
    "execution": {
     "iopub.execute_input": "2025-07-23T15:12:39.194673Z",
     "iopub.status.busy": "2025-07-23T15:12:39.194415Z",
     "iopub.status.idle": "2025-07-23T15:12:39.247797Z",
     "shell.execute_reply": "2025-07-23T15:12:39.246850Z"
    }
   },
   "outputs": [],
   "source": [
    "clust_entity_time = mod.fit(\n",
    "    cov_type=\"clustered\", cluster_entity=True, cluster_time=True\n",
    ")"
   ]
  },
  {
   "cell_type": "markdown",
   "metadata": {},
   "source": [
    "An ``OrderedDict`` is used to hold the results for comparing models.  This allows the models to be named as well as for the order of the models to be specified.  A standard ``dict`` will produce effectively random order.\n",
    "\n",
    "Clustering on entity reduced the t-stats across the board.  This suggests there is important correlation in the residuals per entity. Clustering by both also decreases the t-stats which suggests that there is cross-sectional dependence in the data. *Note*: clustering by entity addresses correlation across time and clustering by time controls for correlation between entities in a time period."
   ]
  },
  {
   "cell_type": "code",
   "execution_count": 15,
   "metadata": {
    "execution": {
     "iopub.execute_input": "2025-07-23T15:12:39.251798Z",
     "iopub.status.busy": "2025-07-23T15:12:39.250853Z",
     "iopub.status.idle": "2025-07-23T15:12:39.347671Z",
     "shell.execute_reply": "2025-07-23T15:12:39.346977Z"
    }
   },
   "outputs": [
    {
     "name": "stdout",
     "output_type": "stream",
     "text": [
      "                     Model Comparison                    \n",
      "=========================================================\n",
      "                           Robust      Entity Entity-Time\n",
      "---------------------------------------------------------\n",
      "Dep. Variable               lwage       lwage       lwage\n",
      "Estimator               PooledOLS   PooledOLS   PooledOLS\n",
      "No. Observations             4360        4360        4360\n",
      "Cov. Est.                  Robust   Clustered   Clustered\n",
      "R-squared                  0.1866      0.1866      0.1866\n",
      "R-Squared (Within)         0.1679      0.1679      0.1679\n",
      "R-Squared (Between)        0.2027      0.2027      0.2027\n",
      "R-Squared (Overall)        0.1866      0.1866      0.1866\n",
      "F-statistic                142.61      142.61      142.61\n",
      "P-value (F-stat)           0.0000      0.0000      0.0000\n",
      "===================== =========== =========== ===========\n",
      "const                     -0.0347     -0.0347     -0.0347\n",
      "                        (-0.5360)   (-0.2892)   (-0.3145)\n",
      "black                     -0.1438     -0.1438     -0.1438\n",
      "                        (-5.9045)   (-2.8727)   (-3.0067)\n",
      "hisp                       0.0157      0.0157      0.0157\n",
      "                         (0.7952)    (0.4008)    (0.4428)\n",
      "exper                      0.0892      0.0892      0.0892\n",
      "                         (8.7881)    (7.1728)    (6.3223)\n",
      "expersq                   -0.0028     -0.0028     -0.0028\n",
      "                        (-4.1934)   (-3.2747)   (-3.1571)\n",
      "married                    0.1077      0.1077      0.1077\n",
      "                         (7.0525)    (4.1314)    (4.8989)\n",
      "educ                       0.0994      0.0994      0.0994\n",
      "                         (21.626)    (10.802)    (12.296)\n",
      "union                      0.1801      0.1801      0.1801\n",
      "                         (11.087)    (6.5343)    (6.6732)\n",
      "---------------------------------------------------------\n",
      "\n",
      "T-stats reported in parentheses\n"
     ]
    }
   ],
   "source": [
    "from collections import OrderedDict\n",
    "\n",
    "res = OrderedDict()\n",
    "res[\"Robust\"] = robust\n",
    "res[\"Entity\"] = clust_entity\n",
    "res[\"Entity-Time\"] = clust_entity_time\n",
    "print(compare(res))"
   ]
  },
  {
   "cell_type": "markdown",
   "metadata": {},
   "source": [
    "### Other clusters\n",
    "Other clusters can be used by directly passing integer arrays (1 or 2 columns, or a 1-d array) using the input ``clusters``.  This example clustered by occupation, which is probably not a reliable variable to cluster on since there are only 9 groups and the usual theory for clustered standard errors requires that the number of clusters is large."
   ]
  },
  {
   "cell_type": "code",
   "execution_count": 16,
   "metadata": {
    "execution": {
     "iopub.execute_input": "2025-07-23T15:12:39.351404Z",
     "iopub.status.busy": "2025-07-23T15:12:39.350473Z",
     "iopub.status.idle": "2025-07-23T15:12:39.405289Z",
     "shell.execute_reply": "2025-07-23T15:12:39.402181Z"
    }
   },
   "outputs": [
    {
     "name": "stdout",
     "output_type": "stream",
     "text": [
      "occupation\n",
      "5    934\n",
      "6    881\n",
      "9    509\n",
      "4    486\n",
      "1    453\n",
      "7    401\n",
      "2    399\n",
      "3    233\n",
      "8     64\n",
      "Name: count, dtype: int64\n",
      "                          PooledOLS Estimation Summary                          \n",
      "================================================================================\n",
      "Dep. Variable:                  lwage   R-squared:                        0.1866\n",
      "Estimator:                  PooledOLS   R-squared (Between):              0.2027\n",
      "No. Observations:                4360   R-squared (Within):               0.1679\n",
      "Date:                Wed, Jul 23 2025   R-squared (Overall):              0.1866\n",
      "Time:                        15:12:39   Log-likelihood                   -2989.2\n",
      "Cov. Estimator:             Clustered                                           \n",
      "                                        F-statistic:                      142.61\n",
      "Entities:                         545   P-value                           0.0000\n",
      "Avg Obs:                       8.0000   Distribution:                  F(7,4352)\n",
      "Min Obs:                       8.0000                                           \n",
      "Max Obs:                       8.0000   F-statistic (robust):             116.58\n",
      "                                        P-value                           0.0000\n",
      "Time periods:                       8   Distribution:                  F(7,4352)\n",
      "Avg Obs:                       545.00                                           \n",
      "Min Obs:                       545.00                                           \n",
      "Max Obs:                       545.00                                           \n",
      "                                                                                \n",
      "                             Parameter Estimates                              \n",
      "==============================================================================\n",
      "            Parameter  Std. Err.     T-stat    P-value    Lower CI    Upper CI\n",
      "------------------------------------------------------------------------------\n",
      "const         -0.0347     0.1479    -0.2346     0.8145     -0.3247      0.2553\n",
      "black         -0.1438     0.0297    -4.8469     0.0000     -0.2020     -0.0857\n",
      "hisp           0.0157     0.0266     0.5892     0.5557     -0.0365      0.0679\n",
      "exper          0.0892     0.0134     6.6513     0.0000      0.0629      0.1155\n",
      "expersq       -0.0028     0.0009    -3.2442     0.0012     -0.0046     -0.0011\n",
      "married        0.1077     0.0139     7.7322     0.0000      0.0804      0.1350\n",
      "educ           0.0994     0.0112     8.8846     0.0000      0.0775      0.1213\n",
      "union          0.1801     0.0320     5.6323     0.0000      0.1174      0.2428\n",
      "==============================================================================\n"
     ]
    }
   ],
   "source": [
    "clust_entity = mod.fit(cov_type=\"clustered\", clusters=data.occupation)\n",
    "print(data.occupation.value_counts())\n",
    "print(clust_entity)"
   ]
  }
 ],
 "metadata": {
  "kernelspec": {
   "display_name": "Python 3 (ipykernel)",
   "language": "python",
   "name": "python3"
  },
  "language_info": {
   "codemirror_mode": {
    "name": "ipython",
    "version": 3
   },
   "file_extension": ".py",
   "mimetype": "text/x-python",
   "name": "python",
   "nbconvert_exporter": "python",
   "pygments_lexer": "ipython3",
   "version": "3.10.18"
  },
  "pycharm": {
   "stem_cell": {
    "cell_type": "raw",
    "metadata": {
     "collapsed": false
    },
    "source": []
   }
  }
 },
 "nbformat": 4,
 "nbformat_minor": 4
}

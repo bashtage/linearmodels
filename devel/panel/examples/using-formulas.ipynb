{
 "cells": [
  {
   "cell_type": "markdown",
   "metadata": {},
   "source": [
    "# Using formulas to specify models\n",
    "\n",
    "All of the models can be specified using formulas. The formulas used here utilize [formulaic](https://matthewwardrop.github.io/formulaic/) are similar to those in [statsmodels](http://www.statsmodels.org).  The basis formula syntax for a single variable regression would be\n",
    "\n",
    "```\n",
    "y ~ 1 + x\n",
    "```\n",
    "\n",
    "The formulas used with ``BetweenOLS``, ``PooledOLS`` and ``RandomEffects`` are completely standard and are identical to [statsmodels](http://www.statsmodels.org).  ``FirstDifferenceOLS`` is nearly identical with the caveat that the model *cannot* include an intercept. \n",
    "\n",
    "``PanelOLS``, which implements effects (entity, time or other) has a small extension to the formula which allows entity effects or time effects (or both) to be specified as part of the formula. While it is not possible to specify other effects using the formula interface, these can be included as an optional parameter when using a formula."
   ]
  },
  {
   "cell_type": "markdown",
   "metadata": {},
   "source": [
    "## Loading and preparing data \n",
    "When using formulas, a MultiIndex pandas dataframe where the index is entity-time is **required**. Here the Grunfeld data, from \"The Determinants of Corporate Investment\", provided by [statsmodels](http://www.statsmodels.org/stable/datasets/generated/grunfeld.html), is used to illustrate the use of formulas.  This dataset contains data on firm investment, market value and the stock of plant capital. \n",
    "\n",
    "``set_index`` is used to set the index using variables from the dataset."
   ]
  },
  {
   "cell_type": "code",
   "execution_count": 1,
   "metadata": {
    "execution": {
     "iopub.execute_input": "2023-05-21T14:44:31.696181Z",
     "iopub.status.busy": "2023-05-21T14:44:31.695948Z",
     "iopub.status.idle": "2023-05-21T14:44:32.128228Z",
     "shell.execute_reply": "2023-05-21T14:44:32.127614Z"
    }
   },
   "outputs": [
    {
     "name": "stdout",
     "output_type": "stream",
     "text": [
      "                       invest   value  capital\n",
      "firm           year                           \n",
      "General Motors 1935.0   317.6  3078.5      2.8\n",
      "               1936.0   391.8  4661.7     52.6\n",
      "               1937.0   410.6  5387.1    156.9\n",
      "               1938.0   257.7  2792.2    209.2\n",
      "               1939.0   330.8  4313.2    203.4\n"
     ]
    }
   ],
   "source": [
    "from statsmodels.datasets import grunfeld\n",
    "\n",
    "data = grunfeld.load_pandas().data\n",
    "data = data.set_index([\"firm\", \"year\"])\n",
    "print(data.head())"
   ]
  },
  {
   "cell_type": "markdown",
   "metadata": {},
   "source": [
    "## PanelOLS with Entity Effects\n",
    "\n",
    "Entity effects are specified using the special command `EntityEffects`.  By default a constant is not included, and so if a constant is desired, `1+` should be included in the formula.  When including effects, the model and fit are identical whether a constant is included or not."
   ]
  },
  {
   "cell_type": "markdown",
   "metadata": {},
   "source": [
    "## PanelOLS with Entity Effects and a constant\n",
    "\n",
    "The constant can be explicitly included using the `1 + ` notation.  When a constant is included in the model, and additional constraint is imposed that the number of the effects is 0.  This allows the constant to be identified using the grand mean of the dependent and the regressors."
   ]
  },
  {
   "cell_type": "code",
   "execution_count": 2,
   "metadata": {
    "collapsed": false,
    "execution": {
     "iopub.execute_input": "2023-05-21T14:44:32.132873Z",
     "iopub.status.busy": "2023-05-21T14:44:32.131757Z",
     "iopub.status.idle": "2023-05-21T14:44:32.545897Z",
     "shell.execute_reply": "2023-05-21T14:44:32.545271Z"
    }
   },
   "outputs": [
    {
     "name": "stdout",
     "output_type": "stream",
     "text": [
      "                          PanelOLS Estimation Summary                           \n",
      "================================================================================\n",
      "Dep. Variable:                 invest   R-squared:                        0.7667\n",
      "Estimator:                   PanelOLS   R-squared (Between):              0.8223\n",
      "No. Observations:                 220   R-squared (Within):               0.7667\n",
      "Date:                Sun, May 21 2023   R-squared (Overall):              0.8132\n",
      "Time:                        14:44:32   Log-likelihood                   -1167.4\n",
      "Cov. Estimator:            Unadjusted                                           \n",
      "                                        F-statistic:                      340.08\n",
      "Entities:                          11   P-value                           0.0000\n",
      "Avg Obs:                       20.000   Distribution:                   F(2,207)\n",
      "Min Obs:                       20.000                                           \n",
      "Max Obs:                       20.000   F-statistic (robust):             340.08\n",
      "                                        P-value                           0.0000\n",
      "Time periods:                      20   Distribution:                   F(2,207)\n",
      "Avg Obs:                       11.000                                           \n",
      "Min Obs:                       11.000                                           \n",
      "Max Obs:                       11.000                                           \n",
      "                                                                                \n",
      "                             Parameter Estimates                              \n",
      "==============================================================================\n",
      "            Parameter  Std. Err.     T-stat    P-value    Lower CI    Upper CI\n",
      "------------------------------------------------------------------------------\n",
      "value          0.1101     0.0113     9.7461     0.0000      0.0879      0.1324\n",
      "capital        0.3100     0.0165     18.744     0.0000      0.2774      0.3426\n",
      "==============================================================================\n",
      "\n",
      "F-test for Poolability: 49.207\n",
      "P-value: 0.0000\n",
      "Distribution: F(10,207)\n",
      "\n",
      "Included effects: Entity\n"
     ]
    }
   ],
   "source": [
    "# Import ordering to get the future behavior\n",
    "from linearmodels.__future__ import ordering\n",
    "\n",
    "from linearmodels import PanelOLS\n",
    "\n",
    "mod = PanelOLS.from_formula(\"invest ~ value + capital + EntityEffects\", data=data)\n",
    "print(mod.fit())"
   ]
  },
  {
   "cell_type": "code",
   "execution_count": 3,
   "metadata": {
    "execution": {
     "iopub.execute_input": "2023-05-21T14:44:32.551534Z",
     "iopub.status.busy": "2023-05-21T14:44:32.549851Z",
     "iopub.status.idle": "2023-05-21T14:44:32.603470Z",
     "shell.execute_reply": "2023-05-21T14:44:32.602813Z"
    }
   },
   "outputs": [
    {
     "name": "stdout",
     "output_type": "stream",
     "text": [
      "                          PanelOLS Estimation Summary                           \n",
      "================================================================================\n",
      "Dep. Variable:                 invest   R-squared:                        0.7667\n",
      "Estimator:                   PanelOLS   R-squared (Between):              0.8193\n",
      "No. Observations:                 220   R-squared (Within):               0.7667\n",
      "Date:                Sun, May 21 2023   R-squared (Overall):              0.8071\n",
      "Time:                        14:44:32   Log-likelihood                   -1167.4\n",
      "Cov. Estimator:            Unadjusted                                           \n",
      "                                        F-statistic:                      340.08\n",
      "Entities:                          11   P-value                           0.0000\n",
      "Avg Obs:                       20.000   Distribution:                   F(2,207)\n",
      "Min Obs:                       20.000                                           \n",
      "Max Obs:                       20.000   F-statistic (robust):             340.08\n",
      "                                        P-value                           0.0000\n",
      "Time periods:                      20   Distribution:                   F(2,207)\n",
      "Avg Obs:                       11.000                                           \n",
      "Min Obs:                       11.000                                           \n",
      "Max Obs:                       11.000                                           \n",
      "                                                                                \n",
      "                             Parameter Estimates                              \n",
      "==============================================================================\n",
      "            Parameter  Std. Err.     T-stat    P-value    Lower CI    Upper CI\n",
      "------------------------------------------------------------------------------\n",
      "Intercept     -55.272     10.891    -5.0750     0.0000     -76.743     -33.800\n",
      "value          0.1101     0.0113     9.7461     0.0000      0.0879      0.1324\n",
      "capital        0.3100     0.0165     18.744     0.0000      0.2774      0.3426\n",
      "==============================================================================\n",
      "\n",
      "F-test for Poolability: 49.207\n",
      "P-value: 0.0000\n",
      "Distribution: F(10,207)\n",
      "\n",
      "Included effects: Entity\n"
     ]
    }
   ],
   "source": [
    "mod = PanelOLS.from_formula(\"invest ~ 1 + value + capital + EntityEffects\", data=data)\n",
    "print(mod.fit())"
   ]
  },
  {
   "cell_type": "markdown",
   "metadata": {},
   "source": [
    "## Panel with Entity and Time Effects\n",
    "\n",
    "Time effects can be similarly included using `TimeEffects`.  In many models, time effects can be consistently estimated and so they could be equivalently included in the set of regressors using a categorical variable."
   ]
  },
  {
   "cell_type": "code",
   "execution_count": 4,
   "metadata": {
    "execution": {
     "iopub.execute_input": "2023-05-21T14:44:32.606849Z",
     "iopub.status.busy": "2023-05-21T14:44:32.606621Z",
     "iopub.status.idle": "2023-05-21T14:44:32.727941Z",
     "shell.execute_reply": "2023-05-21T14:44:32.727140Z"
    }
   },
   "outputs": [
    {
     "name": "stdout",
     "output_type": "stream",
     "text": [
      "                          PanelOLS Estimation Summary                           \n",
      "================================================================================\n",
      "Dep. Variable:                 invest   R-squared:                        0.7253\n",
      "Estimator:                   PanelOLS   R-squared (Between):              0.7944\n",
      "No. Observations:                 220   R-squared (Within):               0.7566\n",
      "Date:                Sun, May 21 2023   R-squared (Overall):              0.7856\n",
      "Time:                        14:44:32   Log-likelihood                   -1153.0\n",
      "Cov. Estimator:            Unadjusted                                           \n",
      "                                        F-statistic:                      248.15\n",
      "Entities:                          11   P-value                           0.0000\n",
      "Avg Obs:                       20.000   Distribution:                   F(2,188)\n",
      "Min Obs:                       20.000                                           \n",
      "Max Obs:                       20.000   F-statistic (robust):             248.15\n",
      "                                        P-value                           0.0000\n",
      "Time periods:                      20   Distribution:                   F(2,188)\n",
      "Avg Obs:                       11.000                                           \n",
      "Min Obs:                       11.000                                           \n",
      "Max Obs:                       11.000                                           \n",
      "                                                                                \n",
      "                             Parameter Estimates                              \n",
      "==============================================================================\n",
      "            Parameter  Std. Err.     T-stat    P-value    Lower CI    Upper CI\n",
      "------------------------------------------------------------------------------\n",
      "Intercept     -72.394     12.732    -5.6861     0.0000     -97.509     -47.278\n",
      "value          0.1167     0.0129     9.0219     0.0000      0.0912      0.1422\n",
      "capital        0.3514     0.0210     16.696     0.0000      0.3099      0.3930\n",
      "==============================================================================\n",
      "\n",
      "F-test for Poolability: 18.476\n",
      "P-value: 0.0000\n",
      "Distribution: F(29,188)\n",
      "\n",
      "Included effects: Entity, Time\n"
     ]
    }
   ],
   "source": [
    "mod = PanelOLS.from_formula(\n",
    "    \"invest ~ 1 + value + capital + EntityEffects + TimeEffects\", data=data\n",
    ")\n",
    "print(mod.fit())"
   ]
  },
  {
   "cell_type": "markdown",
   "metadata": {},
   "source": [
    "## Between OLS\n",
    "\n",
    "The other panel models are straight-forward and are included for completeness."
   ]
  },
  {
   "cell_type": "code",
   "execution_count": 5,
   "metadata": {
    "execution": {
     "iopub.execute_input": "2023-05-21T14:44:32.731488Z",
     "iopub.status.busy": "2023-05-21T14:44:32.730968Z",
     "iopub.status.idle": "2023-05-21T14:44:32.811750Z",
     "shell.execute_reply": "2023-05-21T14:44:32.810874Z"
    }
   },
   "outputs": [
    {
     "name": "stdout",
     "output_type": "stream",
     "text": [
      "                         BetweenOLS Estimation Summary                          \n",
      "================================================================================\n",
      "Dep. Variable:                 invest   R-squared:                        0.8644\n",
      "Estimator:                 BetweenOLS   R-squared (Between):              0.8644\n",
      "No. Observations:                  11   R-squared (Within):               0.4195\n",
      "Date:                Sun, May 21 2023   R-squared (Overall):              0.7616\n",
      "Time:                        14:44:32   Log-likelihood                   -61.997\n",
      "Cov. Estimator:            Unadjusted                                           \n",
      "                                        F-statistic:                      25.500\n",
      "Entities:                          11   P-value                           0.0003\n",
      "Avg Obs:                       20.000   Distribution:                     F(2,8)\n",
      "Min Obs:                       20.000                                           \n",
      "Max Obs:                       20.000   F-statistic (robust):             25.500\n",
      "                                        P-value                           0.0003\n",
      "Time periods:                      20   Distribution:                     F(2,8)\n",
      "Avg Obs:                       11.000                                           \n",
      "Min Obs:                       11.000                                           \n",
      "Max Obs:                       11.000                                           \n",
      "                                                                                \n",
      "                             Parameter Estimates                              \n",
      "==============================================================================\n",
      "            Parameter  Std. Err.     T-stat    P-value    Lower CI    Upper CI\n",
      "------------------------------------------------------------------------------\n",
      "Intercept     -7.3825     40.444    -0.1825     0.8597     -100.65      85.881\n",
      "value          0.1346     0.0269     5.0065     0.0010      0.0726      0.1966\n",
      "capital        0.0297     0.1746     0.1700     0.8692     -0.3730      0.4323\n",
      "=============================================================================="
     ]
    },
    {
     "name": "stdout",
     "output_type": "stream",
     "text": [
      "\n"
     ]
    }
   ],
   "source": [
    "from linearmodels import BetweenOLS, FirstDifferenceOLS, PooledOLS\n",
    "\n",
    "mod = BetweenOLS.from_formula(\"invest ~ 1 + value + capital\", data=data)\n",
    "print(mod.fit())"
   ]
  },
  {
   "cell_type": "markdown",
   "metadata": {},
   "source": [
    "## First Difference OLS\n",
    "\n",
    "The first difference model must never include a constant since this is not identified after differencing."
   ]
  },
  {
   "cell_type": "code",
   "execution_count": 6,
   "metadata": {
    "execution": {
     "iopub.execute_input": "2023-05-21T14:44:32.814444Z",
     "iopub.status.busy": "2023-05-21T14:44:32.814219Z",
     "iopub.status.idle": "2023-05-21T14:44:32.906696Z",
     "shell.execute_reply": "2023-05-21T14:44:32.905575Z"
    }
   },
   "outputs": [
    {
     "name": "stdout",
     "output_type": "stream",
     "text": [
      "                     FirstDifferenceOLS Estimation Summary                      \n",
      "================================================================================\n",
      "Dep. Variable:                 invest   R-squared:                        0.4287\n",
      "Estimator:         FirstDifferenceOLS   R-squared (Between):              0.8643\n",
      "No. Observations:                 209   R-squared (Within):               0.7539\n",
      "Date:                Sun, May 21 2023   R-squared (Overall):              0.8461\n",
      "Time:                        14:44:32   Log-likelihood                   -1071.1\n",
      "Cov. Estimator:            Unadjusted                                           \n",
      "                                        F-statistic:                      77.679\n",
      "Entities:                          11   P-value                           0.0000\n",
      "Avg Obs:                       20.000   Distribution:                   F(2,207)\n",
      "Min Obs:                       20.000                                           \n",
      "Max Obs:                       20.000   F-statistic (robust):             77.679\n",
      "                                        P-value                           0.0000\n",
      "Time periods:                      20   Distribution:                   F(2,207)\n",
      "Avg Obs:                       11.000                                           \n",
      "Min Obs:                       11.000                                           \n",
      "Max Obs:                       11.000                                           \n",
      "                                                                                \n",
      "                             Parameter Estimates                              \n",
      "==============================================================================\n",
      "            Parameter  Std. Err.     T-stat    P-value    Lower CI    Upper CI\n",
      "------------------------------------------------------------------------------\n",
      "value          0.0891     0.0078     11.348     0.0000      0.0736      0.1045\n",
      "capital        0.2786     0.0449     6.1990     0.0000      0.1900      0.3673\n",
      "==============================================================================\n"
     ]
    }
   ],
   "source": [
    "mod = FirstDifferenceOLS.from_formula(\"invest ~ value + capital\", data=data)\n",
    "print(mod.fit())"
   ]
  },
  {
   "cell_type": "markdown",
   "metadata": {},
   "source": [
    "## Pooled OLS\n",
    "\n",
    "The pooled OLS estimator is a special case of `PanelOLS` when there are no effects.  It is effectively identical to `OLS` in `statsmodels` (or `WLS`) but is included for completeness."
   ]
  },
  {
   "cell_type": "code",
   "execution_count": 7,
   "metadata": {
    "execution": {
     "iopub.execute_input": "2023-05-21T14:44:32.909479Z",
     "iopub.status.busy": "2023-05-21T14:44:32.909252Z",
     "iopub.status.idle": "2023-05-21T14:44:32.986609Z",
     "shell.execute_reply": "2023-05-21T14:44:32.985931Z"
    }
   },
   "outputs": [
    {
     "name": "stdout",
     "output_type": "stream",
     "text": [
      "                          PooledOLS Estimation Summary                          \n",
      "================================================================================\n",
      "Dep. Variable:                 invest   R-squared:                        0.8179\n",
      "Estimator:                  PooledOLS   R-squared (Between):              0.8426\n",
      "No. Observations:                 220   R-squared (Within):               0.7357\n",
      "Date:                Sun, May 21 2023   R-squared (Overall):              0.8179\n",
      "Time:                        14:44:32   Log-likelihood                   -1301.3\n",
      "Cov. Estimator:            Unadjusted                                           \n",
      "                                        F-statistic:                      487.28\n",
      "Entities:                          11   P-value                           0.0000\n",
      "Avg Obs:                       20.000   Distribution:                   F(2,217)\n",
      "Min Obs:                       20.000                                           \n",
      "Max Obs:                       20.000   F-statistic (robust):             487.28\n",
      "                                        P-value                           0.0000\n",
      "Time periods:                      20   Distribution:                   F(2,217)\n",
      "Avg Obs:                       11.000                                           \n",
      "Min Obs:                       11.000                                           \n",
      "Max Obs:                       11.000                                           \n",
      "                                                                                \n",
      "                             Parameter Estimates                              \n",
      "==============================================================================\n",
      "            Parameter  Std. Err.     T-stat    P-value    Lower CI    Upper CI\n",
      "------------------------------------------------------------------------------\n",
      "Intercept     -38.410     8.4134    -4.5654     0.0000     -54.992     -21.828\n",
      "value          0.1145     0.0055     20.753     0.0000      0.1037      0.1254\n",
      "capital        0.2275     0.0242     9.3904     0.0000      0.1798      0.2753\n",
      "==============================================================================\n"
     ]
    }
   ],
   "source": [
    "mod = PooledOLS.from_formula(\"invest ~ 1 + value + capital\", data=data)\n",
    "print(mod.fit())"
   ]
  }
 ],
 "metadata": {
  "kernelspec": {
   "display_name": "Python 3 (ipykernel)",
   "language": "python",
   "name": "python3"
  },
  "language_info": {
   "codemirror_mode": {
    "name": "ipython",
    "version": 3
   },
   "file_extension": ".py",
   "mimetype": "text/x-python",
   "name": "python",
   "nbconvert_exporter": "python",
   "pygments_lexer": "ipython3",
   "version": "3.10.11"
  },
  "pycharm": {
   "stem_cell": {
    "cell_type": "raw",
    "metadata": {
     "collapsed": false
    },
    "source": []
   }
  }
 },
 "nbformat": 4,
 "nbformat_minor": 4
}

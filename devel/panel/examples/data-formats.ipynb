{
 "cells": [
  {
   "cell_type": "markdown",
   "metadata": {},
   "source": [
    "# Data Formats for Panel Data Analysis\n",
    "\n",
    "There are two primary methods to express data:\n",
    "\n",
    "  * MultiIndex DataFrames where the outer index is the entity and the inner is the time index.  This requires using pandas.\n",
    "  * 3D structures were dimension 0 (outer) is variable, dimension 1 is time index and dimension 2 is the entity index.  It is also possible to use a 2D data structure with dimensions (t, n) which is treated as a 3D data structure having dimensions (1, t, n). These 3D data structures can be pandas, NumPy or xarray."
   ]
  },
  {
   "cell_type": "markdown",
   "metadata": {},
   "source": [
    "## MultiIndex DataFrames\n",
    "The most precise data format to use is a MultiIndex `DataFrame`.  This is the most precise since only single columns can preserve all types within a panel.  For example, it is not possible to span a single Categorical variable across multiple columns when using a pandas `Panel`. \n",
    "\n",
    "This example uses the job training data to construct a MultiIndex `DataFrame` using the `set_index` command. The entity index is `fcode` and the time index is `year`."
   ]
  },
  {
   "cell_type": "code",
   "execution_count": 1,
   "metadata": {
    "execution": {
     "iopub.execute_input": "2023-12-01T15:31:02.265976Z",
     "iopub.status.busy": "2023-12-01T15:31:02.265733Z",
     "iopub.status.idle": "2023-12-01T15:31:03.306088Z",
     "shell.execute_reply": "2023-12-01T15:31:03.305267Z"
    }
   },
   "outputs": [
    {
     "name": "stdout",
     "output_type": "stream",
     "text": [
      "   year   fcode  employ       sales   avgsal  scrap  rework  tothrs  union  \\\n",
      "0  1987  410032   100.0  47000000.0  35000.0    NaN     NaN    12.0      0   \n",
      "1  1988  410032   131.0  43000000.0  37000.0    NaN     NaN     8.0      0   \n",
      "2  1989  410032   123.0  49000000.0  39000.0    NaN     NaN     8.0      0   \n",
      "3  1987  410440    12.0   1560000.0  10500.0    NaN     NaN    12.0      0   \n",
      "4  1988  410440    13.0   1970000.0  11000.0    NaN     NaN    12.0      0   \n",
      "\n",
      "   grant  ...  grant_1  clscrap  cgrant  clemploy   clsales    lavgsal  \\\n",
      "0      0  ...        0      NaN       0       NaN       NaN  10.463100   \n",
      "1      0  ...        0      NaN       0  0.270027 -0.088949  10.518670   \n",
      "2      0  ...        0      NaN       0 -0.063013  0.130621  10.571320   \n",
      "3      0  ...        0      NaN       0       NaN       NaN   9.259130   \n",
      "4      0  ...        0      NaN       0  0.080043  0.233347   9.305651   \n",
      "\n",
      "   clavgsal  cgrant_1   chrsemp  clhrsemp  \n",
      "0       NaN       NaN       NaN       NaN  \n",
      "1  0.055570       0.0 -8.946565 -1.165385  \n",
      "2  0.052644       0.0  0.198597  0.047832  \n",
      "3       NaN       NaN       NaN       NaN  \n",
      "4  0.046520       0.0  0.000000  0.000000  \n",
      "\n",
      "[5 rows x 30 columns]\n"
     ]
    }
   ],
   "source": [
    "from linearmodels.datasets import jobtraining\n",
    "\n",
    "data = jobtraining.load()\n",
    "print(data.head())"
   ]
  },
  {
   "cell_type": "markdown",
   "metadata": {},
   "source": [
    "Here `set_index` is used to set the MultiIndex using the firm code (entity) and year (time)."
   ]
  },
  {
   "cell_type": "code",
   "execution_count": 2,
   "metadata": {
    "execution": {
     "iopub.execute_input": "2023-12-01T15:31:03.358340Z",
     "iopub.status.busy": "2023-12-01T15:31:03.358006Z",
     "iopub.status.idle": "2023-12-01T15:31:03.377082Z",
     "shell.execute_reply": "2023-12-01T15:31:03.376375Z"
    }
   },
   "outputs": [
    {
     "name": "stdout",
     "output_type": "stream",
     "text": [
      "             employ       sales   avgsal  scrap  rework  tothrs  union  grant  \\\n",
      "fcode  year                                                                     \n",
      "410032 1987   100.0  47000000.0  35000.0    NaN     NaN    12.0      0      0   \n",
      "       1988   131.0  43000000.0  37000.0    NaN     NaN     8.0      0      0   \n",
      "       1989   123.0  49000000.0  39000.0    NaN     NaN     8.0      0      0   \n",
      "410440 1987    12.0   1560000.0  10500.0    NaN     NaN    12.0      0      0   \n",
      "       1988    13.0   1970000.0  11000.0    NaN     NaN    12.0      0      0   \n",
      "\n",
      "             d89  d88  ...  grant_1  clscrap  cgrant  clemploy   clsales  \\\n",
      "fcode  year            ...                                                 \n",
      "410032 1987    0    0  ...        0      NaN       0       NaN       NaN   \n",
      "       1988    0    1  ...        0      NaN       0  0.270027 -0.088949   \n",
      "       1989    1    0  ...        0      NaN       0 -0.063013  0.130621   \n",
      "410440 1987    0    0  ...        0      NaN       0       NaN       NaN   \n",
      "       1988    0    1  ...        0      NaN       0  0.080043  0.233347   \n",
      "\n",
      "               lavgsal  clavgsal  cgrant_1   chrsemp  clhrsemp  \n",
      "fcode  year                                                     \n",
      "410032 1987  10.463100       NaN       NaN       NaN       NaN  \n",
      "       1988  10.518670  0.055570       0.0 -8.946565 -1.165385  \n",
      "       1989  10.571320  0.052644       0.0  0.198597  0.047832  \n",
      "410440 1987   9.259130       NaN       NaN       NaN       NaN  \n",
      "       1988   9.305651  0.046520       0.0  0.000000  0.000000  \n",
      "\n",
      "[5 rows x 28 columns]\n"
     ]
    }
   ],
   "source": [
    "mi_data = data.set_index([\"fcode\", \"year\"])\n",
    "print(mi_data.head())"
   ]
  },
  {
   "cell_type": "markdown",
   "metadata": {},
   "source": [
    "The `MultiIndex` `DataFrame` can be used to initialized the model.  When only referencing a single series, the `MultiIndex` `Series` representation can be used."
   ]
  },
  {
   "cell_type": "code",
   "execution_count": 3,
   "metadata": {
    "execution": {
     "iopub.execute_input": "2023-12-01T15:31:03.381998Z",
     "iopub.status.busy": "2023-12-01T15:31:03.380787Z",
     "iopub.status.idle": "2023-12-01T15:31:03.443025Z",
     "shell.execute_reply": "2023-12-01T15:31:03.442180Z"
    }
   },
   "outputs": [
    {
     "name": "stdout",
     "output_type": "stream",
     "text": [
      "                          PanelOLS Estimation Summary                           \n",
      "================================================================================\n",
      "Dep. Variable:                 lscrap   R-squared:                        0.0528\n",
      "Estimator:                   PanelOLS   R-squared (Between):             -0.0379\n",
      "No. Observations:                 140   R-squared (Within):               0.0528\n",
      "Date:                Fri, Dec 01 2023   R-squared (Overall):             -0.0288\n",
      "Time:                        15:31:03   Log-likelihood                   -90.459\n",
      "Cov. Estimator:            Unadjusted                                           \n",
      "                                        F-statistic:                      5.0751\n",
      "Entities:                          48   P-value                           0.0267\n",
      "Avg Obs:                       2.9167   Distribution:                    F(1,91)\n",
      "Min Obs:                       1.0000                                           \n",
      "Max Obs:                       3.0000   F-statistic (robust):             5.0751\n",
      "                                        P-value                           0.0267\n",
      "Time periods:                       3   Distribution:                    F(1,91)\n",
      "Avg Obs:                       46.667                                           \n",
      "Min Obs:                       46.000                                           \n",
      "Max Obs:                       48.000                                           \n",
      "                                                                                \n",
      "                             Parameter Estimates                              \n",
      "==============================================================================\n",
      "            Parameter  Std. Err.     T-stat    P-value    Lower CI    Upper CI\n",
      "------------------------------------------------------------------------------\n",
      "hrsemp        -0.0054     0.0024    -2.2528     0.0267     -0.0102     -0.0006\n",
      "==============================================================================\n",
      "\n",
      "F-test for Poolability: 17.094\n",
      "P-value: 0.0000\n",
      "Distribution: F(47,91)\n",
      "\n",
      "Included effects: Entity\n"
     ]
    },
    {
     "name": "stderr",
     "output_type": "stream",
     "text": [
      "/home/runner/work/linearmodels/linearmodels/linearmodels/panel/model.py:1214: MissingValueWarning: \n",
      "Inputs contain missing values. Dropping rows with missing observations.\n",
      "  super().__init__(dependent, exog, weights=weights, check_rank=check_rank)\n"
     ]
    }
   ],
   "source": [
    "from linearmodels import PanelOLS\n",
    "\n",
    "mod = PanelOLS(mi_data.lscrap, mi_data.hrsemp, entity_effects=True)\n",
    "print(mod.fit())"
   ]
  },
  {
   "cell_type": "markdown",
   "metadata": {},
   "source": [
    "## NumPy arrays\n",
    "3D NumPy arrays can be used to hand panel data where the three axes are `0`, items, `1`, time and `2`, entity. NumPy arrays are not usually the best format for data since the results all use generic variable names. \n",
    "\n",
    "Pandas dropped support for their Panel in 0.25."
   ]
  },
  {
   "cell_type": "code",
   "execution_count": 4,
   "metadata": {
    "execution": {
     "iopub.execute_input": "2023-12-01T15:31:03.446387Z",
     "iopub.status.busy": "2023-12-01T15:31:03.445919Z",
     "iopub.status.idle": "2023-12-01T15:31:03.452796Z",
     "shell.execute_reply": "2023-12-01T15:31:03.452180Z"
    }
   },
   "outputs": [],
   "source": [
    "import numpy as np\n",
    "\n",
    "np_data = np.asarray(mi_data)\n",
    "np_lscrap = np_data[:, mi_data.columns.get_loc(\"lscrap\")]\n",
    "np_hrsemp = np_data[:, mi_data.columns.get_loc(\"hrsemp\")]\n",
    "nentity = mi_data.index.levels[0].shape[0]\n",
    "ntime = mi_data.index.levels[1].shape[0]\n",
    "np_lscrap = np_lscrap.reshape((nentity, ntime)).T\n",
    "np_hrsemp = np_hrsemp.reshape((nentity, ntime)).T\n",
    "np_hrsemp.shape = (1, ntime, nentity)"
   ]
  },
  {
   "cell_type": "code",
   "execution_count": 5,
   "metadata": {
    "execution": {
     "iopub.execute_input": "2023-12-01T15:31:03.456560Z",
     "iopub.status.busy": "2023-12-01T15:31:03.455892Z",
     "iopub.status.idle": "2023-12-01T15:31:03.536887Z",
     "shell.execute_reply": "2023-12-01T15:31:03.535783Z"
    }
   },
   "outputs": [
    {
     "name": "stdout",
     "output_type": "stream",
     "text": [
      "                          PanelOLS Estimation Summary                           \n",
      "================================================================================\n",
      "Dep. Variable:                    Dep   R-squared:                        0.0528\n",
      "Estimator:                   PanelOLS   R-squared (Between):             -0.0379\n",
      "No. Observations:                 140   R-squared (Within):               0.0528\n",
      "Date:                Fri, Dec 01 2023   R-squared (Overall):             -0.0288\n",
      "Time:                        15:31:03   Log-likelihood                   -90.459\n",
      "Cov. Estimator:            Unadjusted                                           \n",
      "                                        F-statistic:                      5.0751\n",
      "Entities:                          48   P-value                           0.0267\n",
      "Avg Obs:                       2.9167   Distribution:                    F(1,91)\n",
      "Min Obs:                       1.0000                                           \n",
      "Max Obs:                       3.0000   F-statistic (robust):             5.0751\n",
      "                                        P-value                           0.0267\n",
      "Time periods:                       3   Distribution:                    F(1,91)\n",
      "Avg Obs:                       46.667                                           \n",
      "Min Obs:                       46.000                                           \n",
      "Max Obs:                       48.000                                           \n",
      "                                                                                \n",
      "                             Parameter Estimates                              \n",
      "==============================================================================\n",
      "            Parameter  Std. Err.     T-stat    P-value    Lower CI    Upper CI\n",
      "------------------------------------------------------------------------------\n",
      "Exog          -0.0054     0.0024    -2.2528     0.0267     -0.0102     -0.0006\n",
      "==============================================================================\n",
      "\n",
      "F-test for Poolability: 17.094\n",
      "P-value: 0.0000\n",
      "Distribution: F(47,91)\n",
      "\n",
      "Included effects: Entity\n"
     ]
    },
    {
     "name": "stderr",
     "output_type": "stream",
     "text": [
      "/home/runner/work/linearmodels/linearmodels/linearmodels/panel/model.py:1214: MissingValueWarning: \n",
      "Inputs contain missing values. Dropping rows with missing observations.\n",
      "  super().__init__(dependent, exog, weights=weights, check_rank=check_rank)\n"
     ]
    }
   ],
   "source": [
    "res = PanelOLS(np_lscrap, np_hrsemp, entity_effects=True).fit()\n",
    "print(res)"
   ]
  },
  {
   "cell_type": "markdown",
   "metadata": {},
   "source": [
    "## xarray DataArrays\n",
    "\n",
    "xarray is a relatively new entrant into the set of packages used for data structures.  The data structures provided by ``xarray`` are relevant in the context of panel models since pandas `Panel` is scheduled for removal in the futures, and so the only 3d data format that will remain viable is an `xarray` `DataArray`. `DataArray`s are similar to pandas `Panel` although `DataArrays` use some difference notation.  In principle it is possible to express the same information in a `DataArray` as one can in a `Panel`"
   ]
  },
  {
   "cell_type": "code",
   "execution_count": 6,
   "metadata": {
    "execution": {
     "iopub.execute_input": "2023-12-01T15:31:03.544914Z",
     "iopub.status.busy": "2023-12-01T15:31:03.542365Z",
     "iopub.status.idle": "2023-12-01T15:31:03.613997Z",
     "shell.execute_reply": "2023-12-01T15:31:03.613322Z"
    }
   },
   "outputs": [
    {
     "data": {
      "text/plain": [
       "KeysView(<xarray.Dataset>\n",
       "Dimensions:   (fcode: 157, year: 3)\n",
       "Coordinates:\n",
       "  * fcode     (fcode) int64 410032 410440 410495 410500 ... 419482 419483 419486\n",
       "  * year      (year) int64 1987 1988 1989\n",
       "Data variables: (12/28)\n",
       "    employ    (fcode, year) float64 100.0 131.0 123.0 12.0 ... 80.0 90.0 100.0\n",
       "    sales     (fcode, year) float64 4.7e+07 4.3e+07 4.9e+07 ... 8.5e+06 9.9e+06\n",
       "    avgsal    (fcode, year) float64 3.5e+04 3.7e+04 3.9e+04 ... 1.7e+04 1.8e+04\n",
       "    scrap     (fcode, year) float64 nan nan nan nan nan ... 30.0 nan nan nan\n",
       "    rework    (fcode, year) float64 nan nan nan nan nan ... nan nan nan nan nan\n",
       "    tothrs    (fcode, year) float64 12.0 8.0 8.0 12.0 12.0 ... 20.0 0.0 0.0 40.0\n",
       "    ...        ...\n",
       "    clsales   (fcode, year) float64 nan -0.08895 0.1306 ... nan 0.1942 0.1525\n",
       "    lavgsal   (fcode, year) float64 10.46 10.52 10.57 9.259 ... 9.68 9.741 9.798\n",
       "    clavgsal  (fcode, year) float64 nan 0.05557 0.05264 ... nan 0.06063 0.05716\n",
       "    cgrant_1  (fcode, year) float64 nan 0.0 0.0 nan 0.0 ... 0.0 0.0 nan 0.0 0.0\n",
       "    chrsemp   (fcode, year) float64 nan -8.947 0.1986 nan ... 3.101 nan 0.0 36.0\n",
       "    clhrsemp  (fcode, year) float64 nan -1.165 0.04783 nan ... nan 0.0 3.611)"
      ]
     },
     "execution_count": 6,
     "metadata": {},
     "output_type": "execute_result"
    }
   ],
   "source": [
    "da = mi_data.to_xarray()\n",
    "da.keys()"
   ]
  },
  {
   "cell_type": "code",
   "execution_count": 7,
   "metadata": {
    "execution": {
     "iopub.execute_input": "2023-12-01T15:31:03.619608Z",
     "iopub.status.busy": "2023-12-01T15:31:03.617921Z",
     "iopub.status.idle": "2023-12-01T15:31:03.700738Z",
     "shell.execute_reply": "2023-12-01T15:31:03.700074Z"
    }
   },
   "outputs": [
    {
     "name": "stderr",
     "output_type": "stream",
     "text": [
      "/home/runner/work/linearmodels/linearmodels/linearmodels/panel/model.py:1214: MissingValueWarning: \n",
      "Inputs contain missing values. Dropping rows with missing observations.\n",
      "  super().__init__(dependent, exog, weights=weights, check_rank=check_rank)\n"
     ]
    },
    {
     "name": "stdout",
     "output_type": "stream",
     "text": [
      "                          PanelOLS Estimation Summary                           \n",
      "================================================================================\n",
      "Dep. Variable:                    Dep   R-squared:                        0.0528\n",
      "Estimator:                   PanelOLS   R-squared (Between):             -0.0379\n",
      "No. Observations:                 140   R-squared (Within):               0.0528\n",
      "Date:                Fri, Dec 01 2023   R-squared (Overall):             -0.0288\n",
      "Time:                        15:31:03   Log-likelihood                   -90.459\n",
      "Cov. Estimator:            Unadjusted                                           \n",
      "                                        F-statistic:                      5.0751\n",
      "Entities:                          48   P-value                           0.0267\n",
      "Avg Obs:                       2.9167   Distribution:                    F(1,91)\n",
      "Min Obs:                       1.0000                                           \n",
      "Max Obs:                       3.0000   F-statistic (robust):             5.0751\n",
      "                                        P-value                           0.0267\n",
      "Time periods:                       3   Distribution:                    F(1,91)\n",
      "Avg Obs:                       46.667                                           \n",
      "Min Obs:                       46.000                                           \n",
      "Max Obs:                       48.000                                           \n",
      "                                                                                \n",
      "                             Parameter Estimates                              \n",
      "==============================================================================\n",
      "            Parameter  Std. Err.     T-stat    P-value    Lower CI    Upper CI\n",
      "------------------------------------------------------------------------------\n",
      "Exog          -0.0054     0.0024    -2.2528     0.0267     -0.0102     -0.0006\n",
      "==============================================================================\n",
      "\n",
      "F-test for Poolability: 17.094\n",
      "P-value: 0.0000\n",
      "Distribution: F(47,91)\n",
      "\n",
      "Included effects: Entity\n"
     ]
    }
   ],
   "source": [
    "res = PanelOLS(da[\"lscrap\"].T, da[\"hrsemp\"].T, entity_effects=True).fit()\n",
    "print(res)"
   ]
  },
  {
   "cell_type": "markdown",
   "metadata": {},
   "source": [
    "## Conversion of Categorical and Strings to Dummies\n",
    "Categorical or string variables are treated as factors and so are converted to dummies. The first category is always dropped.  If this is not desirable, you should manually convert the data to dummies before estimating a model."
   ]
  },
  {
   "cell_type": "code",
   "execution_count": 8,
   "metadata": {
    "execution": {
     "iopub.execute_input": "2023-12-01T15:31:03.705194Z",
     "iopub.status.busy": "2023-12-01T15:31:03.704740Z",
     "iopub.status.idle": "2023-12-01T15:31:03.712843Z",
     "shell.execute_reply": "2023-12-01T15:31:03.712205Z"
    }
   },
   "outputs": [],
   "source": [
    "import pandas as pd\n",
    "\n",
    "year_str = mi_data.reset_index()[[\"year\"]].astype(\"str\")\n",
    "year_cat = pd.Categorical(year_str.iloc[:, 0])\n",
    "year_str.index = mi_data.index\n",
    "year_cat.index = mi_data.index\n",
    "mi_data[\"year_str\"] = year_str\n",
    "mi_data[\"year_cat\"] = year_cat"
   ]
  },
  {
   "cell_type": "markdown",
   "metadata": {},
   "source": [
    "Here year has been converted to a string which is then used in the model to produce year dummies."
   ]
  },
  {
   "cell_type": "code",
   "execution_count": 9,
   "metadata": {
    "execution": {
     "iopub.execute_input": "2023-12-01T15:31:03.716308Z",
     "iopub.status.busy": "2023-12-01T15:31:03.716049Z",
     "iopub.status.idle": "2023-12-01T15:31:03.785887Z",
     "shell.execute_reply": "2023-12-01T15:31:03.785245Z"
    }
   },
   "outputs": [
    {
     "name": "stdout",
     "output_type": "stream",
     "text": [
      "Exogenous variables\n",
      "                hrsemp year_str\n",
      "fcode  year                    \n",
      "410032 1987  12.000000     1987\n",
      "       1988   3.053435     1988\n",
      "       1989   3.252033     1989\n",
      "410440 1987  12.000000     1987\n",
      "       1988  12.000000     1988\n",
      "hrsemp      float64\n",
      "year_str     object\n",
      "dtype: object\n"
     ]
    },
    {
     "name": "stdout",
     "output_type": "stream",
     "text": [
      "                          PanelOLS Estimation Summary                           \n",
      "================================================================================\n",
      "Dep. Variable:                 lscrap   R-squared:                        0.1985\n",
      "Estimator:                   PanelOLS   R-squared (Between):             -0.1240\n",
      "No. Observations:                 140   R-squared (Within):               0.1985\n",
      "Date:                Fri, Dec 01 2023   R-squared (Overall):             -0.0934\n",
      "Time:                        15:31:03   Log-likelihood                   -78.765\n",
      "Cov. Estimator:            Unadjusted                                           \n",
      "                                        F-statistic:                      7.3496\n",
      "Entities:                          48   P-value                           0.0002\n",
      "Avg Obs:                       2.9167   Distribution:                    F(3,89)\n",
      "Min Obs:                       1.0000                                           \n",
      "Max Obs:                       3.0000   F-statistic (robust):             7.3496\n",
      "                                        P-value                           0.0002\n",
      "Time periods:                       3   Distribution:                    F(3,89)\n",
      "Avg Obs:                       46.667                                           \n",
      "Min Obs:                       46.000                                           \n",
      "Max Obs:                       48.000                                           \n",
      "                                                                                \n",
      "                               Parameter Estimates                               \n",
      "=================================================================================\n",
      "               Parameter  Std. Err.     T-stat    P-value    Lower CI    Upper CI\n",
      "---------------------------------------------------------------------------------\n",
      "hrsemp           -0.0024     0.0024    -1.0058     0.3172     -0.0071      0.0023\n",
      "year_str.1988    -0.1591     0.1146    -1.3888     0.1684     -0.3868      0.0685\n",
      "year_str.1989    -0.4620     0.1176    -3.9297     0.0002     -0.6957     -0.2284\n",
      "=================================================================================\n",
      "\n",
      "F-test for Poolability: 19.649\n",
      "P-value: 0.0000\n",
      "Distribution: F(47,89)\n",
      "\n",
      "Included effects: Entity\n"
     ]
    },
    {
     "name": "stderr",
     "output_type": "stream",
     "text": [
      "/home/runner/work/linearmodels/linearmodels/linearmodels/panel/model.py:1214: MissingValueWarning: \n",
      "Inputs contain missing values. Dropping rows with missing observations.\n",
      "  super().__init__(dependent, exog, weights=weights, check_rank=check_rank)\n"
     ]
    }
   ],
   "source": [
    "print(\"Exogenous variables\")\n",
    "print(mi_data[[\"hrsemp\", \"year_str\"]].head())\n",
    "print(mi_data[[\"hrsemp\", \"year_str\"]].dtypes)\n",
    "\n",
    "res = PanelOLS(\n",
    "    mi_data[[\"lscrap\"]], mi_data[[\"hrsemp\", \"year_str\"]], entity_effects=True\n",
    ").fit()\n",
    "print(res)"
   ]
  },
  {
   "cell_type": "markdown",
   "metadata": {},
   "source": [
    "Using ``categorical``s has the same effect."
   ]
  },
  {
   "cell_type": "code",
   "execution_count": 10,
   "metadata": {
    "execution": {
     "iopub.execute_input": "2023-12-01T15:31:03.789455Z",
     "iopub.status.busy": "2023-12-01T15:31:03.789216Z",
     "iopub.status.idle": "2023-12-01T15:31:03.899445Z",
     "shell.execute_reply": "2023-12-01T15:31:03.898799Z"
    }
   },
   "outputs": [
    {
     "name": "stderr",
     "output_type": "stream",
     "text": [
      "/home/runner/work/linearmodels/linearmodels/linearmodels/panel/model.py:1214: MissingValueWarning: \n",
      "Inputs contain missing values. Dropping rows with missing observations.\n",
      "  super().__init__(dependent, exog, weights=weights, check_rank=check_rank)\n"
     ]
    },
    {
     "name": "stdout",
     "output_type": "stream",
     "text": [
      "Exogenous variables\n",
      "                hrsemp year_cat\n",
      "fcode  year                    \n",
      "410032 1987  12.000000     1987\n",
      "       1988   3.053435     1988\n",
      "       1989   3.252033     1989\n",
      "410440 1987  12.000000     1987\n",
      "       1988  12.000000     1988\n",
      "hrsemp       float64\n",
      "year_cat    category\n",
      "dtype: object\n",
      "                          PanelOLS Estimation Summary                           \n",
      "================================================================================\n",
      "Dep. Variable:                 lscrap   R-squared:                        0.1985\n",
      "Estimator:                   PanelOLS   R-squared (Between):             -0.1240\n",
      "No. Observations:                 140   R-squared (Within):               0.1985\n",
      "Date:                Fri, Dec 01 2023   R-squared (Overall):             -0.0934\n",
      "Time:                        15:31:03   Log-likelihood                   -78.765\n",
      "Cov. Estimator:            Unadjusted                                           \n",
      "                                        F-statistic:                      7.3496\n",
      "Entities:                          48   P-value                           0.0002\n",
      "Avg Obs:                       2.9167   Distribution:                    F(3,89)\n",
      "Min Obs:                       1.0000                                           \n",
      "Max Obs:                       3.0000   F-statistic (robust):             7.3496\n",
      "                                        P-value                           0.0002\n",
      "Time periods:                       3   Distribution:                    F(3,89)\n",
      "Avg Obs:                       46.667                                           \n",
      "Min Obs:                       46.000                                           \n",
      "Max Obs:                       48.000                                           \n",
      "                                                                                \n",
      "                               Parameter Estimates                               \n",
      "=================================================================================\n",
      "               Parameter  Std. Err.     T-stat    P-value    Lower CI    Upper CI\n",
      "---------------------------------------------------------------------------------\n",
      "hrsemp           -0.0024     0.0024    -1.0058     0.3172     -0.0071      0.0023\n",
      "year_cat.1988    -0.1591     0.1146    -1.3888     0.1684     -0.3868      0.0685\n",
      "year_cat.1989    -0.4620     0.1176    -3.9297     0.0002     -0.6957     -0.2284\n",
      "=================================================================================\n",
      "\n",
      "F-test for Poolability: 19.649\n",
      "P-value: 0.0000\n",
      "Distribution: F(47,89)\n",
      "\n",
      "Included effects: Entity\n"
     ]
    }
   ],
   "source": [
    "print(\"Exogenous variables\")\n",
    "print(mi_data[[\"hrsemp\", \"year_cat\"]].head())\n",
    "print(mi_data[[\"hrsemp\", \"year_cat\"]].dtypes)\n",
    "\n",
    "res = PanelOLS(\n",
    "    mi_data[[\"lscrap\"]], mi_data[[\"hrsemp\", \"year_cat\"]], entity_effects=True\n",
    ").fit()\n",
    "print(res)"
   ]
  }
 ],
 "metadata": {
  "kernelspec": {
   "display_name": "Python 3 (ipykernel)",
   "language": "python",
   "name": "python3"
  },
  "language_info": {
   "codemirror_mode": {
    "name": "ipython",
    "version": 3
   },
   "file_extension": ".py",
   "mimetype": "text/x-python",
   "name": "python",
   "nbconvert_exporter": "python",
   "pygments_lexer": "ipython3",
   "version": "3.10.13"
  },
  "pycharm": {
   "stem_cell": {
    "cell_type": "raw",
    "metadata": {
     "collapsed": false
    },
    "source": []
   }
  }
 },
 "nbformat": 4,
 "nbformat_minor": 4
}

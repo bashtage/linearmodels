{
 "cells": [
  {
   "cell_type": "markdown",
   "metadata": {},
   "source": [
    "# Data Formats for Panel Data Analysis\n",
    "\n",
    "There are two primary methods to express data:\n",
    "\n",
    "  * MultiIndex DataFrames where the outer index is the entity and the inner is the time index.  This requires using pandas.\n",
    "  * 3D structures were dimension 0 (outer) is variable, dimension 1 is time index and dimension 2 is the entity index.  It is also possible to use a 2D data structure with dimensions (t, n) which is treated as a 3D data structure having dimensions (1, t, n). These 3D data structures can be pandas, NumPy or xarray."
   ]
  },
  {
   "cell_type": "markdown",
   "metadata": {},
   "source": [
    "## MultiIndex DataFrames\n",
    "The most precise data format to use is a MultiIndex `DataFrame`.  This is the most precise since only single columns can preserve all types within a panel.  For example, it is not possible to span a single Categorical variable across multiple columns when using a pandas `Panel`. \n",
    "\n",
    "This example uses the job training data to construct a MultiIndex `DataFrame` using the `set_index` command. The entity index is `fcode` and the time index is `year`."
   ]
  },
  {
   "cell_type": "code",
   "execution_count": 1,
   "metadata": {
    "execution": {
     "iopub.execute_input": "2025-10-21T13:37:59.793158Z",
     "iopub.status.busy": "2025-10-21T13:37:59.792932Z",
     "iopub.status.idle": "2025-10-21T13:38:02.047386Z",
     "shell.execute_reply": "2025-10-21T13:38:02.044022Z"
    }
   },
   "outputs": [
    {
     "name": "stdout",
     "output_type": "stream",
     "text": [
      "   year   fcode  employ       sales   avgsal  scrap  rework  tothrs  union  \\\n",
      "0  1987  410032   100.0  47000000.0  35000.0    NaN     NaN    12.0      0   \n",
      "1  1988  410032   131.0  43000000.0  37000.0    NaN     NaN     8.0      0   \n",
      "2  1989  410032   123.0  49000000.0  39000.0    NaN     NaN     8.0      0   \n",
      "3  1987  410440    12.0   1560000.0  10500.0    NaN     NaN    12.0      0   \n",
      "4  1988  410440    13.0   1970000.0  11000.0    NaN     NaN    12.0      0   \n",
      "\n",
      "   grant  ...  grant_1  clscrap  cgrant  clemploy   clsales    lavgsal  \\\n",
      "0      0  ...        0      NaN       0       NaN       NaN  10.463100   \n",
      "1      0  ...        0      NaN       0  0.270027 -0.088949  10.518670   \n",
      "2      0  ...        0      NaN       0 -0.063013  0.130621  10.571320   \n",
      "3      0  ...        0      NaN       0       NaN       NaN   9.259130   \n",
      "4      0  ...        0      NaN       0  0.080043  0.233347   9.305651   \n",
      "\n",
      "   clavgsal  cgrant_1   chrsemp  clhrsemp  \n",
      "0       NaN       NaN       NaN       NaN  \n",
      "1  0.055570       0.0 -8.946565 -1.165385  \n",
      "2  0.052644       0.0  0.198597  0.047832  \n",
      "3       NaN       NaN       NaN       NaN  \n",
      "4  0.046520       0.0  0.000000  0.000000  \n",
      "\n",
      "[5 rows x 30 columns]\n"
     ]
    }
   ],
   "source": [
    "from linearmodels.datasets import jobtraining\n",
    "\n",
    "data = jobtraining.load()\n",
    "print(data.head())"
   ]
  },
  {
   "cell_type": "markdown",
   "metadata": {},
   "source": [
    "Here `set_index` is used to set the MultiIndex using the firm code (entity) and year (time)."
   ]
  },
  {
   "cell_type": "code",
   "execution_count": 2,
   "metadata": {
    "execution": {
     "iopub.execute_input": "2025-10-21T13:38:02.146918Z",
     "iopub.status.busy": "2025-10-21T13:38:02.146623Z",
     "iopub.status.idle": "2025-10-21T13:38:02.160499Z",
     "shell.execute_reply": "2025-10-21T13:38:02.159145Z"
    }
   },
   "outputs": [
    {
     "name": "stdout",
     "output_type": "stream",
     "text": [
      "               lscrap    hrsemp\n",
      "fcode  year                    \n",
      "410523 1987 -2.813411  20.00000\n",
      "       1988 -2.995732  18.82353\n",
      "       1989 -2.995732  24.48980\n",
      "410538 1989  0.932164  25.00000\n",
      "410563 1987  1.791759   0.00000\n"
     ]
    }
   ],
   "source": [
    "orig_mi_data = data.set_index([\"fcode\", \"year\"])\n",
    "# Subset to the relevant columns and drop missing to avoid warnings\n",
    "mi_data = orig_mi_data[[\"lscrap\", \"hrsemp\"]]\n",
    "mi_data = mi_data.dropna(axis=0, how=\"any\")\n",
    "\n",
    "print(mi_data.head())"
   ]
  },
  {
   "cell_type": "markdown",
   "metadata": {},
   "source": [
    "The `MultiIndex` `DataFrame` can be used to initialized the model.  When only referencing a single series, the `MultiIndex` `Series` representation can be used."
   ]
  },
  {
   "cell_type": "code",
   "execution_count": 3,
   "metadata": {
    "execution": {
     "iopub.execute_input": "2025-10-21T13:38:02.163599Z",
     "iopub.status.busy": "2025-10-21T13:38:02.162588Z",
     "iopub.status.idle": "2025-10-21T13:38:02.251459Z",
     "shell.execute_reply": "2025-10-21T13:38:02.249129Z"
    }
   },
   "outputs": [
    {
     "name": "stdout",
     "output_type": "stream",
     "text": [
      "                          PanelOLS Estimation Summary                           \n",
      "================================================================================\n",
      "Dep. Variable:                 lscrap   R-squared:                        0.0528\n",
      "Estimator:                   PanelOLS   R-squared (Between):             -0.0379\n",
      "No. Observations:                 140   R-squared (Within):               0.0528\n",
      "Date:                Tue, Oct 21 2025   R-squared (Overall):             -0.0288\n",
      "Time:                        13:38:02   Log-likelihood                   -90.459\n",
      "Cov. Estimator:            Unadjusted                                           \n",
      "                                        F-statistic:                      5.0751\n",
      "Entities:                          48   P-value                           0.0267\n",
      "Avg Obs:                       2.9167   Distribution:                    F(1,91)\n",
      "Min Obs:                       1.0000                                           \n",
      "Max Obs:                       3.0000   F-statistic (robust):             5.0751\n",
      "                                        P-value                           0.0267\n",
      "Time periods:                       3   Distribution:                    F(1,91)\n",
      "Avg Obs:                       46.667                                           \n",
      "Min Obs:                       46.000                                           \n",
      "Max Obs:                       48.000                                           \n",
      "                                                                                \n",
      "                             Parameter Estimates                              \n",
      "==============================================================================\n",
      "            Parameter  Std. Err.     T-stat    P-value    Lower CI    Upper CI\n",
      "------------------------------------------------------------------------------\n",
      "hrsemp        -0.0054     0.0024    -2.2528     0.0267     -0.0102     -0.0006\n",
      "==============================================================================\n",
      "\n",
      "F-test for Poolability: 17.094\n",
      "P-value: 0.0000\n",
      "Distribution: F(47,91)\n",
      "\n",
      "Included effects: Entity\n"
     ]
    }
   ],
   "source": [
    "from linearmodels import PanelOLS\n",
    "\n",
    "mod = PanelOLS(mi_data.lscrap, mi_data.hrsemp, entity_effects=True)\n",
    "print(mod.fit())"
   ]
  },
  {
   "cell_type": "markdown",
   "metadata": {},
   "source": [
    "## NumPy arrays\n",
    "3D NumPy arrays can be used to hand panel data where the three axes are `0`, items, `1`, time and `2`, entity. NumPy arrays are not usually the best format for data since the results all use generic variable names. \n",
    "\n",
    "Pandas dropped support for their Panel in 0.25."
   ]
  },
  {
   "cell_type": "code",
   "execution_count": 4,
   "metadata": {
    "execution": {
     "iopub.execute_input": "2025-10-21T13:38:02.257288Z",
     "iopub.status.busy": "2025-10-21T13:38:02.255067Z",
     "iopub.status.idle": "2025-10-21T13:38:02.268345Z",
     "shell.execute_reply": "2025-10-21T13:38:02.264733Z"
    }
   },
   "outputs": [],
   "source": [
    "import numpy as np\n",
    "\n",
    "np_data = np.asarray(orig_mi_data)\n",
    "np_lscrap = np_data[:, orig_mi_data.columns.get_loc(\"lscrap\")]\n",
    "np_hrsemp = np_data[:, orig_mi_data.columns.get_loc(\"hrsemp\")]\n",
    "nentity = mi_data.index.levels[0].shape[0]\n",
    "ntime = mi_data.index.levels[1].shape[0]\n",
    "np_lscrap = np_lscrap.reshape((nentity, ntime)).T\n",
    "np_hrsemp = np_hrsemp.reshape((nentity, ntime)).T\n",
    "np_hrsemp.shape = (1, ntime, nentity)"
   ]
  },
  {
   "cell_type": "code",
   "execution_count": 5,
   "metadata": {
    "execution": {
     "iopub.execute_input": "2025-10-21T13:38:02.270765Z",
     "iopub.status.busy": "2025-10-21T13:38:02.270399Z",
     "iopub.status.idle": "2025-10-21T13:38:02.327145Z",
     "shell.execute_reply": "2025-10-21T13:38:02.325419Z"
    }
   },
   "outputs": [
    {
     "name": "stdout",
     "output_type": "stream",
     "text": [
      "                          PanelOLS Estimation Summary                           \n",
      "================================================================================\n",
      "Dep. Variable:                    Dep   R-squared:                        0.0528\n",
      "Estimator:                   PanelOLS   R-squared (Between):             -0.0379\n",
      "No. Observations:                 140   R-squared (Within):               0.0528\n",
      "Date:                Tue, Oct 21 2025   R-squared (Overall):             -0.0288\n",
      "Time:                        13:38:02   Log-likelihood                   -90.459\n",
      "Cov. Estimator:            Unadjusted                                           \n",
      "                                        F-statistic:                      5.0751\n",
      "Entities:                          48   P-value                           0.0267\n",
      "Avg Obs:                       2.9167   Distribution:                    F(1,91)\n",
      "Min Obs:                       1.0000                                           \n",
      "Max Obs:                       3.0000   F-statistic (robust):             5.0751\n",
      "                                        P-value                           0.0267\n",
      "Time periods:                       3   Distribution:                    F(1,91)\n",
      "Avg Obs:                       46.667                                           \n",
      "Min Obs:                       46.000                                           \n",
      "Max Obs:                       48.000                                           \n",
      "                                                                                \n",
      "                             Parameter Estimates                              \n",
      "==============================================================================\n",
      "            Parameter  Std. Err.     T-stat    P-value    Lower CI    Upper CI\n",
      "------------------------------------------------------------------------------\n",
      "Exog          -0.0054     0.0024    -2.2528     0.0267     -0.0102     -0.0006\n",
      "==============================================================================\n",
      "\n",
      "F-test for Poolability: 17.094\n",
      "P-value: 0.0000\n",
      "Distribution: F(47,91)\n",
      "\n",
      "Included effects: Entity\n"
     ]
    },
    {
     "name": "stderr",
     "output_type": "stream",
     "text": [
      "/home/runner/work/linearmodels/linearmodels/linearmodels/panel/model.py:1258: MissingValueWarning: \n",
      "Inputs contain missing values. Dropping rows with missing observations.\n",
      "  super().__init__(dependent, exog, weights=weights, check_rank=check_rank)\n"
     ]
    }
   ],
   "source": [
    "# Warnings are inevitable when using NumPy with missing data\n",
    "# since the arrays must be rectangular, and not ragged\n",
    "res = PanelOLS(np_lscrap, np_hrsemp, entity_effects=True).fit()\n",
    "print(res)"
   ]
  },
  {
   "cell_type": "markdown",
   "metadata": {},
   "source": [
    "## xarray DataArrays\n",
    "\n",
    "xarray is a relatively new entrant into the set of packages used for data structures.  The data structures provided by ``xarray`` are relevant in the context of panel models since pandas `Panel` is scheduled for removal in the futures, and so the only 3d data format that will remain viable is an `xarray` `DataArray`. `DataArray`s are similar to pandas `Panel` although `DataArrays` use some difference notation.  In principle it is possible to express the same information in a `DataArray` as one can in a `Panel`"
   ]
  },
  {
   "cell_type": "code",
   "execution_count": 6,
   "metadata": {
    "execution": {
     "iopub.execute_input": "2025-10-21T13:38:02.329526Z",
     "iopub.status.busy": "2025-10-21T13:38:02.329253Z",
     "iopub.status.idle": "2025-10-21T13:38:02.342258Z",
     "shell.execute_reply": "2025-10-21T13:38:02.341505Z"
    }
   },
   "outputs": [
    {
     "data": {
      "text/plain": [
       "KeysView(<xarray.Dataset> Size: 3kB\n",
       "Dimensions:  (fcode: 48, year: 3)\n",
       "Coordinates:\n",
       "  * fcode    (fcode) int64 384B 410523 410538 410563 ... 419459 419482 419483\n",
       "  * year     (year) int64 24B 1987 1988 1989\n",
       "Data variables:\n",
       "    lscrap   (fcode, year) float64 1kB -2.813 -2.996 -2.996 ... 3.219 3.401\n",
       "    hrsemp   (fcode, year) float64 1kB 20.0 18.82 24.49 nan ... 0.0 0.0 3.101)"
      ]
     },
     "execution_count": 6,
     "metadata": {},
     "output_type": "execute_result"
    }
   ],
   "source": [
    "da = mi_data.to_xarray()\n",
    "da.keys()"
   ]
  },
  {
   "cell_type": "code",
   "execution_count": 7,
   "metadata": {
    "execution": {
     "iopub.execute_input": "2025-10-21T13:38:02.344431Z",
     "iopub.status.busy": "2025-10-21T13:38:02.344209Z",
     "iopub.status.idle": "2025-10-21T13:38:02.456767Z",
     "shell.execute_reply": "2025-10-21T13:38:02.456231Z"
    }
   },
   "outputs": [
    {
     "name": "stdout",
     "output_type": "stream",
     "text": [
      "                          PanelOLS Estimation Summary                           \n",
      "================================================================================\n",
      "Dep. Variable:                    Dep   R-squared:                        0.0528\n",
      "Estimator:                   PanelOLS   R-squared (Between):             -0.0379\n",
      "No. Observations:                 140   R-squared (Within):               0.0528\n",
      "Date:                Tue, Oct 21 2025   R-squared (Overall):             -0.0288\n",
      "Time:                        13:38:02   Log-likelihood                   -90.459\n",
      "Cov. Estimator:            Unadjusted                                           \n",
      "                                        F-statistic:                      5.0751\n",
      "Entities:                          48   P-value                           0.0267\n",
      "Avg Obs:                       2.9167   Distribution:                    F(1,91)\n",
      "Min Obs:                       1.0000                                           \n",
      "Max Obs:                       3.0000   F-statistic (robust):             5.0751\n",
      "                                        P-value                           0.0267\n",
      "Time periods:                       3   Distribution:                    F(1,91)\n",
      "Avg Obs:                       46.667                                           \n",
      "Min Obs:                       46.000                                           \n",
      "Max Obs:                       48.000                                           \n",
      "                                                                                \n",
      "                             Parameter Estimates                              \n",
      "==============================================================================\n",
      "            Parameter  Std. Err.     T-stat    P-value    Lower CI    Upper CI\n",
      "------------------------------------------------------------------------------\n",
      "Exog          -0.0054     0.0024    -2.2528     0.0267     -0.0102     -0.0006\n",
      "==============================================================================\n",
      "\n",
      "F-test for Poolability: 17.094\n",
      "P-value: 0.0000\n",
      "Distribution: F(47,91)\n",
      "\n",
      "Included effects: Entity\n"
     ]
    }
   ],
   "source": [
    "res = PanelOLS(da[\"lscrap\"].T, da[\"hrsemp\"].T, entity_effects=True).fit()\n",
    "print(res)"
   ]
  },
  {
   "cell_type": "markdown",
   "metadata": {},
   "source": [
    "## Conversion of Categorical and Strings to Dummies\n",
    "Categorical or string variables are treated as factors and so are converted to dummies. The first category is always dropped.  If this is not desirable, you should manually convert the data to dummies before estimating a model."
   ]
  },
  {
   "cell_type": "code",
   "execution_count": 8,
   "metadata": {
    "execution": {
     "iopub.execute_input": "2025-10-21T13:38:02.459973Z",
     "iopub.status.busy": "2025-10-21T13:38:02.459195Z",
     "iopub.status.idle": "2025-10-21T13:38:02.474448Z",
     "shell.execute_reply": "2025-10-21T13:38:02.473868Z"
    }
   },
   "outputs": [],
   "source": [
    "import pandas as pd\n",
    "\n",
    "year_str = mi_data.reset_index()[[\"year\"]].astype(\"str\")\n",
    "year_cat = pd.Categorical(year_str.iloc[:, 0])\n",
    "year_str.index = mi_data.index\n",
    "year_cat.index = mi_data.index\n",
    "mi_data[\"year_str\"] = year_str\n",
    "mi_data[\"year_cat\"] = year_cat"
   ]
  },
  {
   "cell_type": "markdown",
   "metadata": {},
   "source": [
    "Here year has been converted to a string which is then used in the model to produce year dummies."
   ]
  },
  {
   "cell_type": "code",
   "execution_count": 9,
   "metadata": {
    "execution": {
     "iopub.execute_input": "2025-10-21T13:38:02.477998Z",
     "iopub.status.busy": "2025-10-21T13:38:02.477218Z",
     "iopub.status.idle": "2025-10-21T13:38:02.554950Z",
     "shell.execute_reply": "2025-10-21T13:38:02.553643Z"
    }
   },
   "outputs": [
    {
     "name": "stdout",
     "output_type": "stream",
     "text": [
      "Exogenous variables\n",
      "               hrsemp year_str\n",
      "fcode  year                   \n",
      "410523 1987  20.00000     1987\n",
      "       1988  18.82353     1988\n",
      "       1989  24.48980     1989\n",
      "410538 1989  25.00000     1989\n",
      "410563 1987   0.00000     1987\n",
      "hrsemp      float64\n",
      "year_str     object\n",
      "dtype: object\n"
     ]
    },
    {
     "name": "stdout",
     "output_type": "stream",
     "text": [
      "                          PanelOLS Estimation Summary                           \n",
      "================================================================================\n",
      "Dep. Variable:                 lscrap   R-squared:                        0.1985\n",
      "Estimator:                   PanelOLS   R-squared (Between):             -0.1240\n",
      "No. Observations:                 140   R-squared (Within):               0.1985\n",
      "Date:                Tue, Oct 21 2025   R-squared (Overall):             -0.0934\n",
      "Time:                        13:38:02   Log-likelihood                   -78.765\n",
      "Cov. Estimator:            Unadjusted                                           \n",
      "                                        F-statistic:                      7.3496\n",
      "Entities:                          48   P-value                           0.0002\n",
      "Avg Obs:                       2.9167   Distribution:                    F(3,89)\n",
      "Min Obs:                       1.0000                                           \n",
      "Max Obs:                       3.0000   F-statistic (robust):             7.3496\n",
      "                                        P-value                           0.0002\n",
      "Time periods:                       3   Distribution:                    F(3,89)\n",
      "Avg Obs:                       46.667                                           \n",
      "Min Obs:                       46.000                                           \n",
      "Max Obs:                       48.000                                           \n",
      "                                                                                \n",
      "                               Parameter Estimates                               \n",
      "=================================================================================\n",
      "               Parameter  Std. Err.     T-stat    P-value    Lower CI    Upper CI\n",
      "---------------------------------------------------------------------------------\n",
      "hrsemp           -0.0024     0.0024    -1.0058     0.3172     -0.0071      0.0023\n",
      "year_str.1988    -0.1591     0.1146    -1.3888     0.1684     -0.3868      0.0685\n",
      "year_str.1989    -0.4620     0.1176    -3.9297     0.0002     -0.6957     -0.2284\n",
      "=================================================================================\n",
      "\n",
      "F-test for Poolability: 19.649\n",
      "P-value: 0.0000\n",
      "Distribution: F(47,89)\n",
      "\n",
      "Included effects: Entity\n"
     ]
    }
   ],
   "source": [
    "print(\"Exogenous variables\")\n",
    "print(mi_data[[\"hrsemp\", \"year_str\"]].head())\n",
    "print(mi_data[[\"hrsemp\", \"year_str\"]].dtypes)\n",
    "\n",
    "res = PanelOLS(\n",
    "    mi_data[[\"lscrap\"]], mi_data[[\"hrsemp\", \"year_str\"]], entity_effects=True\n",
    ").fit()\n",
    "print(res)"
   ]
  },
  {
   "cell_type": "markdown",
   "metadata": {},
   "source": [
    "Using ``categorical``s has the same effect."
   ]
  },
  {
   "cell_type": "code",
   "execution_count": 10,
   "metadata": {
    "execution": {
     "iopub.execute_input": "2025-10-21T13:38:02.557992Z",
     "iopub.status.busy": "2025-10-21T13:38:02.557137Z",
     "iopub.status.idle": "2025-10-21T13:38:02.605433Z",
     "shell.execute_reply": "2025-10-21T13:38:02.604181Z"
    }
   },
   "outputs": [
    {
     "name": "stdout",
     "output_type": "stream",
     "text": [
      "Exogenous variables\n",
      "               hrsemp year_cat\n",
      "fcode  year                   \n",
      "410523 1987  20.00000     1987\n",
      "       1988  18.82353     1988\n",
      "       1989  24.48980     1989\n",
      "410538 1989  25.00000     1989\n",
      "410563 1987   0.00000     1987\n",
      "hrsemp       float64\n",
      "year_cat    category\n",
      "dtype: object\n",
      "                          PanelOLS Estimation Summary                           \n",
      "================================================================================\n",
      "Dep. Variable:                 lscrap   R-squared:                        0.1985\n",
      "Estimator:                   PanelOLS   R-squared (Between):             -0.1240\n",
      "No. Observations:                 140   R-squared (Within):               0.1985\n",
      "Date:                Tue, Oct 21 2025   R-squared (Overall):             -0.0934\n",
      "Time:                        13:38:02   Log-likelihood                   -78.765\n",
      "Cov. Estimator:            Unadjusted                                           \n",
      "                                        F-statistic:                      7.3496\n",
      "Entities:                          48   P-value                           0.0002\n",
      "Avg Obs:                       2.9167   Distribution:                    F(3,89)\n",
      "Min Obs:                       1.0000                                           \n",
      "Max Obs:                       3.0000   F-statistic (robust):             7.3496\n",
      "                                        P-value                           0.0002\n",
      "Time periods:                       3   Distribution:                    F(3,89)\n",
      "Avg Obs:                       46.667                                           \n",
      "Min Obs:                       46.000                                           \n",
      "Max Obs:                       48.000                                           \n",
      "                                                                                \n",
      "                               Parameter Estimates                               \n",
      "=================================================================================\n",
      "               Parameter  Std. Err.     T-stat    P-value    Lower CI    Upper CI\n",
      "---------------------------------------------------------------------------------\n",
      "hrsemp           -0.0024     0.0024    -1.0058     0.3172     -0.0071      0.0023\n",
      "year_cat.1988    -0.1591     0.1146    -1.3888     0.1684     -0.3868      0.0685\n",
      "year_cat.1989    -0.4620     0.1176    -3.9297     0.0002     -0.6957     -0.2284\n",
      "=================================================================================\n",
      "\n",
      "F-test for Poolability: 19.649\n",
      "P-value: 0.0000\n",
      "Distribution: F(47,89)\n",
      "\n",
      "Included effects: Entity\n"
     ]
    }
   ],
   "source": [
    "print(\"Exogenous variables\")\n",
    "print(mi_data[[\"hrsemp\", \"year_cat\"]].head())\n",
    "print(mi_data[[\"hrsemp\", \"year_cat\"]].dtypes)\n",
    "\n",
    "res = PanelOLS(\n",
    "    mi_data[[\"lscrap\"]], mi_data[[\"hrsemp\", \"year_cat\"]], entity_effects=True\n",
    ").fit()\n",
    "print(res)"
   ]
  }
 ],
 "metadata": {
  "kernelspec": {
   "display_name": "Python 3 (ipykernel)",
   "language": "python",
   "name": "python3"
  },
  "language_info": {
   "codemirror_mode": {
    "name": "ipython",
    "version": 3
   },
   "file_extension": ".py",
   "mimetype": "text/x-python",
   "name": "python",
   "nbconvert_exporter": "python",
   "pygments_lexer": "ipython3",
   "version": "3.13.7"
  },
  "pycharm": {
   "stem_cell": {
    "cell_type": "raw",
    "metadata": {
     "collapsed": false
    },
    "source": []
   }
  }
 },
 "nbformat": 4,
 "nbformat_minor": 4
}

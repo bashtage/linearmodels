{
 "cells": [
  {
   "cell_type": "markdown",
   "metadata": {},
   "source": [
    "# Using formulas to specify models\n",
    "\n",
    "Formulas can be used to specify models using mostly standard [formulaic](https://matthewwardrop.github.io/formulaic/) syntax. Since system estimation is more complicated than the specification of a single model, there are two methods available to specify a system:\n",
    "\n",
    "* Dictionary of formulas\n",
    "* Single formula separated using {}\n",
    "\n",
    "These examples use data on fringe benefits from F. Vella (1993), \"A Simple Estimator for Simultaneous Models with Censored\n",
    "Endogenous Regressors\" which appears in Wooldridge (2002).  The model consists of two equations, one for hourly wage and the other for hourly benefits.  The initial model uses the same regressors in both equations. "
   ]
  },
  {
   "cell_type": "code",
   "execution_count": 1,
   "metadata": {
    "execution": {
     "iopub.execute_input": "2024-10-20T22:07:23.760337Z",
     "iopub.status.busy": "2024-10-20T22:07:23.760003Z",
     "iopub.status.idle": "2024-10-20T22:07:25.076294Z",
     "shell.execute_reply": "2024-10-20T22:07:25.075260Z"
    }
   },
   "outputs": [],
   "source": [
    "import numpy as np\n",
    "import pandas as pd\n",
    "from linearmodels.datasets import fringe\n",
    "\n",
    "data = fringe.load()"
   ]
  },
  {
   "cell_type": "markdown",
   "metadata": {},
   "source": [
    "## Dictionary \n",
    "\n",
    "The dictionary syntax is virtually identical to standard [formulaic syntax](https://matthewwardrop.github.io/formulaic/) where each equation is specified in a key-value pair where the key is the equation label and the value is the formula. It is recommended to use an OrderedDict which will preserve equation order in results. Keys **must** be strings."
   ]
  },
  {
   "cell_type": "code",
   "execution_count": 2,
   "metadata": {
    "execution": {
     "iopub.execute_input": "2024-10-20T22:07:25.081454Z",
     "iopub.status.busy": "2024-10-20T22:07:25.080153Z",
     "iopub.status.idle": "2024-10-20T22:07:25.086420Z",
     "shell.execute_reply": "2024-10-20T22:07:25.085535Z"
    }
   },
   "outputs": [],
   "source": [
    "from collections import OrderedDict\n",
    "\n",
    "formula = OrderedDict()\n",
    "formula[\"benefits\"] = (\n",
    "    \"hrbens ~ educ + exper + expersq + union + south + nrtheast + nrthcen + male\"\n",
    ")\n",
    "formula[\"earnings\"] = \"hrearn ~ educ + exper + expersq + nrtheast + married + male\""
   ]
  },
  {
   "cell_type": "code",
   "execution_count": 3,
   "metadata": {
    "execution": {
     "iopub.execute_input": "2024-10-20T22:07:25.091196Z",
     "iopub.status.busy": "2024-10-20T22:07:25.090015Z",
     "iopub.status.idle": "2024-10-20T22:07:25.165465Z",
     "shell.execute_reply": "2024-10-20T22:07:25.164707Z"
    }
   },
   "outputs": [
    {
     "name": "stdout",
     "output_type": "stream",
     "text": [
      "                           System GLS Estimation Summary                           \n",
      "===================================================================================\n",
      "Estimator:                        GLS   Overall R-squared:                   0.6951\n",
      "No. Equations.:                     2   McElroy's R-squared:                 0.2197\n",
      "No. Observations:                 616   Judge's (OLS) R-squared:             0.1873\n",
      "Date:                Sun, Oct 20 2024   Berndt's R-squared:                  0.3775\n",
      "Time:                        22:07:25   Dhrymes's R-squared:                 0.6950\n",
      "                                        Cov. Estimator:                  unadjusted\n",
      "                                        Num. Constraints:                      None\n",
      "                Equation: benefits, Dependent Variable: hrbens                \n",
      "==============================================================================\n",
      "            Parameter  Std. Err.     T-stat    P-value    Lower CI    Upper CI\n",
      "------------------------------------------------------------------------------\n",
      "educ           0.0346     0.0050     6.8605     0.0000      0.0247      0.0445\n",
      "exper          0.0350     0.0063     5.5974     0.0000      0.0228      0.0473\n",
      "expersq       -0.0006     0.0001    -4.4326     0.0000     -0.0009     -0.0003\n",
      "union          0.3682     0.0474     7.7659     0.0000      0.2753      0.4612\n",
      "south         -0.1775     0.0586    -3.0289     0.0025     -0.2923     -0.0626\n",
      "nrtheast      -0.1224     0.0714    -1.7132     0.0867     -0.2624      0.0176\n",
      "nrthcen       -0.1433     0.0621    -2.3074     0.0210     -0.2650     -0.0216\n",
      "male           0.2518     0.0490     5.1435     0.0000      0.1559      0.3478\n",
      "                Equation: earnings, Dependent Variable: hrearn                \n",
      "==============================================================================\n",
      "            Parameter  Std. Err.     T-stat    P-value    Lower CI    Upper CI\n",
      "------------------------------------------------------------------------------\n",
      "educ           0.3547     0.0357     9.9280     0.0000      0.2847      0.4247\n",
      "exper         -0.0750     0.0492    -1.5260     0.1270     -0.1714      0.0213\n",
      "expersq        0.0038     0.0011     3.4600     0.0005      0.0016      0.0059\n",
      "nrtheast      -0.7127     0.4473    -1.5934     0.1111     -1.5894      0.1640\n",
      "married        0.4472     0.3920     1.1410     0.2539     -0.3210      1.2155\n",
      "male           1.8899     0.3904     4.8408     0.0000      1.1247      2.6551\n",
      "==============================================================================\n",
      "\n",
      "Covariance Estimator:\n",
      "Homoskedastic (Unadjusted) Covariance (Debiased: False, GLS: True)\n"
     ]
    }
   ],
   "source": [
    "from linearmodels.system import SUR\n",
    "\n",
    "mod = SUR.from_formula(formula, data)\n",
    "print(mod.fit(cov_type=\"unadjusted\"))"
   ]
  },
  {
   "cell_type": "markdown",
   "metadata": {},
   "source": [
    "## Curly Braces {}\n",
    "\n",
    "The same formula can be expressed in a single string by surrounding each equation with braces `{}`."
   ]
  },
  {
   "cell_type": "code",
   "execution_count": 4,
   "metadata": {
    "execution": {
     "iopub.execute_input": "2024-10-20T22:07:25.168888Z",
     "iopub.status.busy": "2024-10-20T22:07:25.168467Z",
     "iopub.status.idle": "2024-10-20T22:07:25.264648Z",
     "shell.execute_reply": "2024-10-20T22:07:25.263146Z"
    }
   },
   "outputs": [
    {
     "name": "stdout",
     "output_type": "stream",
     "text": [
      "                           System GLS Estimation Summary                           \n",
      "===================================================================================\n",
      "Estimator:                        GLS   Overall R-squared:                   0.6951\n",
      "No. Equations.:                     2   McElroy's R-squared:                 0.2197\n",
      "No. Observations:                 616   Judge's (OLS) R-squared:             0.1873\n",
      "Date:                Sun, Oct 20 2024   Berndt's R-squared:                  0.3775\n",
      "Time:                        22:07:25   Dhrymes's R-squared:                 0.6950\n",
      "                                        Cov. Estimator:                  unadjusted\n",
      "                                        Num. Constraints:                      None\n",
      "                 Equation: hrbens, Dependent Variable: hrbens                 \n",
      "==============================================================================\n",
      "            Parameter  Std. Err.     T-stat    P-value    Lower CI    Upper CI\n",
      "------------------------------------------------------------------------------\n",
      "educ           0.0346     0.0050     6.8605     0.0000      0.0247      0.0445\n",
      "exper          0.0350     0.0063     5.5974     0.0000      0.0228      0.0473\n",
      "expersq       -0.0006     0.0001    -4.4326     0.0000     -0.0009     -0.0003\n",
      "union          0.3682     0.0474     7.7659     0.0000      0.2753      0.4612\n",
      "south         -0.1775     0.0586    -3.0289     0.0025     -0.2923     -0.0626\n",
      "nrtheast      -0.1224     0.0714    -1.7132     0.0867     -0.2624      0.0176\n",
      "nrthcen       -0.1433     0.0621    -2.3074     0.0210     -0.2650     -0.0216\n",
      "male           0.2518     0.0490     5.1435     0.0000      0.1559      0.3478\n",
      "                 Equation: hrearn, Dependent Variable: hrearn                 \n",
      "==============================================================================\n",
      "            Parameter  Std. Err.     T-stat    P-value    Lower CI    Upper CI\n",
      "------------------------------------------------------------------------------\n",
      "educ           0.3547     0.0357     9.9280     0.0000      0.2847      0.4247\n",
      "exper         -0.0750     0.0492    -1.5260     0.1270     -0.1714      0.0213\n",
      "expersq        0.0038     0.0011     3.4600     0.0005      0.0016      0.0059\n",
      "nrtheast      -0.7127     0.4473    -1.5934     0.1111     -1.5894      0.1640\n",
      "married        0.4472     0.3920     1.1410     0.2539     -0.3210      1.2155\n",
      "male           1.8899     0.3904     4.8408     0.0000      1.1247      2.6551\n",
      "==============================================================================\n",
      "\n",
      "Covariance Estimator:\n",
      "Homoskedastic (Unadjusted) Covariance (Debiased: False, GLS: True)\n"
     ]
    }
   ],
   "source": [
    "braces_formula = \"\"\"\n",
    "{hrbens ~ educ + exper + expersq + union + south + nrtheast + nrthcen + male}\n",
    "{hrearn ~ educ + exper + expersq + nrtheast + married + male}\n",
    "\"\"\"\n",
    "braces_mod = SUR.from_formula(braces_formula, data)\n",
    "braces_res = braces_mod.fit(cov_type=\"unadjusted\")\n",
    "print(braces_res)"
   ]
  },
  {
   "cell_type": "markdown",
   "metadata": {},
   "source": [
    "## Labeled Formulas\n",
    "\n",
    "When using the curly brace formula specification, the equation names are determined by the dependent variable names.  When names are repeated as is the case in some datasets (e.g. a SUR on GDP of multiple countries) then the equation labels will be modified until they are unique.  This can produce meaningless equation labels, and so it is possible to pass an equation label using the syntax\n",
    "\n",
    "```\n",
    "{label : dep ~ exog}\n",
    "```\n"
   ]
  },
  {
   "cell_type": "code",
   "execution_count": 5,
   "metadata": {
    "execution": {
     "iopub.execute_input": "2024-10-20T22:07:25.268112Z",
     "iopub.status.busy": "2024-10-20T22:07:25.267781Z",
     "iopub.status.idle": "2024-10-20T22:07:25.323329Z",
     "shell.execute_reply": "2024-10-20T22:07:25.322331Z"
    }
   },
   "outputs": [
    {
     "name": "stdout",
     "output_type": "stream",
     "text": [
      "Unlabeled\n",
      "['hrbens', 'hrearn']\n",
      "Labeled\n",
      "['benefits', 'earnings']\n"
     ]
    }
   ],
   "source": [
    "labeled_formula = \"\"\"\n",
    "{benefits: hrbens ~ educ + exper + expersq + union + south + nrtheast + nrthcen + male}\n",
    "{earnings: hrearn ~ educ + exper + expersq + nrtheast + married + male}\n",
    "\"\"\"\n",
    "labels_mod = SUR.from_formula(labeled_formula, data)\n",
    "labeled_res = labels_mod.fit(cov_type=\"unadjusted\")\n",
    "\n",
    "print(\"Unlabeled\")\n",
    "print(braces_res.equation_labels)\n",
    "print(\"Labeled\")\n",
    "print(labeled_res.equation_labels)"
   ]
  },
  {
   "cell_type": "markdown",
   "metadata": {},
   "source": [
    "## Other Options"
   ]
  },
  {
   "cell_type": "markdown",
   "metadata": {},
   "source": [
    "### Estimation Weights\n",
    "\n",
    "SUR supports weights which are assumed to be proportional to the inverse variance of the data so that \n",
    "\n",
    "$$ V(y_i \\times w_i) = \\sigma^2 \\,\\,\\forall i.$$\n",
    "\n",
    "Weights can be passed using a `DataFrame` where each column.  \n",
    "\n",
    "Here the results are printed to ensure that the estimates are different from those in the standard GLS model."
   ]
  },
  {
   "cell_type": "code",
   "execution_count": 6,
   "metadata": {
    "execution": {
     "iopub.execute_input": "2024-10-20T22:07:25.328620Z",
     "iopub.status.busy": "2024-10-20T22:07:25.327368Z",
     "iopub.status.idle": "2024-10-20T22:07:25.398684Z",
     "shell.execute_reply": "2024-10-20T22:07:25.397733Z"
    }
   },
   "outputs": [
    {
     "name": "stdout",
     "output_type": "stream",
     "text": [
      "                           System GLS Estimation Summary                           \n",
      "===================================================================================\n",
      "Estimator:                        GLS   Overall R-squared:                   0.5814\n",
      "No. Equations.:                     2   McElroy's R-squared:                 0.1475\n",
      "No. Observations:                 616   Judge's (OLS) R-squared:             0.1344\n",
      "Date:                Sun, Oct 20 2024   Berndt's R-squared:                  0.7389\n",
      "Time:                        22:07:25   Dhrymes's R-squared:                 0.5799\n",
      "                                        Cov. Estimator:                      robust\n",
      "                                        Num. Constraints:                      None\n",
      "                Equation: benefits, Dependent Variable: hrbens                \n",
      "==============================================================================\n",
      "            Parameter  Std. Err.     T-stat    P-value    Lower CI    Upper CI\n",
      "------------------------------------------------------------------------------\n",
      "educ           0.0349     0.0076     4.5938     0.0000      0.0200      0.0499\n",
      "exper          0.0348     0.0167     2.0915     0.0365      0.0022      0.0675\n",
      "expersq       -0.0007     0.0004    -1.5984     0.1100     -0.0016      0.0002\n",
      "union          0.4078     0.0484     8.4297     0.0000      0.3130      0.5026\n",
      "south         -0.1559     0.0657    -2.3739     0.0176     -0.2846     -0.0272\n",
      "nrtheast      -0.0264     0.0691    -0.3825     0.7021     -0.1619      0.1090\n",
      "nrthcen       -0.1083     0.0575    -1.8842     0.0595     -0.2209      0.0044\n",
      "male           0.2569     0.0466     5.5130     0.0000      0.1656      0.3483\n",
      "                Equation: earnings, Dependent Variable: hrearn                \n",
      "==============================================================================\n",
      "            Parameter  Std. Err.     T-stat    P-value    Lower CI    Upper CI\n",
      "------------------------------------------------------------------------------\n",
      "educ           0.2520     0.0292     8.6216     0.0000      0.1947      0.3093\n",
      "exper          0.1410     0.0608     2.3203     0.0203      0.0219      0.2602\n",
      "expersq       -0.0022     0.0016    -1.3707     0.1705     -0.0053      0.0009\n",
      "nrtheast       0.1369     0.3130     0.4375     0.6618     -0.4766      0.7505\n",
      "married        0.1071     0.1839     0.5824     0.5603     -0.2533      0.4674\n",
      "male           2.0453     0.1816     11.264     0.0000      1.6894      2.4012\n",
      "==============================================================================\n",
      "\n",
      "Covariance Estimator:\n",
      "Heteroskedastic (Robust) Covariance (Debiased: False, GLS: True)\n"
     ]
    }
   ],
   "source": [
    "random_weights = np.random.chisquare(5, size=(616, 2))\n",
    "random_weights = pd.DataFrame(random_weights, columns=[\"benefits\", \"earnings\"])\n",
    "weighted_mod = SUR.from_formula(formula, data, weights=random_weights)\n",
    "print(weighted_mod.fit())"
   ]
  },
  {
   "cell_type": "markdown",
   "metadata": {},
   "source": [
    "### Prespecified Residual Covariance\n",
    "Like a standard SUR, it is possible to pass a prespecified residual covariance for use in the GLS step.  This is done using the keyword argument `sigma` in the `from_formula` method, and is otherwise identical to passing one to the standard SUR."
   ]
  }
 ],
 "metadata": {
  "kernelspec": {
   "display_name": "Python 3 (ipykernel)",
   "language": "python",
   "name": "python3"
  },
  "language_info": {
   "codemirror_mode": {
    "name": "ipython",
    "version": 3
   },
   "file_extension": ".py",
   "mimetype": "text/x-python",
   "name": "python",
   "nbconvert_exporter": "python",
   "pygments_lexer": "ipython3",
   "version": "3.10.15"
  },
  "pycharm": {
   "stem_cell": {
    "cell_type": "raw",
    "metadata": {
     "collapsed": false
    },
    "source": []
   }
  }
 },
 "nbformat": 4,
 "nbformat_minor": 4
}

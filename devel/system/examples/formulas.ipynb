{
 "cells": [
  {
   "cell_type": "markdown",
   "metadata": {
    "pycharm": {
     "name": "#%% md\n"
    }
   },
   "source": [
    "# Using formulas to specify models\n",
    "\n",
    "Formulas can be used to specify models using mostly standard [formulaic](https://matthewwardrop.github.io/formulaic/) syntax. Since system estimation is more complicated than the specification of a single model, there are two methods available to specify a system:\n",
    "\n",
    "* Dictionary of formulas\n",
    "* Single formula separated using {}\n",
    "\n",
    "These examples use data on fringe benefits from F. Vella (1993), \"A Simple Estimator for Simultaneous Models with Censored\n",
    "Endogenous Regressors\" which appears in Wooldridge (2002).  The model consists of two equations, one for hourly wage and the other for hourly benefits.  The initial model uses the same regressors in both equations. "
   ]
  },
  {
   "cell_type": "code",
   "execution_count": 1,
   "metadata": {
    "collapsed": true,
    "execution": {
     "iopub.execute_input": "2022-10-16T21:36:38.126422Z",
     "iopub.status.busy": "2022-10-16T21:36:38.126136Z",
     "iopub.status.idle": "2022-10-16T21:36:38.941945Z",
     "shell.execute_reply": "2022-10-16T21:36:38.941135Z"
    },
    "jupyter": {
     "outputs_hidden": true
    },
    "pycharm": {
     "name": "#%%\n"
    }
   },
   "outputs": [],
   "source": [
    "import numpy as np\n",
    "import pandas as pd\n",
    "from linearmodels.datasets import fringe\n",
    "\n",
    "data = fringe.load()"
   ]
  },
  {
   "cell_type": "markdown",
   "metadata": {
    "pycharm": {
     "name": "#%% md\n"
    }
   },
   "source": [
    "## Dictionary \n",
    "\n",
    "The dictionary syntax is virtually identical to standard [formulaic syntax](https://matthewwardrop.github.io/formulaic/) where each equation is specified in a key-value pair where the key is the equation label and the value is the formula. It is recommended to use an OrderedDict which will preserve equation order in results. Keys **must** be strings."
   ]
  },
  {
   "cell_type": "code",
   "execution_count": 2,
   "metadata": {
    "collapsed": true,
    "execution": {
     "iopub.execute_input": "2022-10-16T21:36:38.948679Z",
     "iopub.status.busy": "2022-10-16T21:36:38.946798Z",
     "iopub.status.idle": "2022-10-16T21:36:38.953197Z",
     "shell.execute_reply": "2022-10-16T21:36:38.952465Z"
    },
    "jupyter": {
     "outputs_hidden": true
    },
    "pycharm": {
     "name": "#%%\n"
    }
   },
   "outputs": [],
   "source": [
    "from collections import OrderedDict\n",
    "\n",
    "formula = OrderedDict()\n",
    "formula[\n",
    "    \"benefits\"\n",
    "] = \"hrbens ~ educ + exper + expersq + union + south + nrtheast + nrthcen + male\"\n",
    "formula[\"earnings\"] = \"hrearn ~ educ + exper + expersq + nrtheast + married + male\""
   ]
  },
  {
   "cell_type": "code",
   "execution_count": 3,
   "metadata": {
    "execution": {
     "iopub.execute_input": "2022-10-16T21:36:38.959037Z",
     "iopub.status.busy": "2022-10-16T21:36:38.957721Z",
     "iopub.status.idle": "2022-10-16T21:36:39.020102Z",
     "shell.execute_reply": "2022-10-16T21:36:39.019362Z"
    },
    "pycharm": {
     "name": "#%%\n"
    }
   },
   "outputs": [
    {
     "name": "stdout",
     "output_type": "stream",
     "text": [
      "                           System GLS Estimation Summary                           \n",
      "===================================================================================\n",
      "Estimator:                        GLS   Overall R-squared:                   0.6951\n",
      "No. Equations.:                     2   McElroy's R-squared:                 0.2197\n",
      "No. Observations:                 616   Judge's (OLS) R-squared:             0.1873\n",
      "Date:                Sun, Oct 16 2022   Berndt's R-squared:                  0.3775\n",
      "Time:                        21:36:38   Dhrymes's R-squared:                 0.6950\n",
      "                                        Cov. Estimator:                  unadjusted\n",
      "                                        Num. Constraints:                      None\n",
      "                Equation: benefits, Dependent Variable: hrbens                \n",
      "==============================================================================\n",
      "            Parameter  Std. Err.     T-stat    P-value    Lower CI    Upper CI\n",
      "------------------------------------------------------------------------------\n",
      "educ           0.0346     0.0050     6.8605     0.0000      0.0247      0.0445\n",
      "exper          0.0350     0.0063     5.5974     0.0000      0.0228      0.0473\n",
      "expersq       -0.0006     0.0001    -4.4326     0.0000     -0.0009     -0.0003\n",
      "male           0.2518     0.0490     5.1435     0.0000      0.1559      0.3478\n",
      "nrthcen       -0.1433     0.0621    -2.3074     0.0210     -0.2650     -0.0216\n",
      "nrtheast      -0.1224     0.0714    -1.7132     0.0867     -0.2624      0.0176\n",
      "south         -0.1775     0.0586    -3.0289     0.0025     -0.2923     -0.0626\n",
      "union          0.3682     0.0474     7.7659     0.0000      0.2753      0.4612\n",
      "                Equation: earnings, Dependent Variable: hrearn                \n",
      "==============================================================================\n",
      "            Parameter  Std. Err.     T-stat    P-value    Lower CI    Upper CI\n",
      "------------------------------------------------------------------------------\n",
      "educ           0.3547     0.0357     9.9280     0.0000      0.2847      0.4247\n",
      "exper         -0.0750     0.0492    -1.5260     0.1270     -0.1714      0.0213\n",
      "expersq        0.0038     0.0011     3.4600     0.0005      0.0016      0.0059\n",
      "male           1.8899     0.3904     4.8408     0.0000      1.1247      2.6551\n",
      "married        0.4472     0.3920     1.1410     0.2539     -0.3210      1.2155\n",
      "nrtheast      -0.7127     0.4473    -1.5934     0.1111     -1.5894      0.1640\n",
      "==============================================================================\n",
      "\n",
      "Covariance Estimator:\n",
      "Homoskedastic (Unadjusted) Covariance (Debiased: False, GLS: True)\n"
     ]
    }
   ],
   "source": [
    "from linearmodels.system import SUR\n",
    "\n",
    "mod = SUR.from_formula(formula, data)\n",
    "print(mod.fit(cov_type=\"unadjusted\"))"
   ]
  },
  {
   "cell_type": "markdown",
   "metadata": {
    "pycharm": {
     "name": "#%% md\n"
    }
   },
   "source": [
    "## Curly Braces {}\n",
    "\n",
    "The same formula can be expressed in a single string by surrounding each equation with braces `{}`."
   ]
  },
  {
   "cell_type": "code",
   "execution_count": 4,
   "metadata": {
    "execution": {
     "iopub.execute_input": "2022-10-16T21:36:39.024733Z",
     "iopub.status.busy": "2022-10-16T21:36:39.024396Z",
     "iopub.status.idle": "2022-10-16T21:36:39.086843Z",
     "shell.execute_reply": "2022-10-16T21:36:39.086059Z"
    },
    "pycharm": {
     "name": "#%%\n"
    }
   },
   "outputs": [
    {
     "name": "stdout",
     "output_type": "stream",
     "text": [
      "                           System GLS Estimation Summary                           \n",
      "===================================================================================\n",
      "Estimator:                        GLS   Overall R-squared:                   0.6951\n",
      "No. Equations.:                     2   McElroy's R-squared:                 0.2197\n",
      "No. Observations:                 616   Judge's (OLS) R-squared:             0.1873\n",
      "Date:                Sun, Oct 16 2022   Berndt's R-squared:                  0.3775\n",
      "Time:                        21:36:39   Dhrymes's R-squared:                 0.6950\n",
      "                                        Cov. Estimator:                  unadjusted\n",
      "                                        Num. Constraints:                      None\n",
      "                 Equation: hrbens, Dependent Variable: hrbens                 \n",
      "==============================================================================\n",
      "            Parameter  Std. Err.     T-stat    P-value    Lower CI    Upper CI\n",
      "------------------------------------------------------------------------------\n",
      "educ           0.0346     0.0050     6.8605     0.0000      0.0247      0.0445\n",
      "exper          0.0350     0.0063     5.5974     0.0000      0.0228      0.0473\n",
      "expersq       -0.0006     0.0001    -4.4326     0.0000     -0.0009     -0.0003\n",
      "male           0.2518     0.0490     5.1435     0.0000      0.1559      0.3478\n",
      "nrthcen       -0.1433     0.0621    -2.3074     0.0210     -0.2650     -0.0216\n",
      "nrtheast      -0.1224     0.0714    -1.7132     0.0867     -0.2624      0.0176\n",
      "south         -0.1775     0.0586    -3.0289     0.0025     -0.2923     -0.0626\n",
      "union          0.3682     0.0474     7.7659     0.0000      0.2753      0.4612\n",
      "                 Equation: hrearn, Dependent Variable: hrearn                 \n",
      "==============================================================================\n",
      "            Parameter  Std. Err.     T-stat    P-value    Lower CI    Upper CI\n",
      "------------------------------------------------------------------------------\n",
      "educ           0.3547     0.0357     9.9280     0.0000      0.2847      0.4247\n",
      "exper         -0.0750     0.0492    -1.5260     0.1270     -0.1714      0.0213\n",
      "expersq        0.0038     0.0011     3.4600     0.0005      0.0016      0.0059\n",
      "male           1.8899     0.3904     4.8408     0.0000      1.1247      2.6551\n",
      "married        0.4472     0.3920     1.1410     0.2539     -0.3210      1.2155\n",
      "nrtheast      -0.7127     0.4473    -1.5934     0.1111     -1.5894      0.1640\n",
      "==============================================================================\n",
      "\n",
      "Covariance Estimator:\n",
      "Homoskedastic (Unadjusted) Covariance (Debiased: False, GLS: True)\n"
     ]
    }
   ],
   "source": [
    "braces_formula = \"\"\"\n",
    "{hrbens ~ educ + exper + expersq + union + south + nrtheast + nrthcen + male}\n",
    "{hrearn ~ educ + exper + expersq + nrtheast + married + male}\n",
    "\"\"\"\n",
    "braces_mod = SUR.from_formula(braces_formula, data)\n",
    "braces_res = braces_mod.fit(cov_type=\"unadjusted\")\n",
    "print(braces_res)"
   ]
  },
  {
   "cell_type": "markdown",
   "metadata": {
    "pycharm": {
     "name": "#%% md\n"
    }
   },
   "source": [
    "## Labeled Formulas\n",
    "\n",
    "When using the curly brace formula specification, the equation names are determined by the dependent variable names.  When names are repeated as is the case in some datasets (e.g. a SUR on GDP of multiple countries) then the equation labels will be modified until they are unique.  This can produce meaningless equation labels, and so it is possible to pass an equation label using the syntax\n",
    "\n",
    "```\n",
    "{label : dep ~ exog}\n",
    "```\n"
   ]
  },
  {
   "cell_type": "code",
   "execution_count": 5,
   "metadata": {
    "execution": {
     "iopub.execute_input": "2022-10-16T21:36:39.092658Z",
     "iopub.status.busy": "2022-10-16T21:36:39.091370Z",
     "iopub.status.idle": "2022-10-16T21:36:39.132427Z",
     "shell.execute_reply": "2022-10-16T21:36:39.131655Z"
    },
    "pycharm": {
     "name": "#%%\n"
    }
   },
   "outputs": [
    {
     "name": "stdout",
     "output_type": "stream",
     "text": [
      "Unlabeled\n",
      "['hrbens', 'hrearn']\n",
      "Labeled\n",
      "['benefits', 'earnings']\n"
     ]
    }
   ],
   "source": [
    "labeled_formula = \"\"\"\n",
    "{benefits: hrbens ~ educ + exper + expersq + union + south + nrtheast + nrthcen + male}\n",
    "{earnings: hrearn ~ educ + exper + expersq + nrtheast + married + male}\n",
    "\"\"\"\n",
    "labels_mod = SUR.from_formula(labeled_formula, data)\n",
    "labeled_res = labels_mod.fit(cov_type=\"unadjusted\")\n",
    "\n",
    "print(\"Unlabeled\")\n",
    "print(braces_res.equation_labels)\n",
    "print(\"Labeled\")\n",
    "print(labeled_res.equation_labels)"
   ]
  },
  {
   "cell_type": "markdown",
   "metadata": {
    "pycharm": {
     "name": "#%% md\n"
    }
   },
   "source": [
    "## Other Options"
   ]
  },
  {
   "cell_type": "markdown",
   "metadata": {
    "pycharm": {
     "name": "#%% md\n"
    }
   },
   "source": [
    "### Estimation Weights\n",
    "\n",
    "SUR supports weights which are assumed to be proportional to the inverse variance of the data so that \n",
    "\n",
    "$$ V(y_i \\times w_i) = \\sigma^2 \\,\\,\\forall i.$$\n",
    "\n",
    "Weights can be passed using a `DataFrame` where each column.  \n",
    "\n",
    "Here the results are printed to ensure that the estimates are different from those in the standard GLS model."
   ]
  },
  {
   "cell_type": "code",
   "execution_count": 6,
   "metadata": {
    "execution": {
     "iopub.execute_input": "2022-10-16T21:36:39.138154Z",
     "iopub.status.busy": "2022-10-16T21:36:39.136898Z",
     "iopub.status.idle": "2022-10-16T21:36:39.197015Z",
     "shell.execute_reply": "2022-10-16T21:36:39.196176Z"
    },
    "pycharm": {
     "name": "#%%\n"
    }
   },
   "outputs": [
    {
     "name": "stdout",
     "output_type": "stream",
     "text": [
      "                           System GLS Estimation Summary                           \n",
      "===================================================================================\n",
      "Estimator:                        GLS   Overall R-squared:                   0.6812\n",
      "No. Equations.:                     2   McElroy's R-squared:                 0.2152\n",
      "No. Observations:                 616   Judge's (OLS) R-squared:             0.1857\n",
      "Date:                Sun, Oct 16 2022   Berndt's R-squared:                  0.4159\n",
      "Time:                        21:36:39   Dhrymes's R-squared:                 0.6811\n",
      "                                        Cov. Estimator:                      robust\n",
      "                                        Num. Constraints:                      None\n",
      "                Equation: benefits, Dependent Variable: hrbens                \n",
      "==============================================================================\n",
      "            Parameter  Std. Err.     T-stat    P-value    Lower CI    Upper CI\n",
      "------------------------------------------------------------------------------\n",
      "educ           0.0344     0.0047     7.2905     0.0000      0.0252      0.0437\n",
      "exper          0.0359     0.0061     5.8560     0.0000      0.0239      0.0479\n",
      "expersq       -0.0007     0.0001    -4.5821     0.0000     -0.0010     -0.0004\n",
      "male           0.2568     0.0478     5.3704     0.0000      0.1631      0.3506\n",
      "nrthcen       -0.1410     0.0592    -2.3823     0.0172     -0.2570     -0.0250\n",
      "nrtheast      -0.0626     0.0689    -0.9082     0.3638     -0.1976      0.0725\n",
      "south         -0.1878     0.0549    -3.4181     0.0006     -0.2954     -0.0801\n",
      "union          0.3862     0.0477     8.1025     0.0000      0.2928      0.4797\n",
      "                Equation: earnings, Dependent Variable: hrearn                \n",
      "==============================================================================\n",
      "            Parameter  Std. Err.     T-stat    P-value    Lower CI    Upper CI\n",
      "------------------------------------------------------------------------------\n",
      "educ           0.3437     0.0953     3.6069     0.0003      0.1569      0.5305\n",
      "exper         -0.0453     0.2119    -0.2135     0.8309     -0.4607      0.3701\n",
      "expersq        0.0030     0.0055     0.5468     0.5845     -0.0077      0.0137\n",
      "male           1.8850     0.2417     7.7984     0.0000      1.4112      2.3587\n",
      "married        0.2861     0.4142     0.6906     0.4898     -0.5258      1.0980\n",
      "nrtheast      -0.4762     0.5445    -0.8747     0.3818     -1.5434      0.5909\n",
      "==============================================================================\n",
      "\n",
      "Covariance Estimator:\n",
      "Heteroskedastic (Robust) Covariance (Debiased: False, GLS: True)\n"
     ]
    }
   ],
   "source": [
    "random_weights = np.random.chisquare(5, size=(616, 2))\n",
    "random_weights = pd.DataFrame(random_weights, columns=[\"benefits\", \"earnings\"])\n",
    "weighted_mod = SUR.from_formula(formula, data, weights=random_weights)\n",
    "print(weighted_mod.fit())"
   ]
  },
  {
   "cell_type": "markdown",
   "metadata": {
    "pycharm": {
     "name": "#%% md\n"
    }
   },
   "source": [
    "### Prespecified Residual Covariance\n",
    "Like a standard SUR, it is possible to pass a prespecified residual covariance for use in the GLS step.  This is done using the keyword argument `sigma` in the `from_formula` method, and is otherwise identical to passing one to the standard SUR."
   ]
  }
 ],
 "metadata": {
  "kernelspec": {
   "display_name": "Python 3 (ipykernel)",
   "language": "python",
   "name": "python3"
  },
  "language_info": {
   "codemirror_mode": {
    "name": "ipython",
    "version": 3
   },
   "file_extension": ".py",
   "mimetype": "text/x-python",
   "name": "python",
   "nbconvert_exporter": "python",
   "pygments_lexer": "ipython3",
   "version": "3.8.14"
  },
  "pycharm": {
   "stem_cell": {
    "cell_type": "raw",
    "metadata": {
     "collapsed": false
    },
    "source": []
   }
  }
 },
 "nbformat": 4,
 "nbformat_minor": 4
}

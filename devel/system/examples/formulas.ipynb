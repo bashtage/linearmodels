{
 "cells": [
  {
   "cell_type": "markdown",
   "metadata": {
    "pycharm": {
     "name": "#%% md\n"
    }
   },
   "source": [
    "# Using formulas to specify models\n",
    "\n",
    "Formulas can be used to specify models using mostly standard [formulaic](https://matthewwardrop.github.io/formulaic/) syntax. Since system estimation is more complicated than the specification of a single model, there are two methods available to specify a system:\n",
    "\n",
    "* Dictionary of formulas\n",
    "* Single formula separated using {}\n",
    "\n",
    "These examples use data on fringe benefits from F. Vella (1993), \"A Simple Estimator for Simultaneous Models with Censored\n",
    "Endogenous Regressors\" which appears in Wooldridge (2002).  The model consists of two equations, one for hourly wage and the other for hourly benefits.  The initial model uses the same regressors in both equations. "
   ]
  },
  {
   "cell_type": "code",
   "execution_count": 1,
   "metadata": {
    "collapsed": true,
    "execution": {
     "iopub.execute_input": "2023-04-12T09:37:12.662559Z",
     "iopub.status.busy": "2023-04-12T09:37:12.662299Z",
     "iopub.status.idle": "2023-04-12T09:37:13.920776Z",
     "shell.execute_reply": "2023-04-12T09:37:13.919959Z"
    },
    "jupyter": {
     "outputs_hidden": true
    },
    "pycharm": {
     "name": "#%%\n"
    }
   },
   "outputs": [],
   "source": [
    "import numpy as np\n",
    "import pandas as pd\n",
    "from linearmodels.datasets import fringe\n",
    "\n",
    "data = fringe.load()"
   ]
  },
  {
   "cell_type": "markdown",
   "metadata": {
    "pycharm": {
     "name": "#%% md\n"
    }
   },
   "source": [
    "## Dictionary \n",
    "\n",
    "The dictionary syntax is virtually identical to standard [formulaic syntax](https://matthewwardrop.github.io/formulaic/) where each equation is specified in a key-value pair where the key is the equation label and the value is the formula. It is recommended to use an OrderedDict which will preserve equation order in results. Keys **must** be strings."
   ]
  },
  {
   "cell_type": "code",
   "execution_count": 2,
   "metadata": {
    "collapsed": true,
    "execution": {
     "iopub.execute_input": "2023-04-12T09:37:13.927094Z",
     "iopub.status.busy": "2023-04-12T09:37:13.925697Z",
     "iopub.status.idle": "2023-04-12T09:37:13.937633Z",
     "shell.execute_reply": "2023-04-12T09:37:13.936767Z"
    },
    "jupyter": {
     "outputs_hidden": true
    },
    "pycharm": {
     "name": "#%%\n"
    }
   },
   "outputs": [],
   "source": [
    "from collections import OrderedDict\n",
    "\n",
    "formula = OrderedDict()\n",
    "formula[\n",
    "    \"benefits\"\n",
    "] = \"hrbens ~ educ + exper + expersq + union + south + nrtheast + nrthcen + male\"\n",
    "formula[\"earnings\"] = \"hrearn ~ educ + exper + expersq + nrtheast + married + male\""
   ]
  },
  {
   "cell_type": "code",
   "execution_count": 3,
   "metadata": {
    "execution": {
     "iopub.execute_input": "2023-04-12T09:37:13.943845Z",
     "iopub.status.busy": "2023-04-12T09:37:13.942447Z",
     "iopub.status.idle": "2023-04-12T09:37:14.040570Z",
     "shell.execute_reply": "2023-04-12T09:37:14.039756Z"
    },
    "pycharm": {
     "name": "#%%\n"
    }
   },
   "outputs": [
    {
     "name": "stdout",
     "output_type": "stream",
     "text": [
      "                           System GLS Estimation Summary                           \n",
      "===================================================================================\n",
      "Estimator:                        GLS   Overall R-squared:                   0.6951\n",
      "No. Equations.:                     2   McElroy's R-squared:                 0.2197\n",
      "No. Observations:                 616   Judge's (OLS) R-squared:             0.1873\n",
      "Date:                Wed, Apr 12 2023   Berndt's R-squared:                  0.3775\n",
      "Time:                        09:37:13   Dhrymes's R-squared:                 0.6950\n",
      "                                        Cov. Estimator:                  unadjusted\n",
      "                                        Num. Constraints:                      None\n",
      "                Equation: benefits, Dependent Variable: hrbens                \n",
      "==============================================================================\n",
      "            Parameter  Std. Err.     T-stat    P-value    Lower CI    Upper CI\n",
      "------------------------------------------------------------------------------\n",
      "educ           0.0346     0.0050     6.8605     0.0000      0.0247      0.0445\n",
      "exper          0.0350     0.0063     5.5974     0.0000      0.0228      0.0473\n",
      "expersq       -0.0006     0.0001    -4.4326     0.0000     -0.0009     -0.0003\n",
      "male           0.2518     0.0490     5.1435     0.0000      0.1559      0.3478\n",
      "nrthcen       -0.1433     0.0621    -2.3074     0.0210     -0.2650     -0.0216\n",
      "nrtheast      -0.1224     0.0714    -1.7132     0.0867     -0.2624      0.0176\n",
      "south         -0.1775     0.0586    -3.0289     0.0025     -0.2923     -0.0626\n",
      "union          0.3682     0.0474     7.7659     0.0000      0.2753      0.4612\n",
      "                Equation: earnings, Dependent Variable: hrearn                \n",
      "==============================================================================\n",
      "            Parameter  Std. Err.     T-stat    P-value    Lower CI    Upper CI\n",
      "------------------------------------------------------------------------------\n",
      "educ           0.3547     0.0357     9.9280     0.0000      0.2847      0.4247\n",
      "exper         -0.0750     0.0492    -1.5260     0.1270     -0.1714      0.0213\n",
      "expersq        0.0038     0.0011     3.4600     0.0005      0.0016      0.0059\n",
      "male           1.8899     0.3904     4.8408     0.0000      1.1247      2.6551\n",
      "married        0.4472     0.3920     1.1410     0.2539     -0.3210      1.2155\n",
      "nrtheast      -0.7127     0.4473    -1.5934     0.1111     -1.5894      0.1640\n",
      "==============================================================================\n",
      "\n",
      "Covariance Estimator:\n",
      "Homoskedastic (Unadjusted) Covariance (Debiased: False, GLS: True)\n"
     ]
    }
   ],
   "source": [
    "from linearmodels.system import SUR\n",
    "\n",
    "mod = SUR.from_formula(formula, data)\n",
    "print(mod.fit(cov_type=\"unadjusted\"))"
   ]
  },
  {
   "cell_type": "markdown",
   "metadata": {
    "pycharm": {
     "name": "#%% md\n"
    }
   },
   "source": [
    "## Curly Braces {}\n",
    "\n",
    "The same formula can be expressed in a single string by surrounding each equation with braces `{}`."
   ]
  },
  {
   "cell_type": "code",
   "execution_count": 4,
   "metadata": {
    "execution": {
     "iopub.execute_input": "2023-04-12T09:37:14.048854Z",
     "iopub.status.busy": "2023-04-12T09:37:14.046700Z",
     "iopub.status.idle": "2023-04-12T09:37:14.118135Z",
     "shell.execute_reply": "2023-04-12T09:37:14.117317Z"
    },
    "pycharm": {
     "name": "#%%\n"
    }
   },
   "outputs": [
    {
     "name": "stdout",
     "output_type": "stream",
     "text": [
      "                           System GLS Estimation Summary                           \n",
      "===================================================================================\n",
      "Estimator:                        GLS   Overall R-squared:                   0.6951\n",
      "No. Equations.:                     2   McElroy's R-squared:                 0.2197\n",
      "No. Observations:                 616   Judge's (OLS) R-squared:             0.1873\n",
      "Date:                Wed, Apr 12 2023   Berndt's R-squared:                  0.3775\n",
      "Time:                        09:37:14   Dhrymes's R-squared:                 0.6950\n",
      "                                        Cov. Estimator:                  unadjusted\n",
      "                                        Num. Constraints:                      None\n",
      "                 Equation: hrbens, Dependent Variable: hrbens                 \n",
      "==============================================================================\n",
      "            Parameter  Std. Err.     T-stat    P-value    Lower CI    Upper CI\n",
      "------------------------------------------------------------------------------\n",
      "educ           0.0346     0.0050     6.8605     0.0000      0.0247      0.0445\n",
      "exper          0.0350     0.0063     5.5974     0.0000      0.0228      0.0473\n",
      "expersq       -0.0006     0.0001    -4.4326     0.0000     -0.0009     -0.0003\n",
      "male           0.2518     0.0490     5.1435     0.0000      0.1559      0.3478\n",
      "nrthcen       -0.1433     0.0621    -2.3074     0.0210     -0.2650     -0.0216\n",
      "nrtheast      -0.1224     0.0714    -1.7132     0.0867     -0.2624      0.0176\n",
      "south         -0.1775     0.0586    -3.0289     0.0025     -0.2923     -0.0626\n",
      "union          0.3682     0.0474     7.7659     0.0000      0.2753      0.4612\n",
      "                 Equation: hrearn, Dependent Variable: hrearn                 \n",
      "==============================================================================\n",
      "            Parameter  Std. Err.     T-stat    P-value    Lower CI    Upper CI\n",
      "------------------------------------------------------------------------------\n",
      "educ           0.3547     0.0357     9.9280     0.0000      0.2847      0.4247\n",
      "exper         -0.0750     0.0492    -1.5260     0.1270     -0.1714      0.0213\n",
      "expersq        0.0038     0.0011     3.4600     0.0005      0.0016      0.0059\n",
      "male           1.8899     0.3904     4.8408     0.0000      1.1247      2.6551\n",
      "married        0.4472     0.3920     1.1410     0.2539     -0.3210      1.2155\n",
      "nrtheast      -0.7127     0.4473    -1.5934     0.1111     -1.5894      0.1640\n",
      "==============================================================================\n",
      "\n",
      "Covariance Estimator:\n",
      "Homoskedastic (Unadjusted) Covariance (Debiased: False, GLS: True)\n"
     ]
    }
   ],
   "source": [
    "braces_formula = \"\"\"\n",
    "{hrbens ~ educ + exper + expersq + union + south + nrtheast + nrthcen + male}\n",
    "{hrearn ~ educ + exper + expersq + nrtheast + married + male}\n",
    "\"\"\"\n",
    "braces_mod = SUR.from_formula(braces_formula, data)\n",
    "braces_res = braces_mod.fit(cov_type=\"unadjusted\")\n",
    "print(braces_res)"
   ]
  },
  {
   "cell_type": "markdown",
   "metadata": {
    "pycharm": {
     "name": "#%% md\n"
    }
   },
   "source": [
    "## Labeled Formulas\n",
    "\n",
    "When using the curly brace formula specification, the equation names are determined by the dependent variable names.  When names are repeated as is the case in some datasets (e.g. a SUR on GDP of multiple countries) then the equation labels will be modified until they are unique.  This can produce meaningless equation labels, and so it is possible to pass an equation label using the syntax\n",
    "\n",
    "```\n",
    "{label : dep ~ exog}\n",
    "```\n"
   ]
  },
  {
   "cell_type": "code",
   "execution_count": 5,
   "metadata": {
    "execution": {
     "iopub.execute_input": "2023-04-12T09:37:14.123563Z",
     "iopub.status.busy": "2023-04-12T09:37:14.122209Z",
     "iopub.status.idle": "2023-04-12T09:37:14.188187Z",
     "shell.execute_reply": "2023-04-12T09:37:14.187366Z"
    },
    "pycharm": {
     "name": "#%%\n"
    }
   },
   "outputs": [
    {
     "name": "stdout",
     "output_type": "stream",
     "text": [
      "Unlabeled\n",
      "['hrbens', 'hrearn']\n",
      "Labeled\n",
      "['benefits', 'earnings']\n"
     ]
    }
   ],
   "source": [
    "labeled_formula = \"\"\"\n",
    "{benefits: hrbens ~ educ + exper + expersq + union + south + nrtheast + nrthcen + male}\n",
    "{earnings: hrearn ~ educ + exper + expersq + nrtheast + married + male}\n",
    "\"\"\"\n",
    "labels_mod = SUR.from_formula(labeled_formula, data)\n",
    "labeled_res = labels_mod.fit(cov_type=\"unadjusted\")\n",
    "\n",
    "print(\"Unlabeled\")\n",
    "print(braces_res.equation_labels)\n",
    "print(\"Labeled\")\n",
    "print(labeled_res.equation_labels)"
   ]
  },
  {
   "cell_type": "markdown",
   "metadata": {
    "pycharm": {
     "name": "#%% md\n"
    }
   },
   "source": [
    "## Other Options"
   ]
  },
  {
   "cell_type": "markdown",
   "metadata": {
    "pycharm": {
     "name": "#%% md\n"
    }
   },
   "source": [
    "### Estimation Weights\n",
    "\n",
    "SUR supports weights which are assumed to be proportional to the inverse variance of the data so that \n",
    "\n",
    "$$ V(y_i \\times w_i) = \\sigma^2 \\,\\,\\forall i.$$\n",
    "\n",
    "Weights can be passed using a `DataFrame` where each column.  \n",
    "\n",
    "Here the results are printed to ensure that the estimates are different from those in the standard GLS model."
   ]
  },
  {
   "cell_type": "code",
   "execution_count": 6,
   "metadata": {
    "execution": {
     "iopub.execute_input": "2023-04-12T09:37:14.192071Z",
     "iopub.status.busy": "2023-04-12T09:37:14.191807Z",
     "iopub.status.idle": "2023-04-12T09:37:14.306177Z",
     "shell.execute_reply": "2023-04-12T09:37:14.304783Z"
    },
    "pycharm": {
     "name": "#%%\n"
    }
   },
   "outputs": [
    {
     "name": "stdout",
     "output_type": "stream",
     "text": [
      "                           System GLS Estimation Summary                           \n",
      "===================================================================================\n",
      "Estimator:                        GLS   Overall R-squared:                   0.6791\n",
      "No. Equations.:                     2   McElroy's R-squared:                 0.2128\n",
      "No. Observations:                 616   Judge's (OLS) R-squared:             0.1823\n",
      "Date:                Wed, Apr 12 2023   Berndt's R-squared:                  0.4372\n",
      "Time:                        09:37:14   Dhrymes's R-squared:                 0.6787\n",
      "                                        Cov. Estimator:                      robust\n",
      "                                        Num. Constraints:                      None\n",
      "                Equation: benefits, Dependent Variable: hrbens                \n",
      "==============================================================================\n",
      "            Parameter  Std. Err.     T-stat    P-value    Lower CI    Upper CI\n",
      "------------------------------------------------------------------------------\n",
      "educ           0.0322     0.0049     6.6116     0.0000      0.0227      0.0418\n",
      "exper          0.0464     0.0063     7.3747     0.0000      0.0341      0.0587\n",
      "expersq       -0.0009     0.0001    -6.0721     0.0000     -0.0012     -0.0006\n",
      "male           0.2433     0.0474     5.1367     0.0000      0.1505      0.3361\n",
      "nrthcen       -0.1674     0.0595    -2.8117     0.0049     -0.2841     -0.0507\n",
      "nrtheast      -0.1280     0.0671    -1.9074     0.0565     -0.2595      0.0035\n",
      "south         -0.1798     0.0585    -3.0718     0.0021     -0.2945     -0.0651\n",
      "union          0.3593     0.0490     7.3394     0.0000      0.2634      0.4553\n",
      "                Equation: earnings, Dependent Variable: hrearn                \n",
      "==============================================================================\n",
      "            Parameter  Std. Err.     T-stat    P-value    Lower CI    Upper CI\n",
      "------------------------------------------------------------------------------\n",
      "educ           0.3312     0.0928     3.5701     0.0004      0.1494      0.5131\n",
      "exper         -0.0281     0.2069    -0.1360     0.8918     -0.4336      0.3773\n",
      "expersq        0.0022     0.0054     0.4100     0.6818     -0.0084      0.0129\n",
      "male           2.1271     0.2150     9.8944     0.0000      1.7058      2.5485\n",
      "married        0.5103     0.3159     1.6150     0.1063     -0.1090      1.1295\n",
      "nrtheast      -0.5687     0.4461    -1.2750     0.2023     -1.4429      0.3055\n",
      "==============================================================================\n",
      "\n",
      "Covariance Estimator:\n",
      "Heteroskedastic (Robust) Covariance (Debiased: False, GLS: True)\n"
     ]
    }
   ],
   "source": [
    "random_weights = np.random.chisquare(5, size=(616, 2))\n",
    "random_weights = pd.DataFrame(random_weights, columns=[\"benefits\", \"earnings\"])\n",
    "weighted_mod = SUR.from_formula(formula, data, weights=random_weights)\n",
    "print(weighted_mod.fit())"
   ]
  },
  {
   "cell_type": "markdown",
   "metadata": {
    "pycharm": {
     "name": "#%% md\n"
    }
   },
   "source": [
    "### Prespecified Residual Covariance\n",
    "Like a standard SUR, it is possible to pass a prespecified residual covariance for use in the GLS step.  This is done using the keyword argument `sigma` in the `from_formula` method, and is otherwise identical to passing one to the standard SUR."
   ]
  }
 ],
 "metadata": {
  "kernelspec": {
   "display_name": "Python 3 (ipykernel)",
   "language": "python",
   "name": "python3"
  },
  "language_info": {
   "codemirror_mode": {
    "name": "ipython",
    "version": 3
   },
   "file_extension": ".py",
   "mimetype": "text/x-python",
   "name": "python",
   "nbconvert_exporter": "python",
   "pygments_lexer": "ipython3",
   "version": "3.8.16"
  },
  "pycharm": {
   "stem_cell": {
    "cell_type": "raw",
    "metadata": {
     "collapsed": false
    },
    "source": []
   }
  }
 },
 "nbformat": 4,
 "nbformat_minor": 4
}

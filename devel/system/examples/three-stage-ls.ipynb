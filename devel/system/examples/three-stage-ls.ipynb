{
 "cells": [
  {
   "cell_type": "markdown",
   "metadata": {},
   "source": [
    "# Three-stage Least Squares (3SLS)\n",
    "\n",
    "This example demonstrates how a system of simultaneous equations can be jointly estimated using three-stage least squares (3SLS).  The simultaneous equations model the wage and number of hours worked.  The two equations are \n",
    "\n",
    "$$\n",
    "\\begin{eqnarray}\n",
    "hours & = & \\beta_0 + \\beta_1 \\ln(wage) + \\beta_2 educ + \\beta_3 age + \\beta_4 kidslt6 + \\beta_5 nwifeinc + \\epsilon^h_i \n",
    "\\\\\n",
    "\\ln(wage) & = & \\gamma_0 + \\gamma_1 hours + \\gamma_2 educ + \\gamma_3 educ^2 + \\gamma_4 exper + \\epsilon^w_i \n",
    "\\end{eqnarray}\n",
    "$$\n",
    "\n",
    "Each equation has a single exogenous variables.  The instruments for the endogenous variables are the regressors that appear in one equation but not the other. "
   ]
  },
  {
   "cell_type": "markdown",
   "metadata": {},
   "source": [
    "## Data\n",
    "\n",
    "The data set is the MORZ data set from Wooldridge (2002)."
   ]
  },
  {
   "cell_type": "code",
   "execution_count": 1,
   "metadata": {
    "execution": {
     "iopub.execute_input": "2022-07-05T10:28:05.635295Z",
     "iopub.status.busy": "2022-07-05T10:28:05.632290Z",
     "iopub.status.idle": "2022-07-05T10:28:06.546351Z",
     "shell.execute_reply": "2022-07-05T10:28:06.545579Z"
    }
   },
   "outputs": [],
   "source": [
    "from linearmodels.datasets import mroz\n",
    "\n",
    "data = mroz.load()"
   ]
  },
  {
   "cell_type": "markdown",
   "metadata": {},
   "source": [
    "Here the relevant variables are selected and missing observations are dropped to avoid warnings."
   ]
  },
  {
   "cell_type": "code",
   "execution_count": 2,
   "metadata": {
    "execution": {
     "iopub.execute_input": "2022-07-05T10:28:06.554449Z",
     "iopub.status.busy": "2022-07-05T10:28:06.554152Z",
     "iopub.status.idle": "2022-07-05T10:28:06.562068Z",
     "shell.execute_reply": "2022-07-05T10:28:06.561201Z"
    }
   },
   "outputs": [],
   "source": [
    "data = data[\n",
    "    [\"hours\", \"educ\", \"age\", \"kidslt6\", \"nwifeinc\", \"lwage\", \"exper\", \"expersq\"]\n",
    "]\n",
    "data = data.dropna()"
   ]
  },
  {
   "cell_type": "markdown",
   "metadata": {},
   "source": [
    "The main models are imported:\n",
    "\n",
    "* `IV2SLS` - single equation 2-stage least squares\n",
    "* `IV3SLS` - system estimation using instrumental variables\n",
    "* `SUR` - system estimation without endogenous variables\n"
   ]
  },
  {
   "cell_type": "code",
   "execution_count": 3,
   "metadata": {
    "execution": {
     "iopub.execute_input": "2022-07-05T10:28:06.566724Z",
     "iopub.status.busy": "2022-07-05T10:28:06.566182Z",
     "iopub.status.idle": "2022-07-05T10:28:06.571618Z",
     "shell.execute_reply": "2022-07-05T10:28:06.570824Z"
    }
   },
   "outputs": [],
   "source": [
    "from linearmodels import IV2SLS, IV3SLS, SUR, IVSystemGMM"
   ]
  },
  {
   "cell_type": "markdown",
   "metadata": {},
   "source": [
    "## Formulas\n",
    "\n",
    "These examples use the formula interface.  This is usually simpler when models have exogenous regressors, endogenous regressors and instruments.  The syntax is the same as in the 2SLS models."
   ]
  },
  {
   "cell_type": "code",
   "execution_count": 4,
   "metadata": {
    "execution": {
     "iopub.execute_input": "2022-07-05T10:28:06.577501Z",
     "iopub.status.busy": "2022-07-05T10:28:06.575997Z",
     "iopub.status.idle": "2022-07-05T10:28:06.608315Z",
     "shell.execute_reply": "2022-07-05T10:28:06.607611Z"
    }
   },
   "outputs": [
    {
     "name": "stdout",
     "output_type": "stream",
     "text": [
      "                          IV-2SLS Estimation Summary                          \n",
      "==============================================================================\n",
      "Dep. Variable:                  hours   R-squared:                      0.1903\n",
      "Estimator:                    IV-2SLS   Adj. R-squared:                 0.1807\n",
      "No. Observations:                 428   F-statistic:                    399.30\n",
      "Date:                Tue, Jul 05 2022   P-value (F-stat)                0.0000\n",
      "Time:                        10:28:06   Distribution:                  chi2(5)\n",
      "Cov. Estimator:            unadjusted                                         \n",
      "                                                                              \n",
      "                             Parameter Estimates                              \n",
      "==============================================================================\n",
      "            Parameter  Std. Err.     T-stat    P-value    Lower CI    Upper CI\n",
      "------------------------------------------------------------------------------\n",
      "age            19.429     6.2770     3.0952     0.0020      7.1261      31.732\n",
      "educ          -99.299     48.997    -2.0266     0.0427     -195.33     -3.2666\n",
      "kidslt6       -51.616     183.96    -0.2806     0.7790     -412.18      308.95\n",
      "nwifeinc      -11.445     6.6787    -1.7137     0.0866     -24.535      1.6449\n",
      "lwage          1626.3     472.19     3.4442     0.0006      700.85      2551.8\n",
      "==============================================================================\n",
      "\n",
      "Endogenous: lwage\n",
      "Instruments: exper, expersq\n",
      "Unadjusted Covariance (Homoskedastic)\n",
      "Debiased: False\n"
     ]
    }
   ],
   "source": [
    "hours = \"hours ~ educ + age + kidslt6 + nwifeinc + [lwage ~ exper + expersq]\"\n",
    "\n",
    "hours_mod = IV2SLS.from_formula(hours, data)\n",
    "hours_res = hours_mod.fit(cov_type=\"unadjusted\")\n",
    "print(hours_res)"
   ]
  },
  {
   "cell_type": "markdown",
   "metadata": {},
   "source": [
    "The $\\ln$ wage model can be similarly specified and estimated"
   ]
  },
  {
   "cell_type": "code",
   "execution_count": 5,
   "metadata": {
    "execution": {
     "iopub.execute_input": "2022-07-05T10:28:06.613772Z",
     "iopub.status.busy": "2022-07-05T10:28:06.612155Z",
     "iopub.status.idle": "2022-07-05T10:28:06.640380Z",
     "shell.execute_reply": "2022-07-05T10:28:06.639720Z"
    }
   },
   "outputs": [
    {
     "name": "stdout",
     "output_type": "stream",
     "text": [
      "                          IV-2SLS Estimation Summary                          \n",
      "==============================================================================\n",
      "Dep. Variable:                  lwage   R-squared:                      0.7582\n",
      "Estimator:                    IV-2SLS   Adj. R-squared:                 0.7559\n",
      "No. Observations:                 428   F-statistic:                    1362.4\n",
      "Date:                Tue, Jul 05 2022   P-value (F-stat)                0.0000\n",
      "Time:                        10:28:06   Distribution:                  chi2(4)\n",
      "Cov. Estimator:            unadjusted                                         \n",
      "                                                                              \n",
      "                             Parameter Estimates                              \n",
      "==============================================================================\n",
      "            Parameter  Std. Err.     T-stat    P-value    Lower CI    Upper CI\n",
      "------------------------------------------------------------------------------\n",
      "educ           0.0875     0.0162     5.3892     0.0000      0.0557      0.1193\n",
      "exper          0.0524     0.0299     1.7501     0.0801     -0.0063      0.1110\n",
      "expersq       -0.0009     0.0006    -1.4898     0.1363     -0.0021      0.0003\n",
      "hours         -0.0003     0.0003    -0.8666     0.3862     -0.0009      0.0004\n",
      "==============================================================================\n",
      "\n",
      "Endogenous: hours\n",
      "Instruments: age, kidslt6, nwifeinc\n",
      "Unadjusted Covariance (Homoskedastic)\n",
      "Debiased: False\n"
     ]
    }
   ],
   "source": [
    "lwage = \"lwage ~ educ + exper + expersq + [hours ~ age + kidslt6 + nwifeinc]\"\n",
    "\n",
    "lwage_mod = IV2SLS.from_formula(lwage, data)\n",
    "lwage_res = lwage_mod.fit(cov_type=\"unadjusted\")\n",
    "print(lwage_res)"
   ]
  },
  {
   "cell_type": "markdown",
   "metadata": {},
   "source": [
    "A system can be specified using a dictionary for formulas.  The dictionary keys are used as equation labels. Aside from this simple change, the syntax is identical.  \n",
    "\n",
    "Here the model is estimated using `method=\"ols\"` which will just simultaneously estimate the two equations but will produce estimates that are identical to separate equations. "
   ]
  },
  {
   "cell_type": "code",
   "execution_count": 6,
   "metadata": {
    "execution": {
     "iopub.execute_input": "2022-07-05T10:28:06.644836Z",
     "iopub.status.busy": "2022-07-05T10:28:06.644302Z",
     "iopub.status.idle": "2022-07-05T10:28:06.700473Z",
     "shell.execute_reply": "2022-07-05T10:28:06.699765Z"
    }
   },
   "outputs": [
    {
     "name": "stdout",
     "output_type": "stream",
     "text": [
      "                           System OLS Estimation Summary                           \n",
      "===================================================================================\n",
      "Estimator:                        OLS   Overall R-squared:                   0.1903\n",
      "No. Equations.:                     2   McElroy's R-squared:                 0.1276\n",
      "No. Observations:                 428   Judge's (OLS) R-squared:            -2.0961\n",
      "Date:                Tue, Jul 05 2022   Berndt's R-squared:                 -0.7279\n",
      "Time:                        10:28:06   Dhrymes's R-squared:                 0.1903\n",
      "                                        Cov. Estimator:                  unadjusted\n",
      "                                        Num. Constraints:                      None\n",
      "                  Equation: hours, Dependent Variable: hours                  \n",
      "==============================================================================\n",
      "            Parameter  Std. Err.     T-stat    P-value    Lower CI    Upper CI\n",
      "------------------------------------------------------------------------------\n",
      "age            19.429     6.2770     3.0952     0.0020      7.1261      31.732\n",
      "educ          -99.299     48.997    -2.0266     0.0427     -195.33     -3.2666\n",
      "kidslt6       -51.616     183.96    -0.2806     0.7790     -412.18      308.95\n",
      "nwifeinc      -11.445     6.6787    -1.7137     0.0866     -24.535      1.6449\n",
      "lwage          1626.3     472.19     3.4442     0.0006      700.85      2551.8\n",
      "                                                                              \n",
      "==============\n",
      " Instruments  \n",
      "--------------\n",
      "exper, expersq\n",
      "              \n",
      "                  Equation: lwage, Dependent Variable: lwage                  \n",
      "==============================================================================\n",
      "            Parameter  Std. Err.     T-stat    P-value    Lower CI    Upper CI\n",
      "------------------------------------------------------------------------------\n",
      "educ           0.0875     0.0162     5.3892     0.0000      0.0557      0.1193\n",
      "exper          0.0524     0.0299     1.7501     0.0801     -0.0063      0.1110\n",
      "expersq       -0.0009     0.0006    -1.4898     0.1363     -0.0021      0.0003\n",
      "hours         -0.0003     0.0003    -0.8666     0.3862     -0.0009      0.0004\n",
      "======================\n",
      "     Instruments      \n",
      "----------------------\n",
      "age, kidslt6, nwifeinc\n",
      "----------------------\n",
      "\n",
      "Covariance Estimator:\n",
      "Homoskedastic (Unadjusted) Covariance (Debiased: False, GLS: False)\n"
     ]
    }
   ],
   "source": [
    "equations = dict(hours=hours, lwage=lwage)\n",
    "system_2sls = IV3SLS.from_formula(equations, data)\n",
    "system_2sls_res = system_2sls.fit(method=\"ols\", cov_type=\"unadjusted\")\n",
    "print(system_2sls_res)"
   ]
  },
  {
   "cell_type": "markdown",
   "metadata": {},
   "source": [
    "Using `method=\"gls\"` will use GLS estimates which can be more efficient than the usual estimates. Here only the first equation changes.  This is due to the structure of the problem."
   ]
  },
  {
   "cell_type": "code",
   "execution_count": 7,
   "metadata": {
    "execution": {
     "iopub.execute_input": "2022-07-05T10:28:06.705212Z",
     "iopub.status.busy": "2022-07-05T10:28:06.704645Z",
     "iopub.status.idle": "2022-07-05T10:28:06.793814Z",
     "shell.execute_reply": "2022-07-05T10:28:06.793028Z"
    }
   },
   "outputs": [
    {
     "name": "stdout",
     "output_type": "stream",
     "text": [
      "                           System GLS Estimation Summary                           \n",
      "===================================================================================\n",
      "Estimator:                        GLS   Overall R-squared:                   0.0120\n",
      "No. Equations.:                     2   McElroy's R-squared:                 0.0873\n",
      "No. Observations:                 428   Judge's (OLS) R-squared:            -2.7778\n",
      "Date:                Tue, Jul 05 2022   Berndt's R-squared:                 -0.7279\n",
      "Time:                        10:28:06   Dhrymes's R-squared:                 0.0120\n",
      "                                        Cov. Estimator:                  unadjusted\n",
      "                                        Num. Constraints:                      None\n",
      "                  Equation: hours, Dependent Variable: hours                  \n",
      "==============================================================================\n",
      "            Parameter  Std. Err.     T-stat    P-value    Lower CI    Upper CI\n",
      "------------------------------------------------------------------------------\n",
      "age            13.651     5.5456     2.4617     0.0138      2.7822      24.521\n",
      "educ          -109.90     48.052    -2.2870     0.0222     -204.08     -15.716\n",
      "kidslt6       -196.61     170.04    -1.1563     0.2476     -529.88      136.66\n",
      "nwifeinc      -6.4136     5.4646    -1.1736     0.2405     -17.124      4.2969\n",
      "lwage          1872.7     461.13     4.0611     0.0000      968.88      2776.5\n",
      "                                                                              \n",
      "==============\n",
      " Instruments  \n",
      "--------------\n",
      "exper, expersq\n",
      "              \n",
      "                  Equation: lwage, Dependent Variable: lwage                  \n",
      "==============================================================================\n",
      "            Parameter  Std. Err.     T-stat    P-value    Lower CI    Upper CI\n",
      "------------------------------------------------------------------------------\n",
      "educ           0.0859     0.0159     5.3864     0.0000      0.0546      0.1171\n",
      "exper          0.0550     0.0295     1.8622     0.0626     -0.0029      0.1128\n",
      "expersq       -0.0010     0.0006    -1.7539     0.0794     -0.0022      0.0001\n",
      "hours         -0.0003     0.0003    -0.8398     0.4010     -0.0009      0.0004\n",
      "======================\n",
      "     Instruments      \n",
      "----------------------\n",
      "age, kidslt6, nwifeinc\n",
      "----------------------\n",
      "\n",
      "Covariance Estimator:\n",
      "Homoskedastic (Unadjusted) Covariance (Debiased: False, GLS: True)\n"
     ]
    }
   ],
   "source": [
    "equations = dict(hours=hours, lwage=lwage)\n",
    "system_3sls = IV3SLS.from_formula(equations, data)\n",
    "system_3sls_res = system_3sls.fit(method=\"gls\", cov_type=\"unadjusted\")\n",
    "print(system_3sls_res)"
   ]
  },
  {
   "cell_type": "markdown",
   "metadata": {},
   "source": [
    "## Direct Model Specification\n",
    "\n",
    "The model can be directly specified using a dictionary of dictionaries where the inner dictionaries contain the 4 components of the model:\n",
    "\n",
    "* dependent - The dependent variable\n",
    "* exog - Exogenous regressors\n",
    "* endog - Endogenous regressors\n",
    "* instruments - Instrumental variables\n",
    "\n",
    "The estimates are the same.  This interface is more useful for programmatically generating and estimating models."
   ]
  },
  {
   "cell_type": "code",
   "execution_count": 8,
   "metadata": {
    "execution": {
     "iopub.execute_input": "2022-07-05T10:28:06.799617Z",
     "iopub.status.busy": "2022-07-05T10:28:06.798206Z",
     "iopub.status.idle": "2022-07-05T10:28:06.880510Z",
     "shell.execute_reply": "2022-07-05T10:28:06.879037Z"
    }
   },
   "outputs": [
    {
     "name": "stdout",
     "output_type": "stream",
     "text": [
      "                           System GLS Estimation Summary                           \n",
      "===================================================================================\n",
      "Estimator:                        GLS   Overall R-squared:                   0.0120\n",
      "No. Equations.:                     2   McElroy's R-squared:                 0.0873\n",
      "No. Observations:                 428   Judge's (OLS) R-squared:            -2.7778\n",
      "Date:                Tue, Jul 05 2022   Berndt's R-squared:                 -0.7279\n",
      "Time:                        10:28:06   Dhrymes's R-squared:                 0.0120\n",
      "                                        Cov. Estimator:                  unadjusted\n",
      "                                        Num. Constraints:                      None\n",
      "                  Equation: hours, Dependent Variable: hours                  \n",
      "==============================================================================\n",
      "            Parameter  Std. Err.     T-stat    P-value    Lower CI    Upper CI\n",
      "------------------------------------------------------------------------------\n",
      "educ          -109.90     48.052    -2.2870     0.0222     -204.08     -15.716\n",
      "age            13.651     5.5456     2.4617     0.0138      2.7822      24.521\n",
      "kidslt6       -196.61     170.04    -1.1563     0.2476     -529.88      136.66\n",
      "nwifeinc      -6.4136     5.4646    -1.1736     0.2405     -17.124      4.2969\n",
      "lwage          1872.7     461.13     4.0611     0.0000      968.88      2776.5\n",
      "                                                                              \n",
      "==============\n",
      " Instruments  \n",
      "--------------\n",
      "exper, expersq\n",
      "              \n",
      "                  Equation: lwage, Dependent Variable: lwage                  \n",
      "==============================================================================\n",
      "            Parameter  Std. Err.     T-stat    P-value    Lower CI    Upper CI\n",
      "------------------------------------------------------------------------------\n",
      "educ           0.0859     0.0159     5.3864     0.0000      0.0546      0.1171\n",
      "exper          0.0550     0.0295     1.8622     0.0626     -0.0029      0.1128\n",
      "expersq       -0.0010     0.0006    -1.7539     0.0794     -0.0022      0.0001\n",
      "hours         -0.0003     0.0003    -0.8398     0.4010     -0.0009      0.0004\n",
      "======================\n",
      "     Instruments      \n",
      "----------------------\n",
      "age, kidslt6, nwifeinc\n",
      "----------------------\n",
      "\n",
      "Covariance Estimator:\n",
      "Homoskedastic (Unadjusted) Covariance (Debiased: False, GLS: True)\n"
     ]
    }
   ],
   "source": [
    "hours = {\n",
    "    \"dependent\": data[[\"hours\"]],\n",
    "    \"exog\": data[[\"educ\", \"age\", \"kidslt6\", \"nwifeinc\"]],\n",
    "    \"endog\": data[[\"lwage\"]],\n",
    "    \"instruments\": data[[\"exper\", \"expersq\"]],\n",
    "}\n",
    "\n",
    "lwage = {\n",
    "    \"dependent\": data[[\"lwage\"]],\n",
    "    \"exog\": data[[\"educ\", \"exper\", \"expersq\"]],\n",
    "    \"endog\": data[[\"hours\"]],\n",
    "    \"instruments\": data[[\"age\", \"kidslt6\", \"nwifeinc\"]],\n",
    "}\n",
    "\n",
    "equations = dict(hours=hours, lwage=lwage)\n",
    "system_3sls = IV3SLS(equations)\n",
    "system_3sls_res = system_3sls.fit(cov_type=\"unadjusted\")\n",
    "print(system_3sls_res)"
   ]
  },
  {
   "cell_type": "markdown",
   "metadata": {},
   "source": [
    "## System GMM Estimation\n",
    "\n",
    "System GMM is an alternative to 3SLS estimation. It is the natural extension to GMM estimation of IV models.  It makes weaker assumptions about instruments than 3SLS does. In particular, instruments are assumed exogenous on an equation-by-equation basis rather than the 3SLS assumption that all instruments are exogenous in all equations. \n",
    "\n",
    "The system GMM estimator is similar to the 3SLS estimator except that it requires making a choice about the moment weighting estimator.  Valid options for the weighting estimator are `\"unadjusted\"` or `\"homoskedastic\"` which assumes that residuals are conditionally homoskedastic or `\"robust\"` or `\"heteroskedastic\"` which allows for conditional heteroskedasticity. \n",
    "\n",
    "The System GMM estimator also supports iterative application where it is possible to iterate until convergence.  \n",
    "\n",
    "Here the examples make use of the same data as in the 3SLS example and only use the formula interface. The default uses 2-step (efficient) GMM."
   ]
  },
  {
   "cell_type": "code",
   "execution_count": 9,
   "metadata": {
    "execution": {
     "iopub.execute_input": "2022-07-05T10:28:06.884507Z",
     "iopub.status.busy": "2022-07-05T10:28:06.884052Z",
     "iopub.status.idle": "2022-07-05T10:28:06.983126Z",
     "shell.execute_reply": "2022-07-05T10:28:06.982281Z"
    }
   },
   "outputs": [
    {
     "name": "stdout",
     "output_type": "stream",
     "text": [
      "                    System 2-Step System GMM Estimation Summary                    \n",
      "===================================================================================\n",
      "Estimator:          2-Step System GMM   Overall R-squared:                   0.0121\n",
      "No. Equations.:                     2   McElroy's R-squared:                 0.0871\n",
      "No. Observations:                 428   Judge's (OLS) R-squared:            -2.7776\n",
      "Date:                Tue, Jul 05 2022   Berndt's R-squared:                 -0.7268\n",
      "Time:                        10:28:06   Dhrymes's R-squared:                 0.0121\n",
      "                                        Cov. Estimator:                  unadjusted\n",
      "                                        Num. Constraints:                      None\n",
      "                  Equation: hours, Dependent Variable: hours                  \n",
      "==============================================================================\n",
      "            Parameter  Std. Err.     T-stat    P-value    Lower CI    Upper CI\n",
      "------------------------------------------------------------------------------\n",
      "age            13.653     5.5440     2.4626     0.0138      2.7868      24.519\n",
      "educ          -109.89     48.038    -2.2876     0.0222     -204.05     -15.741\n",
      "kidslt6       -196.57     169.99    -1.1564     0.2475     -529.74      136.60\n",
      "nwifeinc      -6.4149     5.4631    -1.1742     0.2403     -17.122      4.2925\n",
      "lwage          1872.6     461.00     4.0621     0.0000      969.08      2776.2\n",
      "                                                                              \n",
      "==============\n",
      " Instruments  \n",
      "--------------\n",
      "exper, expersq\n",
      "              \n",
      "                  Equation: lwage, Dependent Variable: lwage                  \n",
      "==============================================================================\n",
      "            Parameter  Std. Err.     T-stat    P-value    Lower CI    Upper CI\n",
      "------------------------------------------------------------------------------\n",
      "educ           0.0859     0.0159     5.3866     0.0000      0.0546      0.1171\n",
      "exper          0.0550     0.0295     1.8623     0.0626     -0.0029      0.1128\n",
      "expersq       -0.0010     0.0006    -1.7540     0.0794     -0.0022      0.0001\n",
      "hours         -0.0003     0.0003    -0.8398     0.4010     -0.0009      0.0004\n",
      "======================\n",
      "     Instruments      \n",
      "----------------------\n",
      "age, kidslt6, nwifeinc\n",
      "----------------------\n",
      "\n",
      "Covariance Estimator:\n",
      "GMM Homoskedastic (Unadjusted) Covariance\n",
      "Weight Estimator:\n",
      "Homoskedastic (Unadjusted) Weighting (Debiased: False, Center: False)\n"
     ]
    }
   ],
   "source": [
    "equations = dict(\n",
    "    hours=\"hours ~ educ + age + kidslt6 + nwifeinc + [lwage ~ exper + expersq]\",\n",
    "    lwage=\"lwage ~ educ + exper + expersq + [hours ~ age + kidslt6 + nwifeinc]\",\n",
    ")\n",
    "system_gmm = IVSystemGMM.from_formula(equations, data, weight_type=\"unadjusted\")\n",
    "system_gmm_res = system_gmm.fit(cov_type=\"unadjusted\")\n",
    "print(system_gmm_res)"
   ]
  },
  {
   "cell_type": "markdown",
   "metadata": {},
   "source": [
    "Robust weighting can be used by setting the `weight_type`.  The number of iterations can be set using `iter_limit`. Overall the parameters do not meaningfully change. "
   ]
  },
  {
   "cell_type": "code",
   "execution_count": 10,
   "metadata": {
    "execution": {
     "iopub.execute_input": "2022-07-05T10:28:06.987074Z",
     "iopub.status.busy": "2022-07-05T10:28:06.986633Z",
     "iopub.status.idle": "2022-07-05T10:28:07.076682Z",
     "shell.execute_reply": "2022-07-05T10:28:07.075872Z"
    }
   },
   "outputs": [
    {
     "name": "stdout",
     "output_type": "stream",
     "text": [
      "Number of iterations: 20\n",
      "                    System Iterative System GMM Estimation Summary                   \n",
      "=====================================================================================\n",
      "Estimator:         Iterative System GMM   Overall R-squared:                  -0.0345\n",
      "No. Equations.:                       2   McElroy's R-squared:                -0.2256\n",
      "No. Observations:                   428   Judge's (OLS) R-squared:            -2.9557\n",
      "Date:                  Tue, Jul 05 2022   Berndt's R-squared:                 -2.0361\n",
      "Time:                          10:28:07   Dhrymes's R-squared:                -0.0345\n",
      "                                          Cov. Estimator:                      robust\n",
      "                                          Num. Constraints:                      None\n",
      "                  Equation: hours, Dependent Variable: hours                  \n",
      "==============================================================================\n",
      "            Parameter  Std. Err.     T-stat    P-value    Lower CI    Upper CI\n",
      "------------------------------------------------------------------------------\n",
      "age            15.027     5.9903     2.5086     0.0121      3.2864      26.768\n",
      "educ          -118.31     57.508    -2.0572     0.0397     -231.02     -5.5947\n",
      "kidslt6       -227.22     216.54    -1.0493     0.2940     -651.64      197.20\n",
      "nwifeinc      -8.2578     5.3146    -1.5538     0.1202     -18.674      2.1587\n",
      "lwage          1933.5     592.77     3.2618     0.0011      771.69      3095.3\n",
      "                                                                              \n",
      "==============\n",
      " Instruments  \n",
      "--------------\n",
      "exper, expersq\n",
      "              \n",
      "                  Equation: lwage, Dependent Variable: lwage                  \n",
      "==============================================================================\n",
      "            Parameter  Std. Err.     T-stat    P-value    Lower CI    Upper CI\n",
      "------------------------------------------------------------------------------\n",
      "educ           0.0967     0.0190     5.0999     0.0000      0.0595      0.1338\n",
      "exper          0.0720     0.0363     1.9840     0.0473      0.0009      0.1430\n",
      "expersq       -0.0013     0.0007    -1.8475     0.0647     -0.0028   8.133e-05\n",
      "hours         -0.0005     0.0004    -1.2298     0.2188     -0.0013      0.0003\n",
      "======================\n",
      "     Instruments      \n",
      "----------------------\n",
      "age, kidslt6, nwifeinc\n",
      "----------------------\n",
      "\n",
      "Covariance Estimator:\n",
      "GMM Heteroskedastic (Robust) Covariance\n",
      "Weight Estimator:\n",
      "Heteroskedastic (Robust) Weighting (Debiased: False, Center: False)\n"
     ]
    }
   ],
   "source": [
    "system_gmm = IVSystemGMM.from_formula(equations, data, weight_type=\"robust\")\n",
    "system_gmm_res = system_gmm.fit(cov_type=\"robust\", iter_limit=100)\n",
    "print(\"Number of iterations: \" + str(system_gmm_res.iterations))\n",
    "print(system_gmm_res)"
   ]
  },
  {
   "cell_type": "markdown",
   "metadata": {},
   "source": [
    "## Simultaneous Equations\n",
    "\n",
    "Consider the simple simultaneous equation model\n",
    "\n",
    "$$\n",
    "\\begin{align}\n",
    "y_1 = y_2 + x_1 + \\epsilon_1 \\\\\n",
    "y_2 = -y_1 + x_2 + \\epsilon_1 \\\\\n",
    "\\end{align}\n",
    "$$\n",
    "\n",
    "Substituting each equation in to the other, the reduced form of this model is\n",
    "$$\n",
    "\\begin{align}\n",
    "y_1 = \\frac{1}{2}\\left(x_1 + x_2 + \\epsilon_1 + \\epsilon_2\\right) \\\\\n",
    "y_1 = \\frac{1}{2}\\left(x_2 - x_1 + \\epsilon_2 - \\epsilon_1\\right) \\\\\n",
    "\\end{align}\n",
    "$$\n",
    "\n",
    "Data from this model is simple to simulate."
   ]
  },
  {
   "cell_type": "code",
   "execution_count": 11,
   "metadata": {
    "execution": {
     "iopub.execute_input": "2022-07-05T10:28:07.081211Z",
     "iopub.status.busy": "2022-07-05T10:28:07.080800Z",
     "iopub.status.idle": "2022-07-05T10:28:07.361980Z",
     "shell.execute_reply": "2022-07-05T10:28:07.361246Z"
    }
   },
   "outputs": [
    {
     "name": "stdout",
     "output_type": "stream",
     "text": [
      "                           System GLS Estimation Summary                           \n",
      "===================================================================================\n",
      "Estimator:                        GLS   Overall R-squared:                   0.0013\n",
      "No. Equations.:                     2   McElroy's R-squared:                 0.0014\n",
      "No. Observations:               50000   Judge's (OLS) R-squared:             0.0013\n",
      "Date:                Tue, Jul 05 2022   Berndt's R-squared:                  0.0027\n",
      "Time:                        10:28:07   Dhrymes's R-squared:                 0.0013\n",
      "                                        Cov. Estimator:                      robust\n",
      "                                        Num. Constraints:                      None\n",
      "                     Equation: y1, Dependent Variable: y1                     \n",
      "==============================================================================\n",
      "            Parameter  Std. Err.     T-stat    P-value    Lower CI    Upper CI\n",
      "------------------------------------------------------------------------------\n",
      "x1             0.9992     0.0063     157.74     0.0000      0.9868      1.0116\n",
      "y2             1.0053     0.0090     111.60     0.0000      0.9877      1.0230\n",
      "                                                                              \n",
      "===========\n",
      "Instruments\n",
      "-----------\n",
      "         x2\n",
      "           \n",
      "                     Equation: y2, Dependent Variable: y2                     \n",
      "==============================================================================\n",
      "            Parameter  Std. Err.     T-stat    P-value    Lower CI    Upper CI\n",
      "------------------------------------------------------------------------------\n",
      "x2             0.9970     0.0063     158.73     0.0000      0.9847      1.0093\n",
      "y1            -0.9809     0.0088    -111.59     0.0000     -0.9982     -0.9637\n",
      "===========\n",
      "Instruments\n",
      "-----------\n",
      "         x1\n",
      "-----------\n",
      "\n",
      "Covariance Estimator:\n",
      "Heteroskedastic (Robust) Covariance (Debiased: False, GLS: True)\n"
     ]
    }
   ],
   "source": [
    "import numpy as np\n",
    "import pandas as pd\n",
    "\n",
    "rs = np.random.default_rng(20220224)\n",
    "e = rs.standard_normal((50000, 2))\n",
    "x = rs.standard_normal((50000, 2))\n",
    "y2 = x[:, 1] / 2 - x[:, 0] / 2 + e[:, 1] / 2 - e[:, 0] / 2\n",
    "y1 = x[:, 1] / 2 + x[:, 0] / 2 + e[:, 1] / 2 + e[:, 0] / 2\n",
    "df = pd.DataFrame(np.column_stack([y1, y2, x]), columns=[\"y1\", \"y2\", \"x1\", \"x2\"])\n",
    "in_sample = df.iloc[:-10000]\n",
    "oos = df.iloc[-10000:]\n",
    "mod = IV3SLS.from_formula(\n",
    "    dict(y1=\"y1 ~  x1 + [y2 ~ x2]\", y2=\"y2 ~ x2 + [y1 ~ x1]\"), data=df\n",
    ")\n",
    "res = mod.fit()\n",
    "print(res)"
   ]
  },
  {
   "cell_type": "markdown",
   "metadata": {},
   "source": [
    "Out-of-sample predictions can be made using the `predict` method along with a `DataFrame` containing the values to use for the predictions. The predictions make use of the out-of-sample values stored above."
   ]
  },
  {
   "cell_type": "code",
   "execution_count": 12,
   "metadata": {
    "execution": {
     "iopub.execute_input": "2022-07-05T10:28:07.365843Z",
     "iopub.status.busy": "2022-07-05T10:28:07.365365Z",
     "iopub.status.idle": "2022-07-05T10:28:07.428905Z",
     "shell.execute_reply": "2022-07-05T10:28:07.428220Z"
    }
   },
   "outputs": [
    {
     "data": {
      "text/html": [
       "<div>\n",
       "<style scoped>\n",
       "    .dataframe tbody tr th:only-of-type {\n",
       "        vertical-align: middle;\n",
       "    }\n",
       "\n",
       "    .dataframe tbody tr th {\n",
       "        vertical-align: top;\n",
       "    }\n",
       "\n",
       "    .dataframe thead th {\n",
       "        text-align: right;\n",
       "    }\n",
       "</style>\n",
       "<table border=\"1\" class=\"dataframe\">\n",
       "  <thead>\n",
       "    <tr style=\"text-align: right;\">\n",
       "      <th></th>\n",
       "      <th>y1</th>\n",
       "      <th>y2</th>\n",
       "    </tr>\n",
       "  </thead>\n",
       "  <tbody>\n",
       "    <tr>\n",
       "      <th>40000</th>\n",
       "      <td>-0.125377</td>\n",
       "      <td>0.024812</td>\n",
       "    </tr>\n",
       "    <tr>\n",
       "      <th>40001</th>\n",
       "      <td>0.489893</td>\n",
       "      <td>-0.707565</td>\n",
       "    </tr>\n",
       "    <tr>\n",
       "      <th>40002</th>\n",
       "      <td>-0.189191</td>\n",
       "      <td>-0.727702</td>\n",
       "    </tr>\n",
       "    <tr>\n",
       "      <th>40003</th>\n",
       "      <td>-2.081779</td>\n",
       "      <td>-2.756181</td>\n",
       "    </tr>\n",
       "    <tr>\n",
       "      <th>40004</th>\n",
       "      <td>1.628805</td>\n",
       "      <td>0.227368</td>\n",
       "    </tr>\n",
       "    <tr>\n",
       "      <th>...</th>\n",
       "      <td>...</td>\n",
       "      <td>...</td>\n",
       "    </tr>\n",
       "    <tr>\n",
       "      <th>49995</th>\n",
       "      <td>-0.293820</td>\n",
       "      <td>-0.140007</td>\n",
       "    </tr>\n",
       "    <tr>\n",
       "      <th>49996</th>\n",
       "      <td>-0.462017</td>\n",
       "      <td>1.848988</td>\n",
       "    </tr>\n",
       "    <tr>\n",
       "      <th>49997</th>\n",
       "      <td>0.698136</td>\n",
       "      <td>1.510755</td>\n",
       "    </tr>\n",
       "    <tr>\n",
       "      <th>49998</th>\n",
       "      <td>0.862183</td>\n",
       "      <td>0.732983</td>\n",
       "    </tr>\n",
       "    <tr>\n",
       "      <th>49999</th>\n",
       "      <td>1.118024</td>\n",
       "      <td>1.147715</td>\n",
       "    </tr>\n",
       "  </tbody>\n",
       "</table>\n",
       "<p>10000 rows × 2 columns</p>\n",
       "</div>"
      ],
      "text/plain": [
       "             y1        y2\n",
       "40000 -0.125377  0.024812\n",
       "40001  0.489893 -0.707565\n",
       "40002 -0.189191 -0.727702\n",
       "40003 -2.081779 -2.756181\n",
       "40004  1.628805  0.227368\n",
       "...         ...       ...\n",
       "49995 -0.293820 -0.140007\n",
       "49996 -0.462017  1.848988\n",
       "49997  0.698136  1.510755\n",
       "49998  0.862183  0.732983\n",
       "49999  1.118024  1.147715\n",
       "\n",
       "[10000 rows x 2 columns]"
      ]
     },
     "execution_count": 12,
     "metadata": {},
     "output_type": "execute_result"
    }
   ],
   "source": [
    "res.predict(data=oos, dataframe=True)"
   ]
  },
  {
   "cell_type": "markdown",
   "metadata": {},
   "source": [
    "These predictions can be compared to making the predicted values using the estimated parameters."
   ]
  },
  {
   "cell_type": "code",
   "execution_count": 13,
   "metadata": {
    "execution": {
     "iopub.execute_input": "2022-07-05T10:28:07.432821Z",
     "iopub.status.busy": "2022-07-05T10:28:07.432363Z",
     "iopub.status.idle": "2022-07-05T10:28:07.481974Z",
     "shell.execute_reply": "2022-07-05T10:28:07.473691Z"
    }
   },
   "outputs": [
    {
     "data": {
      "text/html": [
       "<div>\n",
       "<style scoped>\n",
       "    .dataframe tbody tr th:only-of-type {\n",
       "        vertical-align: middle;\n",
       "    }\n",
       "\n",
       "    .dataframe tbody tr th {\n",
       "        vertical-align: top;\n",
       "    }\n",
       "\n",
       "    .dataframe thead th {\n",
       "        text-align: right;\n",
       "    }\n",
       "</style>\n",
       "<table border=\"1\" class=\"dataframe\">\n",
       "  <thead>\n",
       "    <tr style=\"text-align: right;\">\n",
       "      <th></th>\n",
       "      <th>y1</th>\n",
       "      <th>y2</th>\n",
       "    </tr>\n",
       "  </thead>\n",
       "  <tbody>\n",
       "    <tr>\n",
       "      <th>40000</th>\n",
       "      <td>-0.125377</td>\n",
       "      <td>0.024812</td>\n",
       "    </tr>\n",
       "    <tr>\n",
       "      <th>40001</th>\n",
       "      <td>0.489893</td>\n",
       "      <td>-0.707565</td>\n",
       "    </tr>\n",
       "    <tr>\n",
       "      <th>40002</th>\n",
       "      <td>-0.189191</td>\n",
       "      <td>-0.727702</td>\n",
       "    </tr>\n",
       "    <tr>\n",
       "      <th>40003</th>\n",
       "      <td>-2.081779</td>\n",
       "      <td>-2.756181</td>\n",
       "    </tr>\n",
       "    <tr>\n",
       "      <th>40004</th>\n",
       "      <td>1.628805</td>\n",
       "      <td>0.227368</td>\n",
       "    </tr>\n",
       "    <tr>\n",
       "      <th>...</th>\n",
       "      <td>...</td>\n",
       "      <td>...</td>\n",
       "    </tr>\n",
       "    <tr>\n",
       "      <th>49995</th>\n",
       "      <td>-0.293820</td>\n",
       "      <td>-0.140007</td>\n",
       "    </tr>\n",
       "    <tr>\n",
       "      <th>49996</th>\n",
       "      <td>-0.462017</td>\n",
       "      <td>1.848988</td>\n",
       "    </tr>\n",
       "    <tr>\n",
       "      <th>49997</th>\n",
       "      <td>0.698136</td>\n",
       "      <td>1.510755</td>\n",
       "    </tr>\n",
       "    <tr>\n",
       "      <th>49998</th>\n",
       "      <td>0.862183</td>\n",
       "      <td>0.732983</td>\n",
       "    </tr>\n",
       "    <tr>\n",
       "      <th>49999</th>\n",
       "      <td>1.118024</td>\n",
       "      <td>1.147715</td>\n",
       "    </tr>\n",
       "  </tbody>\n",
       "</table>\n",
       "<p>10000 rows × 2 columns</p>\n",
       "</div>"
      ],
      "text/plain": [
       "             y1        y2\n",
       "40000 -0.125377  0.024812\n",
       "40001  0.489893 -0.707565\n",
       "40002 -0.189191 -0.727702\n",
       "40003 -2.081779 -2.756181\n",
       "40004  1.628805  0.227368\n",
       "...         ...       ...\n",
       "49995 -0.293820 -0.140007\n",
       "49996 -0.462017  1.848988\n",
       "49997  0.698136  1.510755\n",
       "49998  0.862183  0.732983\n",
       "49999  1.118024  1.147715\n",
       "\n",
       "[10000 rows x 2 columns]"
      ]
     },
     "execution_count": 13,
     "metadata": {},
     "output_type": "execute_result"
    }
   ],
   "source": [
    "y1_pred = res.params.y1_x1 * oos.x1 + res.params.y1_y2 * oos.y2\n",
    "y2_pred = res.params.y2_x2 * oos.x2 + res.params.y2_y1 * oos.y1\n",
    "pred_df = pd.DataFrame({\"y1\": y1_pred, \"y2\": y2_pred})\n",
    "pred_df"
   ]
  }
 ],
 "metadata": {
  "kernelspec": {
   "display_name": "Python 3 (ipykernel)",
   "language": "python",
   "name": "python3"
  },
  "language_info": {
   "codemirror_mode": {
    "name": "ipython",
    "version": 3
   },
   "file_extension": ".py",
   "mimetype": "text/x-python",
   "name": "python",
   "nbconvert_exporter": "python",
   "pygments_lexer": "ipython3",
   "version": "3.8.13"
  },
  "pycharm": {
   "stem_cell": {
    "cell_type": "raw",
    "metadata": {
     "collapsed": false
    },
    "source": []
   }
  }
 },
 "nbformat": 4,
 "nbformat_minor": 4
}

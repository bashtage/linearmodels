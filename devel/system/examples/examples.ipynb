{
 "cells": [
  {
   "cell_type": "markdown",
   "metadata": {},
   "source": [
    "# Examples\n",
    "System regression simultaneously estimates multiple models.  This has three distinct advantages:\n",
    "\n",
    "* Joint inference across models\n",
    "* Linear restrictions can be imposed on the parameters across different models\n",
    "* Improved precision of parameter estimates (depending on the model specification and data)\n",
    "\n",
    "There are $K$ models and each model can be expressed in vector notation as \n",
    "\n",
    "$$ Y_i = X_i\\beta_i + \\epsilon_i$$\n",
    "\n",
    "so that the set of models can be expressed as \n",
    "\n",
    "$$ Y = X\\beta + \\epsilon$$\n",
    "\n",
    "where $Y$ is a column vector that stacks the vectors $Y_i$ for $i=1,2,\\ldots,K$, $X$ is a block-diagonal matrix where diagonal block i is $X_i$, $\\beta$ is a stacked vector of the $K$ $\\beta_i$s and $\\epsilon$ is similarly comprised of the stacked columns of $\\epsilon_i$.\n",
    "\n",
    "The model can be estimated using OLS with the usual estimator\n",
    "\n",
    "$$\\hat{\\beta}_{OLS} = \\left(X^\\prime X\\right)^{-1}X^\\prime Y.$$\n",
    "\n",
    "Since there are multiple series, a GLS estimator that accounts for the cross-sectional heteroskedasticity as well as the correlation of residuals can be estimated \n",
    "\n",
    "$$\\hat{\\beta}_{GLS} = \\left(X^\\prime \\Omega^{-1} X\\right)^{-1}X^\\prime  \\Omega^{-1} Y$$\n",
    "\n",
    "where $\\Omega^{-1} = \\Sigma^{-1} \\otimes I_{T}$, $\\Sigma_{ij}$ is the covariance between $\\epsilon_i$ and $\\epsilon_j$ and $T$ is the number of observations. The GLS estimator is only beneficial when the regressors in different models differ  and when residuals are correlated. There GLS estimates are identical to the multivariate OLS estimates when all regressors are common."
   ]
  },
  {
   "cell_type": "code",
   "execution_count": 1,
   "metadata": {
    "execution": {
     "iopub.execute_input": "2024-05-15T09:29:46.037804Z",
     "iopub.status.busy": "2024-05-15T09:29:46.037508Z",
     "iopub.status.idle": "2024-05-15T09:29:47.762334Z",
     "shell.execute_reply": "2024-05-15T09:29:47.761472Z"
    }
   },
   "outputs": [],
   "source": [
    "# Common libraries\n",
    "%matplotlib inline\n",
    "import numpy as np\n",
    "import pandas as pd\n",
    "import statsmodels.api as sm"
   ]
  },
  {
   "cell_type": "markdown",
   "metadata": {},
   "source": [
    "## Data\n",
    "Two data sets will be used.  The first is from Munnell which looks at the effect of capital on state GDP.  This example follows the example in Chapter 10 in recent editions of Greene\"s _Econometric Analysis_.\n",
    "\n",
    "The data is state-level but the model is estimated in region.  The first step is to aggregate the data by region.  All capital measures are summed and the unemployment rate is averaged using weights proportional to the total employment in each state."
   ]
  },
  {
   "cell_type": "code",
   "execution_count": 2,
   "metadata": {
    "execution": {
     "iopub.execute_input": "2024-05-15T09:29:47.766698Z",
     "iopub.status.busy": "2024-05-15T09:29:47.766200Z",
     "iopub.status.idle": "2024-05-15T09:29:47.917266Z",
     "shell.execute_reply": "2024-05-15T09:29:47.916540Z"
    }
   },
   "outputs": [],
   "source": [
    "from linearmodels.datasets import munnell\n",
    "\n",
    "data = munnell.load()\n",
    "\n",
    "regions = {\n",
    "    \"GF\": [\"AL\", \"FL\", \"LA\", \"MS\"],\n",
    "    \"MW\": [\"IL\", \"IN\", \"KY\", \"MI\", \"MN\", \"OH\", \"WI\"],\n",
    "    \"MA\": [\"DE\", \"MD\", \"NJ\", \"NY\", \"PA\", \"VA\"],\n",
    "    \"MT\": [\"CO\", \"ID\", \"MT\", \"ND\", \"SD\", \"WY\"],\n",
    "    \"NE\": [\"CT\", \"ME\", \"MA\", \"NH\", \"RI\", \"VT\"],\n",
    "    \"SO\": [\"GA\", \"NC\", \"SC\", \"TN\", \"WV\", \"AR\"],\n",
    "    \"SW\": [\"AZ\", \"NV\", \"NM\", \"TX\", \"UT\"],\n",
    "    \"CN\": [\"AK\", \"IA\", \"KS\", \"MO\", \"NE\", \"OK\"],\n",
    "    \"WC\": [\"CA\", \"OR\", \"WA\"],\n",
    "}\n",
    "\n",
    "\n",
    "def map_region(state):\n",
    "    for key in regions:\n",
    "        if state in regions[key]:\n",
    "            return key\n",
    "\n",
    "\n",
    "data[\"REGION\"] = data.ST_ABB.map(map_region)\n",
    "data[\"TOTAL_EMP\"] = data.groupby([\"REGION\", \"YR\"])[\"EMP\"].transform(\"sum\")\n",
    "data[\"EMP_SHARE\"] = data.EMP / data.TOTAL_EMP\n",
    "data[\"WEIGHED_UNEMP\"] = data.EMP_SHARE * data.UNEMP"
   ]
  },
  {
   "cell_type": "markdown",
   "metadata": {},
   "source": [
    "A `groupby` transformation is used to aggregate the data, and finally all values except the unemployment rate are logged."
   ]
  },
  {
   "cell_type": "code",
   "execution_count": 3,
   "metadata": {
    "execution": {
     "iopub.execute_input": "2024-05-15T09:29:47.922420Z",
     "iopub.status.busy": "2024-05-15T09:29:47.921158Z",
     "iopub.status.idle": "2024-05-15T09:29:47.932577Z",
     "shell.execute_reply": "2024-05-15T09:29:47.931905Z"
    }
   },
   "outputs": [],
   "source": [
    "grouped = data.groupby([\"REGION\", \"YR\"])\n",
    "agg_data = grouped[[\"GSP\", \"PC\", \"HWY\", \"WATER\", \"UTIL\", \"EMP\", \"WEIGHED_UNEMP\"]].sum()\n",
    "for col in [\"GSP\", \"PC\", \"HWY\", \"WATER\", \"UTIL\", \"EMP\"]:\n",
    "    agg_data[\"ln\" + col] = np.log(agg_data[col])\n",
    "agg_data[\"UNEMP\"] = agg_data.WEIGHED_UNEMP\n",
    "agg_data[\"Intercept\"] = 1.0"
   ]
  },
  {
   "cell_type": "markdown",
   "metadata": {},
   "source": [
    "## Basic Usage\n",
    "\n",
    "Seemingly Unrelated Models are fairly complex and each equation could have a different number of regressors.  As a result, it is not possibly to use standard `pandas` or `numpy` data structures, and so dictionaries (or technically dictionary-like objects) are used.  In practice, it is strongly recommended to use a `OrderedDictionary` from the `collections` module.  This ensures that equation order will be preserved. In addition, the dictionary must have the following structure:\n",
    "\n",
    "* `keys` **must be strings** and will be used as equation labels\n",
    "* The value associated with each key must be either a dictionary or a tuple.\n",
    "\n",
    "  * When a dictionary is used, it must have two keys, `dependent` and `exog`.  It can optionally have a third key `weights` which provides weights to use in the regression.\n",
    "  * When a tuple is used, it must have two elements and takes the form `(dependent, exog)`.  It can optionally contains weights in which case it takes the form `(dependent, exog, weights)`.\n",
    "\n",
    "This example uses the dictionary syntax to contain the data for each region and uses the region identified as the equation label."
   ]
  },
  {
   "cell_type": "code",
   "execution_count": 4,
   "metadata": {
    "execution": {
     "iopub.execute_input": "2024-05-15T09:29:47.937446Z",
     "iopub.status.busy": "2024-05-15T09:29:47.936263Z",
     "iopub.status.idle": "2024-05-15T09:29:47.950369Z",
     "shell.execute_reply": "2024-05-15T09:29:47.949676Z"
    }
   },
   "outputs": [],
   "source": [
    "from collections import OrderedDict\n",
    "\n",
    "mod_data = OrderedDict()\n",
    "for region in [\"GF\", \"SW\", \"WC\", \"MT\", \"NE\", \"MA\", \"SO\", \"MW\", \"CN\"]:\n",
    "    region_data = agg_data.loc[region]\n",
    "    dependent = region_data.lnGSP\n",
    "    exog = region_data[\n",
    "        [\"Intercept\", \"lnPC\", \"lnHWY\", \"lnWATER\", \"lnUTIL\", \"lnEMP\", \"UNEMP\"]\n",
    "    ]\n",
    "    mod_data[region] = {\"dependent\": dependent, \"exog\": exog}"
   ]
  },
  {
   "cell_type": "markdown",
   "metadata": {},
   "source": [
    "Fitting the model is virtually identical to  fitting any other model with the exception of the special data structure required. \n",
    "\n",
    "The fitting options here ensure that the homoskedastic covariance estimator are used (`cov_type=\"unadjusted\"`) and that a small sample adjustment is applied. By default, GLS is used (this can be overridden using `method=\"ols\"`."
   ]
  },
  {
   "cell_type": "code",
   "execution_count": 5,
   "metadata": {
    "execution": {
     "iopub.execute_input": "2024-05-15T09:29:47.955229Z",
     "iopub.status.busy": "2024-05-15T09:29:47.954077Z",
     "iopub.status.idle": "2024-05-15T09:29:48.242904Z",
     "shell.execute_reply": "2024-05-15T09:29:48.242191Z"
    }
   },
   "outputs": [],
   "source": [
    "import pandas as pd\n",
    "from linearmodels.system import SUR\n",
    "\n",
    "mod = SUR(mod_data)\n",
    "res = mod.fit(cov_type=\"unadjusted\")"
   ]
  },
  {
   "cell_type": "markdown",
   "metadata": {},
   "source": [
    "One of the requirements for there to be an efficiency gain in a SUR is that the residuals are correlated. A heatmap is used to inspect this correlation, which is substantial and varies by region."
   ]
  },
  {
   "cell_type": "code",
   "execution_count": 6,
   "metadata": {
    "execution": {
     "iopub.execute_input": "2024-05-15T09:29:48.249013Z",
     "iopub.status.busy": "2024-05-15T09:29:48.247415Z",
     "iopub.status.idle": "2024-05-15T09:29:48.878820Z",
     "shell.execute_reply": "2024-05-15T09:29:48.877502Z"
    }
   },
   "outputs": [
    {
     "data": {
      "image/png": "[encoded data removed]",
      "text/plain": [
       "<Figure size 640x480 with 2 Axes>"
      ]
     },
     "metadata": {},
     "output_type": "display_data"
    },
    {
     "data": {
      "text/html": [
       "<style type=\"text/css\">\n",
       "</style>\n",
       "<table id=\"T_63aa2\">\n",
       "  <thead>\n",
       "    <tr>\n",
       "      <th class=\"blank level0\" >&nbsp;</th>\n",
       "      <th id=\"T_63aa2_level0_col0\" class=\"col_heading level0 col0\" >GF</th>\n",
       "      <th id=\"T_63aa2_level0_col1\" class=\"col_heading level0 col1\" >SW</th>\n",
       "      <th id=\"T_63aa2_level0_col2\" class=\"col_heading level0 col2\" >WC</th>\n",
       "      <th id=\"T_63aa2_level0_col3\" class=\"col_heading level0 col3\" >MT</th>\n",
       "      <th id=\"T_63aa2_level0_col4\" class=\"col_heading level0 col4\" >NE</th>\n",
       "      <th id=\"T_63aa2_level0_col5\" class=\"col_heading level0 col5\" >MA</th>\n",
       "      <th id=\"T_63aa2_level0_col6\" class=\"col_heading level0 col6\" >SO</th>\n",
       "      <th id=\"T_63aa2_level0_col7\" class=\"col_heading level0 col7\" >MW</th>\n",
       "      <th id=\"T_63aa2_level0_col8\" class=\"col_heading level0 col8\" >CN</th>\n",
       "    </tr>\n",
       "  </thead>\n",
       "  <tbody>\n",
       "    <tr>\n",
       "      <th id=\"T_63aa2_level0_row0\" class=\"row_heading level0 row0\" >GF</th>\n",
       "      <td id=\"T_63aa2_row0_col0\" class=\"data row0 col0\" >1.000</td>\n",
       "      <td id=\"T_63aa2_row0_col1\" class=\"data row0 col1\" >0.173</td>\n",
       "      <td id=\"T_63aa2_row0_col2\" class=\"data row0 col2\" >0.447</td>\n",
       "      <td id=\"T_63aa2_row0_col3\" class=\"data row0 col3\" >-0.547</td>\n",
       "      <td id=\"T_63aa2_row0_col4\" class=\"data row0 col4\" >0.525</td>\n",
       "      <td id=\"T_63aa2_row0_col5\" class=\"data row0 col5\" >0.425</td>\n",
       "      <td id=\"T_63aa2_row0_col6\" class=\"data row0 col6\" >0.763</td>\n",
       "      <td id=\"T_63aa2_row0_col7\" class=\"data row0 col7\" >0.167</td>\n",
       "      <td id=\"T_63aa2_row0_col8\" class=\"data row0 col8\" >0.325</td>\n",
       "    </tr>\n",
       "    <tr>\n",
       "      <th id=\"T_63aa2_level0_row1\" class=\"row_heading level0 row1\" >SW</th>\n",
       "      <td id=\"T_63aa2_row1_col0\" class=\"data row1 col0\" >0.173</td>\n",
       "      <td id=\"T_63aa2_row1_col1\" class=\"data row1 col1\" >1.000</td>\n",
       "      <td id=\"T_63aa2_row1_col2\" class=\"data row1 col2\" >0.697</td>\n",
       "      <td id=\"T_63aa2_row1_col3\" class=\"data row1 col3\" >-0.290</td>\n",
       "      <td id=\"T_63aa2_row1_col4\" class=\"data row1 col4\" >0.489</td>\n",
       "      <td id=\"T_63aa2_row1_col5\" class=\"data row1 col5\" >0.132</td>\n",
       "      <td id=\"T_63aa2_row1_col6\" class=\"data row1 col6\" >0.314</td>\n",
       "      <td id=\"T_63aa2_row1_col7\" class=\"data row1 col7\" >0.565</td>\n",
       "      <td id=\"T_63aa2_row1_col8\" class=\"data row1 col8\" >0.119</td>\n",
       "    </tr>\n",
       "    <tr>\n",
       "      <th id=\"T_63aa2_level0_row2\" class=\"row_heading level0 row2\" >WC</th>\n",
       "      <td id=\"T_63aa2_row2_col0\" class=\"data row2 col0\" >0.447</td>\n",
       "      <td id=\"T_63aa2_row2_col1\" class=\"data row2 col1\" >0.697</td>\n",
       "      <td id=\"T_63aa2_row2_col2\" class=\"data row2 col2\" >1.000</td>\n",
       "      <td id=\"T_63aa2_row2_col3\" class=\"data row2 col3\" >-0.537</td>\n",
       "      <td id=\"T_63aa2_row2_col4\" class=\"data row2 col4\" >0.343</td>\n",
       "      <td id=\"T_63aa2_row2_col5\" class=\"data row2 col5\" >0.130</td>\n",
       "      <td id=\"T_63aa2_row2_col6\" class=\"data row2 col6\" >0.505</td>\n",
       "      <td id=\"T_63aa2_row2_col7\" class=\"data row2 col7\" >0.574</td>\n",
       "      <td id=\"T_63aa2_row2_col8\" class=\"data row2 col8\" >0.037</td>\n",
       "    </tr>\n",
       "    <tr>\n",
       "      <th id=\"T_63aa2_level0_row3\" class=\"row_heading level0 row3\" >MT</th>\n",
       "      <td id=\"T_63aa2_row3_col0\" class=\"data row3 col0\" >-0.547</td>\n",
       "      <td id=\"T_63aa2_row3_col1\" class=\"data row3 col1\" >-0.290</td>\n",
       "      <td id=\"T_63aa2_row3_col2\" class=\"data row3 col2\" >-0.537</td>\n",
       "      <td id=\"T_63aa2_row3_col3\" class=\"data row3 col3\" >1.000</td>\n",
       "      <td id=\"T_63aa2_row3_col4\" class=\"data row3 col4\" >-0.241</td>\n",
       "      <td id=\"T_63aa2_row3_col5\" class=\"data row3 col5\" >-0.322</td>\n",
       "      <td id=\"T_63aa2_row3_col6\" class=\"data row3 col6\" >-0.351</td>\n",
       "      <td id=\"T_63aa2_row3_col7\" class=\"data row3 col7\" >-0.058</td>\n",
       "      <td id=\"T_63aa2_row3_col8\" class=\"data row3 col8\" >0.091</td>\n",
       "    </tr>\n",
       "    <tr>\n",
       "      <th id=\"T_63aa2_level0_row4\" class=\"row_heading level0 row4\" >NE</th>\n",
       "      <td id=\"T_63aa2_row4_col0\" class=\"data row4 col0\" >0.525</td>\n",
       "      <td id=\"T_63aa2_row4_col1\" class=\"data row4 col1\" >0.489</td>\n",
       "      <td id=\"T_63aa2_row4_col2\" class=\"data row4 col2\" >0.343</td>\n",
       "      <td id=\"T_63aa2_row4_col3\" class=\"data row4 col3\" >-0.241</td>\n",
       "      <td id=\"T_63aa2_row4_col4\" class=\"data row4 col4\" >1.000</td>\n",
       "      <td id=\"T_63aa2_row4_col5\" class=\"data row4 col5\" >0.259</td>\n",
       "      <td id=\"T_63aa2_row4_col6\" class=\"data row4 col6\" >0.783</td>\n",
       "      <td id=\"T_63aa2_row4_col7\" class=\"data row4 col7\" >0.269</td>\n",
       "      <td id=\"T_63aa2_row4_col8\" class=\"data row4 col8\" >0.200</td>\n",
       "    </tr>\n",
       "    <tr>\n",
       "      <th id=\"T_63aa2_level0_row5\" class=\"row_heading level0 row5\" >MA</th>\n",
       "      <td id=\"T_63aa2_row5_col0\" class=\"data row5 col0\" >0.425</td>\n",
       "      <td id=\"T_63aa2_row5_col1\" class=\"data row5 col1\" >0.132</td>\n",
       "      <td id=\"T_63aa2_row5_col2\" class=\"data row5 col2\" >0.130</td>\n",
       "      <td id=\"T_63aa2_row5_col3\" class=\"data row5 col3\" >-0.322</td>\n",
       "      <td id=\"T_63aa2_row5_col4\" class=\"data row5 col4\" >0.259</td>\n",
       "      <td id=\"T_63aa2_row5_col5\" class=\"data row5 col5\" >1.000</td>\n",
       "      <td id=\"T_63aa2_row5_col6\" class=\"data row5 col6\" >0.388</td>\n",
       "      <td id=\"T_63aa2_row5_col7\" class=\"data row5 col7\" >-0.037</td>\n",
       "      <td id=\"T_63aa2_row5_col8\" class=\"data row5 col8\" >0.713</td>\n",
       "    </tr>\n",
       "    <tr>\n",
       "      <th id=\"T_63aa2_level0_row6\" class=\"row_heading level0 row6\" >SO</th>\n",
       "      <td id=\"T_63aa2_row6_col0\" class=\"data row6 col0\" >0.763</td>\n",
       "      <td id=\"T_63aa2_row6_col1\" class=\"data row6 col1\" >0.314</td>\n",
       "      <td id=\"T_63aa2_row6_col2\" class=\"data row6 col2\" >0.505</td>\n",
       "      <td id=\"T_63aa2_row6_col3\" class=\"data row6 col3\" >-0.351</td>\n",
       "      <td id=\"T_63aa2_row6_col4\" class=\"data row6 col4\" >0.783</td>\n",
       "      <td id=\"T_63aa2_row6_col5\" class=\"data row6 col5\" >0.388</td>\n",
       "      <td id=\"T_63aa2_row6_col6\" class=\"data row6 col6\" >1.000</td>\n",
       "      <td id=\"T_63aa2_row6_col7\" class=\"data row6 col7\" >0.366</td>\n",
       "      <td id=\"T_63aa2_row6_col8\" class=\"data row6 col8\" >0.350</td>\n",
       "    </tr>\n",
       "    <tr>\n",
       "      <th id=\"T_63aa2_level0_row7\" class=\"row_heading level0 row7\" >MW</th>\n",
       "      <td id=\"T_63aa2_row7_col0\" class=\"data row7 col0\" >0.167</td>\n",
       "      <td id=\"T_63aa2_row7_col1\" class=\"data row7 col1\" >0.565</td>\n",
       "      <td id=\"T_63aa2_row7_col2\" class=\"data row7 col2\" >0.574</td>\n",
       "      <td id=\"T_63aa2_row7_col3\" class=\"data row7 col3\" >-0.058</td>\n",
       "      <td id=\"T_63aa2_row7_col4\" class=\"data row7 col4\" >0.269</td>\n",
       "      <td id=\"T_63aa2_row7_col5\" class=\"data row7 col5\" >-0.037</td>\n",
       "      <td id=\"T_63aa2_row7_col6\" class=\"data row7 col6\" >0.366</td>\n",
       "      <td id=\"T_63aa2_row7_col7\" class=\"data row7 col7\" >1.000</td>\n",
       "      <td id=\"T_63aa2_row7_col8\" class=\"data row7 col8\" >0.298</td>\n",
       "    </tr>\n",
       "    <tr>\n",
       "      <th id=\"T_63aa2_level0_row8\" class=\"row_heading level0 row8\" >CN</th>\n",
       "      <td id=\"T_63aa2_row8_col0\" class=\"data row8 col0\" >0.325</td>\n",
       "      <td id=\"T_63aa2_row8_col1\" class=\"data row8 col1\" >0.119</td>\n",
       "      <td id=\"T_63aa2_row8_col2\" class=\"data row8 col2\" >0.037</td>\n",
       "      <td id=\"T_63aa2_row8_col3\" class=\"data row8 col3\" >0.091</td>\n",
       "      <td id=\"T_63aa2_row8_col4\" class=\"data row8 col4\" >0.200</td>\n",
       "      <td id=\"T_63aa2_row8_col5\" class=\"data row8 col5\" >0.713</td>\n",
       "      <td id=\"T_63aa2_row8_col6\" class=\"data row8 col6\" >0.350</td>\n",
       "      <td id=\"T_63aa2_row8_col7\" class=\"data row8 col7\" >0.298</td>\n",
       "      <td id=\"T_63aa2_row8_col8\" class=\"data row8 col8\" >1.000</td>\n",
       "    </tr>\n",
       "  </tbody>\n",
       "</table>\n"
      ],
      "text/plain": [
       "<pandas.io.formats.style.Styler at 0x7f4eb4e51f90>"
      ]
     },
     "execution_count": 6,
     "metadata": {},
     "output_type": "execute_result"
    }
   ],
   "source": [
    "cov = res.sigma\n",
    "std = np.sqrt(np.diag(res.sigma)[:, None])\n",
    "regions = [k for k in mod_data.keys()]\n",
    "corr = pd.DataFrame(cov / (std @ std.T), columns=regions, index=regions)\n",
    "\n",
    "import matplotlib.pyplot as plt\n",
    "import seaborn as sns\n",
    "\n",
    "sns.heatmap(corr, vmax=0.8, square=True)\n",
    "plt.show()\n",
    "\n",
    "corr.style.format(\"{:0.3f}\")"
   ]
  },
  {
   "cell_type": "markdown",
   "metadata": {},
   "source": [
    "These values can be seen to be identical to the reported results in the existing example from Greene."
   ]
  },
  {
   "cell_type": "code",
   "execution_count": 7,
   "metadata": {
    "execution": {
     "iopub.execute_input": "2024-05-15T09:29:48.899560Z",
     "iopub.status.busy": "2024-05-15T09:29:48.898663Z",
     "iopub.status.idle": "2024-05-15T09:29:48.905552Z",
     "shell.execute_reply": "2024-05-15T09:29:48.904641Z"
    }
   },
   "outputs": [
    {
     "data": {
      "image/png": "[encoded data removed]"
     },
     "metadata": {},
     "output_type": "display_data"
    }
   ],
   "source": [
    "from IPython.display import Image, display_png\n",
    "\n",
    "display_png(Image(\"system_correct-greene-table-10-2.png\"))"
   ]
  },
  {
   "cell_type": "markdown",
   "metadata": {},
   "source": [
    "The full result is fairly long and so here I only print the first 33 lines which show results for two regions.  By default it reports all estimates along with the usual measures of precision."
   ]
  },
  {
   "cell_type": "code",
   "execution_count": 8,
   "metadata": {
    "execution": {
     "iopub.execute_input": "2024-05-15T09:29:48.912351Z",
     "iopub.status.busy": "2024-05-15T09:29:48.912018Z",
     "iopub.status.idle": "2024-05-15T09:29:48.997654Z",
     "shell.execute_reply": "2024-05-15T09:29:48.996626Z"
    }
   },
   "outputs": [
    {
     "name": "stdout",
     "output_type": "stream",
     "text": [
      "                           System GLS Estimation Summary                           \n",
      "===================================================================================\n",
      "Estimator:                        GLS   Overall R-squared:                   0.9937\n",
      "No. Equations.:                     9   McElroy's R-squared:                 0.9988\n",
      "No. Observations:                  17   Judge's (OLS) R-squared:             0.9937\n",
      "Date:                Wed, May 15 2024   Berndt's R-squared:                  1.0000\n",
      "Time:                        09:29:48   Dhrymes's R-squared:                 0.9937\n",
      "                                        Cov. Estimator:                  unadjusted\n",
      "                                        Num. Constraints:                      None\n",
      "                   Equation: GF, Dependent Variable: lnGSP                    \n",
      "==============================================================================\n",
      "            Parameter  Std. Err.     T-stat    P-value    Lower CI    Upper CI\n",
      "------------------------------------------------------------------------------\n",
      "Intercept      12.310     2.2513     5.4680     0.0000      7.8976      16.723\n",
      "lnPC          -0.2010     0.1424    -1.4117     0.1580     -0.4800      0.0780\n",
      "lnHWY         -1.8856     0.5169    -3.6480     0.0003     -2.8987     -0.8725\n",
      "lnWATER        0.1785     0.0607     2.9399     0.0033      0.0595      0.2975\n",
      "lnUTIL         1.1898     0.3744     3.1774     0.0015      0.4559      1.9237\n",
      "lnEMP          0.9533     0.0847     11.252     0.0000      0.7872      1.1193\n",
      "UNEMP         -0.0031     0.0021    -1.5007     0.1334     -0.0072      0.0009\n",
      "                   Equation: SW, Dependent Variable: lnGSP                    \n",
      "==============================================================================\n",
      "            Parameter  Std. Err.     T-stat    P-value    Lower CI    Upper CI\n",
      "------------------------------------------------------------------------------\n",
      "Intercept      4.0831     0.9979     4.0918     0.0000      2.1273      6.0389\n",
      "lnPC           0.0766     0.0858     0.8929     0.3719     -0.0916      0.2449\n",
      "lnHWY         -0.1312     0.1279    -1.0258     0.3050     -0.3819      0.1195\n",
      "lnWATER       -0.1360     0.0611    -2.2240     0.0261     -0.2558     -0.0161\n",
      "lnUTIL         0.5216     0.1107     4.7102     0.0000      0.3045      0.7386\n",
      "lnEMP          0.5387     0.0849     6.3439     0.0000      0.3723      0.7051\n",
      "UNEMP         -0.0156     0.0025    -6.2950     0.0000     -0.0205     -0.0108\n",
      "                   Equation: WC, Dependent Variable: lnGSP                    \n",
      "==============================================================================\n"
     ]
    }
   ],
   "source": [
    "print(\"\\n\".join(res.summary.as_text().split(\"\\n\")[:33]))"
   ]
  },
  {
   "cell_type": "markdown",
   "metadata": {},
   "source": [
    "Individual results are contained in a dictionary located at the attribute `equations` and can be accessed using equation labels (available using the attribute `equation_labels`).  Additional information about the model is presented in this view. The West Coast results are show.  "
   ]
  },
  {
   "cell_type": "code",
   "execution_count": 9,
   "metadata": {
    "execution": {
     "iopub.execute_input": "2024-05-15T09:29:49.004011Z",
     "iopub.status.busy": "2024-05-15T09:29:49.002480Z",
     "iopub.status.idle": "2024-05-15T09:29:49.021943Z",
     "shell.execute_reply": "2024-05-15T09:29:49.020960Z"
    }
   },
   "outputs": [
    {
     "name": "stdout",
     "output_type": "stream",
     "text": [
      "                            GLS Estimation Summary                            \n",
      "==============================================================================\n",
      "Eq. Label:                         WC   R-squared:                      0.9937\n",
      "Dep. Variable:                  lnGSP   Adj. R-squared:                 0.9900\n",
      "Estimator:                        GLS   Cov. Estimator:             unadjusted\n",
      "No. Observations:                  17   F-statistic:                    2862.4\n",
      "Date:                Wed, May 15 2024   P-value (F-stat)                0.0000\n",
      "Time:                        09:29:48   Distribution:                  chi2(6)\n",
      "                                                                              \n",
      "                             Parameter Estimates                              \n",
      "==============================================================================\n",
      "            Parameter  Std. Err.     T-stat    P-value    Lower CI    Upper CI\n",
      "------------------------------------------------------------------------------\n",
      "Intercept      1.9602     3.4542     0.5675     0.5704     -4.8100      8.7303\n",
      "lnPC           0.1699     0.0919     1.8500     0.0643     -0.0101      0.3500\n",
      "lnHWY          0.1317     0.1138     1.1569     0.2473     -0.0914      0.3547\n",
      "lnWATER       -0.3470     0.1733    -2.0020     0.0453     -0.6867     -0.0073\n",
      "lnUTIL         0.0895     0.4642     0.1928     0.8471     -0.8204      0.9994\n",
      "lnEMP          1.0696     0.1708     6.2634     0.0000      0.7349      1.4043\n",
      "UNEMP         -0.0060     0.0042    -1.4180     0.1562     -0.0143      0.0023\n",
      "                                                                              \n",
      "==============================================================================\n",
      "\n",
      "Covariance Estimator:\n",
      "Homoskedastic (Unadjusted) Covariance (Debiased: False, GLS: True)\n"
     ]
    }
   ],
   "source": [
    "print(res.equations[\"WC\"])"
   ]
  },
  {
   "cell_type": "markdown",
   "metadata": {},
   "source": [
    "The current version of the model does not facilitate cross equation comparisons and so this is manually implemented here. "
   ]
  },
  {
   "cell_type": "code",
   "execution_count": 10,
   "metadata": {
    "execution": {
     "iopub.execute_input": "2024-05-15T09:29:49.028001Z",
     "iopub.status.busy": "2024-05-15T09:29:49.026512Z",
     "iopub.status.idle": "2024-05-15T09:29:49.047392Z",
     "shell.execute_reply": "2024-05-15T09:29:49.046442Z"
    }
   },
   "outputs": [
    {
     "data": {
      "text/html": [
       "<style type=\"text/css\">\n",
       "</style>\n",
       "<table id=\"T_8b47c\">\n",
       "  <thead>\n",
       "    <tr>\n",
       "      <th class=\"blank level0\" >&nbsp;</th>\n",
       "      <th id=\"T_8b47c_level0_col0\" class=\"col_heading level0 col0\" >Intercept</th>\n",
       "      <th id=\"T_8b47c_level0_col1\" class=\"col_heading level0 col1\" >lnPC</th>\n",
       "      <th id=\"T_8b47c_level0_col2\" class=\"col_heading level0 col2\" >lnHWY</th>\n",
       "      <th id=\"T_8b47c_level0_col3\" class=\"col_heading level0 col3\" >lnWATER</th>\n",
       "      <th id=\"T_8b47c_level0_col4\" class=\"col_heading level0 col4\" >lnUTIL</th>\n",
       "      <th id=\"T_8b47c_level0_col5\" class=\"col_heading level0 col5\" >lnEMP</th>\n",
       "      <th id=\"T_8b47c_level0_col6\" class=\"col_heading level0 col6\" >UNEMP</th>\n",
       "    </tr>\n",
       "  </thead>\n",
       "  <tbody>\n",
       "    <tr>\n",
       "      <th id=\"T_8b47c_level0_row0\" class=\"row_heading level0 row0\" >GF</th>\n",
       "      <td id=\"T_8b47c_row0_col0\" class=\"data row0 col0\" >12.310</td>\n",
       "      <td id=\"T_8b47c_row0_col1\" class=\"data row0 col1\" >-0.201</td>\n",
       "      <td id=\"T_8b47c_row0_col2\" class=\"data row0 col2\" >-1.886</td>\n",
       "      <td id=\"T_8b47c_row0_col3\" class=\"data row0 col3\" >0.178</td>\n",
       "      <td id=\"T_8b47c_row0_col4\" class=\"data row0 col4\" >1.190</td>\n",
       "      <td id=\"T_8b47c_row0_col5\" class=\"data row0 col5\" >0.953</td>\n",
       "      <td id=\"T_8b47c_row0_col6\" class=\"data row0 col6\" >-0.003</td>\n",
       "    </tr>\n",
       "    <tr>\n",
       "      <th id=\"T_8b47c_level0_row1\" class=\"row_heading level0 row1\" >SW</th>\n",
       "      <td id=\"T_8b47c_row1_col0\" class=\"data row1 col0\" >4.083</td>\n",
       "      <td id=\"T_8b47c_row1_col1\" class=\"data row1 col1\" >0.077</td>\n",
       "      <td id=\"T_8b47c_row1_col2\" class=\"data row1 col2\" >-0.131</td>\n",
       "      <td id=\"T_8b47c_row1_col3\" class=\"data row1 col3\" >-0.136</td>\n",
       "      <td id=\"T_8b47c_row1_col4\" class=\"data row1 col4\" >0.522</td>\n",
       "      <td id=\"T_8b47c_row1_col5\" class=\"data row1 col5\" >0.539</td>\n",
       "      <td id=\"T_8b47c_row1_col6\" class=\"data row1 col6\" >-0.016</td>\n",
       "    </tr>\n",
       "    <tr>\n",
       "      <th id=\"T_8b47c_level0_row2\" class=\"row_heading level0 row2\" >WC</th>\n",
       "      <td id=\"T_8b47c_row2_col0\" class=\"data row2 col0\" >1.960</td>\n",
       "      <td id=\"T_8b47c_row2_col1\" class=\"data row2 col1\" >0.170</td>\n",
       "      <td id=\"T_8b47c_row2_col2\" class=\"data row2 col2\" >0.132</td>\n",
       "      <td id=\"T_8b47c_row2_col3\" class=\"data row2 col3\" >-0.347</td>\n",
       "      <td id=\"T_8b47c_row2_col4\" class=\"data row2 col4\" >0.090</td>\n",
       "      <td id=\"T_8b47c_row2_col5\" class=\"data row2 col5\" >1.070</td>\n",
       "      <td id=\"T_8b47c_row2_col6\" class=\"data row2 col6\" >-0.006</td>\n",
       "    </tr>\n",
       "    <tr>\n",
       "      <th id=\"T_8b47c_level0_row3\" class=\"row_heading level0 row3\" >MT</th>\n",
       "      <td id=\"T_8b47c_row3_col0\" class=\"data row3 col0\" >3.463</td>\n",
       "      <td id=\"T_8b47c_row3_col1\" class=\"data row3 col1\" >-0.115</td>\n",
       "      <td id=\"T_8b47c_row3_col2\" class=\"data row3 col2\" >0.180</td>\n",
       "      <td id=\"T_8b47c_row3_col3\" class=\"data row3 col3\" >0.262</td>\n",
       "      <td id=\"T_8b47c_row3_col4\" class=\"data row3 col4\" >-0.330</td>\n",
       "      <td id=\"T_8b47c_row3_col5\" class=\"data row3 col5\" >1.079</td>\n",
       "      <td id=\"T_8b47c_row3_col6\" class=\"data row3 col6\" >-0.001</td>\n",
       "    </tr>\n",
       "    <tr>\n",
       "      <th id=\"T_8b47c_level0_row4\" class=\"row_heading level0 row4\" >NE</th>\n",
       "      <td id=\"T_8b47c_row4_col0\" class=\"data row4 col0\" >-12.294</td>\n",
       "      <td id=\"T_8b47c_row4_col1\" class=\"data row4 col1\" >0.118</td>\n",
       "      <td id=\"T_8b47c_row4_col2\" class=\"data row4 col2\" >0.934</td>\n",
       "      <td id=\"T_8b47c_row4_col3\" class=\"data row4 col3\" >-0.557</td>\n",
       "      <td id=\"T_8b47c_row4_col4\" class=\"data row4 col4\" >-0.290</td>\n",
       "      <td id=\"T_8b47c_row4_col5\" class=\"data row4 col5\" >2.494</td>\n",
       "      <td id=\"T_8b47c_row4_col6\" class=\"data row4 col6\" >0.020</td>\n",
       "    </tr>\n",
       "    <tr>\n",
       "      <th id=\"T_8b47c_level0_row5\" class=\"row_heading level0 row5\" >MA</th>\n",
       "      <td id=\"T_8b47c_row5_col0\" class=\"data row5 col0\" >-18.616</td>\n",
       "      <td id=\"T_8b47c_row5_col1\" class=\"data row5 col1\" >-0.311</td>\n",
       "      <td id=\"T_8b47c_row5_col2\" class=\"data row5 col2\" >3.060</td>\n",
       "      <td id=\"T_8b47c_row5_col3\" class=\"data row5 col3\" >-0.109</td>\n",
       "      <td id=\"T_8b47c_row5_col4\" class=\"data row5 col4\" >-1.659</td>\n",
       "      <td id=\"T_8b47c_row5_col5\" class=\"data row5 col5\" >2.186</td>\n",
       "      <td id=\"T_8b47c_row5_col6\" class=\"data row5 col6\" >0.018</td>\n",
       "    </tr>\n",
       "    <tr>\n",
       "      <th id=\"T_8b47c_level0_row6\" class=\"row_heading level0 row6\" >SO</th>\n",
       "      <td id=\"T_8b47c_row6_col0\" class=\"data row6 col0\" >3.162</td>\n",
       "      <td id=\"T_8b47c_row6_col1\" class=\"data row6 col1\" >-0.063</td>\n",
       "      <td id=\"T_8b47c_row6_col2\" class=\"data row6 col2\" >-0.641</td>\n",
       "      <td id=\"T_8b47c_row6_col3\" class=\"data row6 col3\" >-0.081</td>\n",
       "      <td id=\"T_8b47c_row6_col4\" class=\"data row6 col4\" >0.281</td>\n",
       "      <td id=\"T_8b47c_row6_col5\" class=\"data row6 col5\" >1.620</td>\n",
       "      <td id=\"T_8b47c_row6_col6\" class=\"data row6 col6\" >0.008</td>\n",
       "    </tr>\n",
       "    <tr>\n",
       "      <th id=\"T_8b47c_level0_row7\" class=\"row_heading level0 row7\" >MW</th>\n",
       "      <td id=\"T_8b47c_row7_col0\" class=\"data row7 col0\" >-9.258</td>\n",
       "      <td id=\"T_8b47c_row7_col1\" class=\"data row7 col1\" >0.096</td>\n",
       "      <td id=\"T_8b47c_row7_col2\" class=\"data row7 col2\" >1.612</td>\n",
       "      <td id=\"T_8b47c_row7_col3\" class=\"data row7 col3\" >0.694</td>\n",
       "      <td id=\"T_8b47c_row7_col4\" class=\"data row7 col4\" >-0.340</td>\n",
       "      <td id=\"T_8b47c_row7_col5\" class=\"data row7 col5\" >-0.062</td>\n",
       "      <td id=\"T_8b47c_row7_col6\" class=\"data row7 col6\" >-0.031</td>\n",
       "    </tr>\n",
       "    <tr>\n",
       "      <th id=\"T_8b47c_level0_row8\" class=\"row_heading level0 row8\" >CN</th>\n",
       "      <td id=\"T_8b47c_row8_col0\" class=\"data row8 col0\" >-3.405</td>\n",
       "      <td id=\"T_8b47c_row8_col1\" class=\"data row8 col1\" >0.295</td>\n",
       "      <td id=\"T_8b47c_row8_col2\" class=\"data row8 col2\" >0.934</td>\n",
       "      <td id=\"T_8b47c_row8_col3\" class=\"data row8 col3\" >0.539</td>\n",
       "      <td id=\"T_8b47c_row8_col4\" class=\"data row8 col4\" >0.003</td>\n",
       "      <td id=\"T_8b47c_row8_col5\" class=\"data row8 col5\" >-0.321</td>\n",
       "      <td id=\"T_8b47c_row8_col6\" class=\"data row8 col6\" >-0.029</td>\n",
       "    </tr>\n",
       "  </tbody>\n",
       "</table>\n"
      ],
      "text/plain": [
       "<pandas.io.formats.style.Styler at 0x7f4e785a5d50>"
      ]
     },
     "execution_count": 10,
     "metadata": {},
     "output_type": "execute_result"
    }
   ],
   "source": [
    "# TODO: Implement method to compare across equations\n",
    "params = []\n",
    "for label in res.equation_labels:\n",
    "    params.append(res.equations[label].params)\n",
    "params = pd.concat(params, axis=1)\n",
    "params.columns = res.equation_labels\n",
    "params.T.style.format(\"{:0.3f}\")"
   ]
  },
  {
   "cell_type": "markdown",
   "metadata": {},
   "source": [
    "These results can be compared to the results in Greene -- they are unsurprisingly identical."
   ]
  },
  {
   "cell_type": "code",
   "execution_count": 11,
   "metadata": {
    "execution": {
     "iopub.execute_input": "2024-05-15T09:29:49.053599Z",
     "iopub.status.busy": "2024-05-15T09:29:49.052079Z",
     "iopub.status.idle": "2024-05-15T09:29:49.063970Z",
     "shell.execute_reply": "2024-05-15T09:29:49.062742Z"
    }
   },
   "outputs": [
    {
     "data": {
      "image/png": "[encoded data removed]"
     },
     "metadata": {},
     "output_type": "display_data"
    }
   ],
   "source": [
    "display_png(Image(\"system_correct-greene-table-10-1.png\"))"
   ]
  },
  {
   "cell_type": "markdown",
   "metadata": {},
   "source": [
    "The GLS estimation method requires stronger assumptions for parameter estimates to be consistent.  If these are violated then it might be the case that OLS is still consistent (in some sense) and so OLS can be used by passing `method=\"ols\"` when calling `fit`. \n",
    "\n",
    "These results can be compared to Greene\"s table -- they are identical except the final value which seems to have a small typo."
   ]
  },
  {
   "cell_type": "code",
   "execution_count": 12,
   "metadata": {
    "execution": {
     "iopub.execute_input": "2024-05-15T09:29:49.070929Z",
     "iopub.status.busy": "2024-05-15T09:29:49.069330Z",
     "iopub.status.idle": "2024-05-15T09:29:49.239666Z",
     "shell.execute_reply": "2024-05-15T09:29:49.238673Z"
    }
   },
   "outputs": [
    {
     "data": {
      "text/html": [
       "<style type=\"text/css\">\n",
       "</style>\n",
       "<table id=\"T_51330\">\n",
       "  <thead>\n",
       "    <tr>\n",
       "      <th class=\"blank level0\" >&nbsp;</th>\n",
       "      <th id=\"T_51330_level0_col0\" class=\"col_heading level0 col0\" >Intercept</th>\n",
       "      <th id=\"T_51330_level0_col1\" class=\"col_heading level0 col1\" >lnPC</th>\n",
       "      <th id=\"T_51330_level0_col2\" class=\"col_heading level0 col2\" >lnHWY</th>\n",
       "      <th id=\"T_51330_level0_col3\" class=\"col_heading level0 col3\" >lnWATER</th>\n",
       "      <th id=\"T_51330_level0_col4\" class=\"col_heading level0 col4\" >lnUTIL</th>\n",
       "      <th id=\"T_51330_level0_col5\" class=\"col_heading level0 col5\" >lnEMP</th>\n",
       "      <th id=\"T_51330_level0_col6\" class=\"col_heading level0 col6\" >UNEMP</th>\n",
       "      <th id=\"T_51330_level0_col7\" class=\"col_heading level0 col7\" >R2</th>\n",
       "    </tr>\n",
       "  </thead>\n",
       "  <tbody>\n",
       "    <tr>\n",
       "      <th id=\"T_51330_level0_row0\" class=\"row_heading level0 row0\" >GF</th>\n",
       "      <td id=\"T_51330_row0_col0\" class=\"data row0 col0\" >11.567</td>\n",
       "      <td id=\"T_51330_row0_col1\" class=\"data row0 col1\" >0.002</td>\n",
       "      <td id=\"T_51330_row0_col2\" class=\"data row0 col2\" >-2.029</td>\n",
       "      <td id=\"T_51330_row0_col3\" class=\"data row0 col3\" >0.101</td>\n",
       "      <td id=\"T_51330_row0_col4\" class=\"data row0 col4\" >1.358</td>\n",
       "      <td id=\"T_51330_row0_col5\" class=\"data row0 col5\" >0.805</td>\n",
       "      <td id=\"T_51330_row0_col6\" class=\"data row0 col6\" >-0.007</td>\n",
       "      <td id=\"T_51330_row0_col7\" class=\"data row0 col7\" >0.997</td>\n",
       "    </tr>\n",
       "    <tr>\n",
       "      <th id=\"T_51330_level0_row1\" class=\"row_heading level0 row1\" >SW</th>\n",
       "      <td id=\"T_51330_row1_col0\" class=\"data row1 col0\" >3.028</td>\n",
       "      <td id=\"T_51330_row1_col1\" class=\"data row1 col1\" >0.164</td>\n",
       "      <td id=\"T_51330_row1_col2\" class=\"data row1 col2\" >-0.075</td>\n",
       "      <td id=\"T_51330_row1_col3\" class=\"data row1 col3\" >-0.169</td>\n",
       "      <td id=\"T_51330_row1_col4\" class=\"data row1 col4\" >0.637</td>\n",
       "      <td id=\"T_51330_row1_col5\" class=\"data row1 col5\" >0.362</td>\n",
       "      <td id=\"T_51330_row1_col6\" class=\"data row1 col6\" >-0.017</td>\n",
       "      <td id=\"T_51330_row1_col7\" class=\"data row1 col7\" >0.998</td>\n",
       "    </tr>\n",
       "    <tr>\n",
       "      <th id=\"T_51330_level0_row2\" class=\"row_heading level0 row2\" >WC</th>\n",
       "      <td id=\"T_51330_row2_col0\" class=\"data row2 col0\" >3.590</td>\n",
       "      <td id=\"T_51330_row2_col1\" class=\"data row2 col1\" >0.295</td>\n",
       "      <td id=\"T_51330_row2_col2\" class=\"data row2 col2\" >0.174</td>\n",
       "      <td id=\"T_51330_row2_col3\" class=\"data row2 col3\" >-0.226</td>\n",
       "      <td id=\"T_51330_row2_col4\" class=\"data row2 col4\" >-0.214</td>\n",
       "      <td id=\"T_51330_row2_col5\" class=\"data row2 col5\" >0.917</td>\n",
       "      <td id=\"T_51330_row2_col6\" class=\"data row2 col6\" >-0.008</td>\n",
       "      <td id=\"T_51330_row2_col7\" class=\"data row2 col7\" >0.994</td>\n",
       "    </tr>\n",
       "    <tr>\n",
       "      <th id=\"T_51330_level0_row3\" class=\"row_heading level0 row3\" >MT</th>\n",
       "      <td id=\"T_51330_row3_col0\" class=\"data row3 col0\" >6.378</td>\n",
       "      <td id=\"T_51330_row3_col1\" class=\"data row3 col1\" >-0.153</td>\n",
       "      <td id=\"T_51330_row3_col2\" class=\"data row3 col2\" >-0.123</td>\n",
       "      <td id=\"T_51330_row3_col3\" class=\"data row3 col3\" >0.306</td>\n",
       "      <td id=\"T_51330_row3_col4\" class=\"data row3 col4\" >-0.533</td>\n",
       "      <td id=\"T_51330_row3_col5\" class=\"data row3 col5\" >1.344</td>\n",
       "      <td id=\"T_51330_row3_col6\" class=\"data row3 col6\" >0.005</td>\n",
       "      <td id=\"T_51330_row3_col7\" class=\"data row3 col7\" >0.999</td>\n",
       "    </tr>\n",
       "    <tr>\n",
       "      <th id=\"T_51330_level0_row4\" class=\"row_heading level0 row4\" >NE</th>\n",
       "      <td id=\"T_51330_row4_col0\" class=\"data row4 col0\" >-13.730</td>\n",
       "      <td id=\"T_51330_row4_col1\" class=\"data row4 col1\" >-0.020</td>\n",
       "      <td id=\"T_51330_row4_col2\" class=\"data row4 col2\" >0.662</td>\n",
       "      <td id=\"T_51330_row4_col3\" class=\"data row4 col3\" >-0.969</td>\n",
       "      <td id=\"T_51330_row4_col4\" class=\"data row4 col4\" >-0.107</td>\n",
       "      <td id=\"T_51330_row4_col5\" class=\"data row4 col5\" >3.380</td>\n",
       "      <td id=\"T_51330_row4_col6\" class=\"data row4 col6\" >0.034</td>\n",
       "      <td id=\"T_51330_row4_col7\" class=\"data row4 col7\" >0.985</td>\n",
       "    </tr>\n",
       "    <tr>\n",
       "      <th id=\"T_51330_level0_row5\" class=\"row_heading level0 row5\" >MA</th>\n",
       "      <td id=\"T_51330_row5_col0\" class=\"data row5 col0\" >-22.855</td>\n",
       "      <td id=\"T_51330_row5_col1\" class=\"data row5 col1\" >-0.378</td>\n",
       "      <td id=\"T_51330_row5_col2\" class=\"data row5 col2\" >3.348</td>\n",
       "      <td id=\"T_51330_row5_col3\" class=\"data row5 col3\" >-0.264</td>\n",
       "      <td id=\"T_51330_row5_col4\" class=\"data row5 col4\" >-1.778</td>\n",
       "      <td id=\"T_51330_row5_col5\" class=\"data row5 col5\" >2.673</td>\n",
       "      <td id=\"T_51330_row5_col6\" class=\"data row5 col6\" >0.026</td>\n",
       "      <td id=\"T_51330_row5_col7\" class=\"data row5 col7\" >0.986</td>\n",
       "    </tr>\n",
       "    <tr>\n",
       "      <th id=\"T_51330_level0_row6\" class=\"row_heading level0 row6\" >SO</th>\n",
       "      <td id=\"T_51330_row6_col0\" class=\"data row6 col0\" >3.927</td>\n",
       "      <td id=\"T_51330_row6_col1\" class=\"data row6 col1\" >0.043</td>\n",
       "      <td id=\"T_51330_row6_col2\" class=\"data row6 col2\" >-0.773</td>\n",
       "      <td id=\"T_51330_row6_col3\" class=\"data row6 col3\" >-0.035</td>\n",
       "      <td id=\"T_51330_row6_col4\" class=\"data row6 col4\" >0.140</td>\n",
       "      <td id=\"T_51330_row6_col5\" class=\"data row6 col5\" >1.665</td>\n",
       "      <td id=\"T_51330_row6_col6\" class=\"data row6 col6\" >0.008</td>\n",
       "      <td id=\"T_51330_row6_col7\" class=\"data row6 col7\" >0.994</td>\n",
       "    </tr>\n",
       "    <tr>\n",
       "      <th id=\"T_51330_level0_row7\" class=\"row_heading level0 row7\" >MW</th>\n",
       "      <td id=\"T_51330_row7_col0\" class=\"data row7 col0\" >-9.111</td>\n",
       "      <td id=\"T_51330_row7_col1\" class=\"data row7 col1\" >0.233</td>\n",
       "      <td id=\"T_51330_row7_col2\" class=\"data row7 col2\" >1.604</td>\n",
       "      <td id=\"T_51330_row7_col3\" class=\"data row7 col3\" >0.717</td>\n",
       "      <td id=\"T_51330_row7_col4\" class=\"data row7 col4\" >-0.356</td>\n",
       "      <td id=\"T_51330_row7_col5\" class=\"data row7 col5\" >-0.259</td>\n",
       "      <td id=\"T_51330_row7_col6\" class=\"data row7 col6\" >-0.034</td>\n",
       "      <td id=\"T_51330_row7_col7\" class=\"data row7 col7\" >0.989</td>\n",
       "    </tr>\n",
       "    <tr>\n",
       "      <th id=\"T_51330_level0_row8\" class=\"row_heading level0 row8\" >CN</th>\n",
       "      <td id=\"T_51330_row8_col0\" class=\"data row8 col0\" >-5.621</td>\n",
       "      <td id=\"T_51330_row8_col1\" class=\"data row8 col1\" >0.386</td>\n",
       "      <td id=\"T_51330_row8_col2\" class=\"data row8 col2\" >1.267</td>\n",
       "      <td id=\"T_51330_row8_col3\" class=\"data row8 col3\" >0.546</td>\n",
       "      <td id=\"T_51330_row8_col4\" class=\"data row8 col4\" >-0.108</td>\n",
       "      <td id=\"T_51330_row8_col5\" class=\"data row8 col5\" >-0.475</td>\n",
       "      <td id=\"T_51330_row8_col6\" class=\"data row8 col6\" >-0.031</td>\n",
       "      <td id=\"T_51330_row8_col7\" class=\"data row8 col7\" >0.995</td>\n",
       "    </tr>\n",
       "  </tbody>\n",
       "</table>\n"
      ],
      "text/plain": [
       "<pandas.io.formats.style.Styler at 0x7f4e77eb42b0>"
      ]
     },
     "execution_count": 12,
     "metadata": {},
     "output_type": "execute_result"
    }
   ],
   "source": [
    "res_ols = mod.fit(method=\"ols\", debiased=True, cov_type=\"unadjusted\")\n",
    "params = []\n",
    "r2 = []\n",
    "for label in res.equation_labels:\n",
    "    params.append(res_ols.equations[label].params)\n",
    "    r2.append(res_ols.equations[label].rsquared)\n",
    "params = pd.concat(params, axis=1)\n",
    "params.columns = res.equation_labels\n",
    "params = params.T\n",
    "params[\"R2\"] = r2\n",
    "params.style.format(\"{:0.3f}\")"
   ]
  },
  {
   "cell_type": "markdown",
   "metadata": {},
   "source": [
    "The parameter estimates for one coefficient -- unemployment -- can be compared across the two estimation methods.  "
   ]
  },
  {
   "cell_type": "code",
   "execution_count": 13,
   "metadata": {
    "execution": {
     "iopub.execute_input": "2024-05-15T09:29:49.243768Z",
     "iopub.status.busy": "2024-05-15T09:29:49.243386Z",
     "iopub.status.idle": "2024-05-15T09:29:49.269080Z",
     "shell.execute_reply": "2024-05-15T09:29:49.268130Z"
    }
   },
   "outputs": [
    {
     "data": {
      "text/html": [
       "<div>\n",
       "<style scoped>\n",
       "    .dataframe tbody tr th:only-of-type {\n",
       "        vertical-align: middle;\n",
       "    }\n",
       "\n",
       "    .dataframe tbody tr th {\n",
       "        vertical-align: top;\n",
       "    }\n",
       "\n",
       "    .dataframe thead th {\n",
       "        text-align: right;\n",
       "    }\n",
       "</style>\n",
       "<table border=\"1\" class=\"dataframe\">\n",
       "  <thead>\n",
       "    <tr style=\"text-align: right;\">\n",
       "      <th></th>\n",
       "      <th>OLS</th>\n",
       "      <th>OLS se</th>\n",
       "      <th>GLS</th>\n",
       "      <th>GLS se</th>\n",
       "    </tr>\n",
       "  </thead>\n",
       "  <tbody>\n",
       "    <tr>\n",
       "      <th>GF</th>\n",
       "      <td>0.002124</td>\n",
       "      <td>0.301235</td>\n",
       "      <td>-0.200966</td>\n",
       "      <td>0.142355</td>\n",
       "    </tr>\n",
       "    <tr>\n",
       "      <th>SW</th>\n",
       "      <td>0.163546</td>\n",
       "      <td>0.165995</td>\n",
       "      <td>0.076637</td>\n",
       "      <td>0.085831</td>\n",
       "    </tr>\n",
       "    <tr>\n",
       "      <th>WC</th>\n",
       "      <td>0.294855</td>\n",
       "      <td>0.205417</td>\n",
       "      <td>0.169950</td>\n",
       "      <td>0.091865</td>\n",
       "    </tr>\n",
       "    <tr>\n",
       "      <th>MT</th>\n",
       "      <td>-0.152601</td>\n",
       "      <td>0.084031</td>\n",
       "      <td>-0.114834</td>\n",
       "      <td>0.048489</td>\n",
       "    </tr>\n",
       "    <tr>\n",
       "      <th>NE</th>\n",
       "      <td>-0.020407</td>\n",
       "      <td>0.285621</td>\n",
       "      <td>0.118316</td>\n",
       "      <td>0.131329</td>\n",
       "    </tr>\n",
       "    <tr>\n",
       "      <th>MA</th>\n",
       "      <td>-0.377570</td>\n",
       "      <td>0.167307</td>\n",
       "      <td>-0.310861</td>\n",
       "      <td>0.080893</td>\n",
       "    </tr>\n",
       "    <tr>\n",
       "      <th>SO</th>\n",
       "      <td>0.042818</td>\n",
       "      <td>0.279472</td>\n",
       "      <td>-0.063212</td>\n",
       "      <td>0.104344</td>\n",
       "    </tr>\n",
       "    <tr>\n",
       "      <th>MW</th>\n",
       "      <td>0.233403</td>\n",
       "      <td>0.206248</td>\n",
       "      <td>0.095886</td>\n",
       "      <td>0.101564</td>\n",
       "    </tr>\n",
       "    <tr>\n",
       "      <th>CN</th>\n",
       "      <td>0.385885</td>\n",
       "      <td>0.211083</td>\n",
       "      <td>0.294570</td>\n",
       "      <td>0.090104</td>\n",
       "    </tr>\n",
       "  </tbody>\n",
       "</table>\n",
       "</div>"
      ],
      "text/plain": [
       "         OLS    OLS se       GLS    GLS se\n",
       "GF  0.002124  0.301235 -0.200966  0.142355\n",
       "SW  0.163546  0.165995  0.076637  0.085831\n",
       "WC  0.294855  0.205417  0.169950  0.091865\n",
       "MT -0.152601  0.084031 -0.114834  0.048489\n",
       "NE -0.020407  0.285621  0.118316  0.131329\n",
       "MA -0.377570  0.167307 -0.310861  0.080893\n",
       "SO  0.042818  0.279472 -0.063212  0.104344\n",
       "MW  0.233403  0.206248  0.095886  0.101564\n",
       "CN  0.385885  0.211083  0.294570  0.090104"
      ]
     },
     "execution_count": 13,
     "metadata": {},
     "output_type": "execute_result"
    }
   ],
   "source": [
    "params = pd.concat(\n",
    "    [\n",
    "        res_ols.params.iloc[1::7],\n",
    "        res_ols.std_errors.iloc[1::7],\n",
    "        res.params.iloc[1::7],\n",
    "        res.std_errors.iloc[1::7],\n",
    "    ],\n",
    "    axis=1,\n",
    ")\n",
    "params.columns = [\"OLS\", \"OLS se\", \"GLS\", \"GLS se\"]\n",
    "params.index = regions\n",
    "params"
   ]
  },
  {
   "cell_type": "markdown",
   "metadata": {},
   "source": [
    "The parameters and their standard errors match those reported in Greene."
   ]
  },
  {
   "cell_type": "code",
   "execution_count": 14,
   "metadata": {
    "execution": {
     "iopub.execute_input": "2024-05-15T09:29:49.273323Z",
     "iopub.status.busy": "2024-05-15T09:29:49.272970Z",
     "iopub.status.idle": "2024-05-15T09:29:49.280503Z",
     "shell.execute_reply": "2024-05-15T09:29:49.278871Z"
    }
   },
   "outputs": [
    {
     "data": {
      "image/png": "[encoded data removed]"
     },
     "metadata": {},
     "output_type": "display_data"
    }
   ],
   "source": [
    "display_png(Image(\"system_correct-greene-table-10-3.png\"))"
   ]
  },
  {
   "cell_type": "markdown",
   "metadata": {},
   "source": [
    "## Estimation Options"
   ]
  },
  {
   "cell_type": "markdown",
   "metadata": {},
   "source": [
    "### Iterative GLS\n",
    "These next examples use data on fringe benefits from F. Vella (1993), \"A Simple Estimator for Simultaneous Models with Censored\n",
    "Endogenous Regressors\" which appears in Wooldridge (2002).  The model consists of two equations, one for hourly wage and the other for hourly benefits.  The initial model uses the same regressors in both equations. "
   ]
  },
  {
   "cell_type": "code",
   "execution_count": 15,
   "metadata": {
    "execution": {
     "iopub.execute_input": "2024-05-15T09:29:49.284295Z",
     "iopub.status.busy": "2024-05-15T09:29:49.283963Z",
     "iopub.status.idle": "2024-05-15T09:29:49.311402Z",
     "shell.execute_reply": "2024-05-15T09:29:49.310422Z"
    }
   },
   "outputs": [
    {
     "name": "stdout",
     "output_type": "stream",
     "text": [
      "\n",
      "F. Vella (1993), \"A Simple Estimator for Simultaneous Models with Censored\n",
      "Endogenous Regressors,\" International Economic Review 34, 441-457.\n",
      "\n",
      "annearn                  annual earnings, $\n",
      "hrearn                   hourly earnings, $\n",
      "exper                    years work experience\n",
      "age                      age in years\n",
      "depends                  number of dependents\n",
      "married                  =1 if married\n",
      "tenure                   years with current employer\n",
      "educ                     years schooling\n",
      "nrtheast                 =1 if live in northeast\n",
      "nrthcen                  =1 if live in north central\n",
      "south                    =1 if live in south\n",
      "male                     =1 if male\n",
      "white                    =1 if white\n",
      "union                    =1 if union member\n",
      "office                   =1 if office worker\n",
      "annhrs                   annual hours worked\n",
      "ind1                     =1 if industry == 1\n",
      "ind2                     =1 if industry == 2\n",
      "ind3                     =1 if industry == 3\n",
      "ind4                     =1 if industry == 4\n",
      "ind5                     =1 if industry == 5\n",
      "ind6                     =1 if industry == 6\n",
      "ind7                     =1 if industry == 7\n",
      "ind8                     =1 if industry == 8\n",
      "ind9                     =1 if industry == 9\n",
      "vacdays                  $ value of vac days\n",
      "sicklve                  $ value of sick leave\n",
      "insur                    $ value of employee insur\n",
      "pension                  $ value of employee pension\n",
      "annbens                  vacdays+sicklve+insur+pension\n",
      "hrbens                   hourly benefits, $\n",
      "annhrssq                 annhrs^2\n",
      "beratio                  annbens/annearn\n",
      "lannhrs                  log(annhrs)\n",
      "tenuresq                 tenure^2\n",
      "expersq                  exper^2\n",
      "lannearn                 log(annearn)\n",
      "peratio                  pension/annearn\n",
      "vserat                   (vacdays+sicklve)/annearn\n",
      "\n"
     ]
    }
   ],
   "source": [
    "from linearmodels.datasets import fringe\n",
    "\n",
    "print(fringe.DESCR)\n",
    "fdata = fringe.load()"
   ]
  },
  {
   "cell_type": "markdown",
   "metadata": {},
   "source": [
    "The estimated model is reported as \"System OLS Estimation\" since when all regressors are identical, OLS is used since GLS brings no efficiency gains.  OLS will be used when the data structure containing the exogenous regressors in each equations is the same (i.e., `id(exog)` is the same for all equations)."
   ]
  },
  {
   "cell_type": "code",
   "execution_count": 16,
   "metadata": {
    "execution": {
     "iopub.execute_input": "2024-05-15T09:29:49.315710Z",
     "iopub.status.busy": "2024-05-15T09:29:49.315341Z",
     "iopub.status.idle": "2024-05-15T09:29:49.375517Z",
     "shell.execute_reply": "2024-05-15T09:29:49.374783Z"
    }
   },
   "outputs": [
    {
     "name": "stdout",
     "output_type": "stream",
     "text": [
      "                           System OLS Estimation Summary                           \n",
      "===================================================================================\n",
      "Estimator:                        OLS   Overall R-squared:                   0.2087\n",
      "No. Equations.:                     2   McElroy's R-squared:                 0.2926\n",
      "No. Observations:                 616   Judge's (OLS) R-squared:             0.2087\n",
      "Date:                Wed, May 15 2024   Berndt's R-squared:                  0.4822\n",
      "Time:                        09:29:49   Dhrymes's R-squared:                 0.2087\n",
      "                                        Cov. Estimator:                  unadjusted\n",
      "                                        Num. Constraints:                      None\n",
      "                 Equation: hrearn, Dependent Variable: hrearn                 \n",
      "==============================================================================\n",
      "            Parameter  Std. Err.     T-stat    P-value    Lower CI    Upper CI\n",
      "------------------------------------------------------------------------------\n",
      "const         -2.6321     1.2153    -2.1658     0.0303     -5.0141     -0.2502\n",
      "educ           0.4588     0.0684     6.7085     0.0000      0.3248      0.5929\n",
      "exper         -0.0758     0.0567    -1.3367     0.1813     -0.1870      0.0354\n",
      "expersq        0.0040     0.0012     3.4274     0.0006      0.0017      0.0063\n",
      "tenure         0.1101     0.0829     1.3276     0.1843     -0.0524      0.2726\n",
      "tenuresq      -0.0051     0.0032    -1.5640     0.1178     -0.0114      0.0013\n",
      "union          0.8080     0.4035     2.0026     0.0452      0.0172      1.5988\n",
      "south         -0.4566     0.5459    -0.8365     0.4029     -1.5265      0.6132\n",
      "nrtheast      -1.1508     0.5993    -1.9201     0.0548     -2.3254      0.0239\n",
      "nrthcen       -0.6363     0.5501    -1.1565     0.2475     -1.7145      0.4420\n",
      "married        0.6424     0.4134     1.5540     0.1202     -0.1678      1.4526\n",
      "white          1.1409     0.6054     1.8844     0.0595     -0.0458      2.3275\n",
      "male           1.7847     0.3938     4.5322     0.0000      1.0129      2.5565\n",
      "                 Equation: hrbens, Dependent Variable: hrbens                 \n",
      "==============================================================================\n",
      "            Parameter  Std. Err.     T-stat    P-value    Lower CI    Upper CI\n",
      "------------------------------------------------------------------------------\n",
      "const         -0.8897     0.1453    -6.1225     0.0000     -1.1746     -0.6049\n",
      "educ           0.0768     0.0082     9.3896     0.0000      0.0608      0.0928\n",
      "exper          0.0226     0.0068     3.3259     0.0009      0.0093      0.0359\n",
      "expersq       -0.0005     0.0001    -3.3965     0.0007     -0.0007     -0.0002\n",
      "tenure         0.0536     0.0099     5.4011     0.0000      0.0341      0.0730\n",
      "tenuresq      -0.0012     0.0004    -3.0014     0.0027     -0.0019     -0.0004\n",
      "union          0.3659     0.0482     7.5839     0.0000      0.2713      0.4605\n",
      "south         -0.0227     0.0653    -0.3476     0.7282     -0.1506      0.1052\n",
      "nrtheast      -0.0567     0.0717    -0.7918     0.4285     -0.1972      0.0837\n",
      "nrthcen       -0.0380     0.0658    -0.5776     0.5635     -0.1669      0.0909\n",
      "married        0.0579     0.0494     1.1706     0.2418     -0.0390      0.1547\n",
      "white          0.0902     0.0724     1.2453     0.2130     -0.0517      0.2321\n",
      "male           0.2683     0.0471     5.6985     0.0000      0.1760      0.3606\n",
      "==============================================================================\n",
      "\n",
      "Covariance Estimator:\n",
      "Homoskedastic (Unadjusted) Covariance (Debiased: False, GLS: False)\n"
     ]
    }
   ],
   "source": [
    "exog = sm.add_constant(\n",
    "    fdata[\n",
    "        [\n",
    "            \"educ\",\n",
    "            \"exper\",\n",
    "            \"expersq\",\n",
    "            \"tenure\",\n",
    "            \"tenuresq\",\n",
    "            \"union\",\n",
    "            \"south\",\n",
    "            \"nrtheast\",\n",
    "            \"nrthcen\",\n",
    "            \"married\",\n",
    "            \"white\",\n",
    "            \"male\",\n",
    "        ]\n",
    "    ]\n",
    ")\n",
    "fmod_data = OrderedDict()\n",
    "fmod_data[\"hrearn\"] = {\"dependent\": fdata.hrearn, \"exog\": exog}\n",
    "fmod_data[\"hrbens\"] = {\"dependent\": fdata.hrbens, \"exog\": exog}\n",
    "fmod = SUR(fmod_data)\n",
    "print(fmod.fit(cov_type=\"unadjusted\"))"
   ]
  },
  {
   "cell_type": "markdown",
   "metadata": {},
   "source": [
    "The estimator can be forced to use GLS by setting `method=\"gls\"`.  As can be seen below, the parameter estimates and standard errors do not change even though two-stage GLS is used.  The $R^2$ **does change** since the left-hand side variable is transformed by the GLS weighting before estimation. "
   ]
  },
  {
   "cell_type": "code",
   "execution_count": 17,
   "metadata": {
    "execution": {
     "iopub.execute_input": "2024-05-15T09:29:49.379517Z",
     "iopub.status.busy": "2024-05-15T09:29:49.379225Z",
     "iopub.status.idle": "2024-05-15T09:29:49.465455Z",
     "shell.execute_reply": "2024-05-15T09:29:49.464723Z"
    }
   },
   "outputs": [
    {
     "name": "stdout",
     "output_type": "stream",
     "text": [
      "                           System GLS Estimation Summary                           \n",
      "===================================================================================\n",
      "Estimator:                        GLS   Overall R-squared:                   0.2087\n",
      "No. Equations.:                     2   McElroy's R-squared:                 0.2926\n",
      "No. Observations:                 616   Judge's (OLS) R-squared:             0.2087\n",
      "Date:                Wed, May 15 2024   Berndt's R-squared:                  0.4822\n",
      "Time:                        09:29:49   Dhrymes's R-squared:                 0.2087\n",
      "                                        Cov. Estimator:                  unadjusted\n",
      "                                        Num. Constraints:                      None\n",
      "                 Equation: hrearn, Dependent Variable: hrearn                 \n",
      "==============================================================================\n",
      "            Parameter  Std. Err.     T-stat    P-value    Lower CI    Upper CI\n",
      "------------------------------------------------------------------------------\n",
      "const         -2.6321     1.2153    -2.1658     0.0303     -5.0141     -0.2502\n",
      "educ           0.4588     0.0684     6.7085     0.0000      0.3248      0.5929\n",
      "exper         -0.0758     0.0567    -1.3367     0.1813     -0.1870      0.0354\n",
      "expersq        0.0040     0.0012     3.4274     0.0006      0.0017      0.0063\n",
      "tenure         0.1101     0.0829     1.3276     0.1843     -0.0524      0.2726\n",
      "tenuresq      -0.0051     0.0032    -1.5640     0.1178     -0.0114      0.0013\n",
      "union          0.8080     0.4035     2.0026     0.0452      0.0172      1.5988\n",
      "south         -0.4566     0.5459    -0.8365     0.4029     -1.5265      0.6132\n",
      "nrtheast      -1.1508     0.5993    -1.9201     0.0548     -2.3254      0.0239\n",
      "nrthcen       -0.6363     0.5501    -1.1565     0.2475     -1.7145      0.4420\n",
      "married        0.6424     0.4134     1.5540     0.1202     -0.1678      1.4526\n",
      "white          1.1409     0.6054     1.8844     0.0595     -0.0458      2.3275\n",
      "male           1.7847     0.3938     4.5322     0.0000      1.0129      2.5565\n",
      "                 Equation: hrbens, Dependent Variable: hrbens                 \n",
      "==============================================================================\n",
      "            Parameter  Std. Err.     T-stat    P-value    Lower CI    Upper CI\n",
      "------------------------------------------------------------------------------\n",
      "const         -0.8897     0.1453    -6.1225     0.0000     -1.1746     -0.6049\n",
      "educ           0.0768     0.0082     9.3896     0.0000      0.0608      0.0928\n",
      "exper          0.0226     0.0068     3.3259     0.0009      0.0093      0.0359\n",
      "expersq       -0.0005     0.0001    -3.3965     0.0007     -0.0007     -0.0002\n",
      "tenure         0.0536     0.0099     5.4011     0.0000      0.0341      0.0730\n",
      "tenuresq      -0.0012     0.0004    -3.0014     0.0027     -0.0019     -0.0004\n",
      "union          0.3659     0.0482     7.5839     0.0000      0.2713      0.4605\n",
      "south         -0.0227     0.0653    -0.3476     0.7282     -0.1506      0.1052\n",
      "nrtheast      -0.0567     0.0717    -0.7918     0.4285     -0.1972      0.0837\n",
      "nrthcen       -0.0380     0.0658    -0.5776     0.5635     -0.1669      0.0909\n",
      "married        0.0579     0.0494     1.1706     0.2418     -0.0390      0.1547\n",
      "white          0.0902     0.0724     1.2453     0.2130     -0.0517      0.2321\n",
      "male           0.2683     0.0471     5.6985     0.0000      0.1760      0.3606\n",
      "==============================================================================\n",
      "\n",
      "Covariance Estimator:\n",
      "Homoskedastic (Unadjusted) Covariance (Debiased: False, GLS: True)\n"
     ]
    }
   ],
   "source": [
    "print(fmod.fit(method=\"gls\", cov_type=\"unadjusted\"))"
   ]
  },
  {
   "cell_type": "markdown",
   "metadata": {},
   "source": [
    "The regressors must differ in order to see gains to GLS.  Here insignificant variables are dropped from each equation so that the regressors will no longer be identical. The typical standard error is marginally smaller, although this might be due to dropping regressors. "
   ]
  },
  {
   "cell_type": "code",
   "execution_count": 18,
   "metadata": {
    "execution": {
     "iopub.execute_input": "2024-05-15T09:29:49.469246Z",
     "iopub.status.busy": "2024-05-15T09:29:49.468971Z",
     "iopub.status.idle": "2024-05-15T09:29:49.569474Z",
     "shell.execute_reply": "2024-05-15T09:29:49.568721Z"
    }
   },
   "outputs": [
    {
     "name": "stdout",
     "output_type": "stream",
     "text": [
      "                           System GLS Estimation Summary                           \n",
      "===================================================================================\n",
      "Estimator:                        GLS   Overall R-squared:                   0.1685\n",
      "No. Equations.:                     2   McElroy's R-squared:                 0.2762\n",
      "No. Observations:                 616   Judge's (OLS) R-squared:             0.1685\n",
      "Date:                Wed, May 15 2024   Berndt's R-squared:                  0.4504\n",
      "Time:                        09:29:49   Dhrymes's R-squared:                 0.1685\n",
      "                                        Cov. Estimator:                  unadjusted\n",
      "                                        Num. Constraints:                      None\n",
      "                 Equation: hrearn, Dependent Variable: hrearn                 \n",
      "==============================================================================\n",
      "            Parameter  Std. Err.     T-stat    P-value    Lower CI    Upper CI\n",
      "------------------------------------------------------------------------------\n",
      "const         -2.5240     1.0857    -2.3246     0.0201     -4.6520     -0.3959\n",
      "educ           0.5000     0.0685     7.2987     0.0000      0.3657      0.6342\n",
      "exper         -0.0212     0.0522    -0.4058     0.6849     -0.1234      0.0811\n",
      "expersq        0.0032     0.0011     2.8776     0.0040      0.0010      0.0055\n",
      "union          1.1043     0.3928     2.8116     0.0049      0.3345      1.8741\n",
      "nrtheast      -0.5343     0.4305    -1.2411     0.2146     -1.3780      0.3095\n",
      "white          1.1320     0.5845     1.9368     0.0528     -0.0136      2.2776\n",
      "                 Equation: hrbens, Dependent Variable: hrbens                 \n",
      "==============================================================================\n",
      "            Parameter  Std. Err.     T-stat    P-value    Lower CI    Upper CI\n",
      "------------------------------------------------------------------------------\n",
      "const         -0.8231     0.1176    -7.0021     0.0000     -1.0535     -0.5927\n",
      "educ           0.0791     0.0080     9.8927     0.0000      0.0634      0.0948\n",
      "exper          0.0260     0.0066     3.9114     0.0001      0.0130      0.0390\n",
      "expersq       -0.0005     0.0001    -3.8469     0.0001     -0.0008     -0.0003\n",
      "tenure         0.0494     0.0094     5.2409     0.0000      0.0309      0.0679\n",
      "tenuresq      -0.0010     0.0004    -2.6275     0.0086     -0.0017     -0.0002\n",
      "union          0.3766     0.0475     7.9259     0.0000      0.2835      0.4698\n",
      "male           0.2141     0.0433     4.9413     0.0000      0.1292      0.2990\n",
      "==============================================================================\n",
      "\n",
      "Covariance Estimator:\n",
      "Homoskedastic (Unadjusted) Covariance (Debiased: False, GLS: True)\n"
     ]
    }
   ],
   "source": [
    "exog_earn = sm.add_constant(\n",
    "    fdata[[\"educ\", \"exper\", \"expersq\", \"union\", \"nrtheast\", \"white\"]]\n",
    ")\n",
    "exog_bens = sm.add_constant(\n",
    "    fdata[[\"educ\", \"exper\", \"expersq\", \"tenure\", \"tenuresq\", \"union\", \"male\"]]\n",
    ")\n",
    "fmod_data[\"hrearn\"] = {\"dependent\": fdata.hrearn, \"exog\": exog_earn}\n",
    "fmod_data[\"hrbens\"] = {\"dependent\": fdata.hrbens, \"exog\": exog_bens}\n",
    "fmod = SUR(fmod_data)\n",
    "print(fmod.fit(cov_type=\"unadjusted\"))"
   ]
  },
  {
   "cell_type": "markdown",
   "metadata": {},
   "source": [
    "The standard method to estimate models uses two steps.  The first uses OLS to estimate the parameters so that the residual covariance can be estimated.  The second stage uses the estimated covariance to estimate the model via GLS.  Iterative GLS can be used to continue these iterations using the most recent step to estimate the residual covariance and then re-estimating the parameters using GLS.  This option can be used by setting `iterate=True`."
   ]
  },
  {
   "cell_type": "code",
   "execution_count": 19,
   "metadata": {
    "execution": {
     "iopub.execute_input": "2024-05-15T09:29:49.574340Z",
     "iopub.status.busy": "2024-05-15T09:29:49.573148Z",
     "iopub.status.idle": "2024-05-15T09:29:49.633609Z",
     "shell.execute_reply": "2024-05-15T09:29:49.632797Z"
    }
   },
   "outputs": [
    {
     "name": "stdout",
     "output_type": "stream",
     "text": [
      "                      System Iterative GLS Estimation Summary                      \n",
      "===================================================================================\n",
      "Estimator:              Iterative GLS   Overall R-squared:                   0.1685\n",
      "No. Equations.:                     2   McElroy's R-squared:                 0.2749\n",
      "No. Observations:                 616   Judge's (OLS) R-squared:             0.1685\n",
      "Date:                Wed, May 15 2024   Berndt's R-squared:                  0.4532\n",
      "Time:                        09:29:49   Dhrymes's R-squared:                 0.1685\n",
      "                                        Cov. Estimator:                  unadjusted\n",
      "                                        Num. Constraints:                      None\n",
      "                 Equation: hrearn, Dependent Variable: hrearn                 \n",
      "==============================================================================\n",
      "            Parameter  Std. Err.     T-stat    P-value    Lower CI    Upper CI\n",
      "------------------------------------------------------------------------------\n",
      "const         -2.5147     1.0858    -2.3161     0.0206     -4.6428     -0.3867\n",
      "educ           0.5001     0.0685     7.3004     0.0000      0.3658      0.6344\n",
      "exper         -0.0211     0.0522    -0.4044     0.6859     -0.1233      0.0811\n",
      "expersq        0.0032     0.0011     2.8760     0.0040      0.0010      0.0055\n",
      "union          1.1043     0.3928     2.8115     0.0049      0.3345      1.8741\n",
      "nrtheast      -0.5314     0.4305    -1.2342     0.2171     -1.3752      0.3124\n",
      "white          1.1191     0.5845     1.9145     0.0556     -0.0266      2.2648\n",
      "                 Equation: hrbens, Dependent Variable: hrbens                 \n",
      "==============================================================================\n",
      "            Parameter  Std. Err.     T-stat    P-value    Lower CI    Upper CI\n",
      "------------------------------------------------------------------------------\n",
      "const         -0.8223     0.1176    -6.9947     0.0000     -1.0527     -0.5919\n",
      "educ           0.0792     0.0080     9.9004     0.0000      0.0635      0.0948\n",
      "exper          0.0260     0.0066     3.9213     0.0001      0.0130      0.0390\n",
      "expersq       -0.0005     0.0001    -3.8528     0.0001     -0.0008     -0.0003\n",
      "tenure         0.0492     0.0094     5.2189     0.0000      0.0307      0.0677\n",
      "tenuresq      -0.0010     0.0004    -2.6025     0.0093     -0.0017     -0.0002\n",
      "union          0.3771     0.0475     7.9364     0.0000      0.2840      0.4703\n",
      "male           0.2107     0.0433     4.8627     0.0000      0.1258      0.2956\n",
      "==============================================================================\n",
      "\n",
      "Covariance Estimator:\n",
      "Homoskedastic (Unadjusted) Covariance (Debiased: False, GLS: True)\n"
     ]
    }
   ],
   "source": [
    "fmod_res = fmod.fit(cov_type=\"unadjusted\", iterate=True)\n",
    "print(fmod_res)"
   ]
  },
  {
   "cell_type": "markdown",
   "metadata": {},
   "source": [
    "The number of GLS iterations can be verified using the `iterations` attribute of the results. "
   ]
  },
  {
   "cell_type": "code",
   "execution_count": 20,
   "metadata": {
    "execution": {
     "iopub.execute_input": "2024-05-15T09:29:49.637603Z",
     "iopub.status.busy": "2024-05-15T09:29:49.637291Z",
     "iopub.status.idle": "2024-05-15T09:29:49.644771Z",
     "shell.execute_reply": "2024-05-15T09:29:49.643859Z"
    }
   },
   "outputs": [
    {
     "data": {
      "text/plain": [
       "5"
      ]
     },
     "execution_count": 20,
     "metadata": {},
     "output_type": "execute_result"
    }
   ],
   "source": [
    "fmod_res.iterations"
   ]
  },
  {
   "cell_type": "markdown",
   "metadata": {},
   "source": [
    "### Alternative Covariance Estimators"
   ]
  },
  {
   "cell_type": "markdown",
   "metadata": {},
   "source": [
    "The estimator supports heteroskedasticity robust covariance estimation b setting `cov_type=\"robust\"`.  The estimator allows for arbitrary correlation across series with the same time index but not correlation across time periods, which is the same assumption as in the unadjusted estimator. The main difference is that this estimator will correct standard errors for dependence between regressors (or squared regressors) and squared residuals.\n",
    "\n",
    "#### Heteroskedasticity Robust Covariance Estimation\n",
    "\n",
    "In the fringe benefit model there are some large differences between standard errors computed using the the homoskedastic covariance estimator and the heteroskedasticity robust covariance estimator (e.g., `exper`)."
   ]
  },
  {
   "cell_type": "code",
   "execution_count": 21,
   "metadata": {
    "execution": {
     "iopub.execute_input": "2024-05-15T09:29:49.648278Z",
     "iopub.status.busy": "2024-05-15T09:29:49.648019Z",
     "iopub.status.idle": "2024-05-15T09:29:49.702124Z",
     "shell.execute_reply": "2024-05-15T09:29:49.701218Z"
    }
   },
   "outputs": [
    {
     "name": "stdout",
     "output_type": "stream",
     "text": [
      "                           System GLS Estimation Summary                           \n",
      "===================================================================================\n",
      "Estimator:                        GLS   Overall R-squared:                   0.1685\n",
      "No. Equations.:                     2   McElroy's R-squared:                 0.2762\n",
      "No. Observations:                 616   Judge's (OLS) R-squared:             0.1685\n",
      "Date:                Wed, May 15 2024   Berndt's R-squared:                  0.4504\n",
      "Time:                        09:29:49   Dhrymes's R-squared:                 0.1685\n",
      "                                        Cov. Estimator:                      robust\n",
      "                                        Num. Constraints:                      None\n",
      "                 Equation: hrearn, Dependent Variable: hrearn                 \n",
      "==============================================================================\n",
      "            Parameter  Std. Err.     T-stat    P-value    Lower CI    Upper CI\n",
      "------------------------------------------------------------------------------\n",
      "const         -2.5240     0.8703    -2.9002     0.0037     -4.2297     -0.8183\n",
      "educ           0.5000     0.0809     6.1765     0.0000      0.3413      0.6586\n",
      "exper         -0.0212     0.2270    -0.0932     0.9257     -0.4661      0.4237\n",
      "expersq        0.0032     0.0059     0.5507     0.5819     -0.0083      0.0148\n",
      "union          1.1043     0.2857     3.8647     0.0001      0.5443      1.6644\n",
      "nrtheast      -0.5343     0.5273    -1.0132     0.3110     -1.5678      0.4992\n",
      "white          1.1320     0.4921     2.3002     0.0214      0.1674      2.0966\n",
      "                 Equation: hrbens, Dependent Variable: hrbens                 \n",
      "==============================================================================\n",
      "            Parameter  Std. Err.     T-stat    P-value    Lower CI    Upper CI\n",
      "------------------------------------------------------------------------------\n",
      "const         -0.8231     0.1082    -7.6087     0.0000     -1.0352     -0.6111\n",
      "educ           0.0791     0.0081     9.7768     0.0000      0.0632      0.0949\n",
      "exper          0.0260     0.0059     4.3675     0.0000      0.0143      0.0376\n",
      "expersq       -0.0005     0.0001    -4.2494     0.0000     -0.0008     -0.0003\n",
      "tenure         0.0494     0.0097     5.0775     0.0000      0.0303      0.0685\n",
      "tenuresq      -0.0010     0.0004    -2.4121     0.0159     -0.0018     -0.0002\n",
      "union          0.3766     0.0514     7.3342     0.0000      0.2760      0.4773\n",
      "male           0.2141     0.0397     5.3975     0.0000      0.1363      0.2918\n",
      "==============================================================================\n",
      "\n",
      "Covariance Estimator:\n",
      "Heteroskedastic (Robust) Covariance (Debiased: False, GLS: True)\n"
     ]
    }
   ],
   "source": [
    "fres_het = fmod.fit(cov_type=\"robust\")\n",
    "print(fres_het.summary)"
   ]
  },
  {
   "cell_type": "markdown",
   "metadata": {},
   "source": [
    "Other supported covariance estimators include `\"kernel`\" which implements a HAC and `\"clustered\"` which supports 1 and 2-way clustering. \n",
    "\n",
    "#### Kernel (HAC)\n",
    "\n",
    "The supported kernels are `\"bartlett\"` (Newey-West), `\"parzen\"` (Gallant), and `qs` (Quadratic Spectral, Andrews). This example uses the Parzen kernel. The kernel's bandwidth is computed automatically if the parameter `bandwidth` is not provided."
   ]
  },
  {
   "cell_type": "code",
   "execution_count": 22,
   "metadata": {
    "execution": {
     "iopub.execute_input": "2024-05-15T09:29:49.706011Z",
     "iopub.status.busy": "2024-05-15T09:29:49.705548Z",
     "iopub.status.idle": "2024-05-15T09:29:49.810200Z",
     "shell.execute_reply": "2024-05-15T09:29:49.809422Z"
    }
   },
   "outputs": [
    {
     "name": "stdout",
     "output_type": "stream",
     "text": [
      "                           System GLS Estimation Summary                           \n",
      "===================================================================================\n",
      "Estimator:                        GLS   Overall R-squared:                   0.1685\n",
      "No. Equations.:                     2   McElroy's R-squared:                 0.2762\n",
      "No. Observations:                 616   Judge's (OLS) R-squared:             0.1685\n",
      "Date:                Wed, May 15 2024   Berndt's R-squared:                  0.4504\n",
      "Time:                        09:29:49   Dhrymes's R-squared:                 0.1685\n",
      "                                        Cov. Estimator:                      kernel\n",
      "                                        Num. Constraints:                      None\n",
      "                 Equation: hrearn, Dependent Variable: hrearn                 \n",
      "==============================================================================\n",
      "            Parameter  Std. Err.     T-stat    P-value    Lower CI    Upper CI\n",
      "------------------------------------------------------------------------------\n",
      "const         -2.5240     1.0048    -2.5120     0.0120     -4.4933     -0.5547\n",
      "educ           0.5000     0.0973     5.1391     0.0000      0.3093      0.6907\n",
      "exper         -0.0212     0.2287    -0.0925     0.9263     -0.4694      0.4270\n",
      "expersq        0.0032     0.0059     0.5486     0.5833     -0.0084      0.0148\n",
      "union          1.1043     0.2637     4.1882     0.0000      0.5875      1.6211\n",
      "nrtheast      -0.5343     0.4800    -1.1131     0.2657     -1.4750      0.4065\n",
      "white          1.1320     0.4813     2.3520     0.0187      0.1887      2.0753\n",
      "                 Equation: hrbens, Dependent Variable: hrbens                 \n",
      "==============================================================================\n",
      "            Parameter  Std. Err.     T-stat    P-value    Lower CI    Upper CI\n",
      "------------------------------------------------------------------------------\n",
      "const         -0.8231     0.1344    -6.1228     0.0000     -1.0866     -0.5596\n",
      "educ           0.0791     0.0095     8.3675     0.0000      0.0606      0.0976\n",
      "exper          0.0260     0.0064     4.0357     0.0001      0.0134      0.0386\n",
      "expersq       -0.0005     0.0001    -3.9026     0.0001     -0.0008     -0.0003\n",
      "tenure         0.0494     0.0090     5.5160     0.0000      0.0318      0.0669\n",
      "tenuresq      -0.0010     0.0003    -2.9161     0.0035     -0.0016     -0.0003\n",
      "union          0.3766     0.0705     5.3407     0.0000      0.2384      0.5148\n",
      "male           0.2141     0.0577     3.7117     0.0002      0.1010      0.3271\n",
      "==============================================================================\n",
      "\n",
      "Covariance Estimator:\n",
      "Kernel (HAC) Covariance (Debiased: False, GLS: True, Kernel: parzen)\n"
     ]
    }
   ],
   "source": [
    "hac_res = fmod.fit(cov_type=\"kernel\", kernel=\"parzen\")\n",
    "print(hac_res.summary)"
   ]
  },
  {
   "cell_type": "markdown",
   "metadata": {},
   "source": [
    "#### Clustered (Rogers)\n",
    "\n",
    "The clustered covariance estimator requires the clusters to be entered as a NumPy array with shape  `(nobs, 1)` or `(nobs, 2)`. This example uses random clusters to illustrate the structure of the group id variable."
   ]
  },
  {
   "cell_type": "code",
   "execution_count": 23,
   "metadata": {
    "execution": {
     "iopub.execute_input": "2024-05-15T09:29:49.814142Z",
     "iopub.status.busy": "2024-05-15T09:29:49.813486Z",
     "iopub.status.idle": "2024-05-15T09:29:49.905398Z",
     "shell.execute_reply": "2024-05-15T09:29:49.904571Z"
    }
   },
   "outputs": [
    {
     "name": "stdout",
     "output_type": "stream",
     "text": [
      "                           System GLS Estimation Summary                           \n",
      "===================================================================================\n",
      "Estimator:                        GLS   Overall R-squared:                   0.1685\n",
      "No. Equations.:                     2   McElroy's R-squared:                 0.2762\n",
      "No. Observations:                 616   Judge's (OLS) R-squared:             0.1685\n",
      "Date:                Wed, May 15 2024   Berndt's R-squared:                  0.4504\n",
      "Time:                        09:29:49   Dhrymes's R-squared:                 0.1685\n",
      "                                        Cov. Estimator:                   clustered\n",
      "                                        Num. Constraints:                      None\n",
      "                 Equation: hrearn, Dependent Variable: hrearn                 \n",
      "==============================================================================\n",
      "            Parameter  Std. Err.     T-stat    P-value    Lower CI    Upper CI\n",
      "------------------------------------------------------------------------------\n",
      "const         -2.5240     0.8501    -2.9692     0.0030     -4.1901     -0.8579\n",
      "educ           0.5000     0.0804     6.2174     0.0000      0.3424      0.6576\n",
      "exper         -0.0212     0.2285    -0.0926     0.9262     -0.4690      0.4267\n",
      "expersq        0.0032     0.0059     0.5479     0.5837     -0.0084      0.0149\n",
      "union          1.1043     0.2696     4.0963     0.0000      0.5759      1.6327\n",
      "nrtheast      -0.5343     0.5181    -1.0312     0.3024     -1.5497      0.4812\n",
      "white          1.1320     0.4701     2.4083     0.0160      0.2107      2.0533\n",
      "                 Equation: hrbens, Dependent Variable: hrbens                 \n",
      "==============================================================================\n",
      "            Parameter  Std. Err.     T-stat    P-value    Lower CI    Upper CI\n",
      "------------------------------------------------------------------------------\n",
      "const         -0.8231     0.1077    -7.6435     0.0000     -1.0342     -0.6121\n",
      "educ           0.0791     0.0080     9.8547     0.0000      0.0634      0.0948\n",
      "exper          0.0260     0.0059     4.4288     0.0000      0.0145      0.0375\n",
      "expersq       -0.0005     0.0001    -4.6793     0.0000     -0.0007     -0.0003\n",
      "tenure         0.0494     0.0105     4.7036     0.0000      0.0288      0.0700\n",
      "tenuresq      -0.0010     0.0004    -2.2777     0.0227     -0.0018     -0.0001\n",
      "union          0.3766     0.0525     7.1717     0.0000      0.2737      0.4795\n",
      "male           0.2141     0.0317     6.7496     0.0000      0.1519      0.2762\n",
      "==============================================================================\n",
      "\n",
      "Covariance Estimator:\n",
      "Heteroskedastic (Robust) Covariance (Debiased: False, GLS: True, Number of Grouping Variables: 1, Number of Groups: 51 (Variable 0), Group Debias: False)"
     ]
    },
    {
     "name": "stdout",
     "output_type": "stream",
     "text": [
      "\n"
     ]
    }
   ],
   "source": [
    "rs = np.random.RandomState([983476381, 28390328, 23829810])\n",
    "random_clusters = rs.randint(0, 51, size=(616, 1))\n",
    "clustered_res = fmod.fit(cov_type=\"clustered\", clusters=random_clusters)\n",
    "print(clustered_res.summary)"
   ]
  },
  {
   "cell_type": "markdown",
   "metadata": {},
   "source": [
    "## Prespecified Residual Covariance Estimators"
   ]
  },
  {
   "cell_type": "markdown",
   "metadata": {},
   "source": [
    "The GLS estimator can be used with a user specified covariance.  This example uses a covariance where all correlations are identical (equicorrelation) in the state GDP model.  The estimator must be used when constructing the model through the `sigma` keyword argument."
   ]
  },
  {
   "cell_type": "code",
   "execution_count": 24,
   "metadata": {
    "execution": {
     "iopub.execute_input": "2024-05-15T09:29:49.909098Z",
     "iopub.status.busy": "2024-05-15T09:29:49.908743Z",
     "iopub.status.idle": "2024-05-15T09:29:50.256172Z",
     "shell.execute_reply": "2024-05-15T09:29:50.255308Z"
    }
   },
   "outputs": [
    {
     "name": "stdout",
     "output_type": "stream",
     "text": [
      "                            GLS Estimation Summary                            \n",
      "==============================================================================\n",
      "Eq. Label:                         GF   R-squared:                      0.9966\n",
      "Dep. Variable:                  lnGSP   Adj. R-squared:                 0.9945\n",
      "Estimator:                        GLS   Cov. Estimator:             unadjusted\n",
      "No. Observations:                  17   F-statistic:                    549.95\n",
      "Date:                Wed, May 15 2024   P-value (F-stat)                0.0000\n",
      "Time:                        09:29:50   Distribution:                  F(6,90)\n",
      "                                                                              \n",
      "                             Parameter Estimates                              \n",
      "==============================================================================\n",
      "            Parameter  Std. Err.     T-stat    P-value    Lower CI    Upper CI\n",
      "------------------------------------------------------------------------------\n",
      "Intercept      7.9753     4.3819     1.8200     0.0988     -1.7883      17.739\n",
      "lnPC           0.1011     0.2727     0.3708     0.7185     -0.5065      0.7087\n",
      "lnHWY         -0.9882     1.0313    -0.9582     0.3606     -3.2862      1.3098\n",
      "lnWATER        0.0791     0.1134     0.6971     0.5016     -0.1736      0.3318\n",
      "lnUTIL         0.5160     0.7720     0.6685     0.5190     -1.2040      2.2361\n",
      "lnEMP          0.8494     0.1426     5.9557     0.0001      0.5316      1.1671\n",
      "UNEMP         -0.0057     0.0034    -1.6466     0.1307     -0.0134      0.0020\n",
      "                                                                              \n",
      "==============================================================================\n",
      "\n",
      "Covariance Estimator:\n",
      "Homoskedastic (Unadjusted) Covariance (Debiased: True, GLS: True)\n"
     ]
    }
   ],
   "source": [
    "avg_corr = (corr - np.eye(9)).mean().mean() * (81 / 72)\n",
    "rho = np.ones((9, 9)) * avg_corr + (1 - avg_corr) * np.eye(9)\n",
    "sigma_pre = rho * (std @ std.T)\n",
    "\n",
    "mod_pre_sigma = SUR(mod_data, sigma=sigma_pre)\n",
    "res_pre = mod_pre_sigma.fit(cov_type=\"unadjusted\", debiased=True)\n",
    "print(res_pre.equations[\"GF\"])"
   ]
  },
  {
   "cell_type": "markdown",
   "metadata": {},
   "source": [
    "### Diagonal Residual Covariance\n",
    "\n",
    "The default assumption is that there can be arbitrary correlation between series.  The model can be estimated assuming no correlation but different variance by setting the keyword argument `full_cov=False` in the `fit` method.  This is only useful when there are cross-equation parameter restrictions."
   ]
  },
  {
   "cell_type": "markdown",
   "metadata": {},
   "source": [
    "## Cross-Equation Restrictions\n",
    "\n",
    "One of the more useful features of using a SUR to estimate a system is the ability to impose constraints on parameters across equations.  Here only linear constraints of the form \n",
    "\n",
    "$$ r \\beta = q $$\n",
    "\n",
    "are supported.  Linear constraints are entered by passing a `DataFrame` with the shape number of constraints by  number of parameters.  The number and name of parameters can be seen by inspecting the `param_names` attribute of a model.  Below are the parameter names from the state GDP model which consist of the equation label, an underscore, and the variable name. This ensures uniqueness.  "
   ]
  },
  {
   "cell_type": "code",
   "execution_count": 25,
   "metadata": {
    "execution": {
     "iopub.execute_input": "2024-05-15T09:29:50.260350Z",
     "iopub.status.busy": "2024-05-15T09:29:50.259810Z",
     "iopub.status.idle": "2024-05-15T09:29:50.268454Z",
     "shell.execute_reply": "2024-05-15T09:29:50.266969Z"
    }
   },
   "outputs": [
    {
     "data": {
      "text/plain": [
       "['GF_Intercept',\n",
       " 'GF_lnPC',\n",
       " 'GF_lnHWY',\n",
       " 'GF_lnWATER',\n",
       " 'GF_lnUTIL',\n",
       " 'GF_lnEMP',\n",
       " 'GF_UNEMP',\n",
       " 'SW_Intercept',\n",
       " 'SW_lnPC',\n",
       " 'SW_lnHWY',\n",
       " 'SW_lnWATER',\n",
       " 'SW_lnUTIL',\n",
       " 'SW_lnEMP',\n",
       " 'SW_UNEMP']"
      ]
     },
     "execution_count": 25,
     "metadata": {},
     "output_type": "execute_result"
    }
   ],
   "source": [
    "mod.param_names[:14]"
   ]
  },
  {
   "cell_type": "markdown",
   "metadata": {},
   "source": [
    "The example of a parameter constraint will enforce a common value of the coefficient of unemployment in all equations.  This restriction takes the form\n",
    "\n",
    "$$ \\beta_{unemp,i} - \\beta_{unemp,j} = 0$$\n",
    "\n",
    "where in all examples i is the first series and j is one of the 8 others.  In total there are 8 restrictions.  \n",
    "\n",
    "The construction of the restriction array and the non-zero columns are shown below."
   ]
  },
  {
   "cell_type": "code",
   "execution_count": 26,
   "metadata": {
    "execution": {
     "iopub.execute_input": "2024-05-15T09:29:50.272368Z",
     "iopub.status.busy": "2024-05-15T09:29:50.272002Z",
     "iopub.status.idle": "2024-05-15T09:29:50.307942Z",
     "shell.execute_reply": "2024-05-15T09:29:50.306785Z"
    }
   },
   "outputs": [
    {
     "name": "stdout",
     "output_type": "stream",
     "text": [
      "       GF_UNEMP  SW_UNEMP  WC_UNEMP  MT_UNEMP  NE_UNEMP  MA_UNEMP  SO_UNEMP  \\\n",
      "rest0      -1.0       1.0       0.0       0.0       0.0       0.0       0.0   \n",
      "rest1      -1.0       0.0       1.0       0.0       0.0       0.0       0.0   \n",
      "rest2      -1.0       0.0       0.0       1.0       0.0       0.0       0.0   \n",
      "rest3      -1.0       0.0       0.0       0.0       1.0       0.0       0.0   \n",
      "rest4      -1.0       0.0       0.0       0.0       0.0       1.0       0.0   \n",
      "rest5      -1.0       0.0       0.0       0.0       0.0       0.0       1.0   \n",
      "rest6      -1.0       0.0       0.0       0.0       0.0       0.0       0.0   \n",
      "rest7      -1.0       0.0       0.0       0.0       0.0       0.0       0.0   \n",
      "\n",
      "       MW_UNEMP  CN_UNEMP  \n",
      "rest0       0.0       0.0  \n",
      "rest1       0.0       0.0  \n",
      "rest2       0.0       0.0  \n",
      "rest3       0.0       0.0  \n",
      "rest4       0.0       0.0  \n",
      "rest5       0.0       0.0  \n",
      "rest6       1.0       0.0  \n",
      "rest7       0.0       1.0  \n"
     ]
    }
   ],
   "source": [
    "r = pd.DataFrame(\n",
    "    columns=mod.param_names,\n",
    "    index=[\"rest{0}\".format(i) for i in range(8)],\n",
    "    dtype=np.float64,\n",
    ")\n",
    "r.loc[:, :] = 0.0\n",
    "r.iloc[:, 6] = -1.0\n",
    "r.iloc[:, 13::7] = np.eye(8)\n",
    "print(r.iloc[:, 6::7])"
   ]
  },
  {
   "cell_type": "markdown",
   "metadata": {},
   "source": [
    "The constraint can be added to an existing model using the `add_constraint` method.  This method requires one input, `r` and optionally `q`.  if `q` is not provided, it is set to 0. \n",
    "\n",
    "Here the constraint is added, the model is estimated, and the parameters for unemployment are displayed.  They all have the same value."
   ]
  },
  {
   "cell_type": "code",
   "execution_count": 27,
   "metadata": {
    "execution": {
     "iopub.execute_input": "2024-05-15T09:29:50.312771Z",
     "iopub.status.busy": "2024-05-15T09:29:50.312445Z",
     "iopub.status.idle": "2024-05-15T09:29:50.385947Z",
     "shell.execute_reply": "2024-05-15T09:29:50.384959Z"
    }
   },
   "outputs": [
    {
     "data": {
      "text/plain": [
       "GF_UNEMP   -0.005801\n",
       "SW_UNEMP   -0.005801\n",
       "WC_UNEMP   -0.005801\n",
       "MT_UNEMP   -0.005801\n",
       "NE_UNEMP   -0.005801\n",
       "MA_UNEMP   -0.005801\n",
       "SO_UNEMP   -0.005801\n",
       "MW_UNEMP   -0.005801\n",
       "CN_UNEMP   -0.005801\n",
       "Name: params, dtype: float64"
      ]
     },
     "execution_count": 27,
     "metadata": {},
     "output_type": "execute_result"
    }
   ],
   "source": [
    "mod.add_constraints(r)\n",
    "constrained_res = mod.fit()\n",
    "constrained_res.params[6::7]"
   ]
  },
  {
   "cell_type": "markdown",
   "metadata": {},
   "source": [
    "### Pooling using constraints\n",
    "\n",
    "More complicated constraints can be used to produce interesting models.  Using the same idea as the previous set of constraints, a pooled SUR (excluding the constant) is constructed by restricting all coefficients to have the same value.  Here the form of the restriction is \n",
    "\n",
    "$$ \\beta_{var,0} - \\beta_{var,j} = 0$$\n",
    "\n",
    "so that the restriction is identical to the previous, only applied to all variables excluding the constant.\n",
    "\n",
    "Here the estimated from the first two equations are shown. All coefficients except the intercept are identical across equations.\n",
    "\n",
    "**Note**: When linear constraints are imposed, the parameter covariance matrix will be singular.  Caution is needed to ensure test statistics are meaningful."
   ]
  },
  {
   "cell_type": "code",
   "execution_count": 28,
   "metadata": {
    "execution": {
     "iopub.execute_input": "2024-05-15T09:29:50.391005Z",
     "iopub.status.busy": "2024-05-15T09:29:50.390525Z",
     "iopub.status.idle": "2024-05-15T09:29:50.744274Z",
     "shell.execute_reply": "2024-05-15T09:29:50.743266Z"
    }
   },
   "outputs": [
    {
     "name": "stdout",
     "output_type": "stream",
     "text": [
      "                           System GLS Estimation Summary                           \n",
      "===================================================================================\n",
      "Estimator:                        GLS   Overall R-squared:                   0.9777\n",
      "No. Equations.:                     9   McElroy's R-squared:                 0.9891\n",
      "No. Observations:                  17   Judge's (OLS) R-squared:             0.9777\n",
      "Date:                Wed, May 15 2024   Berndt's R-squared:                  0.9974\n",
      "Time:                        09:29:50   Dhrymes's R-squared:                 0.9777\n",
      "                                        Cov. Estimator:                      robust\n",
      "                                        Num. Constraints:                        48\n",
      "                   Equation: GF, Dependent Variable: lnGSP                    \n",
      "==============================================================================\n",
      "            Parameter  Std. Err.     T-stat    P-value    Lower CI    Upper CI\n",
      "------------------------------------------------------------------------------\n",
      "Intercept      0.2732     0.2159     1.2656     0.2057     -0.1499      0.6963\n",
      "lnPC           0.3639     0.0205     17.763     0.0000      0.3238      0.4041\n",
      "lnHWY          0.3103     0.0279     11.141     0.0000      0.2557      0.3649\n",
      "lnWATER        0.0805     0.0109     7.3615     0.0000      0.0591      0.1020\n",
      "lnUTIL        -0.1733     0.0166    -10.466     0.0000     -0.2057     -0.1408\n",
      "lnEMP          0.6142     0.0248     24.752     0.0000      0.5655      0.6628\n",
      "UNEMP         -0.0128     0.0006    -22.939     0.0000     -0.0139     -0.0117\n",
      "                   Equation: SW, Dependent Variable: lnGSP                    \n",
      "==============================================================================\n",
      "            Parameter  Std. Err.     T-stat    P-value    Lower CI    Upper CI\n",
      "------------------------------------------------------------------------------\n",
      "Intercept      0.2869     0.2201     1.3034     0.1924     -0.1445      0.7183\n",
      "lnPC           0.3639     0.0205     17.763     0.0000      0.3238      0.4041\n",
      "lnHWY          0.3103     0.0279     11.141     0.0000      0.2557      0.3649\n",
      "lnWATER        0.0805     0.0109     7.3615     0.0000      0.0591      0.1020\n",
      "lnUTIL        -0.1733     0.0166    -10.466     0.0000     -0.2057     -0.1408\n",
      "lnEMP          0.6142     0.0248     24.752     0.0000      0.5655      0.6628\n",
      "UNEMP         -0.0128     0.0006    -22.939     0.0000     -0.0139     -0.0117\n",
      "                   Equation: WC, Dependent Variable: lnGSP                    \n",
      "==============================================================================\n"
     ]
    }
   ],
   "source": [
    "r2 = np.zeros((8 * 6, r.shape[1]))\n",
    "loc = 0\n",
    "for i in range(6):\n",
    "    for j in range(8):\n",
    "        r2[loc, i + 1] = -1.0\n",
    "        r2[loc, 7 * (j + 1) + i + 1] = 1.0\n",
    "        loc += 1\n",
    "r2 = pd.DataFrame(r2, columns=mod.param_names)\n",
    "mod.reset_constraints()\n",
    "mod.add_constraints(r2)\n",
    "pooled_res = mod.fit()\n",
    "print(\"\\n\".join(pooled_res.summary.as_text().split(\"\\n\")[:33]))"
   ]
  },
  {
   "cell_type": "markdown",
   "metadata": {},
   "source": [
    "## Multivariate OLS"
   ]
  },
  {
   "cell_type": "markdown",
   "metadata": {},
   "source": [
    "One final feature worth demonstrating is a simple interface for specifying multivariate OLS models.  These models have the same regressors and so it is possible to specify them with two arrays. The first is a $T$ by $K$ array of dependent variables where each column contains a dependent variable.  The second contains the common exogenous regressors.\n",
    "\n",
    "This example shows how a CAPM can be estimated as a MV OLS."
   ]
  },
  {
   "cell_type": "code",
   "execution_count": 29,
   "metadata": {
    "execution": {
     "iopub.execute_input": "2024-05-15T09:29:50.751255Z",
     "iopub.status.busy": "2024-05-15T09:29:50.749458Z",
     "iopub.status.idle": "2024-05-15T09:29:50.877608Z",
     "shell.execute_reply": "2024-05-15T09:29:50.876836Z"
    }
   },
   "outputs": [
    {
     "name": "stdout",
     "output_type": "stream",
     "text": [
      "                           System OLS Estimation Summary                           \n",
      "===================================================================================\n",
      "Estimator:                        OLS   Overall R-squared:                   0.6564\n",
      "No. Equations.:                     6   McElroy's R-squared:                 0.8776\n",
      "No. Observations:                 819   Judge's (OLS) R-squared:             0.6564\n",
      "Date:                Wed, May 15 2024   Berndt's R-squared:                  0.9773\n",
      "Time:                        09:29:50   Dhrymes's R-squared:                 0.6564\n",
      "                                        Cov. Estimator:                  unadjusted\n",
      "                                        Num. Constraints:                      None\n",
      "                   Equation: S1V1, Dependent Variable: S1V1                   \n",
      "==============================================================================\n",
      "            Parameter  Std. Err.     T-stat    P-value    Lower CI    Upper CI\n",
      "------------------------------------------------------------------------------\n",
      "const         -0.0020     0.0017    -1.1608     0.2457     -0.0054      0.0014\n",
      "MktRF          1.3736     0.0403     34.101     0.0000      1.2947      1.4526\n",
      "                   Equation: S1V3, Dependent Variable: S1V3                   \n",
      "==============================================================================\n",
      "            Parameter  Std. Err.     T-stat    P-value    Lower CI    Upper CI\n",
      "------------------------------------------------------------------------------\n",
      "const          0.0048     0.0012     4.0973     0.0000      0.0025      0.0072\n",
      "MktRF          1.0711     0.0276     38.879     0.0000      1.0171      1.1251\n",
      "                   Equation: S1V5, Dependent Variable: S1V5                   \n",
      "==============================================================================\n",
      "            Parameter  Std. Err.     T-stat    P-value    Lower CI    Upper CI\n",
      "------------------------------------------------------------------------------\n",
      "const          0.0082     0.0013     6.5142     0.0000      0.0057      0.0106\n",
      "MktRF          1.0538     0.0293     36.019     0.0000      0.9965      1.1111\n",
      "                   Equation: S5V1, Dependent Variable: S5V1                   \n",
      "==============================================================================\n",
      "            Parameter  Std. Err.     T-stat    P-value    Lower CI    Upper CI\n",
      "------------------------------------------------------------------------------\n",
      "const          0.0032     0.0005     5.8787     0.0000      0.0021      0.0042\n",
      "MktRF          0.9861     0.0126     78.376     0.0000      0.9615      1.0108\n",
      "                   Equation: S5V3, Dependent Variable: S5V3                   \n",
      "==============================================================================\n",
      "            Parameter  Std. Err.     T-stat    P-value    Lower CI    Upper CI\n",
      "------------------------------------------------------------------------------\n",
      "const          0.0052     0.0007     7.4953     0.0000      0.0039      0.0066\n",
      "MktRF          0.8472     0.0162     52.204     0.0000      0.8154      0.8790\n",
      "                   Equation: S5V5, Dependent Variable: S5V5                   \n",
      "==============================================================================\n",
      "            Parameter  Std. Err.     T-stat    P-value    Lower CI    Upper CI\n",
      "------------------------------------------------------------------------------\n",
      "const          0.0051     0.0011     4.5167     0.0000      0.0029      0.0073\n",
      "MktRF          0.9851     0.0263     37.515     0.0000      0.9337      1.0366\n",
      "==============================================================================\n",
      "\n",
      "Covariance Estimator:\n",
      "Homoskedastic (Unadjusted) Covariance (Debiased: False, GLS: False)\n"
     ]
    }
   ],
   "source": [
    "import statsmodels.api as sm\n",
    "from linearmodels.datasets import french\n",
    "\n",
    "data = french.load()\n",
    "factors = sm.add_constant(data[[\"MktRF\"]])\n",
    "mv_ols = SUR.multivariate_ls(\n",
    "    data[[\"S1V1\", \"S1V3\", \"S1V5\", \"S5V1\", \"S5V3\", \"S5V5\"]], factors\n",
    ")\n",
    "mv_ols_res = mv_ols.fit(cov_type=\"unadjusted\")\n",
    "print(mv_ols_res)"
   ]
  },
  {
   "cell_type": "markdown",
   "metadata": {},
   "source": [
    "### Using GLS with common regressors\n",
    "\n",
    "As noted previously, forcing GLS has no effect (except on changing the $R^2$).  This can be seen below."
   ]
  },
  {
   "cell_type": "code",
   "execution_count": 30,
   "metadata": {
    "execution": {
     "iopub.execute_input": "2024-05-15T09:29:50.881655Z",
     "iopub.status.busy": "2024-05-15T09:29:50.881324Z",
     "iopub.status.idle": "2024-05-15T09:29:50.970567Z",
     "shell.execute_reply": "2024-05-15T09:29:50.969798Z"
    }
   },
   "outputs": [
    {
     "name": "stdout",
     "output_type": "stream",
     "text": [
      "                           System GLS Estimation Summary                           \n",
      "===================================================================================\n",
      "Estimator:                        GLS   Overall R-squared:                   0.6564\n",
      "No. Equations.:                     6   McElroy's R-squared:                 0.8776\n",
      "No. Observations:                 819   Judge's (OLS) R-squared:             0.6564\n",
      "Date:                Wed, May 15 2024   Berndt's R-squared:                  0.9773\n",
      "Time:                        09:29:50   Dhrymes's R-squared:                 0.6564\n",
      "                                        Cov. Estimator:                  unadjusted\n",
      "                                        Num. Constraints:                      None\n",
      "                   Equation: S1V1, Dependent Variable: S1V1                   \n",
      "==============================================================================\n",
      "            Parameter  Std. Err.     T-stat    P-value    Lower CI    Upper CI\n",
      "------------------------------------------------------------------------------\n",
      "const         -0.0020     0.0017    -1.1608     0.2457     -0.0054      0.0014\n",
      "MktRF          1.3736     0.0403     34.101     0.0000      1.2947      1.4526\n",
      "                   Equation: S1V3, Dependent Variable: S1V3                   \n",
      "==============================================================================\n",
      "            Parameter  Std. Err.     T-stat    P-value    Lower CI    Upper CI\n",
      "------------------------------------------------------------------------------\n",
      "const          0.0048     0.0012     4.0973     0.0000      0.0025      0.0072\n",
      "MktRF          1.0711     0.0276     38.879     0.0000      1.0171      1.1251\n",
      "                   Equation: S1V5, Dependent Variable: S1V5                   \n",
      "==============================================================================\n",
      "            Parameter  Std. Err.     T-stat    P-value    Lower CI    Upper CI\n",
      "------------------------------------------------------------------------------\n",
      "const          0.0082     0.0013     6.5142     0.0000      0.0057      0.0106\n",
      "MktRF          1.0538     0.0293     36.019     0.0000      0.9965      1.1111\n",
      "                   Equation: S5V1, Dependent Variable: S5V1                   \n",
      "==============================================================================\n",
      "            Parameter  Std. Err.     T-stat    P-value    Lower CI    Upper CI\n",
      "------------------------------------------------------------------------------\n",
      "const          0.0032     0.0005     5.8787     0.0000      0.0021      0.0042\n",
      "MktRF          0.9861     0.0126     78.376     0.0000      0.9615      1.0108\n",
      "                   Equation: S5V3, Dependent Variable: S5V3                   \n",
      "==============================================================================\n",
      "            Parameter  Std. Err.     T-stat    P-value    Lower CI    Upper CI\n",
      "------------------------------------------------------------------------------\n",
      "const          0.0052     0.0007     7.4953     0.0000      0.0039      0.0066\n",
      "MktRF          0.8472     0.0162     52.204     0.0000      0.8154      0.8790\n",
      "                   Equation: S5V5, Dependent Variable: S5V5                   \n",
      "==============================================================================\n",
      "            Parameter  Std. Err.     T-stat    P-value    Lower CI    Upper CI\n",
      "------------------------------------------------------------------------------\n",
      "const          0.0051     0.0011     4.5167     0.0000      0.0029      0.0073\n",
      "MktRF          0.9851     0.0263     37.515     0.0000      0.9337      1.0366\n",
      "==============================================================================\n",
      "\n",
      "Covariance Estimator:\n",
      "Homoskedastic (Unadjusted) Covariance (Debiased: False, GLS: True)\n"
     ]
    }
   ],
   "source": [
    "print(mv_ols.fit(cov_type=\"unadjusted\", method=\"gls\"))"
   ]
  }
 ],
 "metadata": {
  "kernelspec": {
   "display_name": "Python 3 (ipykernel)",
   "language": "python",
   "name": "python3"
  },
  "language_info": {
   "codemirror_mode": {
    "name": "ipython",
    "version": 3
   },
   "file_extension": ".py",
   "mimetype": "text/x-python",
   "name": "python",
   "nbconvert_exporter": "python",
   "pygments_lexer": "ipython3",
   "version": "3.10.14"
  },
  "pycharm": {
   "stem_cell": {
    "cell_type": "raw",
    "metadata": {
     "collapsed": false
    },
    "source": []
   }
  }
 },
 "nbformat": 4,
 "nbformat_minor": 4
}

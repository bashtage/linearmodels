{
 "cells": [
  {
   "cell_type": "markdown",
   "metadata": {
    "pycharm": {
     "name": "#%% md\n"
    }
   },
   "source": [
    "# Using formulas to specify models\n",
    "\n",
    "Formulas can be used to specify models using mostly standard [formulaic](https://matthewwardrop.github.io/formulaic/) syntax. Since system estimation is more complicated than the specification of a single model, there are two methods available to specify a system:\n",
    "\n",
    "* Dictionary of formulas\n",
    "* Single formula separated using {}\n",
    "\n",
    "These examples use data on fringe benefits from F. Vella (1993), \"A Simple Estimator for Simultaneous Models with Censored\n",
    "Endogenous Regressors\" which appears in Wooldridge (2002).  The model consists of two equations, one for hourly wage and the other for hourly benefits.  The initial model uses the same regressors in both equations. "
   ]
  },
  {
   "cell_type": "code",
   "execution_count": 1,
   "metadata": {
    "collapsed": true,
    "execution": {
     "iopub.execute_input": "2023-04-26T06:34:34.563742Z",
     "iopub.status.busy": "2023-04-26T06:34:34.563512Z",
     "iopub.status.idle": "2023-04-26T06:34:35.629391Z",
     "shell.execute_reply": "2023-04-26T06:34:35.628701Z"
    },
    "jupyter": {
     "outputs_hidden": true
    },
    "pycharm": {
     "name": "#%%\n"
    }
   },
   "outputs": [],
   "source": [
    "import numpy as np\n",
    "import pandas as pd\n",
    "from linearmodels.datasets import fringe\n",
    "\n",
    "data = fringe.load()"
   ]
  },
  {
   "cell_type": "markdown",
   "metadata": {
    "pycharm": {
     "name": "#%% md\n"
    }
   },
   "source": [
    "## Dictionary \n",
    "\n",
    "The dictionary syntax is virtually identical to standard [formulaic syntax](https://matthewwardrop.github.io/formulaic/) where each equation is specified in a key-value pair where the key is the equation label and the value is the formula. It is recommended to use an OrderedDict which will preserve equation order in results. Keys **must** be strings."
   ]
  },
  {
   "cell_type": "code",
   "execution_count": 2,
   "metadata": {
    "collapsed": true,
    "execution": {
     "iopub.execute_input": "2023-04-26T06:34:35.633156Z",
     "iopub.status.busy": "2023-04-26T06:34:35.632761Z",
     "iopub.status.idle": "2023-04-26T06:34:35.635985Z",
     "shell.execute_reply": "2023-04-26T06:34:35.635456Z"
    },
    "jupyter": {
     "outputs_hidden": true
    },
    "pycharm": {
     "name": "#%%\n"
    }
   },
   "outputs": [],
   "source": [
    "from collections import OrderedDict\n",
    "\n",
    "formula = OrderedDict()\n",
    "formula[\n",
    "    \"benefits\"\n",
    "] = \"hrbens ~ educ + exper + expersq + union + south + nrtheast + nrthcen + male\"\n",
    "formula[\"earnings\"] = \"hrearn ~ educ + exper + expersq + nrtheast + married + male\""
   ]
  },
  {
   "cell_type": "code",
   "execution_count": 3,
   "metadata": {
    "execution": {
     "iopub.execute_input": "2023-04-26T06:34:35.638770Z",
     "iopub.status.busy": "2023-04-26T06:34:35.638413Z",
     "iopub.status.idle": "2023-04-26T06:34:35.724293Z",
     "shell.execute_reply": "2023-04-26T06:34:35.723700Z"
    },
    "pycharm": {
     "name": "#%%\n"
    }
   },
   "outputs": [
    {
     "name": "stdout",
     "output_type": "stream",
     "text": [
      "                           System GLS Estimation Summary                           \n",
      "===================================================================================\n",
      "Estimator:                        GLS   Overall R-squared:                   0.6951\n",
      "No. Equations.:                     2   McElroy's R-squared:                 0.2197\n",
      "No. Observations:                 616   Judge's (OLS) R-squared:             0.1873\n",
      "Date:                Wed, Apr 26 2023   Berndt's R-squared:                  0.3775\n",
      "Time:                        06:34:35   Dhrymes's R-squared:                 0.6950\n",
      "                                        Cov. Estimator:                  unadjusted\n",
      "                                        Num. Constraints:                      None\n",
      "                Equation: benefits, Dependent Variable: hrbens                \n",
      "==============================================================================\n",
      "            Parameter  Std. Err.     T-stat    P-value    Lower CI    Upper CI\n",
      "------------------------------------------------------------------------------\n",
      "educ           0.0346     0.0050     6.8605     0.0000      0.0247      0.0445\n",
      "exper          0.0350     0.0063     5.5974     0.0000      0.0228      0.0473\n",
      "expersq       -0.0006     0.0001    -4.4326     0.0000     -0.0009     -0.0003\n",
      "male           0.2518     0.0490     5.1435     0.0000      0.1559      0.3478\n",
      "nrthcen       -0.1433     0.0621    -2.3074     0.0210     -0.2650     -0.0216\n",
      "nrtheast      -0.1224     0.0714    -1.7132     0.0867     -0.2624      0.0176\n",
      "south         -0.1775     0.0586    -3.0289     0.0025     -0.2923     -0.0626\n",
      "union          0.3682     0.0474     7.7659     0.0000      0.2753      0.4612\n",
      "                Equation: earnings, Dependent Variable: hrearn                \n",
      "==============================================================================\n",
      "            Parameter  Std. Err.     T-stat    P-value    Lower CI    Upper CI\n",
      "------------------------------------------------------------------------------\n",
      "educ           0.3547     0.0357     9.9280     0.0000      0.2847      0.4247\n",
      "exper         -0.0750     0.0492    -1.5260     0.1270     -0.1714      0.0213\n",
      "expersq        0.0038     0.0011     3.4600     0.0005      0.0016      0.0059\n",
      "male           1.8899     0.3904     4.8408     0.0000      1.1247      2.6551\n",
      "married        0.4472     0.3920     1.1410     0.2539     -0.3210      1.2155\n",
      "nrtheast      -0.7127     0.4473    -1.5934     0.1111     -1.5894      0.1640\n",
      "==============================================================================\n",
      "\n",
      "Covariance Estimator:\n",
      "Homoskedastic (Unadjusted) Covariance (Debiased: False, GLS: True)\n"
     ]
    }
   ],
   "source": [
    "from linearmodels.system import SUR\n",
    "\n",
    "mod = SUR.from_formula(formula, data)\n",
    "print(mod.fit(cov_type=\"unadjusted\"))"
   ]
  },
  {
   "cell_type": "markdown",
   "metadata": {
    "pycharm": {
     "name": "#%% md\n"
    }
   },
   "source": [
    "## Curly Braces {}\n",
    "\n",
    "The same formula can be expressed in a single string by surrounding each equation with braces `{}`."
   ]
  },
  {
   "cell_type": "code",
   "execution_count": 4,
   "metadata": {
    "execution": {
     "iopub.execute_input": "2023-04-26T06:34:35.727333Z",
     "iopub.status.busy": "2023-04-26T06:34:35.726945Z",
     "iopub.status.idle": "2023-04-26T06:34:35.807718Z",
     "shell.execute_reply": "2023-04-26T06:34:35.807124Z"
    },
    "pycharm": {
     "name": "#%%\n"
    }
   },
   "outputs": [
    {
     "name": "stdout",
     "output_type": "stream",
     "text": [
      "                           System GLS Estimation Summary                           \n",
      "===================================================================================\n",
      "Estimator:                        GLS   Overall R-squared:                   0.6951\n",
      "No. Equations.:                     2   McElroy's R-squared:                 0.2197\n",
      "No. Observations:                 616   Judge's (OLS) R-squared:             0.1873\n",
      "Date:                Wed, Apr 26 2023   Berndt's R-squared:                  0.3775\n",
      "Time:                        06:34:35   Dhrymes's R-squared:                 0.6950\n",
      "                                        Cov. Estimator:                  unadjusted\n",
      "                                        Num. Constraints:                      None\n",
      "                 Equation: hrbens, Dependent Variable: hrbens                 \n",
      "==============================================================================\n",
      "            Parameter  Std. Err.     T-stat    P-value    Lower CI    Upper CI\n",
      "------------------------------------------------------------------------------\n",
      "educ           0.0346     0.0050     6.8605     0.0000      0.0247      0.0445\n",
      "exper          0.0350     0.0063     5.5974     0.0000      0.0228      0.0473\n",
      "expersq       -0.0006     0.0001    -4.4326     0.0000     -0.0009     -0.0003\n",
      "male           0.2518     0.0490     5.1435     0.0000      0.1559      0.3478\n",
      "nrthcen       -0.1433     0.0621    -2.3074     0.0210     -0.2650     -0.0216\n",
      "nrtheast      -0.1224     0.0714    -1.7132     0.0867     -0.2624      0.0176\n",
      "south         -0.1775     0.0586    -3.0289     0.0025     -0.2923     -0.0626\n",
      "union          0.3682     0.0474     7.7659     0.0000      0.2753      0.4612\n",
      "                 Equation: hrearn, Dependent Variable: hrearn                 \n",
      "==============================================================================\n",
      "            Parameter  Std. Err.     T-stat    P-value    Lower CI    Upper CI\n",
      "------------------------------------------------------------------------------\n",
      "educ           0.3547     0.0357     9.9280     0.0000      0.2847      0.4247\n",
      "exper         -0.0750     0.0492    -1.5260     0.1270     -0.1714      0.0213\n",
      "expersq        0.0038     0.0011     3.4600     0.0005      0.0016      0.0059\n",
      "male           1.8899     0.3904     4.8408     0.0000      1.1247      2.6551\n",
      "married        0.4472     0.3920     1.1410     0.2539     -0.3210      1.2155\n",
      "nrtheast      -0.7127     0.4473    -1.5934     0.1111     -1.5894      0.1640\n",
      "==============================================================================\n",
      "\n",
      "Covariance Estimator:\n",
      "Homoskedastic (Unadjusted) Covariance (Debiased: False, GLS: True)\n"
     ]
    }
   ],
   "source": [
    "braces_formula = \"\"\"\n",
    "{hrbens ~ educ + exper + expersq + union + south + nrtheast + nrthcen + male}\n",
    "{hrearn ~ educ + exper + expersq + nrtheast + married + male}\n",
    "\"\"\"\n",
    "braces_mod = SUR.from_formula(braces_formula, data)\n",
    "braces_res = braces_mod.fit(cov_type=\"unadjusted\")\n",
    "print(braces_res)"
   ]
  },
  {
   "cell_type": "markdown",
   "metadata": {
    "pycharm": {
     "name": "#%% md\n"
    }
   },
   "source": [
    "## Labeled Formulas\n",
    "\n",
    "When using the curly brace formula specification, the equation names are determined by the dependent variable names.  When names are repeated as is the case in some datasets (e.g. a SUR on GDP of multiple countries) then the equation labels will be modified until they are unique.  This can produce meaningless equation labels, and so it is possible to pass an equation label using the syntax\n",
    "\n",
    "```\n",
    "{label : dep ~ exog}\n",
    "```\n"
   ]
  },
  {
   "cell_type": "code",
   "execution_count": 5,
   "metadata": {
    "execution": {
     "iopub.execute_input": "2023-04-26T06:34:35.810925Z",
     "iopub.status.busy": "2023-04-26T06:34:35.810448Z",
     "iopub.status.idle": "2023-04-26T06:34:35.870870Z",
     "shell.execute_reply": "2023-04-26T06:34:35.870246Z"
    },
    "pycharm": {
     "name": "#%%\n"
    }
   },
   "outputs": [
    {
     "name": "stdout",
     "output_type": "stream",
     "text": [
      "Unlabeled\n",
      "['hrbens', 'hrearn']\n",
      "Labeled\n",
      "['benefits', 'earnings']\n"
     ]
    }
   ],
   "source": [
    "labeled_formula = \"\"\"\n",
    "{benefits: hrbens ~ educ + exper + expersq + union + south + nrtheast + nrthcen + male}\n",
    "{earnings: hrearn ~ educ + exper + expersq + nrtheast + married + male}\n",
    "\"\"\"\n",
    "labels_mod = SUR.from_formula(labeled_formula, data)\n",
    "labeled_res = labels_mod.fit(cov_type=\"unadjusted\")\n",
    "\n",
    "print(\"Unlabeled\")\n",
    "print(braces_res.equation_labels)\n",
    "print(\"Labeled\")\n",
    "print(labeled_res.equation_labels)"
   ]
  },
  {
   "cell_type": "markdown",
   "metadata": {
    "pycharm": {
     "name": "#%% md\n"
    }
   },
   "source": [
    "## Other Options"
   ]
  },
  {
   "cell_type": "markdown",
   "metadata": {
    "pycharm": {
     "name": "#%% md\n"
    }
   },
   "source": [
    "### Estimation Weights\n",
    "\n",
    "SUR supports weights which are assumed to be proportional to the inverse variance of the data so that \n",
    "\n",
    "$$ V(y_i \\times w_i) = \\sigma^2 \\,\\,\\forall i.$$\n",
    "\n",
    "Weights can be passed using a `DataFrame` where each column.  \n",
    "\n",
    "Here the results are printed to ensure that the estimates are different from those in the standard GLS model."
   ]
  },
  {
   "cell_type": "code",
   "execution_count": 6,
   "metadata": {
    "execution": {
     "iopub.execute_input": "2023-04-26T06:34:35.874042Z",
     "iopub.status.busy": "2023-04-26T06:34:35.873564Z",
     "iopub.status.idle": "2023-04-26T06:34:35.972001Z",
     "shell.execute_reply": "2023-04-26T06:34:35.971399Z"
    },
    "pycharm": {
     "name": "#%%\n"
    }
   },
   "outputs": [
    {
     "name": "stdout",
     "output_type": "stream",
     "text": [
      "                           System GLS Estimation Summary                           \n",
      "===================================================================================\n",
      "Estimator:                        GLS   Overall R-squared:                   0.6247\n",
      "No. Equations.:                     2   McElroy's R-squared:                 0.1917\n",
      "No. Observations:                 616   Judge's (OLS) R-squared:             0.1725\n",
      "Date:                Wed, Apr 26 2023   Berndt's R-squared:                  0.6195\n",
      "Time:                        06:34:35   Dhrymes's R-squared:                 0.6239\n",
      "                                        Cov. Estimator:                      robust\n",
      "                                        Num. Constraints:                      None\n",
      "                Equation: benefits, Dependent Variable: hrbens                \n",
      "==============================================================================\n",
      "            Parameter  Std. Err.     T-stat    P-value    Lower CI    Upper CI\n",
      "------------------------------------------------------------------------------\n",
      "educ           0.0254     0.0054     4.6894     0.0000      0.0148      0.0360\n",
      "exper          0.0448     0.0105     4.2823     0.0000      0.0243      0.0653\n",
      "expersq       -0.0009     0.0003    -3.3390     0.0008     -0.0014     -0.0004\n",
      "male           0.3049     0.0464     6.5736     0.0000      0.2140      0.3959\n",
      "nrthcen       -0.1320     0.0573    -2.3024     0.0213     -0.2443     -0.0196\n",
      "nrtheast      -0.0450     0.0660    -0.6824     0.4950     -0.1744      0.0843\n",
      "south         -0.1685     0.0657    -2.5657     0.0103     -0.2972     -0.0398\n",
      "union          0.3652     0.0469     7.7817     0.0000      0.2732      0.4571\n",
      "                Equation: earnings, Dependent Variable: hrearn                \n",
      "==============================================================================\n",
      "            Parameter  Std. Err.     T-stat    P-value    Lower CI    Upper CI\n",
      "------------------------------------------------------------------------------\n",
      "educ           0.2840     0.0753     3.7719     0.0002      0.1364      0.4316\n",
      "exper          0.0472     0.1777     0.2655     0.7906     -0.3012      0.3955\n",
      "expersq        0.0005     0.0047     0.1176     0.9064     -0.0086      0.0097\n",
      "male           1.8921     0.2012     9.4044     0.0000      1.4977      2.2864\n",
      "married        0.2813     0.2984     0.9426     0.3459     -0.3035      0.8661\n",
      "nrtheast      -0.3174     0.3586    -0.8849     0.3762     -1.0202      0.3855\n",
      "==============================================================================\n",
      "\n",
      "Covariance Estimator:\n",
      "Heteroskedastic (Robust) Covariance (Debiased: False, GLS: True)\n"
     ]
    }
   ],
   "source": [
    "random_weights = np.random.chisquare(5, size=(616, 2))\n",
    "random_weights = pd.DataFrame(random_weights, columns=[\"benefits\", \"earnings\"])\n",
    "weighted_mod = SUR.from_formula(formula, data, weights=random_weights)\n",
    "print(weighted_mod.fit())"
   ]
  },
  {
   "cell_type": "markdown",
   "metadata": {
    "pycharm": {
     "name": "#%% md\n"
    }
   },
   "source": [
    "### Prespecified Residual Covariance\n",
    "Like a standard SUR, it is possible to pass a prespecified residual covariance for use in the GLS step.  This is done using the keyword argument `sigma` in the `from_formula` method, and is otherwise identical to passing one to the standard SUR."
   ]
  }
 ],
 "metadata": {
  "kernelspec": {
   "display_name": "Python 3 (ipykernel)",
   "language": "python",
   "name": "python3"
  },
  "language_info": {
   "codemirror_mode": {
    "name": "ipython",
    "version": 3
   },
   "file_extension": ".py",
   "mimetype": "text/x-python",
   "name": "python",
   "nbconvert_exporter": "python",
   "pygments_lexer": "ipython3",
   "version": "3.10.11"
  },
  "pycharm": {
   "stem_cell": {
    "cell_type": "raw",
    "metadata": {
     "collapsed": false
    },
    "source": []
   }
  }
 },
 "nbformat": 4,
 "nbformat_minor": 4
}
